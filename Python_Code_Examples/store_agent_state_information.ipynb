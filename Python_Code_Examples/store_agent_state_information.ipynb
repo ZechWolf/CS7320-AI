{
 "cells": [
  {
   "cell_type": "markdown",
   "metadata": {},
   "source": [
    "# How the Environment Interacts With the Agent and How to Store State Information in the Agent\n",
    "\n",
    "**Note that the perferred option is to use classes (see Option 2).**\n",
    "\n",
    "## Option 1: Global variables \n",
    "\n",
    "A simple option is to use a global variable. Note that you need to state that you want to use the `global` state variable in the function.\n",
    "\n",
    "The agent in this example tries to move always to the next position if it receives the percept that the way is not blocked. Its actions are \"stay\" or \"advance\". The agent's state is how many steps it has advanced so far. The state is stored as `state_position` in a global variable."
   ]
  },
  {
   "cell_type": "code",
   "execution_count": 1,
   "metadata": {},
   "outputs": [],
   "source": [
    "import numpy as np\n",
    "\n",
    "# the state consists of two variables. I use the prefix state_\n",
    "state_position = 0\n",
    "state_name = \"The Agent\"\n",
    "\n",
    "def agent_program(percept_blocked):\n",
    "    \"\"\"gets percepts and returns a valid action.\"\"\"\n",
    "    global state_position\n",
    "    global state_name\n",
    "    \n",
    "    print(\"    \", state_name, \": My percept_blocked is\", percept_blocked, \"and I am now in position\", state_position)\n",
    "    \n",
    "    if percept_blocked: return(\"stay\")\n",
    "        \n",
    "    state_position = state_position + 1\n",
    "    \n",
    "    print(\"    \", state_name, \": I advance to position\", state_position) \n",
    "    \n",
    "    return(\"advance\")"
   ]
  },
  {
   "cell_type": "markdown",
   "metadata": {},
   "source": [
    "The environment may have its own state which can be stored as a local variable in the environment function. __Note:__ The agent and the environment do not share any variables (each has its own position variable). Communication between the environment and the agent consists only of percepts and actions! "
   ]
  },
  {
   "cell_type": "code",
   "execution_count": 2,
   "metadata": {},
   "outputs": [],
   "source": [
    "def agent_environment(agent_act, n):   \n",
    "    \"\"\"prepares the environment and runs the agent programm for n steps.\"\"\"\n",
    "    agent_position = 0\n",
    "    \n",
    "    for i in range(n): \n",
    "        print(\"Step\", i)\n",
    "        \n",
    "        # prepare precepts for the agent\n",
    "        blocked = np.random.choice([True, False])\n",
    "        print(\"  Environment: Agent's action is in position\", agent_position, \"and is blocked\", blocked)\n",
    "        \n",
    "        # call the agent program\n",
    "        action = agent_act(percept_blocked = blocked)\n",
    "        print(\"  Environment: Agent's action is\", action)\n",
    "        \n",
    "        # evaluate the effect of the action on the environment\n",
    "        if action == \"advance\" and not blocked:\n",
    "            agent_position = agent_position + 1\n",
    "            \n",
    "        print(\"  Environment: Agent is now in position\", agent_position)"
   ]
  },
  {
   "cell_type": "code",
   "execution_count": 3,
   "metadata": {},
   "outputs": [
    {
     "name": "stdout",
     "output_type": "stream",
     "text": [
      "Step 0\n",
      "  Environment: Agent's action is in position 0 and is blocked True\n",
      "     The Agent : My percept_blocked is True and I am now in position 0\n",
      "  Environment: Agent's action is stay\n",
      "  Environment: Agent is now in position 0\n",
      "Step 1\n",
      "  Environment: Agent's action is in position 0 and is blocked False\n",
      "     The Agent : My percept_blocked is False and I am now in position 0\n",
      "     The Agent : I advance to position 1\n",
      "  Environment: Agent's action is advance\n",
      "  Environment: Agent is now in position 1\n",
      "Step 2\n",
      "  Environment: Agent's action is in position 1 and is blocked False\n",
      "     The Agent : My percept_blocked is False and I am now in position 1\n",
      "     The Agent : I advance to position 2\n",
      "  Environment: Agent's action is advance\n",
      "  Environment: Agent is now in position 2\n",
      "Step 3\n",
      "  Environment: Agent's action is in position 2 and is blocked False\n",
      "     The Agent : My percept_blocked is False and I am now in position 2\n",
      "     The Agent : I advance to position 3\n",
      "  Environment: Agent's action is advance\n",
      "  Environment: Agent is now in position 3\n",
      "Step 4\n",
      "  Environment: Agent's action is in position 3 and is blocked False\n",
      "     The Agent : My percept_blocked is False and I am now in position 3\n",
      "     The Agent : I advance to position 4\n",
      "  Environment: Agent's action is advance\n",
      "  Environment: Agent is now in position 4\n"
     ]
    }
   ],
   "source": [
    "agent_environment(agent_program, 5)"
   ]
  },
  {
   "cell_type": "markdown",
   "metadata": {},
   "source": [
    "__Note:__ The down-side of using global variables is that you can only have one agent at a time since all global variables are shared!\n",
    "\n",
    "\n",
    "## Option 2: Using a class\n",
    "\n",
    "It is a better and more flexible option to implement your agent as a simple class and use member variables to store the state information. You can create and work with multiple agents at the same time and there is no need for global variables."
   ]
  },
  {
   "cell_type": "code",
   "execution_count": 4,
   "metadata": {},
   "outputs": [],
   "source": [
    "class Agent:\n",
    "    def __init__(self, initial_position = 0, name = \"An Agent\"):\n",
    "        self.position = initial_position\n",
    "        self.name = name\n",
    "    \n",
    "    def act(self, percept_blocked):\n",
    "        print(\"    \", self.name, \": My percept_blocked is\", percept_blocked, \"and I am now in position\", self.position)\n",
    "    \n",
    "        if percept_blocked: return(\"stay\")\n",
    "        \n",
    "        self.position = self.position + 1\n",
    "        \n",
    "        print(\"    \", self.name, \": I advance to position\", self.position)  \n",
    "        \n",
    "        return(\"advance\")"
   ]
  },
  {
   "cell_type": "markdown",
   "metadata": {},
   "source": [
    "We can still use the same environment function an pass on the method implementing the agent function. "
   ]
  },
  {
   "cell_type": "code",
   "execution_count": 9,
   "metadata": {},
   "outputs": [
    {
     "name": "stdout",
     "output_type": "stream",
     "text": [
      "Running Agent 1\n",
      "Step 0\n",
      "  Environment: Agent's action is in position 0 and is blocked False\n",
      "     Agent 1 : My percept_blocked is False and I am now in position 0\n",
      "     Agent 1 : I advance to position 1\n",
      "  Environment: Agent's action is advance\n",
      "  Environment: Agent is now in position 1\n",
      "Step 1\n",
      "  Environment: Agent's action is in position 1 and is blocked True\n",
      "     Agent 1 : My percept_blocked is True and I am now in position 1\n",
      "  Environment: Agent's action is stay\n",
      "  Environment: Agent is now in position 1\n",
      "Step 2\n",
      "  Environment: Agent's action is in position 1 and is blocked False\n",
      "     Agent 1 : My percept_blocked is False and I am now in position 1\n",
      "     Agent 1 : I advance to position 2\n",
      "  Environment: Agent's action is advance\n",
      "  Environment: Agent is now in position 2\n",
      "Step 3\n",
      "  Environment: Agent's action is in position 2 and is blocked False\n",
      "     Agent 1 : My percept_blocked is False and I am now in position 2\n",
      "     Agent 1 : I advance to position 3\n",
      "  Environment: Agent's action is advance\n",
      "  Environment: Agent is now in position 3\n",
      "Step 4\n",
      "  Environment: Agent's action is in position 3 and is blocked True\n",
      "     Agent 1 : My percept_blocked is True and I am now in position 3\n",
      "  Environment: Agent's action is stay\n",
      "  Environment: Agent is now in position 3\n",
      "\n",
      "Running Agent 2\n",
      "Step 0\n",
      "  Environment: Agent's action is in position 0 and is blocked False\n",
      "     Agent 2 : My percept_blocked is False and I am now in position 0\n",
      "     Agent 2 : I advance to position 1\n",
      "  Environment: Agent's action is advance\n",
      "  Environment: Agent is now in position 1\n",
      "Step 1\n",
      "  Environment: Agent's action is in position 1 and is blocked False\n",
      "     Agent 2 : My percept_blocked is False and I am now in position 1\n",
      "     Agent 2 : I advance to position 2\n",
      "  Environment: Agent's action is advance\n",
      "  Environment: Agent is now in position 2\n"
     ]
    }
   ],
   "source": [
    "agent1 = Agent(name = \"Agent 1\")\n",
    "agent2 = Agent(name = \"Agent 2\")\n",
    "\n",
    "print(\"Running Agent 1\")\n",
    "agent_environment(agent1.act, 5)\n",
    "\n",
    "print(\"\\nRunning Agent 2\")\n",
    "agent_environment(agent2.act, 2)"
   ]
  }
 ],
 "metadata": {
  "kernelspec": {
   "display_name": "Python 3 (ipykernel)",
   "language": "python",
   "name": "python3"
  },
  "language_info": {
   "codemirror_mode": {
    "name": "ipython",
    "version": 3
   },
   "file_extension": ".py",
   "mimetype": "text/x-python",
   "name": "python",
   "nbconvert_exporter": "python",
   "pygments_lexer": "ipython3",
   "version": "3.9.5"
  }
 },
 "nbformat": 4,
 "nbformat_minor": 4
}
