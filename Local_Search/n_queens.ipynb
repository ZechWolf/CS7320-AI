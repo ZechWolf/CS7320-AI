{
 "cells": [
  {
   "cell_type": "markdown",
   "metadata": {},
   "source": [
    "# Solving the n-Queens Problem using Local Search\n",
    "\n",
    "## Instructions\n",
    "\n",
    "Total Points: undergrad 10, graduate students 11\n",
    "\n",
    "Complete this notebook and submit it. The notebook needs to be a complete project report with \n",
    "\n",
    "* your implementation (you can use libraries like math, numpy, scipy, but not libraries that implement inteligent agents or search algorithms),\n",
    "* documentation including a short discussion of how your implementation works and your design choices, and\n",
    "* experimental results (e.g., tables and charts with simulation results) with a short discussion of what they mean. \n",
    "\n",
    "Use the provided notebook cells and insert additional code and markdown cells as needed."
   ]
  },
  {
   "cell_type": "markdown",
   "metadata": {},
   "source": [
    "## The n-Queens Problem\n",
    "\n",
    "* __Goal:__ Find an arrangement of $n$ queens on a $n \\times n$ chess board so that no queen is on the same row, column or diagonal as any other queen.\n",
    "\n",
    "* __State space:__ An arrangement of the queens on the board. We restrict the state space to arrangements where there is only a single queen per column. We represent a state as an integer vector $\\mathbf{q} = \\{q_1, q_2, \\dots, q_n\\}$, each number representing the row positions of the queens from left to right. We will call a state a \"board.\"\n",
    "\n",
    "* __Objective function:__ The number of pairwise conflicts (i.e., two queens in the same row/column/diagonal).\n",
    "The optimization problem is to find the optimal arrangement $\\mathbf{q}^*$ of $n$ queens on the board can be written as:\n",
    "\n",
    "  > minimize: $\\mathrm{conflicts}(\\mathbf{q})$\n",
    "  >\n",
    "  > subject to: $\\mathbf{q} \\ \\text{contains only one queen per column}$\n",
    "\n",
    "  Note: the constraint (subject to) is enforced by the definition of the state space.\n",
    "\n",
    "* __Local improvement move:__ Move one queen to a different row in its column.\n",
    "\n",
    "* __Termination:__ For this problem there is always an arrangement $\\mathbf{q}^*$ with $\\mathrm{conflicts}(\\mathbf{q}^*) = 0$, however, the local improvement moves might end up in a local minimum. "
   ]
  },
  {
   "cell_type": "markdown",
   "metadata": {},
   "source": [
    "## Helper functions"
   ]
  },
  {
   "cell_type": "code",
   "execution_count": 2,
   "metadata": {},
   "outputs": [],
   "source": [
    "import numpy as np\n",
    "import matplotlib.pyplot as plt\n",
    "from matplotlib import colors\n",
    "\n",
    "np.random.seed(1234)\n",
    "\n",
    "\n",
    "def random_board(n):\n",
    "    \"\"\"Creates a random board of size n x n. Note that only a single queen is placed in each column!\"\"\"\n",
    "    \n",
    "    return(np.random.randint(0,n, size = n))\n",
    "\n",
    "def comb2(n): return n*(n-1)//2 # this is n choose 2 equivalent to math.comb(n, 2); // is int division\n",
    "\n",
    "def conflicts(board):\n",
    "    \"\"\"Caclulate the number of conflicts, i.e., the objective function.\"\"\"\n",
    "\n",
    "    n = len(board)\n",
    "    \n",
    "    horizontal_cnt = [0] * n\n",
    "    diagonal1_cnt = [0] * 2 * n\n",
    "    diagonal2_cnt = [0] * 2 * n\n",
    "    \n",
    "    for i in range(n):\n",
    "        horizontal_cnt[board[i]] += 1\n",
    "        diagonal1_cnt[i + board[i]] += 1\n",
    "        diagonal2_cnt[i - board[i] + n] += 1\n",
    "    \n",
    "    return sum(map(comb2, horizontal_cnt + diagonal1_cnt + diagonal2_cnt))\n",
    "\n",
    "\n",
    "def show_board(board, cols = ['white', 'gray'], fontsize = 48):  \n",
    "    \"\"\"display the board\"\"\"\n",
    "    \n",
    "    n = len(board)\n",
    "    \n",
    "    # create chess board display\n",
    "    display = np.zeros([n,n])\n",
    "    for i in range(n):\n",
    "        for j in range(n):\n",
    "            if (((i+j) % 2) != 0): \n",
    "                display[i,j] = 1\n",
    "    \n",
    "    cmap = colors.ListedColormap(cols)\n",
    "    fig, ax = plt.subplots()\n",
    "    ax.imshow(display, cmap = cmap, \n",
    "              norm = colors.BoundaryNorm(range(len(cols)+1), cmap.N))\n",
    "    ax.set_xticks([])\n",
    "    ax.set_yticks([])\n",
    "    \n",
    "    # place queens. Note: Unicode u265B is a black queen\n",
    "    for j in range(n):\n",
    "        plt.text(j, board[j], u\"\\u265B\", fontsize = fontsize, \n",
    "                 horizontalalignment = 'center',\n",
    "                 verticalalignment = 'center')\n",
    "    \n",
    "    print(f\"Board with {conflicts(board)} conflicts.\")\n",
    "    plt.show()"
   ]
  },
  {
   "cell_type": "markdown",
   "metadata": {},
   "source": [
    "## Create a board"
   ]
  },
  {
   "cell_type": "code",
   "execution_count": 3,
   "metadata": {},
   "outputs": [
    {
     "name": "stdout",
     "output_type": "stream",
     "text": [
      "Board with 4 conflicts.\n"
     ]
    },
    {
     "data": {
      "image/png": "[encoded data removed]",
      "text/plain": [
       "<Figure size 432x288 with 1 Axes>"
      ]
     },
     "metadata": {},
     "output_type": "display_data"
    },
    {
     "name": "stdout",
     "output_type": "stream",
     "text": [
      "Queens (left to right) are at rows: [3 3 2 1]\n",
      "Number of conflicts: 4\n"
     ]
    }
   ],
   "source": [
    "board = random_board(4)\n",
    "\n",
    "show_board(board)\n",
    "print(f\"Queens (left to right) are at rows: {board}\")\n",
    "print(f\"Number of conflicts: {conflicts(board)}\")"
   ]
  },
  {
   "cell_type": "markdown",
   "metadata": {},
   "source": [
    "A board $4 \\times 4$ with no conflicts:"
   ]
  },
  {
   "cell_type": "code",
   "execution_count": 4,
   "metadata": {},
   "outputs": [
    {
     "name": "stdout",
     "output_type": "stream",
     "text": [
      "Board with 0 conflicts.\n"
     ]
    },
    {
     "data": {
      "image/png": "[encoded data removed]",
      "text/plain": [
       "<Figure size 432x288 with 1 Axes>"
      ]
     },
     "metadata": {},
     "output_type": "display_data"
    }
   ],
   "source": [
    "board = [1,3,0,2]\n",
    "show_board(board)"
   ]
  },
  {
   "cell_type": "markdown",
   "metadata": {},
   "source": [
    "## Steepest-ascend Hill Climbing Search [3 Points]\n",
    "\n",
    "Calculate the objective function for all local moves (move each queen within its column) and always choose the best among all local moves. If there are no local moves that improve the objective, then you have reached a local optimum. "
   ]
  },
  {
   "cell_type": "markdown",
   "metadata": {},
   "source": [
    "__Documentation__\n",
    "\n",
    "* Neighbor states: each state has a maximum of $2n$ neighbors, which are defined as a board in which one queen has moved either up or down from the original board. In code, this is implemented in the $generateNeighbors$ function, calculated by treating the board as a vector, and adding or subtracting the n-dimensional basis vectors from the board vector. The $randNeighbor$ function generates one random neighbor from the given board.\n",
    "* Steepest ascend implementation: the algorithm is implemented using a while loop. In each iteration, the neighbors of the current board are generated. The neighbors are then ranked by the objective function, so that the board with the smallest number of conflicts is chosen as the successor state. The loop then continues to the next iteration with the best successor. This is repeated until a max number of iterations is achieved, or an optimal solution has been found\n",
    "* Stochastic implementation: this algorithm works similarly to steepest ascent, however, a random successor is chosen from the available neighbors. The probability of accepting the randomly chosen neighbor is proportional to the decrease in conflicts, implemented by the formula: $P = e^{-1/\\Delta E}$, where $\\Delta E = conflicts(current) - conflicts(neighbor)$. There is also a 50% chance of accepting a sideways move\n",
    "* First choice implementation: this algorithm is similar to stochastic hill climbing, except each neighbor is generated randomly, one at a time. The algorithm attempts to generate a better successor up to 100 times. A better successor is instantly accepted, and a sideways move has a 50% chance of being chosen if no better moves are available."
   ]
  },
  {
   "cell_type": "markdown",
   "metadata": {},
   "source": [
    "__Additional helper functions__"
   ]
  },
  {
   "cell_type": "code",
   "execution_count": 5,
   "metadata": {},
   "outputs": [],
   "source": [
    "def generateNeighbors(board):\n",
    "    \"\"\"Returns given board's neighboring states as a list\"\"\"\n",
    "\n",
    "    neighbors = list()\n",
    "\n",
    "    # Neighbors are calculated by doing a vector sum and subtraction of the board with the basis vectors of an nxn matrix\n",
    "    basisVecs = np.eye(len(board), len(board), dtype=int)\n",
    "\n",
    "    # Append vector sum and difference to list\n",
    "    for i in range(len(board)):\n",
    "        added = np.add(board, basisVecs[i])\n",
    "        subbed = np.subtract(board, basisVecs[i])\n",
    "\n",
    "        # Discard invalid boards with out of bounds choices\n",
    "        if -1 not in added and len(board) not in added:\n",
    "            neighbors.append(added)\n",
    "        if -1 not in subbed and len(board) not in subbed:\n",
    "            neighbors.append(subbed)\n",
    "\n",
    "    return neighbors\n",
    "\n",
    "def randNeighbor(board):\n",
    "    \"\"\"Returns a random neighbor to given board\"\"\"\n",
    "    randColumn = np.random.randint(0, len(board))\n",
    "    neighbor = np.copy(board) # copy of board\n",
    "    if neighbor[randColumn] == 0: \n",
    "        neighbor[randColumn] += 1\n",
    "    elif neighbor[randColumn] == (len(board) - 1):\n",
    "        neighbor[randColumn] -= 1\n",
    "    else:\n",
    "        neighbor[randColumn] += np.random.choice([1, -1], p=[0.5, 0.5])\n",
    "    \n",
    "    return neighbor\n",
    "    "
   ]
  },
  {
   "cell_type": "code",
   "execution_count": 89,
   "metadata": {},
   "outputs": [],
   "source": [
    "def hillClimbing_steep(board, maxIter, outMode):\n",
    "    iterations = 0\n",
    "    y = list()\n",
    "    while iterations < maxIter and conflicts(board) > 0:\n",
    "        neighbors = generateNeighbors(board)\n",
    "        if True not in [conflicts(x) < conflicts(board) for x in neighbors]: break # if no local moves are an improvement, the algorithm has finished\n",
    "\n",
    "        board = min(neighbors, key=conflicts) #assign best neighbor to board\n",
    "        y.append(conflicts(board))\n",
    "        iterations += 1\n",
    "\n",
    "    if outMode == \"stats\": # stats mode returns conflicts and iterations as a tuple\n",
    "        return (conflicts(board), iterations) \n",
    "    elif outMode == \"soln\": # solution mode returns the board itself\n",
    "        return board\n",
    "    elif outMode == \"graph\":\n",
    "        x = range(iterations)\n",
    "        plt.plot(x, y)\n",
    "        plt.xlabel(\"Iteration\")\n",
    "        plt.ylabel(\"Conflicts\")\n",
    "        plt.show()\n",
    "    else:\n",
    "        pass\n"
   ]
  },
  {
   "cell_type": "markdown",
   "metadata": {},
   "source": [
    "## Stochastic Hill Climbing 1 [2 Point]\n",
    "\n",
    "Chooses randomly from among all uphill moves. Make the probability of the choice proportional to the steepness of the uphill move (i.e., with the improvement in conflicts). "
   ]
  },
  {
   "cell_type": "code",
   "execution_count": 85,
   "metadata": {},
   "outputs": [],
   "source": [
    "def hillClimbing_stoch(board, maxIter, outMode):\n",
    "    iterations = 0\n",
    "    y = list()\n",
    "    while iterations < maxIter and conflicts(board) > 0:\n",
    "        iterations += 1\n",
    "        neighbors = generateNeighbors(board)\n",
    "        randIdx = np.random.choice(range(len(neighbors)))\n",
    "        randChoice = neighbors[randIdx]\n",
    "        \n",
    "        c = conflicts(board)\n",
    "        y.append(c)\n",
    "        objDiff = c - conflicts(randChoice) # compare objective function value between old board and randomly selected neighbor\n",
    "        if objDiff == 0:\n",
    "            if np.random.uniform() < 0.5: # 50% chance to accept the new board if it is a sideways move\n",
    "                board = randChoice\n",
    "            continue\n",
    "        elif objDiff < 0:\n",
    "            continue\n",
    "        else:\n",
    "            acceptProb = np.exp(-1/objDiff) # probability is determined using an exponential decay function\n",
    "            if np.random.uniform() < acceptProb: # avoid selecting if it is not an improvement\n",
    "                board = randChoice\n",
    "\n",
    "    if outMode == \"stats\": # stats mode returns conflicts and iterations as a tuple\n",
    "        return (conflicts(board), iterations)\n",
    "    elif outMode == \"soln\": # solution mode returns the board itself\n",
    "        return board\n",
    "    elif outMode == \"graph\":\n",
    "        x = range(iterations)\n",
    "        plt.plot(x, y)\n",
    "        plt.xlabel(\"Iteration\")\n",
    "        plt.ylabel(\"Conflicts\")\n",
    "        plt.show()\n",
    "    else:\n",
    "        pass"
   ]
  },
  {
   "cell_type": "markdown",
   "metadata": {},
   "source": [
    "## Stochastic Hill Climbing 2 [2 Point]\n",
    "\n",
    "A popular version of stochastic hill climbing generates only a single random local neighbor at a time and accept it if it has a better objective function value than the current state. This is very efficient if each state has many possible successor states. This method is called \"First-choice hill climbing\" in the textbook.\n",
    "\n",
    "__Notes:__ \n",
    "\n",
    "* Detecting local optima is tricky! You can, for example, stop if you were not able to improve the objective function during the last $x$ tries."
   ]
  },
  {
   "cell_type": "code",
   "execution_count": 171,
   "metadata": {},
   "outputs": [],
   "source": [
    "def hillClimbing_stoch2(board, maxIter, outMode): #first choice hill climbing\n",
    "    iterations = 0\n",
    "    iterNoImprove = 0 # tracks number of iterations with no improvement\n",
    "    y = list()\n",
    "    while iterations < maxIter and conflicts(board) > 0:\n",
    "        iterations += 1\n",
    "\n",
    "        # Generate random neighbors one at a time\n",
    "        tries = 0\n",
    "        while tries < 100: # max number of tries to get an improvement from current board before choosing randomly\n",
    "            neighbor = randNeighbor(board)\n",
    "            neighborConf = conflicts(neighbor)\n",
    "            currConf = conflicts(board)\n",
    "\n",
    "            if neighborConf <= currConf: # allow for uphill or sideways moves\n",
    "                board = neighbor\n",
    "                if neighborConf - currConf != 0: iterNoImprove = 0\n",
    "                else: iterNoImprove += 1\n",
    "                break\n",
    "            if tries == 99:\n",
    "                iterNoImprove += 1\n",
    "            \n",
    "            tries += 1\n",
    "        \n",
    "        y.append(conflicts(board))\n",
    "\n",
    "        if iterNoImprove == 50: break # stop the algorithm if there hasn't been any improvement for a while\n",
    "\n",
    "    if outMode == \"stats\": # stats mode returns conflicts and iterations as a tuple\n",
    "        return (conflicts(board), iterations) \n",
    "    elif outMode == \"soln\": # solution mode returns the board itself\n",
    "        return board\n",
    "    elif outMode == \"graph\":\n",
    "        x = range(iterations)\n",
    "        plt.plot(x, y)\n",
    "        plt.xlabel(\"Iteration\")\n",
    "        plt.ylabel(\"Conflicts\")\n",
    "        plt.show()\n",
    "    else:\n",
    "        pass"
   ]
  },
  {
   "cell_type": "markdown",
   "metadata": {},
   "source": [
    "## Hill Climbing Search with Random Restarts [1 Point]\n",
    "\n",
    "Hill climbing will often end up in local optima. Restart the each of the three hill climbing algorithm up to 100 times with a random board to find a better (hopefully optimal) solution. Note that restart just means to run the algoithm several times with a new random initialization."
   ]
  },
  {
   "cell_type": "markdown",
   "metadata": {},
   "source": [
    "__Design__\n",
    "\n",
    "Hill climbing with restarts runs each algorithm 100 times. If an optimal solution is found, the algorithm ends. The return value is a tuple containing the number of conflicts in the solution, and the number of restarts. Number of restarts will often be 100, but could be less if an optimal solution is found earlier."
   ]
  },
  {
   "cell_type": "code",
   "execution_count": 147,
   "metadata": {},
   "outputs": [],
   "source": [
    "def hillClimbing_restarts(board, n, algorithm, maxIter):\n",
    "    solution = None\n",
    "    best = 1e9999999\n",
    "    runs = 0\n",
    "    for i in range(100):\n",
    "        attempt = algorithm(board, maxIter, \"soln\")\n",
    "        c = conflicts(attempt)\n",
    "        if c == 0: return (0, i) # no more restarts required if solution is found\n",
    "        elif c < best:\n",
    "            best = c\n",
    "            solution = attempt\n",
    "\n",
    "        board = random_board(n)\n",
    "        runs += 1\n",
    "        \n",
    "    return (conflicts(solution), runs)"
   ]
  },
  {
   "cell_type": "markdown",
   "metadata": {},
   "source": [
    "## Compare Performance [2 Points]\n",
    "\n",
    "Use runtime and objective function value to compare the algorithms. \n",
    "\n",
    "* Use boards of different sizes to explore how the different algorithms perform. Make sure that you run the algorithms for each board size several times (at least 10 times) with different starting boards and report averages.\n",
    "\n",
    "* How do the algorithms scale with problem size?\n",
    "\n",
    "* What is the largest board each algorithm can solve in a reasonable amount time?"
   ]
  },
  {
   "cell_type": "markdown",
   "metadata": {},
   "source": [
    "The example below times creating 100 random boards and calculating the conflicts. Reported is the average run time over `N = 100` runs.\n",
    "\n",
    "For timing you can use the `time` package."
   ]
  },
  {
   "cell_type": "code",
   "execution_count": 11,
   "metadata": {},
   "outputs": [
    {
     "name": "stdout",
     "output_type": "stream",
     "text": [
      "This took: 3.1638622283935547 milliseconds\n"
     ]
    }
   ],
   "source": [
    "import time\n",
    "\n",
    "N = 100\n",
    "total = 0\n",
    "\n",
    "for i in range(N):\n",
    "    t0 = time.time()\n",
    "    for i in range(1,100): conflicts(random_board(8))\n",
    "    t1 = time.time()\n",
    "    total += t1 - t0\n",
    "\n",
    "tm = total/N\n",
    "    \n",
    "print(f\"This took: {tm * 1e3} milliseconds\")"
   ]
  },
  {
   "cell_type": "markdown",
   "metadata": {},
   "source": [
    "The `timit` package is useful to measure time for code that is called repeatedly."
   ]
  },
  {
   "cell_type": "code",
   "execution_count": 12,
   "metadata": {},
   "outputs": [
    {
     "name": "stdout",
     "output_type": "stream",
     "text": [
      "This took: 3.584828999999985 milliseconds\n"
     ]
    }
   ],
   "source": [
    "import timeit\n",
    "\n",
    "N = 100\n",
    "\n",
    "tm = timeit.timeit('for i in range(1,100): conflicts(random_board(8))', \n",
    "                   globals = globals(), number = N)/N\n",
    "\n",
    "print(f\"This took: {tm * 1e3} milliseconds\")"
   ]
  },
  {
   "cell_type": "markdown",
   "metadata": {},
   "source": [
    "__Testing Strategy Pattern__\n",
    "\n",
    "A simple strategy pattern class to test the algorithms"
   ]
  },
  {
   "cell_type": "code",
   "execution_count": 98,
   "metadata": {},
   "outputs": [],
   "source": [
    "class LSTester:\n",
    "    \"\"\"Local search tester class\"\"\"\n",
    "    def __init__(self, ti, mi, res, sa=False):\n",
    "        self.algo = None\n",
    "        self.useRestarts = res\n",
    "        self.iterations = 0\n",
    "        self.time = 0\n",
    "        self.scores = 0\n",
    "        self.numOptimal = 0 # number of times the algorithm produces the optimal solution\n",
    "        self.testIterations = ti # number of iterations per test\n",
    "        self.maxIter = mi # max number of iterations within the algorithm\n",
    "        self.boardSize = 0\n",
    "        self.sa = sa # different procedure for outputting SA results\n",
    "        \n",
    "    def select(self, a) -> None:\n",
    "        \"\"\"Changes the internal algorithm to the specified function handle\"\"\"\n",
    "        self.algo = a\n",
    "\n",
    "    def setBoardSize(self, n) -> None:\n",
    "        self.boardSize = n\n",
    "\n",
    "    def execute(self) -> None:\n",
    "        \"\"\"Runs the selected algorithm testIterations times\"\"\"\n",
    "        total = 0\n",
    "        t0 = None\n",
    "        t1 = None # timing variables need to be in scope here\n",
    "        confTotal = 0\n",
    "        iterTotal = 0\n",
    "\n",
    "        if self.sa: # special procedure for SA\n",
    "            timeTotal = 0\n",
    "\n",
    "            for _ in range(self.testIterations):\n",
    "                t0 = time.time()\n",
    "                output = simulatedAnnealing(random_board(self.boardSize), \"stats\")\n",
    "                t1 = time.time()\n",
    "                timeTotal += (t1 - t0)\n",
    "                confTotal += output[0]\n",
    "                iterTotal += output[1]\n",
    "\n",
    "            self.time = timeTotal / self.testIterations\n",
    "            self.scores = confTotal / self.testIterations\n",
    "            self.iterations = iterTotal / self.testIterations\n",
    "            return\n",
    "\n",
    "        if self.useRestarts: # restarts will only run once, since each algo is restarted 100x\n",
    "            t0 = time.time()\n",
    "            conf = hillClimbing_restarts(random_board(self.boardSize), self.boardSize, self.algo, self.maxIter)\n",
    "            t1 = time.time()\n",
    "            self.scores = conf[0]\n",
    "            self.iterations = conf[1]\n",
    "            self.time = (t1 - t0) * 1e3\n",
    "\n",
    "        else:\n",
    "            for _ in range(self.testIterations):\n",
    "                t0 = time.time()\n",
    "                stats = self.algo(random_board(self.boardSize), self.maxIter, \"stats\")\n",
    "                t1 = time.time()\n",
    "                confTotal += stats[0]\n",
    "                iterTotal += stats[1]\n",
    "                if stats[0] == 0: self.numOptimal += 1 # optimal solution found\n",
    "\n",
    "                total += t1 - t0\n",
    "\n",
    "        if not self.useRestarts:\n",
    "            self.time = total / self.testIterations\n",
    "            self.scores = confTotal / self.testIterations\n",
    "            self.iterations = iterTotal / self.testIterations\n",
    "\n",
    "    def exportStats(self) -> tuple:\n",
    "        \"\"\"Returns a tuple of the stats for the run\n",
    "        Format: (board size, average time, average iterations, average score)\"\"\"\n",
    "\n",
    "        if not self.useRestarts:\n",
    "            self.numOptimal /= self.testIterations\n",
    "            self.numOptimal *= 100 # num optimal is the percent of optimal solutions out of all test runs\n",
    "            self.numOptimal = f\"{self.numOptimal}%\"\n",
    "            self.time *= 1e3\n",
    "            return (self.boardSize, self.time, self.iterations, self.scores, self.numOptimal)\n",
    "        elif self.useRestarts or self.sa:\n",
    "            return (self.boardSize, self.time, self.iterations, self.scores)\n",
    "        else:\n",
    "            pass\n",
    "\n",
    "\n",
    "    def reset(self) -> None:\n",
    "        \"\"\"Reset all stats\"\"\"\n",
    "        self.time = 0\n",
    "        self.scores = 0\n",
    "        self.iterations = 0\n",
    "        self.numOptimal = 0"
   ]
  },
  {
   "cell_type": "markdown",
   "metadata": {},
   "source": [
    "__Testing procedure and Data__\n",
    "\n",
    "Each algorithm is tested on several board sizes, with and without restarts.\n",
    "\n",
    "The performance data is formatted into a table of averages. Each column shows the average of each stat from all runs. The objective function is shown in the conflicts column, and a lower number indicates the algorithm was able to find better solutions more often. I also included a \"Percent optimal\" column, which is the ratio of optimal solutions found to the total number of runs, expressed as a percent. This metric is a sort of success rate for the algorithm.\n"
   ]
  },
  {
   "cell_type": "code",
   "execution_count": 148,
   "metadata": {},
   "outputs": [
    {
     "name": "stdout",
     "output_type": "stream",
     "text": [
      "Board size: 4\n"
     ]
    },
    {
     "data": {
      "text/html": [
       "<div>\n",
       "<style scoped>\n",
       "    .dataframe tbody tr th:only-of-type {\n",
       "        vertical-align: middle;\n",
       "    }\n",
       "\n",
       "    .dataframe tbody tr th {\n",
       "        vertical-align: top;\n",
       "    }\n",
       "\n",
       "    .dataframe thead th {\n",
       "        text-align: right;\n",
       "    }\n",
       "</style>\n",
       "<table border=\"1\" class=\"dataframe\">\n",
       "  <thead>\n",
       "    <tr style=\"text-align: right;\">\n",
       "      <th></th>\n",
       "      <th>Algorithm</th>\n",
       "      <th>Time (ms)</th>\n",
       "      <th>Iterations</th>\n",
       "      <th>Conflicts</th>\n",
       "      <th>Percent optimal</th>\n",
       "    </tr>\n",
       "  </thead>\n",
       "  <tbody>\n",
       "    <tr>\n",
       "      <th>0</th>\n",
       "      <td>Steepest ascent</td>\n",
       "      <td>0.622082</td>\n",
       "      <td>1.0</td>\n",
       "      <td>1.6</td>\n",
       "      <td>0.0%</td>\n",
       "    </tr>\n",
       "    <tr>\n",
       "      <th>1</th>\n",
       "      <td>Stochastic</td>\n",
       "      <td>67.821312</td>\n",
       "      <td>431.2</td>\n",
       "      <td>0.4</td>\n",
       "      <td>60.0%</td>\n",
       "    </tr>\n",
       "    <tr>\n",
       "      <th>2</th>\n",
       "      <td>First choice</td>\n",
       "      <td>16.783810</td>\n",
       "      <td>12.7</td>\n",
       "      <td>0.1</td>\n",
       "      <td>90.0%</td>\n",
       "    </tr>\n",
       "  </tbody>\n",
       "</table>\n",
       "</div>"
      ],
      "text/plain": [
       "         Algorithm  Time (ms)  Iterations  Conflicts Percent optimal\n",
       "0  Steepest ascent   0.622082         1.0        1.6            0.0%\n",
       "1       Stochastic  67.821312       431.2        0.4           60.0%\n",
       "2     First choice  16.783810        12.7        0.1           90.0%"
      ]
     },
     "metadata": {},
     "output_type": "display_data"
    },
    {
     "name": "stdout",
     "output_type": "stream",
     "text": [
      "\n",
      "Board size: 6\n"
     ]
    },
    {
     "data": {
      "text/html": [
       "<div>\n",
       "<style scoped>\n",
       "    .dataframe tbody tr th:only-of-type {\n",
       "        vertical-align: middle;\n",
       "    }\n",
       "\n",
       "    .dataframe tbody tr th {\n",
       "        vertical-align: top;\n",
       "    }\n",
       "\n",
       "    .dataframe thead th {\n",
       "        text-align: right;\n",
       "    }\n",
       "</style>\n",
       "<table border=\"1\" class=\"dataframe\">\n",
       "  <thead>\n",
       "    <tr style=\"text-align: right;\">\n",
       "      <th></th>\n",
       "      <th>Algorithm</th>\n",
       "      <th>Time (ms)</th>\n",
       "      <th>Iterations</th>\n",
       "      <th>Conflicts</th>\n",
       "      <th>Percent optimal</th>\n",
       "    </tr>\n",
       "  </thead>\n",
       "  <tbody>\n",
       "    <tr>\n",
       "      <th>0</th>\n",
       "      <td>Steepest ascent</td>\n",
       "      <td>1.006722</td>\n",
       "      <td>1.3</td>\n",
       "      <td>2.9</td>\n",
       "      <td>0.0%</td>\n",
       "    </tr>\n",
       "    <tr>\n",
       "      <th>1</th>\n",
       "      <td>Stochastic</td>\n",
       "      <td>171.059942</td>\n",
       "      <td>912.9</td>\n",
       "      <td>1.2</td>\n",
       "      <td>10.0%</td>\n",
       "    </tr>\n",
       "    <tr>\n",
       "      <th>2</th>\n",
       "      <td>First choice</td>\n",
       "      <td>139.858341</td>\n",
       "      <td>64.0</td>\n",
       "      <td>1.4</td>\n",
       "      <td>0.0%</td>\n",
       "    </tr>\n",
       "  </tbody>\n",
       "</table>\n",
       "</div>"
      ],
      "text/plain": [
       "         Algorithm   Time (ms)  Iterations  Conflicts Percent optimal\n",
       "0  Steepest ascent    1.006722         1.3        2.9            0.0%\n",
       "1       Stochastic  171.059942       912.9        1.2           10.0%\n",
       "2     First choice  139.858341        64.0        1.4            0.0%"
      ]
     },
     "metadata": {},
     "output_type": "display_data"
    },
    {
     "name": "stdout",
     "output_type": "stream",
     "text": [
      "\n",
      "Board size: 8\n"
     ]
    },
    {
     "data": {
      "text/html": [
       "<div>\n",
       "<style scoped>\n",
       "    .dataframe tbody tr th:only-of-type {\n",
       "        vertical-align: middle;\n",
       "    }\n",
       "\n",
       "    .dataframe tbody tr th {\n",
       "        vertical-align: top;\n",
       "    }\n",
       "\n",
       "    .dataframe thead th {\n",
       "        text-align: right;\n",
       "    }\n",
       "</style>\n",
       "<table border=\"1\" class=\"dataframe\">\n",
       "  <thead>\n",
       "    <tr style=\"text-align: right;\">\n",
       "      <th></th>\n",
       "      <th>Algorithm</th>\n",
       "      <th>Time (ms)</th>\n",
       "      <th>Iterations</th>\n",
       "      <th>Conflicts</th>\n",
       "      <th>Percent optimal</th>\n",
       "    </tr>\n",
       "  </thead>\n",
       "  <tbody>\n",
       "    <tr>\n",
       "      <th>0</th>\n",
       "      <td>Steepest ascent</td>\n",
       "      <td>1.781607</td>\n",
       "      <td>2.1</td>\n",
       "      <td>4.1</td>\n",
       "      <td>0.0%</td>\n",
       "    </tr>\n",
       "    <tr>\n",
       "      <th>1</th>\n",
       "      <td>Stochastic</td>\n",
       "      <td>211.761904</td>\n",
       "      <td>1000.0</td>\n",
       "      <td>1.6</td>\n",
       "      <td>0.0%</td>\n",
       "    </tr>\n",
       "    <tr>\n",
       "      <th>2</th>\n",
       "      <td>First choice</td>\n",
       "      <td>118.441653</td>\n",
       "      <td>75.9</td>\n",
       "      <td>1.8</td>\n",
       "      <td>0.0%</td>\n",
       "    </tr>\n",
       "  </tbody>\n",
       "</table>\n",
       "</div>"
      ],
      "text/plain": [
       "         Algorithm   Time (ms)  Iterations  Conflicts Percent optimal\n",
       "0  Steepest ascent    1.781607         2.1        4.1            0.0%\n",
       "1       Stochastic  211.761904      1000.0        1.6            0.0%\n",
       "2     First choice  118.441653        75.9        1.8            0.0%"
      ]
     },
     "metadata": {},
     "output_type": "display_data"
    },
    {
     "name": "stdout",
     "output_type": "stream",
     "text": [
      "\n",
      "Board size: 10\n"
     ]
    },
    {
     "data": {
      "text/html": [
       "<div>\n",
       "<style scoped>\n",
       "    .dataframe tbody tr th:only-of-type {\n",
       "        vertical-align: middle;\n",
       "    }\n",
       "\n",
       "    .dataframe tbody tr th {\n",
       "        vertical-align: top;\n",
       "    }\n",
       "\n",
       "    .dataframe thead th {\n",
       "        text-align: right;\n",
       "    }\n",
       "</style>\n",
       "<table border=\"1\" class=\"dataframe\">\n",
       "  <thead>\n",
       "    <tr style=\"text-align: right;\">\n",
       "      <th></th>\n",
       "      <th>Algorithm</th>\n",
       "      <th>Time (ms)</th>\n",
       "      <th>Iterations</th>\n",
       "      <th>Conflicts</th>\n",
       "      <th>Percent optimal</th>\n",
       "    </tr>\n",
       "  </thead>\n",
       "  <tbody>\n",
       "    <tr>\n",
       "      <th>0</th>\n",
       "      <td>Steepest ascent</td>\n",
       "      <td>4.688787</td>\n",
       "      <td>3.9</td>\n",
       "      <td>5.3</td>\n",
       "      <td>0.0%</td>\n",
       "    </tr>\n",
       "    <tr>\n",
       "      <th>1</th>\n",
       "      <td>Stochastic</td>\n",
       "      <td>226.828837</td>\n",
       "      <td>1000.0</td>\n",
       "      <td>2.3</td>\n",
       "      <td>0.0%</td>\n",
       "    </tr>\n",
       "    <tr>\n",
       "      <th>2</th>\n",
       "      <td>First choice</td>\n",
       "      <td>151.112866</td>\n",
       "      <td>81.8</td>\n",
       "      <td>2.6</td>\n",
       "      <td>0.0%</td>\n",
       "    </tr>\n",
       "  </tbody>\n",
       "</table>\n",
       "</div>"
      ],
      "text/plain": [
       "         Algorithm   Time (ms)  Iterations  Conflicts Percent optimal\n",
       "0  Steepest ascent    4.688787         3.9        5.3            0.0%\n",
       "1       Stochastic  226.828837      1000.0        2.3            0.0%\n",
       "2     First choice  151.112866        81.8        2.6            0.0%"
      ]
     },
     "metadata": {},
     "output_type": "display_data"
    },
    {
     "name": "stdout",
     "output_type": "stream",
     "text": [
      "\n",
      "Board size: 12\n"
     ]
    },
    {
     "data": {
      "text/html": [
       "<div>\n",
       "<style scoped>\n",
       "    .dataframe tbody tr th:only-of-type {\n",
       "        vertical-align: middle;\n",
       "    }\n",
       "\n",
       "    .dataframe tbody tr th {\n",
       "        vertical-align: top;\n",
       "    }\n",
       "\n",
       "    .dataframe thead th {\n",
       "        text-align: right;\n",
       "    }\n",
       "</style>\n",
       "<table border=\"1\" class=\"dataframe\">\n",
       "  <thead>\n",
       "    <tr style=\"text-align: right;\">\n",
       "      <th></th>\n",
       "      <th>Algorithm</th>\n",
       "      <th>Time (ms)</th>\n",
       "      <th>Iterations</th>\n",
       "      <th>Conflicts</th>\n",
       "      <th>Percent optimal</th>\n",
       "    </tr>\n",
       "  </thead>\n",
       "  <tbody>\n",
       "    <tr>\n",
       "      <th>0</th>\n",
       "      <td>Steepest ascent</td>\n",
       "      <td>5.196285</td>\n",
       "      <td>3.5</td>\n",
       "      <td>5.8</td>\n",
       "      <td>0.0%</td>\n",
       "    </tr>\n",
       "    <tr>\n",
       "      <th>1</th>\n",
       "      <td>Stochastic</td>\n",
       "      <td>257.296968</td>\n",
       "      <td>1000.0</td>\n",
       "      <td>3.4</td>\n",
       "      <td>0.0%</td>\n",
       "    </tr>\n",
       "    <tr>\n",
       "      <th>2</th>\n",
       "      <td>First choice</td>\n",
       "      <td>199.634433</td>\n",
       "      <td>95.0</td>\n",
       "      <td>2.9</td>\n",
       "      <td>0.0%</td>\n",
       "    </tr>\n",
       "  </tbody>\n",
       "</table>\n",
       "</div>"
      ],
      "text/plain": [
       "         Algorithm   Time (ms)  Iterations  Conflicts Percent optimal\n",
       "0  Steepest ascent    5.196285         3.5        5.8            0.0%\n",
       "1       Stochastic  257.296968      1000.0        3.4            0.0%\n",
       "2     First choice  199.634433        95.0        2.9            0.0%"
      ]
     },
     "metadata": {},
     "output_type": "display_data"
    },
    {
     "name": "stdout",
     "output_type": "stream",
     "text": [
      "\n",
      "Board size: 14\n"
     ]
    },
    {
     "data": {
      "text/html": [
       "<div>\n",
       "<style scoped>\n",
       "    .dataframe tbody tr th:only-of-type {\n",
       "        vertical-align: middle;\n",
       "    }\n",
       "\n",
       "    .dataframe tbody tr th {\n",
       "        vertical-align: top;\n",
       "    }\n",
       "\n",
       "    .dataframe thead th {\n",
       "        text-align: right;\n",
       "    }\n",
       "</style>\n",
       "<table border=\"1\" class=\"dataframe\">\n",
       "  <thead>\n",
       "    <tr style=\"text-align: right;\">\n",
       "      <th></th>\n",
       "      <th>Algorithm</th>\n",
       "      <th>Time (ms)</th>\n",
       "      <th>Iterations</th>\n",
       "      <th>Conflicts</th>\n",
       "      <th>Percent optimal</th>\n",
       "    </tr>\n",
       "  </thead>\n",
       "  <tbody>\n",
       "    <tr>\n",
       "      <th>0</th>\n",
       "      <td>Steepest ascent</td>\n",
       "      <td>12.042427</td>\n",
       "      <td>5.4</td>\n",
       "      <td>5.8</td>\n",
       "      <td>0.0%</td>\n",
       "    </tr>\n",
       "    <tr>\n",
       "      <th>1</th>\n",
       "      <td>Stochastic</td>\n",
       "      <td>275.341511</td>\n",
       "      <td>1000.0</td>\n",
       "      <td>3.7</td>\n",
       "      <td>0.0%</td>\n",
       "    </tr>\n",
       "    <tr>\n",
       "      <th>2</th>\n",
       "      <td>First choice</td>\n",
       "      <td>221.809196</td>\n",
       "      <td>83.1</td>\n",
       "      <td>3.1</td>\n",
       "      <td>0.0%</td>\n",
       "    </tr>\n",
       "  </tbody>\n",
       "</table>\n",
       "</div>"
      ],
      "text/plain": [
       "         Algorithm   Time (ms)  Iterations  Conflicts Percent optimal\n",
       "0  Steepest ascent   12.042427         5.4        5.8            0.0%\n",
       "1       Stochastic  275.341511      1000.0        3.7            0.0%\n",
       "2     First choice  221.809196        83.1        3.1            0.0%"
      ]
     },
     "metadata": {},
     "output_type": "display_data"
    },
    {
     "name": "stdout",
     "output_type": "stream",
     "text": [
      "\n",
      "Board size: 16\n"
     ]
    },
    {
     "data": {
      "text/html": [
       "<div>\n",
       "<style scoped>\n",
       "    .dataframe tbody tr th:only-of-type {\n",
       "        vertical-align: middle;\n",
       "    }\n",
       "\n",
       "    .dataframe tbody tr th {\n",
       "        vertical-align: top;\n",
       "    }\n",
       "\n",
       "    .dataframe thead th {\n",
       "        text-align: right;\n",
       "    }\n",
       "</style>\n",
       "<table border=\"1\" class=\"dataframe\">\n",
       "  <thead>\n",
       "    <tr style=\"text-align: right;\">\n",
       "      <th></th>\n",
       "      <th>Algorithm</th>\n",
       "      <th>Time (ms)</th>\n",
       "      <th>Iterations</th>\n",
       "      <th>Conflicts</th>\n",
       "      <th>Percent optimal</th>\n",
       "    </tr>\n",
       "  </thead>\n",
       "  <tbody>\n",
       "    <tr>\n",
       "      <th>0</th>\n",
       "      <td>Steepest ascent</td>\n",
       "      <td>22.021937</td>\n",
       "      <td>4.9</td>\n",
       "      <td>7.6</td>\n",
       "      <td>0.0%</td>\n",
       "    </tr>\n",
       "    <tr>\n",
       "      <th>1</th>\n",
       "      <td>Stochastic</td>\n",
       "      <td>402.143621</td>\n",
       "      <td>1000.0</td>\n",
       "      <td>5.2</td>\n",
       "      <td>0.0%</td>\n",
       "    </tr>\n",
       "    <tr>\n",
       "      <th>2</th>\n",
       "      <td>First choice</td>\n",
       "      <td>120.593762</td>\n",
       "      <td>90.7</td>\n",
       "      <td>4.0</td>\n",
       "      <td>0.0%</td>\n",
       "    </tr>\n",
       "  </tbody>\n",
       "</table>\n",
       "</div>"
      ],
      "text/plain": [
       "         Algorithm   Time (ms)  Iterations  Conflicts Percent optimal\n",
       "0  Steepest ascent   22.021937         4.9        7.6            0.0%\n",
       "1       Stochastic  402.143621      1000.0        5.2            0.0%\n",
       "2     First choice  120.593762        90.7        4.0            0.0%"
      ]
     },
     "metadata": {},
     "output_type": "display_data"
    },
    {
     "name": "stdout",
     "output_type": "stream",
     "text": [
      "\n",
      "Board size: 18\n"
     ]
    },
    {
     "data": {
      "text/html": [
       "<div>\n",
       "<style scoped>\n",
       "    .dataframe tbody tr th:only-of-type {\n",
       "        vertical-align: middle;\n",
       "    }\n",
       "\n",
       "    .dataframe tbody tr th {\n",
       "        vertical-align: top;\n",
       "    }\n",
       "\n",
       "    .dataframe thead th {\n",
       "        text-align: right;\n",
       "    }\n",
       "</style>\n",
       "<table border=\"1\" class=\"dataframe\">\n",
       "  <thead>\n",
       "    <tr style=\"text-align: right;\">\n",
       "      <th></th>\n",
       "      <th>Algorithm</th>\n",
       "      <th>Time (ms)</th>\n",
       "      <th>Iterations</th>\n",
       "      <th>Conflicts</th>\n",
       "      <th>Percent optimal</th>\n",
       "    </tr>\n",
       "  </thead>\n",
       "  <tbody>\n",
       "    <tr>\n",
       "      <th>0</th>\n",
       "      <td>Steepest ascent</td>\n",
       "      <td>29.370260</td>\n",
       "      <td>4.7</td>\n",
       "      <td>8.5</td>\n",
       "      <td>0.0%</td>\n",
       "    </tr>\n",
       "    <tr>\n",
       "      <th>1</th>\n",
       "      <td>Stochastic</td>\n",
       "      <td>430.887699</td>\n",
       "      <td>1000.0</td>\n",
       "      <td>5.3</td>\n",
       "      <td>0.0%</td>\n",
       "    </tr>\n",
       "    <tr>\n",
       "      <th>2</th>\n",
       "      <td>First choice</td>\n",
       "      <td>257.330394</td>\n",
       "      <td>97.6</td>\n",
       "      <td>5.0</td>\n",
       "      <td>0.0%</td>\n",
       "    </tr>\n",
       "  </tbody>\n",
       "</table>\n",
       "</div>"
      ],
      "text/plain": [
       "         Algorithm   Time (ms)  Iterations  Conflicts Percent optimal\n",
       "0  Steepest ascent   29.370260         4.7        8.5            0.0%\n",
       "1       Stochastic  430.887699      1000.0        5.3            0.0%\n",
       "2     First choice  257.330394        97.6        5.0            0.0%"
      ]
     },
     "metadata": {},
     "output_type": "display_data"
    },
    {
     "name": "stdout",
     "output_type": "stream",
     "text": [
      "\n",
      "Board size: 20\n"
     ]
    },
    {
     "data": {
      "text/html": [
       "<div>\n",
       "<style scoped>\n",
       "    .dataframe tbody tr th:only-of-type {\n",
       "        vertical-align: middle;\n",
       "    }\n",
       "\n",
       "    .dataframe tbody tr th {\n",
       "        vertical-align: top;\n",
       "    }\n",
       "\n",
       "    .dataframe thead th {\n",
       "        text-align: right;\n",
       "    }\n",
       "</style>\n",
       "<table border=\"1\" class=\"dataframe\">\n",
       "  <thead>\n",
       "    <tr style=\"text-align: right;\">\n",
       "      <th></th>\n",
       "      <th>Algorithm</th>\n",
       "      <th>Time (ms)</th>\n",
       "      <th>Iterations</th>\n",
       "      <th>Conflicts</th>\n",
       "      <th>Percent optimal</th>\n",
       "    </tr>\n",
       "  </thead>\n",
       "  <tbody>\n",
       "    <tr>\n",
       "      <th>0</th>\n",
       "      <td>Steepest ascent</td>\n",
       "      <td>23.370361</td>\n",
       "      <td>6.5</td>\n",
       "      <td>8.8</td>\n",
       "      <td>0.0%</td>\n",
       "    </tr>\n",
       "    <tr>\n",
       "      <th>1</th>\n",
       "      <td>Stochastic</td>\n",
       "      <td>413.920474</td>\n",
       "      <td>1000.0</td>\n",
       "      <td>4.8</td>\n",
       "      <td>0.0%</td>\n",
       "    </tr>\n",
       "    <tr>\n",
       "      <th>2</th>\n",
       "      <td>First choice</td>\n",
       "      <td>157.877827</td>\n",
       "      <td>104.0</td>\n",
       "      <td>7.0</td>\n",
       "      <td>0.0%</td>\n",
       "    </tr>\n",
       "  </tbody>\n",
       "</table>\n",
       "</div>"
      ],
      "text/plain": [
       "         Algorithm   Time (ms)  Iterations  Conflicts Percent optimal\n",
       "0  Steepest ascent   23.370361         6.5        8.8            0.0%\n",
       "1       Stochastic  413.920474      1000.0        4.8            0.0%\n",
       "2     First choice  157.877827       104.0        7.0            0.0%"
      ]
     },
     "metadata": {},
     "output_type": "display_data"
    },
    {
     "name": "stdout",
     "output_type": "stream",
     "text": [
      "\n",
      "Board size: 22\n"
     ]
    },
    {
     "data": {
      "text/html": [
       "<div>\n",
       "<style scoped>\n",
       "    .dataframe tbody tr th:only-of-type {\n",
       "        vertical-align: middle;\n",
       "    }\n",
       "\n",
       "    .dataframe tbody tr th {\n",
       "        vertical-align: top;\n",
       "    }\n",
       "\n",
       "    .dataframe thead th {\n",
       "        text-align: right;\n",
       "    }\n",
       "</style>\n",
       "<table border=\"1\" class=\"dataframe\">\n",
       "  <thead>\n",
       "    <tr style=\"text-align: right;\">\n",
       "      <th></th>\n",
       "      <th>Algorithm</th>\n",
       "      <th>Time (ms)</th>\n",
       "      <th>Iterations</th>\n",
       "      <th>Conflicts</th>\n",
       "      <th>Percent optimal</th>\n",
       "    </tr>\n",
       "  </thead>\n",
       "  <tbody>\n",
       "    <tr>\n",
       "      <th>0</th>\n",
       "      <td>Steepest ascent</td>\n",
       "      <td>30.925131</td>\n",
       "      <td>7.1</td>\n",
       "      <td>12.0</td>\n",
       "      <td>0.0%</td>\n",
       "    </tr>\n",
       "    <tr>\n",
       "      <th>1</th>\n",
       "      <td>Stochastic</td>\n",
       "      <td>626.714897</td>\n",
       "      <td>1000.0</td>\n",
       "      <td>6.0</td>\n",
       "      <td>0.0%</td>\n",
       "    </tr>\n",
       "    <tr>\n",
       "      <th>2</th>\n",
       "      <td>First choice</td>\n",
       "      <td>379.822016</td>\n",
       "      <td>113.0</td>\n",
       "      <td>6.4</td>\n",
       "      <td>0.0%</td>\n",
       "    </tr>\n",
       "  </tbody>\n",
       "</table>\n",
       "</div>"
      ],
      "text/plain": [
       "         Algorithm   Time (ms)  Iterations  Conflicts Percent optimal\n",
       "0  Steepest ascent   30.925131         7.1       12.0            0.0%\n",
       "1       Stochastic  626.714897      1000.0        6.0            0.0%\n",
       "2     First choice  379.822016       113.0        6.4            0.0%"
      ]
     },
     "metadata": {},
     "output_type": "display_data"
    },
    {
     "name": "stdout",
     "output_type": "stream",
     "text": [
      "\n"
     ]
    },
    {
     "data": {
      "image/png": "[encoded data removed]",
      "text/plain": [
       "<Figure size 432x288 with 1 Axes>"
      ]
     },
     "metadata": {
      "needs_background": "light"
     },
     "output_type": "display_data"
    }
   ],
   "source": [
    "import pandas as pd\n",
    "from IPython.display import display\n",
    "\n",
    "tester = LSTester(10, 1000, res=False) # 10 trials with 1000 max iterations\n",
    "algos = [\"Steepest ascent\", \"Stochastic\", \"First choice\"]\n",
    "times = list()\n",
    "iters = list()\n",
    "scores = list()\n",
    "optimal = list()\n",
    "\n",
    "t_steep = list()\n",
    "t_stoch = list()\n",
    "t_fc = list() # time arrays for plotting\n",
    "\n",
    "for i in range(4, 24, 2):\n",
    "    for algo in [hillClimbing_steep, hillClimbing_stoch, hillClimbing_stoch2]:\n",
    "        tester.select(algo)\n",
    "        tester.setBoardSize(i)\n",
    "        tester.execute()\n",
    "        \n",
    "        results = tester.exportStats()\n",
    "        idx = 1\n",
    "        for stat in [times, iters, scores, optimal]:\n",
    "            stat.append(results[idx])\n",
    "            idx += 1\n",
    "\n",
    "        # Add times to plot arrays\n",
    "        if algo is hillClimbing_steep: t_steep.append(results[1])\n",
    "        elif algo is hillClimbing_stoch: t_stoch.append(results[1])\n",
    "        elif algo is hillClimbing_stoch2: t_fc.append(results[1])\n",
    "        else: pass\n",
    "\n",
    "        tester.reset()\n",
    "    \n",
    "    table = {\"Algorithm\": algos, \"Time (ms)\": times, \"Iterations\": iters, \"Conflicts\": scores, \"Percent optimal\": optimal}\n",
    "    df = pd.DataFrame(table)\n",
    "    print(f\"Board size: {i}\")\n",
    "    display(df)\n",
    "    print()\n",
    "\n",
    "    for s in [times, iters, scores, optimal]: s.clear()\n",
    "\n",
    "plt.plot(range(4, 24, 2), t_steep)\n",
    "plt.plot(range(4, 24, 2), t_stoch)\n",
    "plt.plot(range(4, 24, 2), t_fc)\n",
    "plt.xlabel(\"Board size\")\n",
    "plt.ylabel(\"Time\")\n",
    "plt.legend([\"Steepest ascent\", \"Stochastic\", \"First choice\"])\n",
    "plt.show()"
   ]
  },
  {
   "cell_type": "markdown",
   "metadata": {},
   "source": [
    "__Testing with restarts__"
   ]
  },
  {
   "cell_type": "code",
   "execution_count": 170,
   "metadata": {},
   "outputs": [
    {
     "name": "stdout",
     "output_type": "stream",
     "text": [
      "Board size: 4\n"
     ]
    },
    {
     "data": {
      "text/html": [
       "<div>\n",
       "<style scoped>\n",
       "    .dataframe tbody tr th:only-of-type {\n",
       "        vertical-align: middle;\n",
       "    }\n",
       "\n",
       "    .dataframe tbody tr th {\n",
       "        vertical-align: top;\n",
       "    }\n",
       "\n",
       "    .dataframe thead th {\n",
       "        text-align: right;\n",
       "    }\n",
       "</style>\n",
       "<table border=\"1\" class=\"dataframe\">\n",
       "  <thead>\n",
       "    <tr style=\"text-align: right;\">\n",
       "      <th></th>\n",
       "      <th>Algorithm</th>\n",
       "      <th>Time (ms)</th>\n",
       "      <th>Iterations</th>\n",
       "      <th>Conflicts</th>\n",
       "    </tr>\n",
       "  </thead>\n",
       "  <tbody>\n",
       "    <tr>\n",
       "      <th>0</th>\n",
       "      <td>Steepest ascent</td>\n",
       "      <td>5.539417</td>\n",
       "      <td>12</td>\n",
       "      <td>0</td>\n",
       "    </tr>\n",
       "    <tr>\n",
       "      <th>1</th>\n",
       "      <td>Stochastic</td>\n",
       "      <td>339.258909</td>\n",
       "      <td>2</td>\n",
       "      <td>0</td>\n",
       "    </tr>\n",
       "    <tr>\n",
       "      <th>2</th>\n",
       "      <td>First choice</td>\n",
       "      <td>138.831139</td>\n",
       "      <td>1</td>\n",
       "      <td>0</td>\n",
       "    </tr>\n",
       "  </tbody>\n",
       "</table>\n",
       "</div>"
      ],
      "text/plain": [
       "         Algorithm   Time (ms)  Iterations  Conflicts\n",
       "0  Steepest ascent    5.539417          12          0\n",
       "1       Stochastic  339.258909           2          0\n",
       "2     First choice  138.831139           1          0"
      ]
     },
     "metadata": {},
     "output_type": "display_data"
    },
    {
     "name": "stdout",
     "output_type": "stream",
     "text": [
      "\n",
      "Board size: 6\n"
     ]
    },
    {
     "data": {
      "text/html": [
       "<div>\n",
       "<style scoped>\n",
       "    .dataframe tbody tr th:only-of-type {\n",
       "        vertical-align: middle;\n",
       "    }\n",
       "\n",
       "    .dataframe tbody tr th {\n",
       "        vertical-align: top;\n",
       "    }\n",
       "\n",
       "    .dataframe thead th {\n",
       "        text-align: right;\n",
       "    }\n",
       "</style>\n",
       "<table border=\"1\" class=\"dataframe\">\n",
       "  <thead>\n",
       "    <tr style=\"text-align: right;\">\n",
       "      <th></th>\n",
       "      <th>Algorithm</th>\n",
       "      <th>Time (ms)</th>\n",
       "      <th>Iterations</th>\n",
       "      <th>Conflicts</th>\n",
       "    </tr>\n",
       "  </thead>\n",
       "  <tbody>\n",
       "    <tr>\n",
       "      <th>0</th>\n",
       "      <td>Steepest ascent</td>\n",
       "      <td>97.932339</td>\n",
       "      <td>100</td>\n",
       "      <td>1</td>\n",
       "    </tr>\n",
       "    <tr>\n",
       "      <th>1</th>\n",
       "      <td>Stochastic</td>\n",
       "      <td>494.660616</td>\n",
       "      <td>2</td>\n",
       "      <td>0</td>\n",
       "    </tr>\n",
       "    <tr>\n",
       "      <th>2</th>\n",
       "      <td>First choice</td>\n",
       "      <td>370.294809</td>\n",
       "      <td>4</td>\n",
       "      <td>0</td>\n",
       "    </tr>\n",
       "  </tbody>\n",
       "</table>\n",
       "</div>"
      ],
      "text/plain": [
       "         Algorithm   Time (ms)  Iterations  Conflicts\n",
       "0  Steepest ascent   97.932339         100          1\n",
       "1       Stochastic  494.660616           2          0\n",
       "2     First choice  370.294809           4          0"
      ]
     },
     "metadata": {},
     "output_type": "display_data"
    },
    {
     "name": "stdout",
     "output_type": "stream",
     "text": [
      "\n",
      "Board size: 8\n"
     ]
    },
    {
     "data": {
      "text/html": [
       "<div>\n",
       "<style scoped>\n",
       "    .dataframe tbody tr th:only-of-type {\n",
       "        vertical-align: middle;\n",
       "    }\n",
       "\n",
       "    .dataframe tbody tr th {\n",
       "        vertical-align: top;\n",
       "    }\n",
       "\n",
       "    .dataframe thead th {\n",
       "        text-align: right;\n",
       "    }\n",
       "</style>\n",
       "<table border=\"1\" class=\"dataframe\">\n",
       "  <thead>\n",
       "    <tr style=\"text-align: right;\">\n",
       "      <th></th>\n",
       "      <th>Algorithm</th>\n",
       "      <th>Time (ms)</th>\n",
       "      <th>Iterations</th>\n",
       "      <th>Conflicts</th>\n",
       "    </tr>\n",
       "  </thead>\n",
       "  <tbody>\n",
       "    <tr>\n",
       "      <th>0</th>\n",
       "      <td>Steepest ascent</td>\n",
       "      <td>269.222021</td>\n",
       "      <td>100</td>\n",
       "      <td>1</td>\n",
       "    </tr>\n",
       "    <tr>\n",
       "      <th>1</th>\n",
       "      <td>Stochastic</td>\n",
       "      <td>1956.402063</td>\n",
       "      <td>10</td>\n",
       "      <td>0</td>\n",
       "    </tr>\n",
       "    <tr>\n",
       "      <th>2</th>\n",
       "      <td>First choice</td>\n",
       "      <td>9073.342085</td>\n",
       "      <td>54</td>\n",
       "      <td>0</td>\n",
       "    </tr>\n",
       "  </tbody>\n",
       "</table>\n",
       "</div>"
      ],
      "text/plain": [
       "         Algorithm    Time (ms)  Iterations  Conflicts\n",
       "0  Steepest ascent   269.222021         100          1\n",
       "1       Stochastic  1956.402063          10          0\n",
       "2     First choice  9073.342085          54          0"
      ]
     },
     "metadata": {},
     "output_type": "display_data"
    },
    {
     "name": "stdout",
     "output_type": "stream",
     "text": [
      "\n",
      "Board size: 10\n"
     ]
    },
    {
     "data": {
      "text/html": [
       "<div>\n",
       "<style scoped>\n",
       "    .dataframe tbody tr th:only-of-type {\n",
       "        vertical-align: middle;\n",
       "    }\n",
       "\n",
       "    .dataframe tbody tr th {\n",
       "        vertical-align: top;\n",
       "    }\n",
       "\n",
       "    .dataframe thead th {\n",
       "        text-align: right;\n",
       "    }\n",
       "</style>\n",
       "<table border=\"1\" class=\"dataframe\">\n",
       "  <thead>\n",
       "    <tr style=\"text-align: right;\">\n",
       "      <th></th>\n",
       "      <th>Algorithm</th>\n",
       "      <th>Time (ms)</th>\n",
       "      <th>Iterations</th>\n",
       "      <th>Conflicts</th>\n",
       "    </tr>\n",
       "  </thead>\n",
       "  <tbody>\n",
       "    <tr>\n",
       "      <th>0</th>\n",
       "      <td>Steepest ascent</td>\n",
       "      <td>362.624168</td>\n",
       "      <td>100</td>\n",
       "      <td>2</td>\n",
       "    </tr>\n",
       "    <tr>\n",
       "      <th>1</th>\n",
       "      <td>Stochastic</td>\n",
       "      <td>22512.120485</td>\n",
       "      <td>100</td>\n",
       "      <td>1</td>\n",
       "    </tr>\n",
       "    <tr>\n",
       "      <th>2</th>\n",
       "      <td>First choice</td>\n",
       "      <td>17638.443232</td>\n",
       "      <td>95</td>\n",
       "      <td>0</td>\n",
       "    </tr>\n",
       "  </tbody>\n",
       "</table>\n",
       "</div>"
      ],
      "text/plain": [
       "         Algorithm     Time (ms)  Iterations  Conflicts\n",
       "0  Steepest ascent    362.624168         100          2\n",
       "1       Stochastic  22512.120485         100          1\n",
       "2     First choice  17638.443232          95          0"
      ]
     },
     "metadata": {},
     "output_type": "display_data"
    },
    {
     "name": "stdout",
     "output_type": "stream",
     "text": [
      "\n",
      "Board size: 12\n"
     ]
    },
    {
     "data": {
      "text/html": [
       "<div>\n",
       "<style scoped>\n",
       "    .dataframe tbody tr th:only-of-type {\n",
       "        vertical-align: middle;\n",
       "    }\n",
       "\n",
       "    .dataframe tbody tr th {\n",
       "        vertical-align: top;\n",
       "    }\n",
       "\n",
       "    .dataframe thead th {\n",
       "        text-align: right;\n",
       "    }\n",
       "</style>\n",
       "<table border=\"1\" class=\"dataframe\">\n",
       "  <thead>\n",
       "    <tr style=\"text-align: right;\">\n",
       "      <th></th>\n",
       "      <th>Algorithm</th>\n",
       "      <th>Time (ms)</th>\n",
       "      <th>Iterations</th>\n",
       "      <th>Conflicts</th>\n",
       "    </tr>\n",
       "  </thead>\n",
       "  <tbody>\n",
       "    <tr>\n",
       "      <th>0</th>\n",
       "      <td>Steepest ascent</td>\n",
       "      <td>764.278412</td>\n",
       "      <td>100</td>\n",
       "      <td>2</td>\n",
       "    </tr>\n",
       "    <tr>\n",
       "      <th>1</th>\n",
       "      <td>Stochastic</td>\n",
       "      <td>29929.542780</td>\n",
       "      <td>100</td>\n",
       "      <td>1</td>\n",
       "    </tr>\n",
       "    <tr>\n",
       "      <th>2</th>\n",
       "      <td>First choice</td>\n",
       "      <td>21951.511621</td>\n",
       "      <td>100</td>\n",
       "      <td>1</td>\n",
       "    </tr>\n",
       "  </tbody>\n",
       "</table>\n",
       "</div>"
      ],
      "text/plain": [
       "         Algorithm     Time (ms)  Iterations  Conflicts\n",
       "0  Steepest ascent    764.278412         100          2\n",
       "1       Stochastic  29929.542780         100          1\n",
       "2     First choice  21951.511621         100          1"
      ]
     },
     "metadata": {},
     "output_type": "display_data"
    },
    {
     "name": "stdout",
     "output_type": "stream",
     "text": [
      "\n",
      "Board size: 14\n"
     ]
    },
    {
     "data": {
      "text/html": [
       "<div>\n",
       "<style scoped>\n",
       "    .dataframe tbody tr th:only-of-type {\n",
       "        vertical-align: middle;\n",
       "    }\n",
       "\n",
       "    .dataframe tbody tr th {\n",
       "        vertical-align: top;\n",
       "    }\n",
       "\n",
       "    .dataframe thead th {\n",
       "        text-align: right;\n",
       "    }\n",
       "</style>\n",
       "<table border=\"1\" class=\"dataframe\">\n",
       "  <thead>\n",
       "    <tr style=\"text-align: right;\">\n",
       "      <th></th>\n",
       "      <th>Algorithm</th>\n",
       "      <th>Time (ms)</th>\n",
       "      <th>Iterations</th>\n",
       "      <th>Conflicts</th>\n",
       "    </tr>\n",
       "  </thead>\n",
       "  <tbody>\n",
       "    <tr>\n",
       "      <th>0</th>\n",
       "      <td>Steepest ascent</td>\n",
       "      <td>931.054831</td>\n",
       "      <td>100</td>\n",
       "      <td>3</td>\n",
       "    </tr>\n",
       "    <tr>\n",
       "      <th>1</th>\n",
       "      <td>Stochastic</td>\n",
       "      <td>29243.519783</td>\n",
       "      <td>100</td>\n",
       "      <td>1</td>\n",
       "    </tr>\n",
       "    <tr>\n",
       "      <th>2</th>\n",
       "      <td>First choice</td>\n",
       "      <td>18824.755192</td>\n",
       "      <td>100</td>\n",
       "      <td>1</td>\n",
       "    </tr>\n",
       "  </tbody>\n",
       "</table>\n",
       "</div>"
      ],
      "text/plain": [
       "         Algorithm     Time (ms)  Iterations  Conflicts\n",
       "0  Steepest ascent    931.054831         100          3\n",
       "1       Stochastic  29243.519783         100          1\n",
       "2     First choice  18824.755192         100          1"
      ]
     },
     "metadata": {},
     "output_type": "display_data"
    },
    {
     "name": "stdout",
     "output_type": "stream",
     "text": [
      "\n",
      "Board size: 16\n"
     ]
    },
    {
     "data": {
      "text/html": [
       "<div>\n",
       "<style scoped>\n",
       "    .dataframe tbody tr th:only-of-type {\n",
       "        vertical-align: middle;\n",
       "    }\n",
       "\n",
       "    .dataframe tbody tr th {\n",
       "        vertical-align: top;\n",
       "    }\n",
       "\n",
       "    .dataframe thead th {\n",
       "        text-align: right;\n",
       "    }\n",
       "</style>\n",
       "<table border=\"1\" class=\"dataframe\">\n",
       "  <thead>\n",
       "    <tr style=\"text-align: right;\">\n",
       "      <th></th>\n",
       "      <th>Algorithm</th>\n",
       "      <th>Time (ms)</th>\n",
       "      <th>Iterations</th>\n",
       "      <th>Conflicts</th>\n",
       "    </tr>\n",
       "  </thead>\n",
       "  <tbody>\n",
       "    <tr>\n",
       "      <th>0</th>\n",
       "      <td>Steepest ascent</td>\n",
       "      <td>1420.342684</td>\n",
       "      <td>100</td>\n",
       "      <td>3</td>\n",
       "    </tr>\n",
       "    <tr>\n",
       "      <th>1</th>\n",
       "      <td>Stochastic</td>\n",
       "      <td>30736.975908</td>\n",
       "      <td>100</td>\n",
       "      <td>2</td>\n",
       "    </tr>\n",
       "    <tr>\n",
       "      <th>2</th>\n",
       "      <td>First choice</td>\n",
       "      <td>18595.717430</td>\n",
       "      <td>100</td>\n",
       "      <td>1</td>\n",
       "    </tr>\n",
       "  </tbody>\n",
       "</table>\n",
       "</div>"
      ],
      "text/plain": [
       "         Algorithm     Time (ms)  Iterations  Conflicts\n",
       "0  Steepest ascent   1420.342684         100          3\n",
       "1       Stochastic  30736.975908         100          2\n",
       "2     First choice  18595.717430         100          1"
      ]
     },
     "metadata": {},
     "output_type": "display_data"
    },
    {
     "name": "stdout",
     "output_type": "stream",
     "text": [
      "\n",
      "Board size: 18\n"
     ]
    },
    {
     "data": {
      "text/html": [
       "<div>\n",
       "<style scoped>\n",
       "    .dataframe tbody tr th:only-of-type {\n",
       "        vertical-align: middle;\n",
       "    }\n",
       "\n",
       "    .dataframe tbody tr th {\n",
       "        vertical-align: top;\n",
       "    }\n",
       "\n",
       "    .dataframe thead th {\n",
       "        text-align: right;\n",
       "    }\n",
       "</style>\n",
       "<table border=\"1\" class=\"dataframe\">\n",
       "  <thead>\n",
       "    <tr style=\"text-align: right;\">\n",
       "      <th></th>\n",
       "      <th>Algorithm</th>\n",
       "      <th>Time (ms)</th>\n",
       "      <th>Iterations</th>\n",
       "      <th>Conflicts</th>\n",
       "    </tr>\n",
       "  </thead>\n",
       "  <tbody>\n",
       "    <tr>\n",
       "      <th>0</th>\n",
       "      <td>Steepest ascent</td>\n",
       "      <td>1698.741674</td>\n",
       "      <td>100</td>\n",
       "      <td>3</td>\n",
       "    </tr>\n",
       "    <tr>\n",
       "      <th>1</th>\n",
       "      <td>Stochastic</td>\n",
       "      <td>33837.802649</td>\n",
       "      <td>100</td>\n",
       "      <td>2</td>\n",
       "    </tr>\n",
       "    <tr>\n",
       "      <th>2</th>\n",
       "      <td>First choice</td>\n",
       "      <td>19738.909483</td>\n",
       "      <td>100</td>\n",
       "      <td>2</td>\n",
       "    </tr>\n",
       "  </tbody>\n",
       "</table>\n",
       "</div>"
      ],
      "text/plain": [
       "         Algorithm     Time (ms)  Iterations  Conflicts\n",
       "0  Steepest ascent   1698.741674         100          3\n",
       "1       Stochastic  33837.802649         100          2\n",
       "2     First choice  19738.909483         100          2"
      ]
     },
     "metadata": {},
     "output_type": "display_data"
    },
    {
     "name": "stdout",
     "output_type": "stream",
     "text": [
      "\n",
      "Board size: 20\n"
     ]
    },
    {
     "data": {
      "text/html": [
       "<div>\n",
       "<style scoped>\n",
       "    .dataframe tbody tr th:only-of-type {\n",
       "        vertical-align: middle;\n",
       "    }\n",
       "\n",
       "    .dataframe tbody tr th {\n",
       "        vertical-align: top;\n",
       "    }\n",
       "\n",
       "    .dataframe thead th {\n",
       "        text-align: right;\n",
       "    }\n",
       "</style>\n",
       "<table border=\"1\" class=\"dataframe\">\n",
       "  <thead>\n",
       "    <tr style=\"text-align: right;\">\n",
       "      <th></th>\n",
       "      <th>Algorithm</th>\n",
       "      <th>Time (ms)</th>\n",
       "      <th>Iterations</th>\n",
       "      <th>Conflicts</th>\n",
       "    </tr>\n",
       "  </thead>\n",
       "  <tbody>\n",
       "    <tr>\n",
       "      <th>0</th>\n",
       "      <td>Steepest ascent</td>\n",
       "      <td>2259.621382</td>\n",
       "      <td>100</td>\n",
       "      <td>5</td>\n",
       "    </tr>\n",
       "    <tr>\n",
       "      <th>1</th>\n",
       "      <td>Stochastic</td>\n",
       "      <td>38381.614447</td>\n",
       "      <td>100</td>\n",
       "      <td>3</td>\n",
       "    </tr>\n",
       "    <tr>\n",
       "      <th>2</th>\n",
       "      <td>First choice</td>\n",
       "      <td>19297.451973</td>\n",
       "      <td>100</td>\n",
       "      <td>2</td>\n",
       "    </tr>\n",
       "  </tbody>\n",
       "</table>\n",
       "</div>"
      ],
      "text/plain": [
       "         Algorithm     Time (ms)  Iterations  Conflicts\n",
       "0  Steepest ascent   2259.621382         100          5\n",
       "1       Stochastic  38381.614447         100          3\n",
       "2     First choice  19297.451973         100          2"
      ]
     },
     "metadata": {},
     "output_type": "display_data"
    },
    {
     "name": "stdout",
     "output_type": "stream",
     "text": [
      "\n",
      "Board size: 22\n"
     ]
    },
    {
     "data": {
      "text/html": [
       "<div>\n",
       "<style scoped>\n",
       "    .dataframe tbody tr th:only-of-type {\n",
       "        vertical-align: middle;\n",
       "    }\n",
       "\n",
       "    .dataframe tbody tr th {\n",
       "        vertical-align: top;\n",
       "    }\n",
       "\n",
       "    .dataframe thead th {\n",
       "        text-align: right;\n",
       "    }\n",
       "</style>\n",
       "<table border=\"1\" class=\"dataframe\">\n",
       "  <thead>\n",
       "    <tr style=\"text-align: right;\">\n",
       "      <th></th>\n",
       "      <th>Algorithm</th>\n",
       "      <th>Time (ms)</th>\n",
       "      <th>Iterations</th>\n",
       "      <th>Conflicts</th>\n",
       "    </tr>\n",
       "  </thead>\n",
       "  <tbody>\n",
       "    <tr>\n",
       "      <th>0</th>\n",
       "      <td>Steepest ascent</td>\n",
       "      <td>2956.825256</td>\n",
       "      <td>100</td>\n",
       "      <td>4</td>\n",
       "    </tr>\n",
       "    <tr>\n",
       "      <th>1</th>\n",
       "      <td>Stochastic</td>\n",
       "      <td>41219.134569</td>\n",
       "      <td>100</td>\n",
       "      <td>3</td>\n",
       "    </tr>\n",
       "    <tr>\n",
       "      <th>2</th>\n",
       "      <td>First choice</td>\n",
       "      <td>21713.943005</td>\n",
       "      <td>100</td>\n",
       "      <td>3</td>\n",
       "    </tr>\n",
       "  </tbody>\n",
       "</table>\n",
       "</div>"
      ],
      "text/plain": [
       "         Algorithm     Time (ms)  Iterations  Conflicts\n",
       "0  Steepest ascent   2956.825256         100          4\n",
       "1       Stochastic  41219.134569         100          3\n",
       "2     First choice  21713.943005         100          3"
      ]
     },
     "metadata": {},
     "output_type": "display_data"
    },
    {
     "name": "stdout",
     "output_type": "stream",
     "text": [
      "\n"
     ]
    },
    {
     "data": {
      "image/png": "[encoded data removed]",
      "text/plain": [
       "<Figure size 432x288 with 1 Axes>"
      ]
     },
     "metadata": {
      "needs_background": "light"
     },
     "output_type": "display_data"
    }
   ],
   "source": [
    "tester = LSTester(1, 1000, res=True) # 10 trials with 1000 max iterations\n",
    "algos = [\"Steepest ascent\", \"Stochastic\", \"First choice\"]\n",
    "times = list()\n",
    "iters = list()\n",
    "scores = list()\n",
    "\n",
    "t_steep = list()\n",
    "t_stoch = list()\n",
    "t_fc = list() # time arrays for plotting\n",
    "\n",
    "for i in range(4, 24, 2):\n",
    "    for algo in [hillClimbing_steep, hillClimbing_stoch, hillClimbing_stoch2]:\n",
    "        tester.select(algo)\n",
    "        tester.setBoardSize(i)\n",
    "        tester.execute()\n",
    "        \n",
    "        results = tester.exportStats()\n",
    "        idx = 1\n",
    "        for stat in [times, iters, scores]:\n",
    "            stat.append(results[idx])\n",
    "            idx += 1\n",
    "\n",
    "        # Add times to plot arrays\n",
    "        if algo is hillClimbing_steep: t_steep.append(results[1])\n",
    "        elif algo is hillClimbing_stoch: t_stoch.append(results[1])\n",
    "        elif algo is hillClimbing_stoch2: t_fc.append(results[1])\n",
    "        else: pass\n",
    "\n",
    "        tester.reset()\n",
    "    \n",
    "    table = {\"Algorithm\": algos, \"Time (ms)\": times, \"Iterations\": iters, \"Conflicts\": scores}\n",
    "    df = pd.DataFrame(table)\n",
    "    print(f\"Board size: {i}\")\n",
    "    display(df)\n",
    "    print()\n",
    "\n",
    "    for s in [times, iters, scores]: s.clear()\n",
    "\n",
    "plt.plot(range(4, 24, 2), t_steep)\n",
    "plt.plot(range(4, 24, 2), t_stoch)\n",
    "plt.plot(range(4, 24, 2), t_fc)\n",
    "plt.xlabel(\"Board size\")\n",
    "plt.ylabel(\"Time\")\n",
    "plt.legend([\"Steepest ascent\", \"Stochastic\", \"First choice\"])\n",
    "plt.show()"
   ]
  },
  {
   "cell_type": "markdown",
   "metadata": {},
   "source": [
    "## Graduate student advanced task: Simulated Annealing [1 Point]\n",
    "\n",
    "__Undergraduate students:__ This is a bonus task you can attempt if you like [+1 Bonus point].\n",
    "\n",
    "Simulated annealing is a form of stochastic hill climbing that avoid local optima by also allowing downhill moves with a probability proportional to a temperature. The temperature is decreased in every iteration following an annealing schedule. You have to experiment with the annealing schedule (Google to find guidance on this).\n",
    "\n",
    "\n",
    "Implement simulated annealing for the n-Queens problem and compare its performance with the previouse algorithms."
   ]
  },
  {
   "cell_type": "markdown",
   "metadata": {},
   "source": [
    "__Implementation__\n",
    "\n",
    "For this problem, I chose a starting temperature of $1000000$, and an exponential cooling schedule. The cooling schedule is modeled by the equation $T(t) = 1000000(0.09)^t$, where t is time (iteration number). The acceptance probability is implemented the same way as in stochastic hill climbing, with an exponential curve proportional to the improvement of the objective function"
   ]
  },
  {
   "cell_type": "code",
   "execution_count": 166,
   "metadata": {
    "tags": []
   },
   "outputs": [],
   "source": [
    "def simulatedAnnealing(board, outMode):\n",
    "    temp = 1000000\n",
    "    best = board\n",
    "    bestC = conflicts(board)\n",
    "    iters = 0\n",
    "    y = list()\n",
    "    while temp > 0.001:\n",
    "        iters += 1\n",
    "        temp *= (1 - 0.001) # exponential decay schedule\n",
    "        neighbor = randNeighbor(board)\n",
    "        c = conflicts(neighbor)\n",
    "        if c == 0:\n",
    "            y.append(c)\n",
    "            bestC = c\n",
    "            best = neighbor\n",
    "            break\n",
    "\n",
    "        dE = c - conflicts(board) # change in energy (objective function)\n",
    "\n",
    "        # Choose better solution automatically\n",
    "        if dE < 0:\n",
    "            board = neighbor\n",
    "        elif dE == 0:\n",
    "            if np.random.uniform() <= 0.5: # always a 50% chance of taking sideways moves\n",
    "                board = neighbor\n",
    "        else:\n",
    "            if np.random.uniform() <= np.exp(-dE / temp):\n",
    "                board = neighbor\n",
    "\n",
    "        if c < bestC:\n",
    "            bestC = c\n",
    "            best = board\n",
    "\n",
    "        y.append(conflicts(board))\n",
    "\n",
    "    if outMode == \"stats\": # stats mode returns conflicts and iterations as a tuple\n",
    "        return (bestC, iters)\n",
    "    elif outMode == \"soln\": # solution mode returns the board itself\n",
    "        return board\n",
    "    elif outMode == \"graph\":\n",
    "        x = range(iters)\n",
    "        plt.plot(x, y)\n",
    "        plt.xlabel(\"Iteration\")\n",
    "        plt.ylabel(\"Conflicts\")\n",
    "        plt.show()\n",
    "    else:\n",
    "        pass"
   ]
  },
  {
   "cell_type": "markdown",
   "metadata": {},
   "source": [
    "__SA Testing__"
   ]
  },
  {
   "cell_type": "code",
   "execution_count": 168,
   "metadata": {},
   "outputs": [
    {
     "name": "stdout",
     "output_type": "stream",
     "text": [
      "Board size: 4\n"
     ]
    },
    {
     "data": {
      "text/html": [
       "<div>\n",
       "<style scoped>\n",
       "    .dataframe tbody tr th:only-of-type {\n",
       "        vertical-align: middle;\n",
       "    }\n",
       "\n",
       "    .dataframe tbody tr th {\n",
       "        vertical-align: top;\n",
       "    }\n",
       "\n",
       "    .dataframe thead th {\n",
       "        text-align: right;\n",
       "    }\n",
       "</style>\n",
       "<table border=\"1\" class=\"dataframe\">\n",
       "  <thead>\n",
       "    <tr style=\"text-align: right;\">\n",
       "      <th></th>\n",
       "      <th>Time (ms)</th>\n",
       "      <th>Iterations</th>\n",
       "      <th>Conflicts</th>\n",
       "    </tr>\n",
       "  </thead>\n",
       "  <tbody>\n",
       "    <tr>\n",
       "      <th>0</th>\n",
       "      <td>12.846828</td>\n",
       "      <td>155.5</td>\n",
       "      <td>0.0</td>\n",
       "    </tr>\n",
       "  </tbody>\n",
       "</table>\n",
       "</div>"
      ],
      "text/plain": [
       "   Time (ms)  Iterations  Conflicts\n",
       "0  12.846828       155.5        0.0"
      ]
     },
     "metadata": {},
     "output_type": "display_data"
    },
    {
     "name": "stdout",
     "output_type": "stream",
     "text": [
      "\n",
      "Board size: 5\n"
     ]
    },
    {
     "data": {
      "text/html": [
       "<div>\n",
       "<style scoped>\n",
       "    .dataframe tbody tr th:only-of-type {\n",
       "        vertical-align: middle;\n",
       "    }\n",
       "\n",
       "    .dataframe tbody tr th {\n",
       "        vertical-align: top;\n",
       "    }\n",
       "\n",
       "    .dataframe thead th {\n",
       "        text-align: right;\n",
       "    }\n",
       "</style>\n",
       "<table border=\"1\" class=\"dataframe\">\n",
       "  <thead>\n",
       "    <tr style=\"text-align: right;\">\n",
       "      <th></th>\n",
       "      <th>Time (ms)</th>\n",
       "      <th>Iterations</th>\n",
       "      <th>Conflicts</th>\n",
       "    </tr>\n",
       "  </thead>\n",
       "  <tbody>\n",
       "    <tr>\n",
       "      <th>0</th>\n",
       "      <td>19.049406</td>\n",
       "      <td>199.6</td>\n",
       "      <td>0.0</td>\n",
       "    </tr>\n",
       "  </tbody>\n",
       "</table>\n",
       "</div>"
      ],
      "text/plain": [
       "   Time (ms)  Iterations  Conflicts\n",
       "0  19.049406       199.6        0.0"
      ]
     },
     "metadata": {},
     "output_type": "display_data"
    },
    {
     "name": "stdout",
     "output_type": "stream",
     "text": [
      "\n",
      "Board size: 6\n"
     ]
    },
    {
     "data": {
      "text/html": [
       "<div>\n",
       "<style scoped>\n",
       "    .dataframe tbody tr th:only-of-type {\n",
       "        vertical-align: middle;\n",
       "    }\n",
       "\n",
       "    .dataframe tbody tr th {\n",
       "        vertical-align: top;\n",
       "    }\n",
       "\n",
       "    .dataframe thead th {\n",
       "        text-align: right;\n",
       "    }\n",
       "</style>\n",
       "<table border=\"1\" class=\"dataframe\">\n",
       "  <thead>\n",
       "    <tr style=\"text-align: right;\">\n",
       "      <th></th>\n",
       "      <th>Time (ms)</th>\n",
       "      <th>Iterations</th>\n",
       "      <th>Conflicts</th>\n",
       "    </tr>\n",
       "  </thead>\n",
       "  <tbody>\n",
       "    <tr>\n",
       "      <th>0</th>\n",
       "      <td>996.430731</td>\n",
       "      <td>12292.6</td>\n",
       "      <td>0.4</td>\n",
       "    </tr>\n",
       "  </tbody>\n",
       "</table>\n",
       "</div>"
      ],
      "text/plain": [
       "    Time (ms)  Iterations  Conflicts\n",
       "0  996.430731     12292.6        0.4"
      ]
     },
     "metadata": {},
     "output_type": "display_data"
    },
    {
     "name": "stdout",
     "output_type": "stream",
     "text": [
      "\n",
      "Board size: 7\n"
     ]
    },
    {
     "data": {
      "text/html": [
       "<div>\n",
       "<style scoped>\n",
       "    .dataframe tbody tr th:only-of-type {\n",
       "        vertical-align: middle;\n",
       "    }\n",
       "\n",
       "    .dataframe tbody tr th {\n",
       "        vertical-align: top;\n",
       "    }\n",
       "\n",
       "    .dataframe thead th {\n",
       "        text-align: right;\n",
       "    }\n",
       "</style>\n",
       "<table border=\"1\" class=\"dataframe\">\n",
       "  <thead>\n",
       "    <tr style=\"text-align: right;\">\n",
       "      <th></th>\n",
       "      <th>Time (ms)</th>\n",
       "      <th>Iterations</th>\n",
       "      <th>Conflicts</th>\n",
       "    </tr>\n",
       "  </thead>\n",
       "  <tbody>\n",
       "    <tr>\n",
       "      <th>0</th>\n",
       "      <td>1352.268934</td>\n",
       "      <td>15143.1</td>\n",
       "      <td>0.5</td>\n",
       "    </tr>\n",
       "  </tbody>\n",
       "</table>\n",
       "</div>"
      ],
      "text/plain": [
       "     Time (ms)  Iterations  Conflicts\n",
       "0  1352.268934     15143.1        0.5"
      ]
     },
     "metadata": {},
     "output_type": "display_data"
    },
    {
     "name": "stdout",
     "output_type": "stream",
     "text": [
      "\n",
      "Board size: 8\n"
     ]
    },
    {
     "data": {
      "text/html": [
       "<div>\n",
       "<style scoped>\n",
       "    .dataframe tbody tr th:only-of-type {\n",
       "        vertical-align: middle;\n",
       "    }\n",
       "\n",
       "    .dataframe tbody tr th {\n",
       "        vertical-align: top;\n",
       "    }\n",
       "\n",
       "    .dataframe thead th {\n",
       "        text-align: right;\n",
       "    }\n",
       "</style>\n",
       "<table border=\"1\" class=\"dataframe\">\n",
       "  <thead>\n",
       "    <tr style=\"text-align: right;\">\n",
       "      <th></th>\n",
       "      <th>Time (ms)</th>\n",
       "      <th>Iterations</th>\n",
       "      <th>Conflicts</th>\n",
       "    </tr>\n",
       "  </thead>\n",
       "  <tbody>\n",
       "    <tr>\n",
       "      <th>0</th>\n",
       "      <td>1882.513642</td>\n",
       "      <td>17785.1</td>\n",
       "      <td>0.7</td>\n",
       "    </tr>\n",
       "  </tbody>\n",
       "</table>\n",
       "</div>"
      ],
      "text/plain": [
       "     Time (ms)  Iterations  Conflicts\n",
       "0  1882.513642     17785.1        0.7"
      ]
     },
     "metadata": {},
     "output_type": "display_data"
    },
    {
     "name": "stdout",
     "output_type": "stream",
     "text": [
      "\n",
      "Board size: 9\n"
     ]
    },
    {
     "data": {
      "text/html": [
       "<div>\n",
       "<style scoped>\n",
       "    .dataframe tbody tr th:only-of-type {\n",
       "        vertical-align: middle;\n",
       "    }\n",
       "\n",
       "    .dataframe tbody tr th {\n",
       "        vertical-align: top;\n",
       "    }\n",
       "\n",
       "    .dataframe thead th {\n",
       "        text-align: right;\n",
       "    }\n",
       "</style>\n",
       "<table border=\"1\" class=\"dataframe\">\n",
       "  <thead>\n",
       "    <tr style=\"text-align: right;\">\n",
       "      <th></th>\n",
       "      <th>Time (ms)</th>\n",
       "      <th>Iterations</th>\n",
       "      <th>Conflicts</th>\n",
       "    </tr>\n",
       "  </thead>\n",
       "  <tbody>\n",
       "    <tr>\n",
       "      <th>0</th>\n",
       "      <td>1876.009703</td>\n",
       "      <td>19517.0</td>\n",
       "      <td>0.8</td>\n",
       "    </tr>\n",
       "  </tbody>\n",
       "</table>\n",
       "</div>"
      ],
      "text/plain": [
       "     Time (ms)  Iterations  Conflicts\n",
       "0  1876.009703     19517.0        0.8"
      ]
     },
     "metadata": {},
     "output_type": "display_data"
    },
    {
     "name": "stdout",
     "output_type": "stream",
     "text": [
      "\n",
      "Board size: 10\n"
     ]
    },
    {
     "data": {
      "text/html": [
       "<div>\n",
       "<style scoped>\n",
       "    .dataframe tbody tr th:only-of-type {\n",
       "        vertical-align: middle;\n",
       "    }\n",
       "\n",
       "    .dataframe tbody tr th {\n",
       "        vertical-align: top;\n",
       "    }\n",
       "\n",
       "    .dataframe thead th {\n",
       "        text-align: right;\n",
       "    }\n",
       "</style>\n",
       "<table border=\"1\" class=\"dataframe\">\n",
       "  <thead>\n",
       "    <tr style=\"text-align: right;\">\n",
       "      <th></th>\n",
       "      <th>Time (ms)</th>\n",
       "      <th>Iterations</th>\n",
       "      <th>Conflicts</th>\n",
       "    </tr>\n",
       "  </thead>\n",
       "  <tbody>\n",
       "    <tr>\n",
       "      <th>0</th>\n",
       "      <td>1834.538484</td>\n",
       "      <td>20713.0</td>\n",
       "      <td>1.2</td>\n",
       "    </tr>\n",
       "  </tbody>\n",
       "</table>\n",
       "</div>"
      ],
      "text/plain": [
       "     Time (ms)  Iterations  Conflicts\n",
       "0  1834.538484     20713.0        1.2"
      ]
     },
     "metadata": {},
     "output_type": "display_data"
    },
    {
     "name": "stdout",
     "output_type": "stream",
     "text": [
      "\n",
      "Board size: 11\n"
     ]
    },
    {
     "data": {
      "text/html": [
       "<div>\n",
       "<style scoped>\n",
       "    .dataframe tbody tr th:only-of-type {\n",
       "        vertical-align: middle;\n",
       "    }\n",
       "\n",
       "    .dataframe tbody tr th {\n",
       "        vertical-align: top;\n",
       "    }\n",
       "\n",
       "    .dataframe thead th {\n",
       "        text-align: right;\n",
       "    }\n",
       "</style>\n",
       "<table border=\"1\" class=\"dataframe\">\n",
       "  <thead>\n",
       "    <tr style=\"text-align: right;\">\n",
       "      <th></th>\n",
       "      <th>Time (ms)</th>\n",
       "      <th>Iterations</th>\n",
       "      <th>Conflicts</th>\n",
       "    </tr>\n",
       "  </thead>\n",
       "  <tbody>\n",
       "    <tr>\n",
       "      <th>0</th>\n",
       "      <td>2031.619453</td>\n",
       "      <td>20713.0</td>\n",
       "      <td>1.6</td>\n",
       "    </tr>\n",
       "  </tbody>\n",
       "</table>\n",
       "</div>"
      ],
      "text/plain": [
       "     Time (ms)  Iterations  Conflicts\n",
       "0  2031.619453     20713.0        1.6"
      ]
     },
     "metadata": {},
     "output_type": "display_data"
    },
    {
     "name": "stdout",
     "output_type": "stream",
     "text": [
      "\n",
      "Board size: 12\n"
     ]
    },
    {
     "data": {
      "text/html": [
       "<div>\n",
       "<style scoped>\n",
       "    .dataframe tbody tr th:only-of-type {\n",
       "        vertical-align: middle;\n",
       "    }\n",
       "\n",
       "    .dataframe tbody tr th {\n",
       "        vertical-align: top;\n",
       "    }\n",
       "\n",
       "    .dataframe thead th {\n",
       "        text-align: right;\n",
       "    }\n",
       "</style>\n",
       "<table border=\"1\" class=\"dataframe\">\n",
       "  <thead>\n",
       "    <tr style=\"text-align: right;\">\n",
       "      <th></th>\n",
       "      <th>Time (ms)</th>\n",
       "      <th>Iterations</th>\n",
       "      <th>Conflicts</th>\n",
       "    </tr>\n",
       "  </thead>\n",
       "  <tbody>\n",
       "    <tr>\n",
       "      <th>0</th>\n",
       "      <td>2467.16888</td>\n",
       "      <td>20713.0</td>\n",
       "      <td>1.7</td>\n",
       "    </tr>\n",
       "  </tbody>\n",
       "</table>\n",
       "</div>"
      ],
      "text/plain": [
       "    Time (ms)  Iterations  Conflicts\n",
       "0  2467.16888     20713.0        1.7"
      ]
     },
     "metadata": {},
     "output_type": "display_data"
    },
    {
     "name": "stdout",
     "output_type": "stream",
     "text": [
      "\n",
      "Board size: 13\n"
     ]
    },
    {
     "data": {
      "text/html": [
       "<div>\n",
       "<style scoped>\n",
       "    .dataframe tbody tr th:only-of-type {\n",
       "        vertical-align: middle;\n",
       "    }\n",
       "\n",
       "    .dataframe tbody tr th {\n",
       "        vertical-align: top;\n",
       "    }\n",
       "\n",
       "    .dataframe thead th {\n",
       "        text-align: right;\n",
       "    }\n",
       "</style>\n",
       "<table border=\"1\" class=\"dataframe\">\n",
       "  <thead>\n",
       "    <tr style=\"text-align: right;\">\n",
       "      <th></th>\n",
       "      <th>Time (ms)</th>\n",
       "      <th>Iterations</th>\n",
       "      <th>Conflicts</th>\n",
       "    </tr>\n",
       "  </thead>\n",
       "  <tbody>\n",
       "    <tr>\n",
       "      <th>0</th>\n",
       "      <td>2032.110667</td>\n",
       "      <td>20190.6</td>\n",
       "      <td>1.8</td>\n",
       "    </tr>\n",
       "  </tbody>\n",
       "</table>\n",
       "</div>"
      ],
      "text/plain": [
       "     Time (ms)  Iterations  Conflicts\n",
       "0  2032.110667     20190.6        1.8"
      ]
     },
     "metadata": {},
     "output_type": "display_data"
    },
    {
     "name": "stdout",
     "output_type": "stream",
     "text": [
      "\n",
      "Board size: 14\n"
     ]
    },
    {
     "data": {
      "text/html": [
       "<div>\n",
       "<style scoped>\n",
       "    .dataframe tbody tr th:only-of-type {\n",
       "        vertical-align: middle;\n",
       "    }\n",
       "\n",
       "    .dataframe tbody tr th {\n",
       "        vertical-align: top;\n",
       "    }\n",
       "\n",
       "    .dataframe thead th {\n",
       "        text-align: right;\n",
       "    }\n",
       "</style>\n",
       "<table border=\"1\" class=\"dataframe\">\n",
       "  <thead>\n",
       "    <tr style=\"text-align: right;\">\n",
       "      <th></th>\n",
       "      <th>Time (ms)</th>\n",
       "      <th>Iterations</th>\n",
       "      <th>Conflicts</th>\n",
       "    </tr>\n",
       "  </thead>\n",
       "  <tbody>\n",
       "    <tr>\n",
       "      <th>0</th>\n",
       "      <td>2089.322734</td>\n",
       "      <td>20713.0</td>\n",
       "      <td>1.7</td>\n",
       "    </tr>\n",
       "  </tbody>\n",
       "</table>\n",
       "</div>"
      ],
      "text/plain": [
       "     Time (ms)  Iterations  Conflicts\n",
       "0  2089.322734     20713.0        1.7"
      ]
     },
     "metadata": {},
     "output_type": "display_data"
    },
    {
     "name": "stdout",
     "output_type": "stream",
     "text": [
      "\n"
     ]
    },
    {
     "data": {
      "image/png": "[encoded data removed]",
      "text/plain": [
       "<Figure size 432x288 with 1 Axes>"
      ]
     },
     "metadata": {
      "needs_background": "light"
     },
     "output_type": "display_data"
    }
   ],
   "source": [
    "times = list()\n",
    "iters = list()\n",
    "scores = list()\n",
    "\n",
    "timePlot = list()\n",
    "\n",
    "tester = LSTester(10, 1000, res=False, sa=True)\n",
    "\n",
    "for i in range(4, 15):\n",
    "    tester.select(simulatedAnnealing)\n",
    "    tester.setBoardSize(i)\n",
    "    tester.execute()\n",
    "    \n",
    "    results = tester.exportStats()\n",
    "    idx = 1\n",
    "    for stat in [times, iters, scores]:\n",
    "        stat.append(results[idx])\n",
    "        idx += 1\n",
    "\n",
    "    # Add times to plot arrays\n",
    "    timePlot.append(results[1])\n",
    "\n",
    "    tester.reset()\n",
    "    \n",
    "    table = {\"Time (ms)\": times, \"Iterations\": iters, \"Conflicts\": scores}\n",
    "    df = pd.DataFrame(table)\n",
    "    print(f\"Board size: {i}\")\n",
    "    display(df)\n",
    "    print()\n",
    "\n",
    "    for s in [times, iters, scores]: s.clear()\n",
    "\n",
    "plt.plot(range(4, 15), timePlot)\n",
    "plt.xlabel(\"Board size\")\n",
    "plt.ylabel(\"Time\")\n",
    "plt.show()"
   ]
  },
  {
   "cell_type": "markdown",
   "metadata": {},
   "source": [
    "__Learning curve comparisons__\n",
    "\n",
    "These plots show how the solution improves over time in each algorithm for a board size of 100."
   ]
  },
  {
   "cell_type": "code",
   "execution_count": 169,
   "metadata": {},
   "outputs": [
    {
     "name": "stdout",
     "output_type": "stream",
     "text": [
      "Steepest ascent\n"
     ]
    },
    {
     "data": {
      "image/png": "[encoded data removed]",
      "text/plain": [
       "<Figure size 432x288 with 1 Axes>"
      ]
     },
     "metadata": {
      "needs_background": "light"
     },
     "output_type": "display_data"
    },
    {
     "name": "stdout",
     "output_type": "stream",
     "text": [
      "Stochastic\n"
     ]
    },
    {
     "data": {
      "image/png": "[encoded data removed]",
      "text/plain": [
       "<Figure size 432x288 with 1 Axes>"
      ]
     },
     "metadata": {
      "needs_background": "light"
     },
     "output_type": "display_data"
    },
    {
     "name": "stdout",
     "output_type": "stream",
     "text": [
      "First choice\n"
     ]
    },
    {
     "data": {
      "image/png": "[encoded data removed]",
      "text/plain": [
       "<Figure size 432x288 with 1 Axes>"
      ]
     },
     "metadata": {
      "needs_background": "light"
     },
     "output_type": "display_data"
    },
    {
     "name": "stdout",
     "output_type": "stream",
     "text": [
      "Simulated annealing\n"
     ]
    },
    {
     "data": {
      "image/png": "[encoded data removed]",
      "text/plain": [
       "<Figure size 432x288 with 1 Axes>"
      ]
     },
     "metadata": {
      "needs_background": "light"
     },
     "output_type": "display_data"
    }
   ],
   "source": [
    "print(\"Steepest ascent\")\n",
    "hillClimbing_steep(random_board(100), 1000, \"graph\")\n",
    "print(\"Stochastic\")\n",
    "hillClimbing_stoch(random_board(100), 1000, \"graph\")\n",
    "print(\"First choice\")\n",
    "hillClimbing_stoch2(random_board(100), 1000, \"graph\")\n",
    "print(\"Simulated annealing\")\n",
    "simulatedAnnealing(random_board(100), \"graph\")"
   ]
  },
  {
   "cell_type": "markdown",
   "metadata": {},
   "source": [
    "### Analysis\n",
    "\n",
    "__Steepest ascent hill climbing__\n",
    "\n",
    "Steepest ascent is the best algorithm in terms of time, but the worst in terms of finding a good solution. Since steepest ascent always chooses the best neighbor, it is guaranteed to get stuck in a local optimum. Steepest ascent can only find the optimal solution by chance, that is, if the starting point happens to be directly downhill from the optimal solution. The time advantage from steepest ascent comes from the fact that the algorithm terminates once a local optimum is reached. At a local optimum, there is no neighbor with a better objective function, so it cannot improve any further. The fact that the algorithm terminates so quickly indicates that the solution space is likely very bumpy (has many local optima)\n",
    "\n",
    "__Stochastic hill climbing__\n",
    "\n",
    "Stochastic hill climbing is the least time efficient algorithm (for board sizes larger than 8). It is faster than first choice hill climbing for smaller boards, but it scales up quickly, while first choice hill climbing seems to plateau. In my stochastic hill climbing implementation, the acceptance probability for the neighbor was proportional to the improvement by an exponential curve. There was also a constant 50% chance of accepting a sideways move with no improvement. I think allowing sideways moves is a strenght for this algorithm, because although a sideways move offers no improvment, a sideways move could result in a state where better neighbors are accessible. As seen in the learning curve, sideways moves tend to happen more as the number of iterations increases. This shows that plateaus in the search space are more common as the objective function decreases.\n",
    "\n",
    "__First choice hill climbing__\n",
    "\n",
    "First choice hill climbing was in the middle in terms of time, but tended to find the best solutions. The time scales with the board size sharply at the beginning, but then grows slower as the board size increases past 8. The algorithm is slow likely because the chances of randomly generating a better neighbor get worse as the current solution gets better. The algorithm has 100 attempts to randomly generate a better neighbor, and if none is found, the algorithm continues to the next iteration with the same board. I believe that this 100 attempt limit is what causes the timing to plateau as the board size increases past 8.\n",
    "\n",
    "__Simulated annealing__\n",
    "\n",
    "Simulated annealing is the best all around algorithm. Its execution time does seem to scale linearly with the size of the board, but the solutions it returns are typically better than the other algorithms. SA does a good job at escaping local optima, however, it seems that the search space is full of local optima, so it still fails to find the optimal solution for larger boards."
   ]
  },
  {
   "cell_type": "markdown",
   "metadata": {},
   "source": [
    "## More things to do\n",
    "\n",
    "Implement a Genetic Algorithm for the n-Queens problem."
   ]
  },
  {
   "cell_type": "code",
   "execution_count": 17,
   "metadata": {
    "tags": []
   },
   "outputs": [],
   "source": [
    "# Code and description go here"
   ]
  }
 ],
 "metadata": {
  "interpreter": {
   "hash": "916dbcbb3f70747c44a77c7bcd40155683ae19c65e1c03b4aa3499c5328201f1"
  },
  "kernelspec": {
   "display_name": "Python 3.8.10 64-bit",
   "name": "python3"
  },
  "language_info": {
   "codemirror_mode": {
    "name": "ipython",
    "version": 3
   },
   "file_extension": ".py",
   "mimetype": "text/x-python",
   "name": "python",
   "nbconvert_exporter": "python",
   "pygments_lexer": "ipython3",
   "version": "3.8.10"
  }
 },
 "nbformat": 4,
 "nbformat_minor": 4
}
