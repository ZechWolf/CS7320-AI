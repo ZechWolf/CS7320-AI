{
 "cells": [
  {
   "cell_type": "markdown",
   "metadata": {},
   "source": [
    "# Nondeterministic Actions: Solving Tic-Tac-Toe with AND-OR-Tree Search"
   ]
  },
  {
   "cell_type": "markdown",
   "metadata": {},
   "source": [
    "## Introduction \n",
    " \n",
    "Multiplayer games can be implemented as:\n",
    "1. __Nondeterministic actions:__ The opponent is seen as part of an environment with nondeterministic actions. Non-determinism is the result of the unknown opponent's moves. \n",
    "2. Optimal Decisions: Minimax search (search complete game tree) and alpha-beta pruning.\n",
    "3. Heuristic Alpha-Beta Tree Search: Cut off tree search and use heuristic to estimate state value. \n",
    "4. Monte Carlo Tree search: Simulate playouts to estimate state value. \n",
    "\n",
    "Here we will implement search for Tic-Tac-Toe (see [rules](https://en.wikipedia.org/wiki/Tic-tac-toe)).\n",
    "\n",
    "We will implement\n",
    "* __AND-OR-Tree search.__\n",
    "\n",
    "Each action consists of the move by the player (OR levels in the tree) and all possible (i.e., nondeterministic) responses by the opponents (AND levels). The action therefore results in a set of possible states.\n",
    "\n",
    "We will search for a __conditional plan__ using AND-OR-Tree search. "
   ]
  },
  {
   "cell_type": "markdown",
   "metadata": {},
   "source": [
    "## The Search Problem\n",
    "\n",
    "* **Initial State:** Empty $3 \\times 3$ board. It is the move for $x$.\n",
    "* **Actions:** Place your symbol on any empty square.\n",
    "* **Transition function:** You symbol is placed on the board according to the action. The opponent\n",
    "    places her symbol. From our viewpoint this makes the environment non-deterministic.\n",
    "* **Goal state:** A win (three symbols in a row, column or diagonal). \n",
    "* **Path cost:** number of moves.\n",
    "  \n",
    "Since this is a game, we will see that instead of the goal state we will use a test for a **terminal state** (game is over) and a **utility function** (win or loose). Also, we will use DFS so we will not minimize path cost."
   ]
  },
  {
   "cell_type": "markdown",
   "metadata": {},
   "source": [
    "## State Space and Search Tree Size\n",
    "\n",
    "Each state is a possible board. Each of the 9 squares can have 3 values (empty, x and o), but some boards are impossible (where a player has several sequences of 3).The number of states in the state space graph is less than:"
   ]
  },
  {
   "cell_type": "code",
   "execution_count": 1,
   "metadata": {},
   "outputs": [
    {
     "data": {
      "text/plain": [
       "19683"
      ]
     },
     "execution_count": 1,
     "metadata": {},
     "output_type": "execute_result"
    }
   ],
   "source": [
    "3**9"
   ]
  },
  {
   "cell_type": "markdown",
   "metadata": {},
   "source": [
    "A search tree can be superimposed on the state space graph. Note that a state can be represented by several nodes in different branches increasing the number of nodes! We observe the following:\n",
    "\n",
    "* The complete search tree has a maximal depth $m=9$\n",
    "* The max branching factor $b=9$ (for first move).\n",
    "\n",
    "DFS has\n",
    "\n",
    "* a space complexity of $O(bm)$ (current path plus frontier) and \n",
    "* a time complecity of $O(b^m)$ (number of expanded nodes)."
   ]
  },
  {
   "cell_type": "code",
   "execution_count": 2,
   "metadata": {},
   "outputs": [
    {
     "data": {
      "text/plain": [
       "81"
      ]
     },
     "execution_count": 2,
     "metadata": {},
     "output_type": "execute_result"
    }
   ],
   "source": [
    "# Space Complexity O(bm):\n",
    "9*9"
   ]
  },
  {
   "cell_type": "code",
   "execution_count": 3,
   "metadata": {
    "tags": []
   },
   "outputs": [
    {
     "data": {
      "text/plain": [
       "387420489"
      ]
     },
     "execution_count": 3,
     "metadata": {},
     "output_type": "execute_result"
    }
   ],
   "source": [
    "# Time Complexity O(b^m): \n",
    "9**9"
   ]
  },
  {
   "cell_type": "markdown",
   "metadata": {},
   "source": [
    "However, the branching factor decreases after each move. The first level has a branching factor of 9, the second a branching factor of 8, etc. The total number of nodes is:\n",
    "\n",
    "| Level     |  # of nodes       |\n",
    "| :-------- | :---------------- |\n",
    "| root       | $1$ |\n",
    "| level 1    | $9$ |\n",
    "| level 2    | $9 \\times 8$ |\n",
    "| level 2    | $9 \\times 8 \\times 7$ |\n",
    "| ...        |  ... |\n",
    "| level 9    | $9 \\times 8 \\times \\dots \\times 2 \\times 1 = 9!$ |\n",
    "\n",
    "The total number of game tree nodes is less (some games end early) than the sum of the nodes above. The upper bound for the number of nodes is:"
   ]
  },
  {
   "cell_type": "code",
   "execution_count": 4,
   "metadata": {},
   "outputs": [
    {
     "name": "stdout",
     "output_type": "stream",
     "text": [
      "level\t# nodes\n",
      "root\t 1\n",
      "1 \t 9\n",
      "2 \t 72\n",
      "3 \t 504\n",
      "4 \t 3024\n",
      "5 \t 15120\n",
      "6 \t 60480\n",
      "7 \t 181440\n",
      "8 \t 362880\n",
      "9 \t 362880\n"
     ]
    },
    {
     "data": {
      "text/plain": [
       "986409"
      ]
     },
     "execution_count": 4,
     "metadata": {},
     "output_type": "execute_result"
    }
   ],
   "source": [
    "sum = 0\n",
    "fac = 1\n",
    "print(\"level\\t# nodes\")\n",
    "print(\"root\\t 1\")\n",
    "\n",
    "for i in range(9, 0, -1):\n",
    "    fac *= i\n",
    "    sum += fac \n",
    "    print(10-i, \"\\t\",fac)\n",
    "    \n",
    "    \n",
    "sum"
   ]
  },
  {
   "cell_type": "markdown",
   "metadata": {},
   "source": [
    "Since some sequences are cut short because of a win, we expect fewer nodes in the game complete tree.\n",
    "\n",
    "__Note:__ This size makes tic-tac-toe a very small problem that can be easily solved by tree search. Most games and real problems are too large and cannot be solved this way. We will learn several methods that address this problem later."
   ]
  },
  {
   "cell_type": "markdown",
   "metadata": {},
   "source": [
    "## The board\n",
    "\n",
    "I represent the board as a vector of length 9. The values are `' ', 'x', 'o'`.  "
   ]
  },
  {
   "cell_type": "code",
   "execution_count": 5,
   "metadata": {},
   "outputs": [
    {
     "data": {
      "text/plain": [
       "[' ', ' ', ' ', ' ', ' ', ' ', ' ', ' ', ' ']"
      ]
     },
     "metadata": {},
     "output_type": "display_data"
    }
   ],
   "source": [
    "def empty_board():\n",
    "    return [' '] * 9\n",
    "\n",
    "board = empty_board()\n",
    "display(board)"
   ]
  },
  {
   "cell_type": "markdown",
   "metadata": {},
   "source": [
    "### Helper functions\n",
    "\n",
    "Show the board."
   ]
  },
  {
   "cell_type": "code",
   "execution_count": 6,
   "metadata": {},
   "outputs": [
    {
     "name": "stdout",
     "output_type": "stream",
     "text": [
      "[[' ' ' ' ' ']\n",
      " [' ' ' ' ' ']\n",
      " [' ' ' ' ' ']]\n",
      "\n",
      "Add some x's\n",
      "[['x' ' ' ' ']\n",
      " ['x' ' ' ' ']\n",
      " ['x' ' ' ' ']]\n"
     ]
    }
   ],
   "source": [
    "import numpy as np\n",
    "\n",
    "def show_board(board):\n",
    "    \"\"\"display the board\"\"\"\n",
    "    b = np.array(board).reshape((3,3))\n",
    "    print(b)\n",
    "\n",
    "board = empty_board()\n",
    "show_board(board)    \n",
    "\n",
    "print()\n",
    "print(\"Add some x's\")\n",
    "board[0] = 'x'; board[3] = 'x'; board[6] = 'x';  \n",
    "show_board(board)"
   ]
  },
  {
   "cell_type": "markdown",
   "metadata": {},
   "source": [
    "Determine if the current board/state has a winner."
   ]
  },
  {
   "cell_type": "code",
   "execution_count": 7,
   "metadata": {},
   "outputs": [
    {
     "name": "stdout",
     "output_type": "stream",
     "text": [
      "[['x' ' ' ' ']\n",
      " ['x' ' ' ' ']\n",
      " ['x' ' ' ' ']]\n",
      "Win? x\n",
      "\n",
      "[[' ' ' ' ' ']\n",
      " [' ' ' ' ' ']\n",
      " [' ' ' ' ' ']]\n",
      "Win? n\n"
     ]
    }
   ],
   "source": [
    "def check_win(board):\n",
    "    \"\"\"check the board and return one of x, o, d (draw), or n (for next move)\"\"\"\n",
    "\n",
    "    board = np.array(board).reshape((3,3))\n",
    "   \n",
    "    diagonals = np.array([[board[i][i] for i in range(len(board))], \n",
    "                          [board[i][len(board)-i-1] for i in range(len(board))]])\n",
    "    \n",
    "    for a_board in [board, np.transpose(board), diagonals]:\n",
    "        for row in a_board:\n",
    "            if len(set(row)) == 1 and row[0] != ' ':\n",
    "                return row[0]\n",
    "\n",
    "    # check for draw\n",
    "    if(np.sum(board == ' ') < 1):\n",
    "        return 'd'\n",
    "    \n",
    "    return 'n'\n",
    "\n",
    "show_board(board)\n",
    "print('Win? ' + check_win(board))\n",
    "\n",
    "print()\n",
    "show_board(empty_board())\n",
    "print('Win? ' + check_win(empty_board()))"
   ]
  },
  {
   "cell_type": "markdown",
   "metadata": {},
   "source": [
    "What are the possible actions given the current board?"
   ]
  },
  {
   "cell_type": "code",
   "execution_count": 8,
   "metadata": {},
   "outputs": [
    {
     "name": "stdout",
     "output_type": "stream",
     "text": [
      "[['x' ' ' ' ']\n",
      " ['x' ' ' ' ']\n",
      " ['x' ' ' ' ']]\n"
     ]
    },
    {
     "data": {
      "text/plain": [
       "[1, 2, 4, 5, 7, 8]"
      ]
     },
     "execution_count": 8,
     "metadata": {},
     "output_type": "execute_result"
    }
   ],
   "source": [
    "def actions(board):\n",
    "    \"\"\"return possible actions as a vector of indices\"\"\"\n",
    "    return np.where(np.array(board) == ' ')[0].tolist()\n",
    "\n",
    "show_board(board)\n",
    "actions(board)"
   ]
  },
  {
   "cell_type": "markdown",
   "metadata": {},
   "source": [
    "What is the new state after executing an action. "
   ]
  },
  {
   "cell_type": "code",
   "execution_count": 9,
   "metadata": {},
   "outputs": [
    {
     "name": "stdout",
     "output_type": "stream",
     "text": [
      "[[' ' ' ' ' ']\n",
      " [' ' ' ' ' ']\n",
      " [' ' ' ' ' ']]\n",
      "\n",
      "State for placing an x at position 4:\n",
      "[[' ' ' ' ' ']\n",
      " [' ' 'x' ' ']\n",
      " [' ' ' ' ' ']]\n"
     ]
    }
   ],
   "source": [
    "def result(state, player, action):\n",
    "    \"\"\"Add move to the board.\"\"\"\n",
    "    \n",
    "    state = state.copy()\n",
    "    state[action] = player\n",
    "  \n",
    "    return state\n",
    "\n",
    "show_board(empty_board())\n",
    "\n",
    "print()\n",
    "print(\"State for placing an x at position 4:\")\n",
    "show_board(result(empty_board(), 'x', 4))"
   ]
  },
  {
   "cell_type": "markdown",
   "metadata": {},
   "source": [
    "## Recursive DFS Algorithm for AND-OR-Tree Search\n",
    "\n",
    "See AIMA page 125. \n",
    "\n",
    "Modifications to the algorithm in the textbook:\n",
    "* Since the opponent and her moves are part of the environment, I modify the `results()` function to return for a state $\\times$ action combination a set of new states that reflects all possible responses by the opponent.\n",
    "* I have removed tracking the path since it is not used for the game.\n",
    "* I do not perform cycle checking (not needed for this game).\n",
    "* Goal: \n",
    "    - End search (prune subtree) when player loses. \n",
    "    - Check for loss also in the \"AND\" phase.\n",
    "    - Draw can be set as a goal state or a loss. Since DSF finds the first solution, it might be a draw while there is still a solution where the player could win. Considering draw a loss will prune the \"draw\" solutions and leave only the \"wins,\" if any.\n"
   ]
  },
  {
   "cell_type": "code",
   "execution_count": 28,
   "metadata": {
    "tags": []
   },
   "outputs": [
    {
     "name": "stdout",
     "output_type": "stream",
     "text": [
      "[[' ' ' ' ' ']\n",
      " [' ' ' ' ' ']\n",
      " [' ' ' ' ' ']]\n",
      "\n",
      "Set of possible state for placing an x at position 4 of an empty board and the opponent's move:\n"
     ]
    },
    {
     "data": {
      "text/plain": [
       "[['o', ' ', ' ', ' ', 'x', ' ', ' ', ' ', ' '],\n",
       " [' ', 'o', ' ', ' ', 'x', ' ', ' ', ' ', ' '],\n",
       " [' ', ' ', 'o', ' ', 'x', ' ', ' ', ' ', ' '],\n",
       " [' ', ' ', ' ', 'o', 'x', ' ', ' ', ' ', ' '],\n",
       " [' ', ' ', ' ', ' ', 'x', 'o', ' ', ' ', ' '],\n",
       " [' ', ' ', ' ', ' ', 'x', ' ', 'o', ' ', ' '],\n",
       " [' ', ' ', ' ', ' ', 'x', ' ', ' ', 'o', ' '],\n",
       " [' ', ' ', ' ', ' ', 'x', ' ', ' ', ' ', 'o']]"
      ]
     },
     "execution_count": 28,
     "metadata": {},
     "output_type": "execute_result"
    }
   ],
   "source": [
    "def results(state, action, player = 'x'):\n",
    "    \"\"\"produce the set of states after the provided action for player. \n",
    "       It is the set of boards with the action and all possible reactions by the opponent.\"\"\"\n",
    "    \n",
    "    if player == 'x': other = 'o'\n",
    "    else: other = 'x'\n",
    "    \n",
    "    state = state.copy()\n",
    "    \n",
    "    # player's move\n",
    "    state[action] = player\n",
    "    \n",
    "    # opponent reacts\n",
    "    r = list()\n",
    "    o_actions = actions(state)\n",
    "    \n",
    "    # board is full\n",
    "    if len(o_actions) < 1 : return [state]\n",
    "    \n",
    "    for o_a in o_actions:\n",
    "        s = state.copy()\n",
    "        s[o_a] = other\n",
    "        r.append(s)    \n",
    "    \n",
    "    return r\n",
    "\n",
    "show_board(empty_board())\n",
    "\n",
    "print()\n",
    "print(\"Set of possible state for placing an x at position 4 of an empty board and the opponent's move:\")\n",
    "results(empty_board(), 4)"
   ]
  },
  {
   "cell_type": "code",
   "execution_count": 11,
   "metadata": {
    "tags": []
   },
   "outputs": [
    {
     "name": "stdout",
     "output_type": "stream",
     "text": [
      "win\n",
      "None\n",
      "False\n"
     ]
    }
   ],
   "source": [
    "def is_terminal(state, player = 'x', draw_is_win = True):\n",
    "    \"\"\"returns win or None (loss) for terminal states and False for non-terminal states.\"\"\"\n",
    "    if player == 'x': other = 'o'\n",
    "    else: other = 'x'\n",
    "    \n",
    "    goal = check_win(state)        \n",
    "    if goal == player: return 'win' \n",
    "    if goal == 'd': \n",
    "        if draw_is_win: return 'draw' \n",
    "        else: return None \n",
    "    if goal == other: return None  # loss is failure\n",
    "    return False # continue\n",
    "\n",
    "print(is_terminal(['x'] * 9))\n",
    "print(is_terminal(['o'] * 9))\n",
    "print(is_terminal(empty_board()))"
   ]
  },
  {
   "cell_type": "code",
   "execution_count": 12,
   "metadata": {},
   "outputs": [],
   "source": [
    "# define global variables for debuging\n",
    "DEBUG = 1\n",
    "COUNT = 0 # used to report the number of searched nodes\n",
    "\n",
    "def and_or_search(board, player = 'x', draw_is_win = True):\n",
    "    \"\"\"start the search. Consider draw_is_win a goal state?\"\"\"\n",
    "    global DEBUG, COUNT\n",
    "    COUNT = 0\n",
    "    \n",
    "    plan = or_search(board, player, draw_is_win)\n",
    "    \n",
    "    if DEBUG >= 1: \n",
    "        print(f\"Number of nodes searched: {COUNT}\")  \n",
    "    \n",
    "    return plan\n",
    " \n",
    "\n",
    "def or_search(state, player, draw_is_win):\n",
    "    \"\"\"Or step of the search: the player makes a move. \n",
    "    We try all possible action and return a conditional \n",
    "    plan for the first action that only has goal states as leaf nodes. \n",
    "    If none can be found, then failure (None) is returned.\"\"\"\n",
    "    global DEBUG, COUNT\n",
    "    COUNT += 1\n",
    "    \n",
    "    # goal check\n",
    "    g = is_terminal(state, player, draw_is_win)\n",
    "    if g != False: \n",
    "        return(g)\n",
    "     \n",
    "    # Note: no cycles for this problem! This also means we do not need to maintain the path.    \n",
    "    #if is_cycle(path) return None  \n",
    "\n",
    "    # check all possible actions\n",
    "    for action in actions(state):\n",
    "        plan = and_search(results(state, action, player), player, draw_is_win)\n",
    "        if plan is not None: \n",
    "            return [action, plan]\n",
    "    \n",
    "    # failure\n",
    "    return None\n",
    "\n",
    "\n",
    "def and_search(states, player, draw_is_win):\n",
    "    \"\"\"And step of the search: Represents all opponent's possible moves. \n",
    "    Follow all possible states (call the or step). \n",
    "    Return a conditional plan only if all paths lead to a goal state.\"\"\"\n",
    "    global DEBUG, COUNT\n",
    "    COUNT += 1\n",
    "    \n",
    "    # return plans only if no state fails\n",
    "    plans = []\n",
    "    for s in states:    \n",
    "        # added another goal/terminal check after my move.\n",
    "        g = is_terminal(s, player, draw_is_win)\n",
    "        if g != False: \n",
    "            return(g)\n",
    "      \n",
    "        plan = or_search(s, player, draw_is_win)\n",
    "        \n",
    "        if plan is None: \n",
    "            return None    # found a state that fails so we abandon this subtree!\n",
    "        plans.append(['if', s, 'then', plan])\n",
    "        \n",
    "    return plans"
   ]
  },
  {
   "cell_type": "markdown",
   "metadata": {},
   "source": [
    "And-or search looks for a subtree (i.e., an action) that guarantees a win and returns a conditional plan for this subtree. If no such subtree exists, no plan is returned. The algorithm only searches a fraction of the game tree since it abandons the current subtree when it finds the first leaf node that is not a win (see `and_search` function)."
   ]
  },
  {
   "cell_type": "markdown",
   "metadata": {},
   "source": [
    "# Some Tests\n",
    "\n",
    "## # x is about to win"
   ]
  },
  {
   "cell_type": "code",
   "execution_count": 13,
   "metadata": {},
   "outputs": [
    {
     "name": "stdout",
     "output_type": "stream",
     "text": [
      "Board:\n",
      "[['x' 'o' ' ']\n",
      " ['o' 'x' ' ']\n",
      " [' ' ' ' ' ']]\n",
      "\n",
      "Win or draw:\n",
      "Number of nodes searched: 22\n"
     ]
    },
    {
     "data": {
      "text/plain": [
       "[2,\n",
       " [['if', ['x', 'o', 'x', 'o', 'x', 'o', ' ', ' ', ' '], 'then', [6, 'win']],\n",
       "  ['if',\n",
       "   ['x', 'o', 'x', 'o', 'x', ' ', 'o', ' ', ' '],\n",
       "   'then',\n",
       "   [5,\n",
       "    [['if', ['x', 'o', 'x', 'o', 'x', 'x', 'o', 'o', ' '], 'then', [8, 'win']],\n",
       "     ['if',\n",
       "      ['x', 'o', 'x', 'o', 'x', 'x', 'o', ' ', 'o'],\n",
       "      'then',\n",
       "      [7, 'draw']]]]],\n",
       "  ['if',\n",
       "   ['x', 'o', 'x', 'o', 'x', ' ', ' ', 'o', ' '],\n",
       "   'then',\n",
       "   [5,\n",
       "    [['if', ['x', 'o', 'x', 'o', 'x', 'x', 'o', 'o', ' '], 'then', [8, 'win']],\n",
       "     ['if',\n",
       "      ['x', 'o', 'x', 'o', 'x', 'x', ' ', 'o', 'o'],\n",
       "      'then',\n",
       "      [6, 'win']]]]],\n",
       "  ['if',\n",
       "   ['x', 'o', 'x', 'o', 'x', ' ', ' ', ' ', 'o'],\n",
       "   'then',\n",
       "   [5,\n",
       "    [['if',\n",
       "      ['x', 'o', 'x', 'o', 'x', 'x', 'o', ' ', 'o'],\n",
       "      'then',\n",
       "      [7, 'draw']],\n",
       "     ['if',\n",
       "      ['x', 'o', 'x', 'o', 'x', 'x', ' ', 'o', 'o'],\n",
       "      'then',\n",
       "      [6, 'win']]]]]]]"
      ]
     },
     "metadata": {},
     "output_type": "display_data"
    },
    {
     "name": "stdout",
     "output_type": "stream",
     "text": [
      "CPU times: user 17 ms, sys: 2.71 ms, total: 19.7 ms\n",
      "Wall time: 19 ms\n"
     ]
    }
   ],
   "source": [
    "board = empty_board() \n",
    "board[0] = 'x'\n",
    "board[1] = 'o'\n",
    "board[3] = 'o'\n",
    "board[4] = 'x'\n",
    "\n",
    "print(\"Board:\")\n",
    "show_board(board)\n",
    "\n",
    "print()\n",
    "print(\"Win or draw:\")\n",
    "%time display(and_or_search(board, player = 'x', draw_is_win = True))"
   ]
  },
  {
   "cell_type": "code",
   "execution_count": 14,
   "metadata": {},
   "outputs": [
    {
     "name": "stdout",
     "output_type": "stream",
     "text": [
      "Win only:\n",
      "Number of nodes searched: 27\n"
     ]
    },
    {
     "data": {
      "text/plain": [
       "[2,\n",
       " [['if', ['x', 'o', 'x', 'o', 'x', 'o', ' ', ' ', ' '], 'then', [6, 'win']],\n",
       "  ['if', ['x', 'o', 'x', 'o', 'x', ' ', 'o', ' ', ' '], 'then', [8, 'win']],\n",
       "  ['if',\n",
       "   ['x', 'o', 'x', 'o', 'x', ' ', ' ', 'o', ' '],\n",
       "   'then',\n",
       "   [5,\n",
       "    [['if', ['x', 'o', 'x', 'o', 'x', 'x', 'o', 'o', ' '], 'then', [8, 'win']],\n",
       "     ['if',\n",
       "      ['x', 'o', 'x', 'o', 'x', 'x', ' ', 'o', 'o'],\n",
       "      'then',\n",
       "      [6, 'win']]]]],\n",
       "  ['if', ['x', 'o', 'x', 'o', 'x', ' ', ' ', ' ', 'o'], 'then', [6, 'win']]]]"
      ]
     },
     "metadata": {},
     "output_type": "display_data"
    },
    {
     "name": "stdout",
     "output_type": "stream",
     "text": [
      "CPU times: user 19 ms, sys: 0 ns, total: 19 ms\n",
      "Wall time: 19.6 ms\n"
     ]
    }
   ],
   "source": [
    "print(\"Win only:\")\n",
    "%time display(and_or_search(board, player = 'x', draw_is_win = False))"
   ]
  },
  {
   "cell_type": "markdown",
   "metadata": {},
   "source": [
    "## x can draw_is_win if it chooses 7"
   ]
  },
  {
   "cell_type": "code",
   "execution_count": 15,
   "metadata": {},
   "outputs": [
    {
     "name": "stdout",
     "output_type": "stream",
     "text": [
      "Board:\n",
      "[['x' 'o' 'x']\n",
      " [' ' 'o' ' ']\n",
      " [' ' ' ' ' ']]\n",
      "\n",
      "Win or draw:\n",
      "Number of nodes searched: 56\n"
     ]
    },
    {
     "data": {
      "text/plain": [
       "[7,\n",
       " [['if',\n",
       "   ['x', 'o', 'x', 'o', 'o', ' ', ' ', 'x', ' '],\n",
       "   'then',\n",
       "   [5,\n",
       "    [['if', ['x', 'o', 'x', 'o', 'o', 'x', 'o', 'x', ' '], 'then', [8, 'win']],\n",
       "     ['if',\n",
       "      ['x', 'o', 'x', 'o', 'o', 'x', ' ', 'x', 'o'],\n",
       "      'then',\n",
       "      [6, 'draw']]]]],\n",
       "  ['if',\n",
       "   ['x', 'o', 'x', ' ', 'o', 'o', ' ', 'x', ' '],\n",
       "   'then',\n",
       "   [3,\n",
       "    [['if',\n",
       "      ['x', 'o', 'x', 'x', 'o', 'o', 'o', 'x', ' '],\n",
       "      'then',\n",
       "      [8, 'draw']],\n",
       "     ['if',\n",
       "      ['x', 'o', 'x', 'x', 'o', 'o', ' ', 'x', 'o'],\n",
       "      'then',\n",
       "      [6, 'win']]]]],\n",
       "  ['if',\n",
       "   ['x', 'o', 'x', ' ', 'o', ' ', 'o', 'x', ' '],\n",
       "   'then',\n",
       "   [3,\n",
       "    [['if',\n",
       "      ['x', 'o', 'x', 'x', 'o', 'o', 'o', 'x', ' '],\n",
       "      'then',\n",
       "      [8, 'draw']],\n",
       "     ['if',\n",
       "      ['x', 'o', 'x', 'x', 'o', ' ', 'o', 'x', 'o'],\n",
       "      'then',\n",
       "      [5, 'draw']]]]],\n",
       "  ['if',\n",
       "   ['x', 'o', 'x', ' ', 'o', ' ', ' ', 'x', 'o'],\n",
       "   'then',\n",
       "   [3,\n",
       "    [['if', ['x', 'o', 'x', 'x', 'o', 'o', ' ', 'x', 'o'], 'then', [6, 'win']],\n",
       "     ['if',\n",
       "      ['x', 'o', 'x', 'x', 'o', ' ', 'o', 'x', 'o'],\n",
       "      'then',\n",
       "      [5, 'draw']]]]]]]"
      ]
     },
     "metadata": {},
     "output_type": "display_data"
    },
    {
     "name": "stdout",
     "output_type": "stream",
     "text": [
      "CPU times: user 26.7 ms, sys: 629 µs, total: 27.3 ms\n",
      "Wall time: 25.5 ms\n"
     ]
    }
   ],
   "source": [
    "\n",
    "board = empty_board() \n",
    "board[0] = 'x'\n",
    "board[1] = 'o'\n",
    "board[2] = 'x'\n",
    "#board[3] = 'o'\n",
    "board[4] = 'o'\n",
    "\n",
    "print(\"Board:\")\n",
    "show_board(board)\n",
    "\n",
    "print()\n",
    "print(\"Win or draw:\")\n",
    "%time display(and_or_search(board, player = 'x', draw_is_win = True))"
   ]
  },
  {
   "cell_type": "code",
   "execution_count": 16,
   "metadata": {},
   "outputs": [
    {
     "name": "stdout",
     "output_type": "stream",
     "text": [
      "Win only:\n",
      "Number of nodes searched: 52\n"
     ]
    },
    {
     "data": {
      "text/plain": [
       "None"
      ]
     },
     "metadata": {},
     "output_type": "display_data"
    },
    {
     "name": "stdout",
     "output_type": "stream",
     "text": [
      "CPU times: user 12.7 ms, sys: 2.74 ms, total: 15.4 ms\n",
      "Wall time: 13.9 ms\n"
     ]
    }
   ],
   "source": [
    "print(\"Win only:\")\n",
    "%time display(and_or_search(board, player = 'x', draw_is_win = False))"
   ]
  },
  {
   "cell_type": "markdown",
   "metadata": {},
   "source": [
    "## o is about to win"
   ]
  },
  {
   "cell_type": "code",
   "execution_count": 17,
   "metadata": {},
   "outputs": [
    {
     "name": "stdout",
     "output_type": "stream",
     "text": [
      "Board:\n",
      "[['o' 'o' ' ']\n",
      " ['o' 'x' ' ']\n",
      " [' ' ' ' 'x']]\n",
      "\n",
      "Win or draw:\n",
      "Number of nodes searched: 7\n"
     ]
    },
    {
     "data": {
      "text/plain": [
       "None"
      ]
     },
     "metadata": {},
     "output_type": "display_data"
    },
    {
     "name": "stdout",
     "output_type": "stream",
     "text": [
      "CPU times: user 7.67 ms, sys: 0 ns, total: 7.67 ms\n",
      "Wall time: 6.35 ms\n"
     ]
    }
   ],
   "source": [
    "board = empty_board() \n",
    "board[0] = 'o'\n",
    "board[1] = 'o'\n",
    "board[3] = 'o'\n",
    "board[4] = 'x'\n",
    "board[8] = 'x'\n",
    "\n",
    "print(\"Board:\")\n",
    "show_board(board)\n",
    "\n",
    "print()\n",
    "print(\"Win or draw:\")\n",
    "%time display(and_or_search(board, player = 'x', draw_is_win = True))"
   ]
  },
  {
   "cell_type": "markdown",
   "metadata": {},
   "source": [
    "Check for player o"
   ]
  },
  {
   "cell_type": "code",
   "execution_count": 18,
   "metadata": {},
   "outputs": [
    {
     "name": "stdout",
     "output_type": "stream",
     "text": [
      "Win only:\n",
      "Number of nodes searched: 2\n"
     ]
    },
    {
     "data": {
      "text/plain": [
       "[2, 'win']"
      ]
     },
     "metadata": {},
     "output_type": "display_data"
    },
    {
     "name": "stdout",
     "output_type": "stream",
     "text": [
      "CPU times: user 6.8 ms, sys: 0 ns, total: 6.8 ms\n",
      "Wall time: 7.5 ms\n"
     ]
    }
   ],
   "source": [
    "print(\"Win only:\")\n",
    "%time display(and_or_search(board, player = 'o', draw_is_win = False))"
   ]
  },
  {
   "cell_type": "markdown",
   "metadata": {},
   "source": [
    "## o went first"
   ]
  },
  {
   "cell_type": "code",
   "execution_count": 19,
   "metadata": {
    "scrolled": true,
    "tags": []
   },
   "outputs": [
    {
     "name": "stdout",
     "output_type": "stream",
     "text": [
      "Board:\n",
      "[[' ' ' ' ' ']\n",
      " [' ' 'o' ' ']\n",
      " [' ' ' ' ' ']]\n",
      "\n",
      "Win or draw:\n",
      "Number of nodes searched: 370\n"
     ]
    },
    {
     "data": {
      "text/plain": [
       "[0,\n",
       " [['if',\n",
       "   ['x', 'o', ' ', ' ', 'o', ' ', ' ', ' ', ' '],\n",
       "   'then',\n",
       "   [7,\n",
       "    [['if',\n",
       "      ['x', 'o', 'o', ' ', 'o', ' ', ' ', 'x', ' '],\n",
       "      'then',\n",
       "      [6,\n",
       "       [['if',\n",
       "         ['x', 'o', 'o', 'o', 'o', ' ', 'x', 'x', ' '],\n",
       "         'then',\n",
       "         [5, 'draw']],\n",
       "        ['if',\n",
       "         ['x', 'o', 'o', ' ', 'o', 'o', 'x', 'x', ' '],\n",
       "         'then',\n",
       "         [3, 'win']],\n",
       "        ['if',\n",
       "         ['x', 'o', 'o', ' ', 'o', ' ', 'x', 'x', 'o'],\n",
       "         'then',\n",
       "         [3, 'win']]]]],\n",
       "     ['if',\n",
       "      ['x', 'o', ' ', 'o', 'o', ' ', ' ', 'x', ' '],\n",
       "      'then',\n",
       "      [5,\n",
       "       [['if',\n",
       "         ['x', 'o', 'o', 'o', 'o', 'x', ' ', 'x', ' '],\n",
       "         'then',\n",
       "         [6, 'draw']],\n",
       "        ['if',\n",
       "         ['x', 'o', ' ', 'o', 'o', 'x', 'o', 'x', ' '],\n",
       "         'then',\n",
       "         [2, 'draw']],\n",
       "        ['if',\n",
       "         ['x', 'o', ' ', 'o', 'o', 'x', ' ', 'x', 'o'],\n",
       "         'then',\n",
       "         [2, 'draw']]]]],\n",
       "     ['if',\n",
       "      ['x', 'o', ' ', ' ', 'o', 'o', ' ', 'x', ' '],\n",
       "      'then',\n",
       "      [3,\n",
       "       [['if',\n",
       "         ['x', 'o', 'o', 'x', 'o', 'o', ' ', 'x', ' '],\n",
       "         'then',\n",
       "         [6, 'win']],\n",
       "        ['if',\n",
       "         ['x', 'o', ' ', 'x', 'o', 'o', 'o', 'x', ' '],\n",
       "         'then',\n",
       "         [2, 'draw']],\n",
       "        ['if',\n",
       "         ['x', 'o', ' ', 'x', 'o', 'o', ' ', 'x', 'o'],\n",
       "         'then',\n",
       "         [2, 'draw']]]]],\n",
       "     ['if',\n",
       "      ['x', 'o', ' ', ' ', 'o', ' ', 'o', 'x', ' '],\n",
       "      'then',\n",
       "      [2,\n",
       "       [['if',\n",
       "         ['x', 'o', 'x', 'o', 'o', ' ', 'o', 'x', ' '],\n",
       "         'then',\n",
       "         [5, 'draw']],\n",
       "        ['if',\n",
       "         ['x', 'o', 'x', ' ', 'o', 'o', 'o', 'x', ' '],\n",
       "         'then',\n",
       "         [3, 'draw']],\n",
       "        ['if',\n",
       "         ['x', 'o', 'x', ' ', 'o', ' ', 'o', 'x', 'o'],\n",
       "         'then',\n",
       "         [3, 'draw']]]]],\n",
       "     ['if',\n",
       "      ['x', 'o', ' ', ' ', 'o', ' ', ' ', 'x', 'o'],\n",
       "      'then',\n",
       "      [2,\n",
       "       [['if',\n",
       "         ['x', 'o', 'x', 'o', 'o', ' ', ' ', 'x', 'o'],\n",
       "         'then',\n",
       "         [5, 'draw']],\n",
       "        ['if',\n",
       "         ['x', 'o', 'x', ' ', 'o', 'o', ' ', 'x', 'o'],\n",
       "         'then',\n",
       "         [3, 'draw']],\n",
       "        ['if',\n",
       "         ['x', 'o', 'x', ' ', 'o', ' ', 'o', 'x', 'o'],\n",
       "         'then',\n",
       "         [3, 'draw']]]]]]]],\n",
       "  ['if',\n",
       "   ['x', ' ', 'o', ' ', 'o', ' ', ' ', ' ', ' '],\n",
       "   'then',\n",
       "   [6,\n",
       "    [['if', ['x', 'o', 'o', ' ', 'o', ' ', 'x', ' ', ' '], 'then', [3, 'win']],\n",
       "     ['if',\n",
       "      ['x', ' ', 'o', 'o', 'o', ' ', 'x', ' ', ' '],\n",
       "      'then',\n",
       "      [5,\n",
       "       [['if',\n",
       "         ['x', 'o', 'o', 'o', 'o', 'x', 'x', ' ', ' '],\n",
       "         'then',\n",
       "         [7, 'draw']],\n",
       "        ['if',\n",
       "         ['x', ' ', 'o', 'o', 'o', 'x', 'x', 'o', ' '],\n",
       "         'then',\n",
       "         [1, 'draw']],\n",
       "        ['if',\n",
       "         ['x', ' ', 'o', 'o', 'o', 'x', 'x', ' ', 'o'],\n",
       "         'then',\n",
       "         [1, 'draw']]]]],\n",
       "     ['if', ['x', ' ', 'o', ' ', 'o', 'o', 'x', ' ', ' '], 'then', [3, 'win']],\n",
       "     ['if',\n",
       "      ['x', ' ', 'o', ' ', 'o', ' ', 'x', 'o', ' '],\n",
       "      'then',\n",
       "      [1,\n",
       "       [['if',\n",
       "         ['x', 'x', 'o', 'o', 'o', ' ', 'x', 'o', ' '],\n",
       "         'then',\n",
       "         [5, 'draw']],\n",
       "        ['if',\n",
       "         ['x', 'x', 'o', ' ', 'o', 'o', 'x', 'o', ' '],\n",
       "         'then',\n",
       "         [3, 'win']],\n",
       "        ['if',\n",
       "         ['x', 'x', 'o', ' ', 'o', ' ', 'x', 'o', 'o'],\n",
       "         'then',\n",
       "         [3, 'win']]]]],\n",
       "     ['if',\n",
       "      ['x', ' ', 'o', ' ', 'o', ' ', 'x', ' ', 'o'],\n",
       "      'then',\n",
       "      [3, 'win']]]]],\n",
       "  ['if',\n",
       "   ['x', ' ', ' ', 'o', 'o', ' ', ' ', ' ', ' '],\n",
       "   'then',\n",
       "   [5,\n",
       "    [['if',\n",
       "      ['x', 'o', ' ', 'o', 'o', 'x', ' ', ' ', ' '],\n",
       "      'then',\n",
       "      [7,\n",
       "       [['if',\n",
       "         ['x', 'o', 'o', 'o', 'o', 'x', ' ', 'x', ' '],\n",
       "         'then',\n",
       "         [6, 'draw']],\n",
       "        ['if',\n",
       "         ['x', 'o', ' ', 'o', 'o', 'x', 'o', 'x', ' '],\n",
       "         'then',\n",
       "         [2, 'draw']],\n",
       "        ['if',\n",
       "         ['x', 'o', ' ', 'o', 'o', 'x', ' ', 'x', 'o'],\n",
       "         'then',\n",
       "         [2, 'draw']]]]],\n",
       "     ['if',\n",
       "      ['x', ' ', 'o', 'o', 'o', 'x', ' ', ' ', ' '],\n",
       "      'then',\n",
       "      [6,\n",
       "       [['if',\n",
       "         ['x', 'o', 'o', 'o', 'o', 'x', 'x', ' ', ' '],\n",
       "         'then',\n",
       "         [7, 'draw']],\n",
       "        ['if',\n",
       "         ['x', ' ', 'o', 'o', 'o', 'x', 'x', 'o', ' '],\n",
       "         'then',\n",
       "         [1, 'draw']],\n",
       "        ['if',\n",
       "         ['x', ' ', 'o', 'o', 'o', 'x', 'x', ' ', 'o'],\n",
       "         'then',\n",
       "         [1, 'draw']]]]],\n",
       "     ['if',\n",
       "      ['x', ' ', ' ', 'o', 'o', 'x', 'o', ' ', ' '],\n",
       "      'then',\n",
       "      [2,\n",
       "       [['if',\n",
       "         ['x', 'o', 'x', 'o', 'o', 'x', 'o', ' ', ' '],\n",
       "         'then',\n",
       "         [7, 'draw']],\n",
       "        ['if',\n",
       "         ['x', ' ', 'x', 'o', 'o', 'x', 'o', 'o', ' '],\n",
       "         'then',\n",
       "         [1, 'win']],\n",
       "        ['if',\n",
       "         ['x', ' ', 'x', 'o', 'o', 'x', 'o', ' ', 'o'],\n",
       "         'then',\n",
       "         [1, 'win']]]]],\n",
       "     ['if',\n",
       "      ['x', ' ', ' ', 'o', 'o', 'x', ' ', 'o', ' '],\n",
       "      'then',\n",
       "      [1,\n",
       "       [['if',\n",
       "         ['x', 'x', 'o', 'o', 'o', 'x', ' ', 'o', ' '],\n",
       "         'then',\n",
       "         [6, 'draw']],\n",
       "        ['if',\n",
       "         ['x', 'x', ' ', 'o', 'o', 'x', 'o', 'o', ' '],\n",
       "         'then',\n",
       "         [2, 'win']],\n",
       "        ['if',\n",
       "         ['x', 'x', ' ', 'o', 'o', 'x', ' ', 'o', 'o'],\n",
       "         'then',\n",
       "         [2, 'win']]]]],\n",
       "     ['if',\n",
       "      ['x', ' ', ' ', 'o', 'o', 'x', ' ', ' ', 'o'],\n",
       "      'then',\n",
       "      [1,\n",
       "       [['if',\n",
       "         ['x', 'x', 'o', 'o', 'o', 'x', ' ', ' ', 'o'],\n",
       "         'then',\n",
       "         [6, 'draw']],\n",
       "        ['if',\n",
       "         ['x', 'x', ' ', 'o', 'o', 'x', 'o', ' ', 'o'],\n",
       "         'then',\n",
       "         [2, 'win']],\n",
       "        ['if',\n",
       "         ['x', 'x', ' ', 'o', 'o', 'x', ' ', 'o', 'o'],\n",
       "         'then',\n",
       "         [2, 'win']]]]]]]],\n",
       "  ['if',\n",
       "   ['x', ' ', ' ', ' ', 'o', 'o', ' ', ' ', ' '],\n",
       "   'then',\n",
       "   [3,\n",
       "    [['if', ['x', 'o', ' ', 'x', 'o', 'o', ' ', ' ', ' '], 'then', [6, 'win']],\n",
       "     ['if', ['x', ' ', 'o', 'x', 'o', 'o', ' ', ' ', ' '], 'then', [6, 'win']],\n",
       "     ['if',\n",
       "      ['x', ' ', ' ', 'x', 'o', 'o', 'o', ' ', ' '],\n",
       "      'then',\n",
       "      [2,\n",
       "       [['if',\n",
       "         ['x', 'o', 'x', 'x', 'o', 'o', 'o', ' ', ' '],\n",
       "         'then',\n",
       "         [7, 'draw']],\n",
       "        ['if',\n",
       "         ['x', ' ', 'x', 'x', 'o', 'o', 'o', 'o', ' '],\n",
       "         'then',\n",
       "         [1, 'win']],\n",
       "        ['if',\n",
       "         ['x', ' ', 'x', 'x', 'o', 'o', 'o', ' ', 'o'],\n",
       "         'then',\n",
       "         [1, 'win']]]]],\n",
       "     ['if',\n",
       "      ['x', ' ', ' ', 'x', 'o', 'o', ' ', 'o', ' '],\n",
       "      'then',\n",
       "      [1,\n",
       "       [['if',\n",
       "         ['x', 'x', 'o', 'x', 'o', 'o', ' ', 'o', ' '],\n",
       "         'then',\n",
       "         [6, 'win']],\n",
       "        ['if',\n",
       "         ['x', 'x', ' ', 'x', 'o', 'o', 'o', 'o', ' '],\n",
       "         'then',\n",
       "         [2, 'win']],\n",
       "        ['if',\n",
       "         ['x', 'x', ' ', 'x', 'o', 'o', ' ', 'o', 'o'],\n",
       "         'then',\n",
       "         [2, 'win']]]]],\n",
       "     ['if',\n",
       "      ['x', ' ', ' ', 'x', 'o', 'o', ' ', ' ', 'o'],\n",
       "      'then',\n",
       "      [2,\n",
       "       [['if',\n",
       "         ['x', 'o', 'x', 'x', 'o', 'o', ' ', ' ', 'o'],\n",
       "         'then',\n",
       "         [6, 'win']],\n",
       "        ['if',\n",
       "         ['x', ' ', 'x', 'x', 'o', 'o', 'o', ' ', 'o'],\n",
       "         'then',\n",
       "         [1, 'win']],\n",
       "        ['if',\n",
       "         ['x', ' ', 'x', 'x', 'o', 'o', ' ', 'o', 'o'],\n",
       "         'then',\n",
       "         [1, 'win']]]]]]]],\n",
       "  ['if',\n",
       "   ['x', ' ', ' ', ' ', 'o', ' ', 'o', ' ', ' '],\n",
       "   'then',\n",
       "   [2,\n",
       "    [['if',\n",
       "      ['x', 'o', 'x', ' ', 'o', ' ', 'o', ' ', ' '],\n",
       "      'then',\n",
       "      [7,\n",
       "       [['if',\n",
       "         ['x', 'o', 'x', 'o', 'o', ' ', 'o', 'x', ' '],\n",
       "         'then',\n",
       "         [5, 'draw']],\n",
       "        ['if',\n",
       "         ['x', 'o', 'x', ' ', 'o', 'o', 'o', 'x', ' '],\n",
       "         'then',\n",
       "         [3, 'draw']],\n",
       "        ['if',\n",
       "         ['x', 'o', 'x', ' ', 'o', ' ', 'o', 'x', 'o'],\n",
       "         'then',\n",
       "         [3, 'draw']]]]],\n",
       "     ['if', ['x', ' ', 'x', 'o', 'o', ' ', 'o', ' ', ' '], 'then', [1, 'win']],\n",
       "     ['if', ['x', ' ', 'x', ' ', 'o', 'o', 'o', ' ', ' '], 'then', [1, 'win']],\n",
       "     ['if', ['x', ' ', 'x', ' ', 'o', ' ', 'o', 'o', ' '], 'then', [1, 'win']],\n",
       "     ['if',\n",
       "      ['x', ' ', 'x', ' ', 'o', ' ', 'o', ' ', 'o'],\n",
       "      'then',\n",
       "      [1, 'win']]]]],\n",
       "  ['if',\n",
       "   ['x', ' ', ' ', ' ', 'o', ' ', ' ', 'o', ' '],\n",
       "   'then',\n",
       "   [1,\n",
       "    [['if',\n",
       "      ['x', 'x', 'o', ' ', 'o', ' ', ' ', 'o', ' '],\n",
       "      'then',\n",
       "      [6,\n",
       "       [['if',\n",
       "         ['x', 'x', 'o', 'o', 'o', ' ', 'x', 'o', ' '],\n",
       "         'then',\n",
       "         [5, 'draw']],\n",
       "        ['if',\n",
       "         ['x', 'x', 'o', ' ', 'o', 'o', 'x', 'o', ' '],\n",
       "         'then',\n",
       "         [3, 'win']],\n",
       "        ['if',\n",
       "         ['x', 'x', 'o', ' ', 'o', ' ', 'x', 'o', 'o'],\n",
       "         'then',\n",
       "         [3, 'win']]]]],\n",
       "     ['if', ['x', 'x', ' ', 'o', 'o', ' ', ' ', 'o', ' '], 'then', [2, 'win']],\n",
       "     ['if', ['x', 'x', ' ', ' ', 'o', 'o', ' ', 'o', ' '], 'then', [2, 'win']],\n",
       "     ['if', ['x', 'x', ' ', ' ', 'o', ' ', 'o', 'o', ' '], 'then', [2, 'win']],\n",
       "     ['if',\n",
       "      ['x', 'x', ' ', ' ', 'o', ' ', ' ', 'o', 'o'],\n",
       "      'then',\n",
       "      [2, 'win']]]]],\n",
       "  ['if',\n",
       "   ['x', ' ', ' ', ' ', 'o', ' ', ' ', ' ', 'o'],\n",
       "   'then',\n",
       "   [2,\n",
       "    [['if',\n",
       "      ['x', 'o', 'x', ' ', 'o', ' ', ' ', ' ', 'o'],\n",
       "      'then',\n",
       "      [7,\n",
       "       [['if',\n",
       "         ['x', 'o', 'x', 'o', 'o', ' ', ' ', 'x', 'o'],\n",
       "         'then',\n",
       "         [5, 'draw']],\n",
       "        ['if',\n",
       "         ['x', 'o', 'x', ' ', 'o', 'o', ' ', 'x', 'o'],\n",
       "         'then',\n",
       "         [3, 'draw']],\n",
       "        ['if',\n",
       "         ['x', 'o', 'x', ' ', 'o', ' ', 'o', 'x', 'o'],\n",
       "         'then',\n",
       "         [3, 'draw']]]]],\n",
       "     ['if', ['x', ' ', 'x', 'o', 'o', ' ', ' ', ' ', 'o'], 'then', [1, 'win']],\n",
       "     ['if', ['x', ' ', 'x', ' ', 'o', 'o', ' ', ' ', 'o'], 'then', [1, 'win']],\n",
       "     ['if', ['x', ' ', 'x', ' ', 'o', ' ', 'o', ' ', 'o'], 'then', [1, 'win']],\n",
       "     ['if',\n",
       "      ['x', ' ', 'x', ' ', 'o', ' ', ' ', 'o', 'o'],\n",
       "      'then',\n",
       "      [1, 'win']]]]]]]"
      ]
     },
     "metadata": {},
     "output_type": "display_data"
    },
    {
     "name": "stdout",
     "output_type": "stream",
     "text": [
      "CPU times: user 136 ms, sys: 0 ns, total: 136 ms\n",
      "Wall time: 132 ms\n"
     ]
    }
   ],
   "source": [
    "board = empty_board() \n",
    "board[4] = 'o'\n",
    "\n",
    "\n",
    "print(\"Board:\")\n",
    "show_board(board)\n",
    "\n",
    "print()\n",
    "print(\"Win or draw:\")\n",
    "%time display(and_or_search(board, player = 'x', draw_is_win = True))"
   ]
  },
  {
   "cell_type": "code",
   "execution_count": 20,
   "metadata": {
    "tags": []
   },
   "outputs": [
    {
     "name": "stdout",
     "output_type": "stream",
     "text": [
      "Win only:\n",
      "Number of nodes searched: 720\n"
     ]
    },
    {
     "data": {
      "text/plain": [
       "None"
      ]
     },
     "metadata": {},
     "output_type": "display_data"
    },
    {
     "name": "stdout",
     "output_type": "stream",
     "text": [
      "CPU times: user 83.4 ms, sys: 2.73 ms, total: 86.1 ms\n",
      "Wall time: 83.6 ms\n"
     ]
    }
   ],
   "source": [
    "print(\"Win only:\")\n",
    "%time display(and_or_search(board, player = 'x', draw_is_win = False))"
   ]
  },
  {
   "cell_type": "markdown",
   "metadata": {},
   "source": [
    "## Empty board: Only a draw_is_win can be guaranteed"
   ]
  },
  {
   "cell_type": "code",
   "execution_count": 21,
   "metadata": {
    "scrolled": true,
    "tags": []
   },
   "outputs": [
    {
     "name": "stdout",
     "output_type": "stream",
     "text": [
      "Board:\n",
      "[[' ' ' ' ' ']\n",
      " [' ' ' ' ' ']\n",
      " [' ' ' ' ' ']]\n",
      "\n",
      "Win or draw:\n",
      "Number of nodes searched: 833\n"
     ]
    },
    {
     "data": {
      "text/plain": [
       "[0,\n",
       " [['if',\n",
       "   ['x', 'o', ' ', ' ', ' ', ' ', ' ', ' ', ' '],\n",
       "   'then',\n",
       "   [2,\n",
       "    [['if',\n",
       "      ['x', 'o', 'x', 'o', ' ', ' ', ' ', ' ', ' '],\n",
       "      'then',\n",
       "      [4,\n",
       "       [['if',\n",
       "         ['x', 'o', 'x', 'o', 'x', 'o', ' ', ' ', ' '],\n",
       "         'then',\n",
       "         [6, 'win']],\n",
       "        ['if',\n",
       "         ['x', 'o', 'x', 'o', 'x', ' ', 'o', ' ', ' '],\n",
       "         'then',\n",
       "         [5,\n",
       "          [['if',\n",
       "            ['x', 'o', 'x', 'o', 'x', 'x', 'o', 'o', ' '],\n",
       "            'then',\n",
       "            [8, 'win']],\n",
       "           ['if',\n",
       "            ['x', 'o', 'x', 'o', 'x', 'x', 'o', ' ', 'o'],\n",
       "            'then',\n",
       "            [7, 'draw']]]]],\n",
       "        ['if',\n",
       "         ['x', 'o', 'x', 'o', 'x', ' ', ' ', 'o', ' '],\n",
       "         'then',\n",
       "         [5,\n",
       "          [['if',\n",
       "            ['x', 'o', 'x', 'o', 'x', 'x', 'o', 'o', ' '],\n",
       "            'then',\n",
       "            [8, 'win']],\n",
       "           ['if',\n",
       "            ['x', 'o', 'x', 'o', 'x', 'x', ' ', 'o', 'o'],\n",
       "            'then',\n",
       "            [6, 'win']]]]],\n",
       "        ['if',\n",
       "         ['x', 'o', 'x', 'o', 'x', ' ', ' ', ' ', 'o'],\n",
       "         'then',\n",
       "         [5,\n",
       "          [['if',\n",
       "            ['x', 'o', 'x', 'o', 'x', 'x', 'o', ' ', 'o'],\n",
       "            'then',\n",
       "            [7, 'draw']],\n",
       "           ['if',\n",
       "            ['x', 'o', 'x', 'o', 'x', 'x', ' ', 'o', 'o'],\n",
       "            'then',\n",
       "            [6, 'win']]]]]]]],\n",
       "     ['if',\n",
       "      ['x', 'o', 'x', ' ', 'o', ' ', ' ', ' ', ' '],\n",
       "      'then',\n",
       "      [7,\n",
       "       [['if',\n",
       "         ['x', 'o', 'x', 'o', 'o', ' ', ' ', 'x', ' '],\n",
       "         'then',\n",
       "         [5,\n",
       "          [['if',\n",
       "            ['x', 'o', 'x', 'o', 'o', 'x', 'o', 'x', ' '],\n",
       "            'then',\n",
       "            [8, 'win']],\n",
       "           ['if',\n",
       "            ['x', 'o', 'x', 'o', 'o', 'x', ' ', 'x', 'o'],\n",
       "            'then',\n",
       "            [6, 'draw']]]]],\n",
       "        ['if',\n",
       "         ['x', 'o', 'x', ' ', 'o', 'o', ' ', 'x', ' '],\n",
       "         'then',\n",
       "         [3,\n",
       "          [['if',\n",
       "            ['x', 'o', 'x', 'x', 'o', 'o', 'o', 'x', ' '],\n",
       "            'then',\n",
       "            [8, 'draw']],\n",
       "           ['if',\n",
       "            ['x', 'o', 'x', 'x', 'o', 'o', ' ', 'x', 'o'],\n",
       "            'then',\n",
       "            [6, 'win']]]]],\n",
       "        ['if',\n",
       "         ['x', 'o', 'x', ' ', 'o', ' ', 'o', 'x', ' '],\n",
       "         'then',\n",
       "         [3,\n",
       "          [['if',\n",
       "            ['x', 'o', 'x', 'x', 'o', 'o', 'o', 'x', ' '],\n",
       "            'then',\n",
       "            [8, 'draw']],\n",
       "           ['if',\n",
       "            ['x', 'o', 'x', 'x', 'o', ' ', 'o', 'x', 'o'],\n",
       "            'then',\n",
       "            [5, 'draw']]]]],\n",
       "        ['if',\n",
       "         ['x', 'o', 'x', ' ', 'o', ' ', ' ', 'x', 'o'],\n",
       "         'then',\n",
       "         [3,\n",
       "          [['if',\n",
       "            ['x', 'o', 'x', 'x', 'o', 'o', ' ', 'x', 'o'],\n",
       "            'then',\n",
       "            [6, 'win']],\n",
       "           ['if',\n",
       "            ['x', 'o', 'x', 'x', 'o', ' ', 'o', 'x', 'o'],\n",
       "            'then',\n",
       "            [5, 'draw']]]]]]]],\n",
       "     ['if',\n",
       "      ['x', 'o', 'x', ' ', ' ', 'o', ' ', ' ', ' '],\n",
       "      'then',\n",
       "      [3,\n",
       "       [['if',\n",
       "         ['x', 'o', 'x', 'x', 'o', 'o', ' ', ' ', ' '],\n",
       "         'then',\n",
       "         [6, 'win']],\n",
       "        ['if',\n",
       "         ['x', 'o', 'x', 'x', ' ', 'o', 'o', ' ', ' '],\n",
       "         'then',\n",
       "         [4,\n",
       "          [['if',\n",
       "            ['x', 'o', 'x', 'x', 'x', 'o', 'o', 'o', ' '],\n",
       "            'then',\n",
       "            [8, 'win']],\n",
       "           ['if',\n",
       "            ['x', 'o', 'x', 'x', 'x', 'o', 'o', ' ', 'o'],\n",
       "            'then',\n",
       "            [7, 'draw']]]]],\n",
       "        ['if',\n",
       "         ['x', 'o', 'x', 'x', ' ', 'o', ' ', 'o', ' '],\n",
       "         'then',\n",
       "         [4,\n",
       "          [['if',\n",
       "            ['x', 'o', 'x', 'x', 'x', 'o', 'o', 'o', ' '],\n",
       "            'then',\n",
       "            [8, 'win']],\n",
       "           ['if',\n",
       "            ['x', 'o', 'x', 'x', 'x', 'o', ' ', 'o', 'o'],\n",
       "            'then',\n",
       "            [6, 'win']]]]],\n",
       "        ['if',\n",
       "         ['x', 'o', 'x', 'x', ' ', 'o', ' ', ' ', 'o'],\n",
       "         'then',\n",
       "         [4,\n",
       "          [['if',\n",
       "            ['x', 'o', 'x', 'x', 'x', 'o', 'o', ' ', 'o'],\n",
       "            'then',\n",
       "            [7, 'draw']],\n",
       "           ['if',\n",
       "            ['x', 'o', 'x', 'x', 'x', 'o', ' ', 'o', 'o'],\n",
       "            'then',\n",
       "            [6, 'win']]]]]]]],\n",
       "     ['if',\n",
       "      ['x', 'o', 'x', ' ', ' ', ' ', 'o', ' ', ' '],\n",
       "      'then',\n",
       "      [4,\n",
       "       [['if',\n",
       "         ['x', 'o', 'x', 'o', 'x', ' ', 'o', ' ', ' '],\n",
       "         'then',\n",
       "         [5,\n",
       "          [['if',\n",
       "            ['x', 'o', 'x', 'o', 'x', 'x', 'o', 'o', ' '],\n",
       "            'then',\n",
       "            [8, 'win']],\n",
       "           ['if',\n",
       "            ['x', 'o', 'x', 'o', 'x', 'x', 'o', ' ', 'o'],\n",
       "            'then',\n",
       "            [7, 'draw']]]]],\n",
       "        ['if',\n",
       "         ['x', 'o', 'x', ' ', 'x', 'o', 'o', ' ', ' '],\n",
       "         'then',\n",
       "         [3,\n",
       "          [['if',\n",
       "            ['x', 'o', 'x', 'x', 'x', 'o', 'o', 'o', ' '],\n",
       "            'then',\n",
       "            [8, 'win']],\n",
       "           ['if',\n",
       "            ['x', 'o', 'x', 'x', 'x', 'o', 'o', ' ', 'o'],\n",
       "            'then',\n",
       "            [7, 'draw']]]]],\n",
       "        ['if',\n",
       "         ['x', 'o', 'x', ' ', 'x', ' ', 'o', 'o', ' '],\n",
       "         'then',\n",
       "         [8, 'win']],\n",
       "        ['if',\n",
       "         ['x', 'o', 'x', ' ', 'x', ' ', 'o', ' ', 'o'],\n",
       "         'then',\n",
       "         [7,\n",
       "          [['if',\n",
       "            ['x', 'o', 'x', 'o', 'x', ' ', 'o', 'x', 'o'],\n",
       "            'then',\n",
       "            [5, 'draw']],\n",
       "           ['if',\n",
       "            ['x', 'o', 'x', ' ', 'x', 'o', 'o', 'x', 'o'],\n",
       "            'then',\n",
       "            [3, 'draw']]]]]]]],\n",
       "     ['if',\n",
       "      ['x', 'o', 'x', ' ', ' ', ' ', ' ', 'o', ' '],\n",
       "      'then',\n",
       "      [4,\n",
       "       [['if',\n",
       "         ['x', 'o', 'x', 'o', 'x', ' ', ' ', 'o', ' '],\n",
       "         'then',\n",
       "         [5,\n",
       "          [['if',\n",
       "            ['x', 'o', 'x', 'o', 'x', 'x', 'o', 'o', ' '],\n",
       "            'then',\n",
       "            [8, 'win']],\n",
       "           ['if',\n",
       "            ['x', 'o', 'x', 'o', 'x', 'x', ' ', 'o', 'o'],\n",
       "            'then',\n",
       "            [6, 'win']]]]],\n",
       "        ['if',\n",
       "         ['x', 'o', 'x', ' ', 'x', 'o', ' ', 'o', ' '],\n",
       "         'then',\n",
       "         [3,\n",
       "          [['if',\n",
       "            ['x', 'o', 'x', 'x', 'x', 'o', 'o', 'o', ' '],\n",
       "            'then',\n",
       "            [8, 'win']],\n",
       "           ['if',\n",
       "            ['x', 'o', 'x', 'x', 'x', 'o', ' ', 'o', 'o'],\n",
       "            'then',\n",
       "            [6, 'win']]]]],\n",
       "        ['if',\n",
       "         ['x', 'o', 'x', ' ', 'x', ' ', 'o', 'o', ' '],\n",
       "         'then',\n",
       "         [8, 'win']],\n",
       "        ['if',\n",
       "         ['x', 'o', 'x', ' ', 'x', ' ', ' ', 'o', 'o'],\n",
       "         'then',\n",
       "         [6, 'win']]]]],\n",
       "     ['if',\n",
       "      ['x', 'o', 'x', ' ', ' ', ' ', ' ', ' ', 'o'],\n",
       "      'then',\n",
       "      [3,\n",
       "       [['if',\n",
       "         ['x', 'o', 'x', 'x', 'o', ' ', ' ', ' ', 'o'],\n",
       "         'then',\n",
       "         [6, 'win']],\n",
       "        ['if',\n",
       "         ['x', 'o', 'x', 'x', ' ', 'o', ' ', ' ', 'o'],\n",
       "         'then',\n",
       "         [4,\n",
       "          [['if',\n",
       "            ['x', 'o', 'x', 'x', 'x', 'o', 'o', ' ', 'o'],\n",
       "            'then',\n",
       "            [7, 'draw']],\n",
       "           ['if',\n",
       "            ['x', 'o', 'x', 'x', 'x', 'o', ' ', 'o', 'o'],\n",
       "            'then',\n",
       "            [6, 'win']]]]],\n",
       "        ['if',\n",
       "         ['x', 'o', 'x', 'x', ' ', ' ', 'o', ' ', 'o'],\n",
       "         'then',\n",
       "         [7,\n",
       "          [['if',\n",
       "            ['x', 'o', 'x', 'x', 'o', ' ', 'o', 'x', 'o'],\n",
       "            'then',\n",
       "            [5, 'draw']],\n",
       "           ['if',\n",
       "            ['x', 'o', 'x', 'x', ' ', 'o', 'o', 'x', 'o'],\n",
       "            'then',\n",
       "            [4, 'draw']]]]],\n",
       "        ['if',\n",
       "         ['x', 'o', 'x', 'x', ' ', ' ', ' ', 'o', 'o'],\n",
       "         'then',\n",
       "         [6, 'win']]]]]]]],\n",
       "  ['if',\n",
       "   ['x', ' ', 'o', ' ', ' ', ' ', ' ', ' ', ' '],\n",
       "   'then',\n",
       "   [3,\n",
       "    [['if',\n",
       "      ['x', 'o', 'o', 'x', ' ', ' ', ' ', ' ', ' '],\n",
       "      'then',\n",
       "      [4,\n",
       "       [['if',\n",
       "         ['x', 'o', 'o', 'x', 'x', 'o', ' ', ' ', ' '],\n",
       "         'then',\n",
       "         [6, 'win']],\n",
       "        ['if',\n",
       "         ['x', 'o', 'o', 'x', 'x', ' ', 'o', ' ', ' '],\n",
       "         'then',\n",
       "         [5, 'win']],\n",
       "        ['if',\n",
       "         ['x', 'o', 'o', 'x', 'x', ' ', ' ', 'o', ' '],\n",
       "         'then',\n",
       "         [5, 'win']],\n",
       "        ['if',\n",
       "         ['x', 'o', 'o', 'x', 'x', ' ', ' ', ' ', 'o'],\n",
       "         'then',\n",
       "         [5, 'win']]]]],\n",
       "     ['if', ['x', ' ', 'o', 'x', 'o', ' ', ' ', ' ', ' '], 'then', [6, 'win']],\n",
       "     ['if', ['x', ' ', 'o', 'x', ' ', 'o', ' ', ' ', ' '], 'then', [6, 'win']],\n",
       "     ['if',\n",
       "      ['x', ' ', 'o', 'x', ' ', ' ', 'o', ' ', ' '],\n",
       "      'then',\n",
       "      [4,\n",
       "       [['if',\n",
       "         ['x', 'o', 'o', 'x', 'x', ' ', 'o', ' ', ' '],\n",
       "         'then',\n",
       "         [5, 'win']],\n",
       "        ['if',\n",
       "         ['x', ' ', 'o', 'x', 'x', 'o', 'o', ' ', ' '],\n",
       "         'then',\n",
       "         [8, 'win']],\n",
       "        ['if',\n",
       "         ['x', ' ', 'o', 'x', 'x', ' ', 'o', 'o', ' '],\n",
       "         'then',\n",
       "         [5, 'win']],\n",
       "        ['if',\n",
       "         ['x', ' ', 'o', 'x', 'x', ' ', 'o', ' ', 'o'],\n",
       "         'then',\n",
       "         [5, 'win']]]]],\n",
       "     ['if',\n",
       "      ['x', ' ', 'o', 'x', ' ', ' ', ' ', 'o', ' '],\n",
       "      'then',\n",
       "      [4,\n",
       "       [['if',\n",
       "         ['x', 'o', 'o', 'x', 'x', ' ', ' ', 'o', ' '],\n",
       "         'then',\n",
       "         [5, 'win']],\n",
       "        ['if',\n",
       "         ['x', ' ', 'o', 'x', 'x', 'o', ' ', 'o', ' '],\n",
       "         'then',\n",
       "         [6, 'win']],\n",
       "        ['if',\n",
       "         ['x', ' ', 'o', 'x', 'x', ' ', 'o', 'o', ' '],\n",
       "         'then',\n",
       "         [5, 'win']],\n",
       "        ['if',\n",
       "         ['x', ' ', 'o', 'x', 'x', ' ', ' ', 'o', 'o'],\n",
       "         'then',\n",
       "         [5, 'win']]]]],\n",
       "     ['if',\n",
       "      ['x', ' ', 'o', 'x', ' ', ' ', ' ', ' ', 'o'],\n",
       "      'then',\n",
       "      [5,\n",
       "       [['if',\n",
       "         ['x', 'o', 'o', 'x', ' ', 'x', ' ', ' ', 'o'],\n",
       "         'then',\n",
       "         [4, 'win']],\n",
       "        ['if',\n",
       "         ['x', ' ', 'o', 'x', 'o', 'x', ' ', ' ', 'o'],\n",
       "         'then',\n",
       "         [6, 'win']],\n",
       "        ['if',\n",
       "         ['x', ' ', 'o', 'x', ' ', 'x', 'o', ' ', 'o'],\n",
       "         'then',\n",
       "         [4, 'win']],\n",
       "        ['if',\n",
       "         ['x', ' ', 'o', 'x', ' ', 'x', ' ', 'o', 'o'],\n",
       "         'then',\n",
       "         [4, 'win']]]]]]]],\n",
       "  ['if',\n",
       "   ['x', ' ', ' ', 'o', ' ', ' ', ' ', ' ', ' '],\n",
       "   'then',\n",
       "   [1,\n",
       "    [['if',\n",
       "      ['x', 'x', 'o', 'o', ' ', ' ', ' ', ' ', ' '],\n",
       "      'then',\n",
       "      [4,\n",
       "       [['if',\n",
       "         ['x', 'x', 'o', 'o', 'x', 'o', ' ', ' ', ' '],\n",
       "         'then',\n",
       "         [7, 'win']],\n",
       "        ['if',\n",
       "         ['x', 'x', 'o', 'o', 'x', ' ', 'o', ' ', ' '],\n",
       "         'then',\n",
       "         [5,\n",
       "          [['if',\n",
       "            ['x', 'x', 'o', 'o', 'x', 'x', 'o', 'o', ' '],\n",
       "            'then',\n",
       "            [8, 'win']],\n",
       "           ['if',\n",
       "            ['x', 'x', 'o', 'o', 'x', 'x', 'o', ' ', 'o'],\n",
       "            'then',\n",
       "            [7, 'win']]]]],\n",
       "        ['if',\n",
       "         ['x', 'x', 'o', 'o', 'x', ' ', ' ', 'o', ' '],\n",
       "         'then',\n",
       "         [5,\n",
       "          [['if',\n",
       "            ['x', 'x', 'o', 'o', 'x', 'x', 'o', 'o', ' '],\n",
       "            'then',\n",
       "            [8, 'win']],\n",
       "           ['if',\n",
       "            ['x', 'x', 'o', 'o', 'x', 'x', ' ', 'o', 'o'],\n",
       "            'then',\n",
       "            [6, 'draw']]]]],\n",
       "        ['if',\n",
       "         ['x', 'x', 'o', 'o', 'x', ' ', ' ', ' ', 'o'],\n",
       "         'then',\n",
       "         [5,\n",
       "          [['if',\n",
       "            ['x', 'x', 'o', 'o', 'x', 'x', 'o', ' ', 'o'],\n",
       "            'then',\n",
       "            [7, 'win']],\n",
       "           ['if',\n",
       "            ['x', 'x', 'o', 'o', 'x', 'x', ' ', 'o', 'o'],\n",
       "            'then',\n",
       "            [6, 'draw']]]]]]]],\n",
       "     ['if', ['x', 'x', ' ', 'o', 'o', ' ', ' ', ' ', ' '], 'then', [2, 'win']],\n",
       "     ['if', ['x', 'x', ' ', 'o', ' ', 'o', ' ', ' ', ' '], 'then', [2, 'win']],\n",
       "     ['if', ['x', 'x', ' ', 'o', ' ', ' ', 'o', ' ', ' '], 'then', [2, 'win']],\n",
       "     ['if', ['x', 'x', ' ', 'o', ' ', ' ', ' ', 'o', ' '], 'then', [2, 'win']],\n",
       "     ['if',\n",
       "      ['x', 'x', ' ', 'o', ' ', ' ', ' ', ' ', 'o'],\n",
       "      'then',\n",
       "      [2, 'win']]]]],\n",
       "  ['if',\n",
       "   ['x', ' ', ' ', ' ', 'o', ' ', ' ', ' ', ' '],\n",
       "   'then',\n",
       "   [1,\n",
       "    [['if',\n",
       "      ['x', 'x', 'o', ' ', 'o', ' ', ' ', ' ', ' '],\n",
       "      'then',\n",
       "      [6,\n",
       "       [['if',\n",
       "         ['x', 'x', 'o', 'o', 'o', ' ', 'x', ' ', ' '],\n",
       "         'then',\n",
       "         [5,\n",
       "          [['if',\n",
       "            ['x', 'x', 'o', 'o', 'o', 'x', 'x', 'o', ' '],\n",
       "            'then',\n",
       "            [8, 'draw']],\n",
       "           ['if',\n",
       "            ['x', 'x', 'o', 'o', 'o', 'x', 'x', ' ', 'o'],\n",
       "            'then',\n",
       "            [7, 'draw']]]]],\n",
       "        ['if',\n",
       "         ['x', 'x', 'o', ' ', 'o', 'o', 'x', ' ', ' '],\n",
       "         'then',\n",
       "         [3, 'win']],\n",
       "        ['if',\n",
       "         ['x', 'x', 'o', ' ', 'o', ' ', 'x', 'o', ' '],\n",
       "         'then',\n",
       "         [3, 'win']],\n",
       "        ['if',\n",
       "         ['x', 'x', 'o', ' ', 'o', ' ', 'x', ' ', 'o'],\n",
       "         'then',\n",
       "         [3, 'win']]]]],\n",
       "     ['if', ['x', 'x', ' ', 'o', 'o', ' ', ' ', ' ', ' '], 'then', [2, 'win']],\n",
       "     ['if', ['x', 'x', ' ', ' ', 'o', 'o', ' ', ' ', ' '], 'then', [2, 'win']],\n",
       "     ['if', ['x', 'x', ' ', ' ', 'o', ' ', 'o', ' ', ' '], 'then', [2, 'win']],\n",
       "     ['if', ['x', 'x', ' ', ' ', 'o', ' ', ' ', 'o', ' '], 'then', [2, 'win']],\n",
       "     ['if',\n",
       "      ['x', 'x', ' ', ' ', 'o', ' ', ' ', ' ', 'o'],\n",
       "      'then',\n",
       "      [2, 'win']]]]],\n",
       "  ['if',\n",
       "   ['x', ' ', ' ', ' ', ' ', 'o', ' ', ' ', ' '],\n",
       "   'then',\n",
       "   [2,\n",
       "    [['if',\n",
       "      ['x', 'o', 'x', ' ', ' ', 'o', ' ', ' ', ' '],\n",
       "      'then',\n",
       "      [3,\n",
       "       [['if',\n",
       "         ['x', 'o', 'x', 'x', 'o', 'o', ' ', ' ', ' '],\n",
       "         'then',\n",
       "         [6, 'win']],\n",
       "        ['if',\n",
       "         ['x', 'o', 'x', 'x', ' ', 'o', 'o', ' ', ' '],\n",
       "         'then',\n",
       "         [4,\n",
       "          [['if',\n",
       "            ['x', 'o', 'x', 'x', 'x', 'o', 'o', 'o', ' '],\n",
       "            'then',\n",
       "            [8, 'win']],\n",
       "           ['if',\n",
       "            ['x', 'o', 'x', 'x', 'x', 'o', 'o', ' ', 'o'],\n",
       "            'then',\n",
       "            [7, 'draw']]]]],\n",
       "        ['if',\n",
       "         ['x', 'o', 'x', 'x', ' ', 'o', ' ', 'o', ' '],\n",
       "         'then',\n",
       "         [4,\n",
       "          [['if',\n",
       "            ['x', 'o', 'x', 'x', 'x', 'o', 'o', 'o', ' '],\n",
       "            'then',\n",
       "            [8, 'win']],\n",
       "           ['if',\n",
       "            ['x', 'o', 'x', 'x', 'x', 'o', ' ', 'o', 'o'],\n",
       "            'then',\n",
       "            [6, 'win']]]]],\n",
       "        ['if',\n",
       "         ['x', 'o', 'x', 'x', ' ', 'o', ' ', ' ', 'o'],\n",
       "         'then',\n",
       "         [4,\n",
       "          [['if',\n",
       "            ['x', 'o', 'x', 'x', 'x', 'o', 'o', ' ', 'o'],\n",
       "            'then',\n",
       "            [7, 'draw']],\n",
       "           ['if',\n",
       "            ['x', 'o', 'x', 'x', 'x', 'o', ' ', 'o', 'o'],\n",
       "            'then',\n",
       "            [6, 'win']]]]]]]],\n",
       "     ['if', ['x', ' ', 'x', 'o', ' ', 'o', ' ', ' ', ' '], 'then', [1, 'win']],\n",
       "     ['if', ['x', ' ', 'x', ' ', 'o', 'o', ' ', ' ', ' '], 'then', [1, 'win']],\n",
       "     ['if', ['x', ' ', 'x', ' ', ' ', 'o', 'o', ' ', ' '], 'then', [1, 'win']],\n",
       "     ['if', ['x', ' ', 'x', ' ', ' ', 'o', ' ', 'o', ' '], 'then', [1, 'win']],\n",
       "     ['if',\n",
       "      ['x', ' ', 'x', ' ', ' ', 'o', ' ', ' ', 'o'],\n",
       "      'then',\n",
       "      [1, 'win']]]]],\n",
       "  ['if',\n",
       "   ['x', ' ', ' ', ' ', ' ', ' ', 'o', ' ', ' '],\n",
       "   'then',\n",
       "   [1,\n",
       "    [['if',\n",
       "      ['x', 'x', 'o', ' ', ' ', ' ', 'o', ' ', ' '],\n",
       "      'then',\n",
       "      [4,\n",
       "       [['if',\n",
       "         ['x', 'x', 'o', 'o', 'x', ' ', 'o', ' ', ' '],\n",
       "         'then',\n",
       "         [5,\n",
       "          [['if',\n",
       "            ['x', 'x', 'o', 'o', 'x', 'x', 'o', 'o', ' '],\n",
       "            'then',\n",
       "            [8, 'win']],\n",
       "           ['if',\n",
       "            ['x', 'x', 'o', 'o', 'x', 'x', 'o', ' ', 'o'],\n",
       "            'then',\n",
       "            [7, 'win']]]]],\n",
       "        ['if',\n",
       "         ['x', 'x', 'o', ' ', 'x', 'o', 'o', ' ', ' '],\n",
       "         'then',\n",
       "         [7, 'win']],\n",
       "        ['if',\n",
       "         ['x', 'x', 'o', ' ', 'x', ' ', 'o', 'o', ' '],\n",
       "         'then',\n",
       "         [8, 'win']],\n",
       "        ['if',\n",
       "         ['x', 'x', 'o', ' ', 'x', ' ', 'o', ' ', 'o'],\n",
       "         'then',\n",
       "         [7, 'win']]]]],\n",
       "     ['if', ['x', 'x', ' ', 'o', ' ', ' ', 'o', ' ', ' '], 'then', [2, 'win']],\n",
       "     ['if', ['x', 'x', ' ', ' ', 'o', ' ', 'o', ' ', ' '], 'then', [2, 'win']],\n",
       "     ['if', ['x', 'x', ' ', ' ', ' ', 'o', 'o', ' ', ' '], 'then', [2, 'win']],\n",
       "     ['if', ['x', 'x', ' ', ' ', ' ', ' ', 'o', 'o', ' '], 'then', [2, 'win']],\n",
       "     ['if',\n",
       "      ['x', 'x', ' ', ' ', ' ', ' ', 'o', ' ', 'o'],\n",
       "      'then',\n",
       "      [2, 'win']]]]],\n",
       "  ['if',\n",
       "   ['x', ' ', ' ', ' ', ' ', ' ', ' ', 'o', ' '],\n",
       "   'then',\n",
       "   [1,\n",
       "    [['if',\n",
       "      ['x', 'x', 'o', ' ', ' ', ' ', ' ', 'o', ' '],\n",
       "      'then',\n",
       "      [6,\n",
       "       [['if',\n",
       "         ['x', 'x', 'o', 'o', ' ', ' ', 'x', 'o', ' '],\n",
       "         'then',\n",
       "         [4,\n",
       "          [['if',\n",
       "            ['x', 'x', 'o', 'o', 'x', 'o', 'x', 'o', ' '],\n",
       "            'then',\n",
       "            [8, 'win']],\n",
       "           ['if',\n",
       "            ['x', 'x', 'o', 'o', 'x', ' ', 'x', 'o', 'o'],\n",
       "            'then',\n",
       "            [5, 'draw']]]]],\n",
       "        ['if',\n",
       "         ['x', 'x', 'o', ' ', 'o', ' ', 'x', 'o', ' '],\n",
       "         'then',\n",
       "         [3, 'win']],\n",
       "        ['if',\n",
       "         ['x', 'x', 'o', ' ', ' ', 'o', 'x', 'o', ' '],\n",
       "         'then',\n",
       "         [3, 'win']],\n",
       "        ['if',\n",
       "         ['x', 'x', 'o', ' ', ' ', ' ', 'x', 'o', 'o'],\n",
       "         'then',\n",
       "         [3, 'win']]]]],\n",
       "     ['if', ['x', 'x', ' ', 'o', ' ', ' ', ' ', 'o', ' '], 'then', [2, 'win']],\n",
       "     ['if', ['x', 'x', ' ', ' ', 'o', ' ', ' ', 'o', ' '], 'then', [2, 'win']],\n",
       "     ['if', ['x', 'x', ' ', ' ', ' ', 'o', ' ', 'o', ' '], 'then', [2, 'win']],\n",
       "     ['if', ['x', 'x', ' ', ' ', ' ', ' ', 'o', 'o', ' '], 'then', [2, 'win']],\n",
       "     ['if',\n",
       "      ['x', 'x', ' ', ' ', ' ', ' ', ' ', 'o', 'o'],\n",
       "      'then',\n",
       "      [2, 'win']]]]],\n",
       "  ['if',\n",
       "   ['x', ' ', ' ', ' ', ' ', ' ', ' ', ' ', 'o'],\n",
       "   'then',\n",
       "   [2,\n",
       "    [['if',\n",
       "      ['x', 'o', 'x', ' ', ' ', ' ', ' ', ' ', 'o'],\n",
       "      'then',\n",
       "      [3,\n",
       "       [['if',\n",
       "         ['x', 'o', 'x', 'x', 'o', ' ', ' ', ' ', 'o'],\n",
       "         'then',\n",
       "         [6, 'win']],\n",
       "        ['if',\n",
       "         ['x', 'o', 'x', 'x', ' ', 'o', ' ', ' ', 'o'],\n",
       "         'then',\n",
       "         [4,\n",
       "          [['if',\n",
       "            ['x', 'o', 'x', 'x', 'x', 'o', 'o', ' ', 'o'],\n",
       "            'then',\n",
       "            [7, 'draw']],\n",
       "           ['if',\n",
       "            ['x', 'o', 'x', 'x', 'x', 'o', ' ', 'o', 'o'],\n",
       "            'then',\n",
       "            [6, 'win']]]]],\n",
       "        ['if',\n",
       "         ['x', 'o', 'x', 'x', ' ', ' ', 'o', ' ', 'o'],\n",
       "         'then',\n",
       "         [7,\n",
       "          [['if',\n",
       "            ['x', 'o', 'x', 'x', 'o', ' ', 'o', 'x', 'o'],\n",
       "            'then',\n",
       "            [5, 'draw']],\n",
       "           ['if',\n",
       "            ['x', 'o', 'x', 'x', ' ', 'o', 'o', 'x', 'o'],\n",
       "            'then',\n",
       "            [4, 'draw']]]]],\n",
       "        ['if',\n",
       "         ['x', 'o', 'x', 'x', ' ', ' ', ' ', 'o', 'o'],\n",
       "         'then',\n",
       "         [6, 'win']]]]],\n",
       "     ['if', ['x', ' ', 'x', 'o', ' ', ' ', ' ', ' ', 'o'], 'then', [1, 'win']],\n",
       "     ['if', ['x', ' ', 'x', ' ', 'o', ' ', ' ', ' ', 'o'], 'then', [1, 'win']],\n",
       "     ['if', ['x', ' ', 'x', ' ', ' ', 'o', ' ', ' ', 'o'], 'then', [1, 'win']],\n",
       "     ['if', ['x', ' ', 'x', ' ', ' ', ' ', 'o', ' ', 'o'], 'then', [1, 'win']],\n",
       "     ['if',\n",
       "      ['x', ' ', 'x', ' ', ' ', ' ', ' ', 'o', 'o'],\n",
       "      'then',\n",
       "      [1, 'win']]]]]]]"
      ]
     },
     "metadata": {},
     "output_type": "display_data"
    },
    {
     "name": "stdout",
     "output_type": "stream",
     "text": [
      "CPU times: user 222 ms, sys: 0 ns, total: 222 ms\n",
      "Wall time: 219 ms\n"
     ]
    }
   ],
   "source": [
    "board = empty_board() \n",
    "\n",
    "print(\"Board:\")\n",
    "show_board(board)\n",
    "\n",
    "print()\n",
    "print(\"Win or draw:\")\n",
    "%time display(and_or_search(board, player = 'x', draw_is_win = True))"
   ]
  },
  {
   "cell_type": "code",
   "execution_count": 22,
   "metadata": {},
   "outputs": [
    {
     "name": "stdout",
     "output_type": "stream",
     "text": [
      "Win only:\n",
      "Number of nodes searched: 13023\n"
     ]
    },
    {
     "data": {
      "text/plain": [
       "None"
      ]
     },
     "metadata": {},
     "output_type": "display_data"
    },
    {
     "name": "stdout",
     "output_type": "stream",
     "text": [
      "CPU times: user 1.04 s, sys: 0 ns, total: 1.04 s\n",
      "Wall time: 1.04 s\n"
     ]
    }
   ],
   "source": [
    "print(\"Win only:\")\n",
    "%time display(and_or_search(board, player = 'x', draw_is_win = False))"
   ]
  },
  {
   "cell_type": "markdown",
   "metadata": {},
   "source": [
    "## Experiments\n",
    "\n",
    "\n",
    "### Baseline: Randomized Player\n",
    "\n",
    "A completely randomized player agent can be used as a weak baseline."
   ]
  },
  {
   "cell_type": "code",
   "execution_count": 23,
   "metadata": {},
   "outputs": [
    {
     "name": "stdout",
     "output_type": "stream",
     "text": [
      "[[' ' ' ' ' ']\n",
      " [' ' ' ' ' ']\n",
      " [' ' ' ' ' ']]\n",
      "CPU times: user 195 µs, sys: 0 ns, total: 195 µs\n",
      "Wall time: 190 µs\n"
     ]
    },
    {
     "data": {
      "text/plain": [
       "1"
      ]
     },
     "execution_count": 23,
     "metadata": {},
     "output_type": "execute_result"
    }
   ],
   "source": [
    "def random_player(board, player = None):\n",
    "    \"\"\"Simple player that chooses a random empy square (equal probability of all permissible actions). \n",
    "    player is unused.\"\"\"\n",
    "    return np.random.choice(actions(board))\n",
    "\n",
    "show_board(board)\n",
    "%time random_player(board)"
   ]
  },
  {
   "cell_type": "markdown",
   "metadata": {},
   "source": [
    "### The Environment\n",
    "\n",
    "Implement the environment that calls the agent. The percept is the board and the action is move."
   ]
  },
  {
   "cell_type": "code",
   "execution_count": 24,
   "metadata": {},
   "outputs": [],
   "source": [
    "def switch_player(player, x, o):\n",
    "    if player == 'x':\n",
    "        return 'o', o\n",
    "    else:\n",
    "        return 'x', x\n",
    "\n",
    "def play(x, o, N = 100):\n",
    "    \"\"\"Let two agents play each other N times. x starts. x and y are agent functions that \n",
    "    get the board as the percept and return their next action.\"\"\"\n",
    "    results = {'x': 0, 'o': 0, 'd': 0}\n",
    "    \n",
    "    for i in range(N):\n",
    "        board = empty_board()\n",
    "        player, fun = 'x', x\n",
    "        \n",
    "        while True:\n",
    "            a = fun(board, player)\n",
    "            board = result(board, player, a)\n",
    "            \n",
    "            win = check_win(board)   # returns the 'n' if the game is not done.\n",
    "            if win != 'n':\n",
    "                results[win] += 1\n",
    "                break\n",
    "            \n",
    "            player, fun = switch_player(player, x, o)   \n",
    "    \n",
    "    return results"
   ]
  },
  {
   "cell_type": "markdown",
   "metadata": {},
   "source": [
    "### Random vs. Random"
   ]
  },
  {
   "cell_type": "code",
   "execution_count": 25,
   "metadata": {},
   "outputs": [
    {
     "data": {
      "text/plain": [
       "{'x': 55, 'o': 34, 'd': 11}"
      ]
     },
     "metadata": {},
     "output_type": "display_data"
    },
    {
     "name": "stdout",
     "output_type": "stream",
     "text": [
      "CPU times: user 144 ms, sys: 13.1 ms, total: 157 ms\n",
      "Wall time: 141 ms\n"
     ]
    }
   ],
   "source": [
    "# timeit: n ... how many times to execute the statement, \n",
    "#         r ... how many times to repeat the timer (default 5)\n",
    "\n",
    "%time display(play(random_player, random_player, N = 100))"
   ]
  },
  {
   "cell_type": "markdown",
   "metadata": {},
   "source": [
    "_Note:_ It looks like the first player (x) has an advantage!"
   ]
  },
  {
   "cell_type": "markdown",
   "metadata": {},
   "source": [
    "### And-Or Tree Search vs. Random\n",
    "\n",
    "Put AND-OR search into a wrapper agent function. Note that if AND-OR search cannot guarantee a win then\n",
    "it does not return a plan, nut `None`. In this case, we do not know what the best (i.e., the least \"bad\") \n",
    "move is, so I make the agent play randomly. Other methods that we will learn about later can determine the utility of a move, even if it does not guarantee a win."
   ]
  },
  {
   "cell_type": "code",
   "execution_count": 26,
   "metadata": {},
   "outputs": [
    {
     "name": "stdout",
     "output_type": "stream",
     "text": [
      "and-or-search vs. random:\n"
     ]
    },
    {
     "data": {
      "text/plain": [
       "{'x': 96, 'o': 0, 'd': 4}"
      ]
     },
     "metadata": {},
     "output_type": "display_data"
    },
    {
     "name": "stdout",
     "output_type": "stream",
     "text": [
      "CPU times: user 7.25 s, sys: 0 ns, total: 7.25 s\n",
      "Wall time: 7.24 s\n",
      "\n",
      "random vs. and-or-search\n"
     ]
    },
    {
     "data": {
      "text/plain": [
       "{'x': 0, 'o': 78, 'd': 22}"
      ]
     },
     "metadata": {},
     "output_type": "display_data"
    },
    {
     "name": "stdout",
     "output_type": "stream",
     "text": [
      "CPU times: user 9.41 s, sys: 0 ns, total: 9.41 s\n",
      "Wall time: 9.4 s\n"
     ]
    }
   ],
   "source": [
    "DEBUG = 0\n",
    "\n",
    "def and_or_player(board, player = 'x'):\n",
    "    plan = and_or_search(board, player)\n",
    "\n",
    "    # if there is no plan then we do a random\n",
    "    if plan is None: \n",
    "        return np.random.choice(actions(board))\n",
    "    else:\n",
    "        return plan[0]\n",
    "\n",
    "\n",
    "\n",
    "print(\"and-or-search vs. random:\")\n",
    "%time display(play(and_or_player, random_player))\n",
    "\n",
    "print()\n",
    "print(\"random vs. and-or-search\")\n",
    "%time display(play(random_player, and_or_player))"
   ]
  },
  {
   "cell_type": "markdown",
   "metadata": {},
   "source": [
    "### And-Or Tree Search vs. And-Or Tree Search"
   ]
  },
  {
   "cell_type": "code",
   "execution_count": 27,
   "metadata": {
    "tags": []
   },
   "outputs": [
    {
     "data": {
      "text/plain": [
       "{'x': 0, 'o': 0, 'd': 1}"
      ]
     },
     "metadata": {},
     "output_type": "display_data"
    },
    {
     "name": "stdout",
     "output_type": "stream",
     "text": [
      "CPU times: user 215 ms, sys: 0 ns, total: 215 ms\n",
      "Wall time: 213 ms\n"
     ]
    }
   ],
   "source": [
    "# No randomness -> run only once\n",
    "\n",
    "%time display(play(and_or_player, and_or_player, N = 1))"
   ]
  },
  {
   "cell_type": "markdown",
   "metadata": {},
   "source": [
    "_Note:_ And-Or search produces a complete conditional plan and a better implementation would not have to rerun the algorithm for each move. "
   ]
  }
 ],
 "metadata": {
  "kernelspec": {
   "display_name": "Python 3 (ipykernel)",
   "language": "python",
   "name": "python3"
  },
  "language_info": {
   "codemirror_mode": {
    "name": "ipython",
    "version": 3
   },
   "file_extension": ".py",
   "mimetype": "text/x-python",
   "name": "python",
   "nbconvert_exporter": "python",
   "pygments_lexer": "ipython3",
   "version": "3.9.5"
  }
 },
 "nbformat": 4,
 "nbformat_minor": 4
}
