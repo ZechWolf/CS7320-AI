{
 "cells": [
  {
   "cell_type": "markdown",
   "metadata": {},
   "source": [
    "# Adversarial Search: Playing \"Mean\" Connect 4\n",
    "\n",
    "\n",
    "## Instructions\n",
    "\n",
    "Total Points: Undegraduates 10, graduate students 11\n",
    "\n",
    "Complete this notebook and submit it. The notebook needs to be a complete project report with your implementation, documentation including a short discussion of how your implementation works and your design choices, and experimental results (e.g., tables and charts with simulation results) with a short discussion of what they mean. Use the provided notebook cells and insert additional code and markdown cells as needed.\n",
    "\n",
    "## Introduction\n",
    "\n",
    "You will implement different versions of agents that play \"Mean\" Connect 4:\n",
    "\n",
    "> \"Connect 4 is a two-player connection board game, in which the players choose a color and then take turns dropping colored discs into a seven-column, six-row vertically suspended grid. The pieces fall straight down, occupying the lowest available space within the column. The objective of the game is to be the first to form a horizontal, vertical, or diagonal line of four of one's own discs.\" (see [Connect Four on Wikipedia](https://en.wikipedia.org/wiki/Connect_Four))\n",
    "\n",
    "> **The mean part:** This game has an additional rule. Every time it is a player's turn, the player can decide to instead of playing a new disk, take a bottom row disk of the opponent and place it in any column. All disks above the removed disk will fall down one position. Note that a player can only move an _opponent's disc_ that is in the _bottom row_ of the board.\n",
    "\n",
    "Note that normal [Connect-4 has been solved](https://en.wikipedia.org/wiki/Connect_Four#Mathematical_solution)\n",
    "in 1988. A connect-4 solver with a discussion of how to solve different parts of the problem can be found here: https://connect4.gamesolver.org/en/"
   ]
  },
  {
   "cell_type": "markdown",
   "metadata": {},
   "source": [
    "## Task 1: Defining the Search Problem [1 point]\n",
    "\n",
    "Define the components of the search problem associated with this game:\n",
    "\n",
    "* Initial state\n",
    "* Actions\n",
    "* Transition model\n",
    "* Test for the terminal state\n",
    "* Utility for terminal states"
   ]
  },
  {
   "cell_type": "markdown",
   "metadata": {},
   "source": [
    "__Initial State__\n",
    "\n",
    "The initial state is an empty board. In code, this will be represented by a 6x7 numpy array, where each element is 0 (0 represents empty)\n",
    "\n",
    "__Actions__\n",
    "\n",
    "The possible actions can be represented by the set $\\{0,1,2,3,4,5,6,7\\}$"
   ]
  },
  {
   "cell_type": "markdown",
   "metadata": {},
   "source": [
    "How big is the state space? Give an estimate and explain it."
   ]
  },
  {
   "cell_type": "markdown",
   "metadata": {},
   "source": [
    "There are 42 open spaces on the board, and each space can have three different values: red, yellow, or empty (1, -1, 0 in code). This means the upper bound for the state space size is:\n",
    "\n",
    "$3^{42} \\approx 1.09 \\times 10^{20}$\n",
    "\n",
    "However, not all permutations of the board are possible to achieve during a normal game, which is why this estimate is an upper bound."
   ]
  },
  {
   "cell_type": "markdown",
   "metadata": {},
   "source": [
    "How big is the game tree that minimax search will go through? Give an estimate and explain it."
   ]
  },
  {
   "cell_type": "code",
   "execution_count": 2,
   "metadata": {},
   "outputs": [],
   "source": [
    "# Your code/ answer goes here."
   ]
  },
  {
   "cell_type": "markdown",
   "metadata": {},
   "source": [
    "## Task 2: Game Environment and Random Agent [3 point]\n",
    "\n",
    "You can use a numpy character array as the board. Note that the following function can create boards of different sizes."
   ]
  },
  {
   "cell_type": "code",
   "execution_count": 3,
   "metadata": {},
   "outputs": [
    {
     "name": "stdout",
     "output_type": "stream",
     "text": [
      "[[0 0 0 0 0 0 0]\n",
      " [0 0 0 0 0 0 0]\n",
      " [0 0 0 0 0 0 0]\n",
      " [0 0 0 0 0 0 0]\n",
      " [0 0 0 0 0 0 0]\n",
      " [0 0 0 0 0 0 0]]\n"
     ]
    }
   ],
   "source": [
    "import numpy as np\n",
    "\n",
    "def empty_board(shape=(6, 7)):\n",
    "    return np.full(shape=shape, fill_value=0)\n",
    "\n",
    "print(empty_board())"
   ]
  },
  {
   "cell_type": "markdown",
   "metadata": {},
   "source": [
    "Instead of colors (red and yellow), you can use 1 and -1 to represent the players Max and Min. Make sure that your agent functions all have the from: `agent_type(board, player = 1)`, where board is the current board position and player is the player (1, -1) whose next move it is and who the agent should play."
   ]
  },
  {
   "cell_type": "markdown",
   "metadata": {},
   "source": [
    "Visualization code by Randolph Rankin:"
   ]
  },
  {
   "cell_type": "code",
   "execution_count": 4,
   "metadata": {
    "scrolled": true
   },
   "outputs": [
    {
     "data": {
      "image/png": "[encoded data removed]",
      "text/plain": [
       "<Figure size 432x288 with 1 Axes>"
      ]
     },
     "metadata": {
      "needs_background": "light"
     },
     "output_type": "display_data"
    }
   ],
   "source": [
    "import matplotlib.pyplot as plt\n",
    "\n",
    "def visualize(board):\n",
    "    plt.axes()\n",
    "    rectangle=plt.Rectangle((-0.5,len(board)*-1+0.5),len(board[0]),len(board),fc='blue')\n",
    "    circles=[]\n",
    "    for i,row in enumerate(board):\n",
    "        for j,val in enumerate(row):\n",
    "            color='white' if val==0 else 'red' if val==1 else 'yellow'\n",
    "            circles.append(plt.Circle((j,i*-1),0.4,fc=color))\n",
    "\n",
    "    plt.gca().add_patch(rectangle)\n",
    "    for circle in circles:\n",
    "        plt.gca().add_patch(circle)\n",
    "\n",
    "    plt.axis('scaled')\n",
    "    plt.show()\n",
    "    \n",
    "board = [[0, 0, 0, 0, 0, 0, 0],\n",
    "         [0, 0, 0, 0, 0, 0, 0],\n",
    "         [0, 0, 0, 0, 0, 0, 0],\n",
    "         [0, 0, 0, 1, 0, 0, 0],\n",
    "         [0, 0, 0, 1, 0, 0, 0],\n",
    "         [0,-1,-1, 1,-1, 0, 0]]\n",
    "\n",
    "visualize(board)"
   ]
  },
  {
   "cell_type": "markdown",
   "metadata": {},
   "source": [
    "Implement helper functions for:\n",
    "\n",
    "* The transition model $result(s, a)$.\n",
    "* The utility function $utility(s)$.\n",
    "* Check for terminal states $terminal(s)$.\n",
    "* A check for available actions in each state $actions(s)$.\n",
    "\n",
    "Make sure that all these functions work with boards of different sizes (number of columns and rows)."
   ]
  },
  {
   "cell_type": "code",
   "execution_count": 5,
   "metadata": {},
   "outputs": [
    {
     "data": {
      "image/png": "[encoded data removed]",
      "text/plain": [
       "<Figure size 432x288 with 1 Axes>"
      ]
     },
     "metadata": {
      "needs_background": "light"
     },
     "output_type": "display_data"
    },
    {
     "data": {
      "image/png": "[encoded data removed]",
      "text/plain": [
       "<Figure size 432x288 with 1 Axes>"
      ]
     },
     "metadata": {
      "needs_background": "light"
     },
     "output_type": "display_data"
    },
    {
     "data": {
      "image/png": "[encoded data removed]",
      "text/plain": [
       "<Figure size 432x288 with 1 Axes>"
      ]
     },
     "metadata": {
      "needs_background": "light"
     },
     "output_type": "display_data"
    }
   ],
   "source": [
    "def results(board, action):\n",
    "    \"\"\"\n",
    "    Updates the board according to the given action\n",
    "    Action is a tuple in the form (column 1, column 2, player)\n",
    "    Column 1: column to place the piece into if col2 is None, or column to take the opponents piece from otherwise\n",
    "    Column 2: column to replace the other players piece into, or -1 otherwise\n",
    "    No error checking in this function, make sure the agents only select legal moves\n",
    "    \"\"\"\n",
    "    b = board.copy()\n",
    "\n",
    "    if action is None: return\n",
    "    \n",
    "    col1, col2, plr = action\n",
    "\n",
    "    # Normal move\n",
    "    if col2 is None:\n",
    "        for i in range(b.shape[0] - 1, -1, -1): # place the piece in the lowest available row\n",
    "            if b[i][col1] == 0:\n",
    "                b[i][col1] = plr\n",
    "                break\n",
    "    else:\n",
    "        for i in range(b.shape[0] - 1, 0, -1): # Take out the bottom piece in col1, slide column down by 1\n",
    "            b[i][col1] = b[i-1][col1]\n",
    "\n",
    "        for i in range(b.shape[0] - 1, -1, -1): # Place the opponent's piece in col2\n",
    "            if b[i][col2] == 0:\n",
    "                b[i][col2] = -plr\n",
    "                break\n",
    "\n",
    "    return b\n",
    "\n",
    "b = empty_board()\n",
    "results(b, (3, None, -1))\n",
    "results(b, (2, None, 1))\n",
    "results(b, (3, None, -1))\n",
    "results(b, (3, None, 1))\n",
    "results(b, (3, None, -1))\n",
    "visualize(b)\n",
    "results(b, (3, 0, 1))\n",
    "visualize(b)\n",
    "results(b, (3, 0, 1))\n",
    "visualize(b)"
   ]
  },
  {
   "cell_type": "markdown",
   "metadata": {},
   "source": [
    "__Terminal function__"
   ]
  },
  {
   "cell_type": "code",
   "execution_count": 68,
   "metadata": {},
   "outputs": [],
   "source": [
    "# Inspired by code on StackOVerflow found here: https://stackoverflow.com/questions/29949169/python-connect-4-check-win-function\n",
    "from scipy.signal import convolve2d\n",
    "\n",
    "def terminal(board):\n",
    "    \"\"\"Returns true if the board is a terminal state\n",
    "    lastMove is a tuple (row, column) of the most recent move\"\"\"\n",
    "\n",
    "    if 0 not in board: return 0 # draw state\n",
    "\n",
    "    cpBoard = np.copy(board) # copy the board for transpositions\n",
    "\n",
    "    rowKernel = np.array([[1, 1, 1, 1]]) # horizontal and vertical\n",
    "    diagKernel = np.eye(4)\n",
    "\n",
    "    for kernel in [rowKernel, diagKernel]:\n",
    "        result = convolve2d(cpBoard, kernel, mode=\"valid\")\n",
    "        if (result == 4).any():\n",
    "            return 1\n",
    "        if (result == -4).any():\n",
    "            return -1\n",
    "\n",
    "        # Transpose board\n",
    "        cpBoard = np.transpose(cpBoard)\n",
    "        result = convolve2d(cpBoard, kernel, mode=\"valid\")\n",
    "        if (result == 4).any():\n",
    "            return 1\n",
    "        if (result == -4).any():\n",
    "            return -1\n",
    "    \n",
    "    return None # non terminal state"
   ]
  },
  {
   "cell_type": "code",
   "execution_count": 61,
   "metadata": {},
   "outputs": [
    {
     "data": {
      "image/png": "[encoded data removed]",
      "text/plain": [
       "<Figure size 432x288 with 1 Axes>"
      ]
     },
     "metadata": {
      "needs_background": "light"
     },
     "output_type": "display_data"
    },
    {
     "data": {
      "text/plain": [
       "0.2"
      ]
     },
     "execution_count": 61,
     "metadata": {},
     "output_type": "execute_result"
    }
   ],
   "source": [
    "def utility(board):\n",
    "    \"\"\"Returns a utility score for the board\n",
    "    0.1 is added to the score for each instance of a three in a row\n",
    "    0.1 is subtracted for each instance of a three in a row for the opposing player\"\"\"\n",
    "\n",
    "    if terminal(board) is not None:\n",
    "        return terminal(board)\n",
    "\n",
    "\n",
    "    cpBoard = np.copy(board) # copy the board for transpositions\n",
    "\n",
    "    rowKernel1 = np.array([[1, 1, 1, 0]]) # horizontal and vertical\n",
    "    rowKernel2 = np.array([[0, 1, 1, 1]])\n",
    "    diagKernel = np.eye(3)\n",
    "\n",
    "    score = 0\n",
    "\n",
    "    for kernel in [rowKernel1, rowKernel2, diagKernel]:\n",
    "        result = convolve2d(cpBoard, kernel, mode=\"valid\")\n",
    "        score += 0.1 * (result == 3).sum()\n",
    "        score -= 0.1 * (result == -3).sum()\n",
    "\n",
    "        # Transpose board\n",
    "        cpBoard = np.transpose(cpBoard)\n",
    "        result = convolve2d(cpBoard, kernel, mode=\"valid\")\n",
    "        score += 0.1 * (result == 3).sum()\n",
    "        score -= 0.1 * (result == -3).sum()\n",
    "    \n",
    "    return score\n",
    "\n",
    "board = empty_board()\n",
    "results(board, (3, None, 1))\n",
    "results(board, (3, None, 1))\n",
    "results(board, (3, None, 1))\n",
    "results(board, (2, None, -1))\n",
    "results(board, (2, None, -1))\n",
    "results(board, (2, None, -1))\n",
    "results(board, (4, None, 1))\n",
    "results(board, (5, None, 1))\n",
    "results(board, (4, None, 1))\n",
    "visualize(board)\n",
    "\n",
    "utility(board)\n"
   ]
  },
  {
   "cell_type": "code",
   "execution_count": 67,
   "metadata": {},
   "outputs": [
    {
     "data": {
      "text/plain": [
       "[(0, None, 1),\n",
       " (1, None, 1),\n",
       " (2, None, 1),\n",
       " (3, None, 1),\n",
       " (4, None, 1),\n",
       " (5, None, 1),\n",
       " (6, None, 1)]"
      ]
     },
     "execution_count": 67,
     "metadata": {},
     "output_type": "execute_result"
    }
   ],
   "source": [
    "def getActions(board, plr):\n",
    "    numRows, numCols = board.shape\n",
    "    legalCols = [col for col in range(numCols) if board[0][col] == 0] # List of columns that arent full\n",
    "    legalMeanCols = [col for col in range(numCols) if board[numRows - 1][col] == -plr] # List of columns where the mean move is legal\n",
    "\n",
    "    moves = [(col1, None, plr) for col1 in legalCols] # legal normal moves\n",
    "    \n",
    "    for col in legalMeanCols:\n",
    "        moves += [(col, col2, plr) for col2 in legalCols] # add legal mean moves\n",
    "\n",
    "    return moves\n",
    "    \n"
   ]
  },
  {
   "cell_type": "markdown",
   "metadata": {},
   "source": [
    "__Random move__"
   ]
  },
  {
   "cell_type": "code",
   "execution_count": 9,
   "metadata": {},
   "outputs": [],
   "source": [
    "def randMove(board, plr):\n",
    "    \"\"\"Returns a random choice from among the legal moves\"\"\"\n",
    "\n",
    "    numRows, numCols = board.shape\n",
    "    legalCols = [col for col in range(numCols) if board[0][col] == 0] # List of columns that arent full\n",
    "    legalMeanCols = [col for col in range(numCols) if board[numRows - 1][col] == -plr] # List of columns where the mean move is legal\n",
    "\n",
    "    if np.random.uniform() < 0.5 or len(legalMeanCols) == 0: # 50% chance to choose between normal move and mean move (if mean move is possible)\n",
    "        randCol = np.random.choice(legalCols)\n",
    "        return (randCol, -1, plr)\n",
    "    else:\n",
    "        randMeanCol = np.random.choice(legalMeanCols)\n",
    "        return (randMeanCol, np.random.choice(legalCols), plr)"
   ]
  },
  {
   "cell_type": "markdown",
   "metadata": {},
   "source": [
    "Implement an agent that plays randomly. Make sure the agent function receives as the percept the board and returns a valid action. Use an agent function definition with the following signature (arguments):\n",
    "\n",
    "`def random_player(board, player = None): ...`\n",
    "\n",
    "The argument `player` is used for agents that do not store what side they are playing. The value passed on bt yhe environment should be 1 ot -1 for playerred and yellow, respectively.  See [Experiments section for tic-tac-toe](https://nbviewer.org/github/mhahsler/CS7320-AI/blob/master/Games/tictactoe_and_or_tree_search.ipynb#Experiments) for an example."
   ]
  },
  {
   "cell_type": "code",
   "execution_count": 10,
   "metadata": {},
   "outputs": [],
   "source": [
    "def randAgent(board, plr):\n",
    "    \"\"\"Random agent function\n",
    "    Accepts the board and the player as arguments, and randomly returns a legal move\n",
    "    \"\"\"\n",
    "\n",
    "    numRows, numCols = board.shape\n",
    "    legalCols = [col for col in range(numCols) if board[0][col] == 0] # List of columns that arent full\n",
    "    legalMeanCols = [col for col in range(numCols) if board[numRows - 1][col] == -plr] # List of columns where the mean move is legal\n",
    "\n",
    "    if len(legalCols) == 0: return None # board is full, no actions possible\n",
    "\n",
    "    if np.random.uniform() < 0.5 or len(legalMeanCols) == 0: # 50% chance to choose between normal move and mean move (if mean move is possible)\n",
    "        randCol = np.random.choice(legalCols)\n",
    "        return (randCol, None, plr)\n",
    "    else:\n",
    "        randMeanCol = np.random.choice(legalMeanCols)\n",
    "        return (randMeanCol, np.random.choice(legalCols), plr)"
   ]
  },
  {
   "cell_type": "code",
   "execution_count": 11,
   "metadata": {},
   "outputs": [],
   "source": [
    "def play(agent1, agent2, debugMode=None, shape=(6,7)):\n",
    "    \"\"\"Play a single game with the given agents\n",
    "    debugMode: None - no visualization\n",
    "               results - show the final board\n",
    "               all - show the board after each move\n",
    "    \"\"\"\n",
    "    board = empty_board(shape)\n",
    "    while terminal(board) is None:\n",
    "        results(board, agent1(board, 1))\n",
    "        if debugMode == \"all\": visualize(board)\n",
    "        if terminal(board) != None: break\n",
    "\n",
    "        results(board, agent2(board, -1))\n",
    "        if debugMode == \"all\": visualize(board)\n",
    "    \n",
    "    if debugMode == \"results\": visualize(board)\n",
    "    return terminal(board)"
   ]
  },
  {
   "cell_type": "markdown",
   "metadata": {},
   "source": [
    "Let two random agents play against each other 1000 times. Look at the [Experiments section for tic-tac-toe](https://nbviewer.org/github/mhahsler/CS7320-AI/blob/master/Games/tictactoe_and_or_tree_search.ipynb#Experiments) to see how the environment uses the agent functions to play against each other.\n",
    "\n",
    "How often does each player win? Is the result expected?"
   ]
  },
  {
   "cell_type": "code",
   "execution_count": 12,
   "metadata": {},
   "outputs": [
    {
     "name": "stdout",
     "output_type": "stream",
     "text": [
      "70.9 29.1 0.0\n"
     ]
    }
   ],
   "source": [
    "p1Wins = 0\n",
    "p2Wins = 0\n",
    "draws = 0\n",
    "for _ in range(1000):\n",
    "    game = play(randAgent, randAgent)\n",
    "    if game == 1: p1Wins += 1\n",
    "    elif game == -1: p2Wins += 1\n",
    "    elif game == 0: draws += 1\n",
    "    else: pass\n",
    "\n",
    "print(p1Wins/10, p2Wins/10, draws/10)"
   ]
  },
  {
   "cell_type": "markdown",
   "metadata": {},
   "source": [
    "## Task 3: Minimax Search with Alpha-Beta Pruning [3 points]\n",
    "\n",
    "### Implement the search starting.\n",
    "\n",
    "Implement the search starting from a given board and specifying the player and put it into an agent function.\n",
    "You can use code from the [tic-tac-toe example](https://nbviewer.org/github/mhahsler/CS7320-AI/blob/master/Games/tictactoe_alpha_beta_tree_search.ipynb).\n",
    "\n",
    "__Notes:__ \n",
    "* Make sure that all your agent functions have a signature consistent with the random agent above.\n",
    "* The search space for a $6 \\times 7$ board is large. You can experiment with smaller boards (the smallest is $4 \\times 4$) and/or changing the winning rule to connect 3 instead of 4."
   ]
  },
  {
   "cell_type": "code",
   "execution_count": null,
   "metadata": {},
   "outputs": [],
   "source": [
    "import math\n",
    "\n",
    "# global variables\n",
    "DEBUG = 1 # 1 ... count nodes, 2 ... debug each node\n",
    "COUNT = 0\n",
    "\n",
    "def alphaBetaSearch(board, cutoff = None, player = 'x'):\n",
    "    \"\"\"start the search. cutoff = None is minimax search with alpha-beta pruning.\"\"\"\n",
    "    global DEBUG, COUNT\n",
    "    COUNT = 0\n",
    "\n",
    "    value, move = maxValueAb(board, player, -math.inf, +math.inf, 0, cutoff)\n",
    "    \n",
    "    if DEBUG >= 1: print(f\"Number of nodes searched (cutoff = {cutoff}): {COUNT}\") \n",
    "    \n",
    "    return {\"move\": move, \"value\": value}\n",
    "\n",
    "def maxValueAb(board, plr, alpha, beta, depth, cutoff):\n",
    "    \"\"\"player's best move.\"\"\"\n",
    "    global DEBUG, COUNT\n",
    "    COUNT += 1\n",
    "    \n",
    "    # cut off and terminal test\n",
    "    v = utility(board)\n",
    "    term = terminal(board)\n",
    "    if ((cutoff is not None and depth >= cutoff) or term):\n",
    "        if term: \n",
    "            alpha, beta = v, v\n",
    "        if DEBUG >= 2: print(f\"stopped at {depth}: {board} term: {term} eval: {v} [{alpha}, {beta}]\" )\n",
    "        return v, None\n",
    "    \n",
    "    v, move = -math.inf, None\n",
    "\n",
    "    # check all possible actions in the state, update alpha and return move with the largest value\n",
    "    for a in getActions(board, plr):\n",
    "        v2, a2 = minValueAb(results(board, plr, a), plr, alpha, beta, depth + 1, cutoff)\n",
    "        if v2 > v:\n",
    "            v, move = v2, a\n",
    "            alpha = max(alpha, v)\n",
    "        if v >= beta: return v, move\n",
    "    \n",
    "    return v, move\n",
    "\n",
    "def minValueAb(board, plr, alpha, beta, depth, cutoff):\n",
    "    \"\"\"opponent's best response.\"\"\"\n",
    "    global DEBUG, COUNT\n",
    "    COUNT += 1\n",
    "    \n",
    "    # cut off and terminal test\n",
    "    v = utility(board)\n",
    "    term = terminal(board)\n",
    "    if ((cutoff is not None and depth >= cutoff) or term):\n",
    "        if (term):\n",
    "            alpha, beta = v, v\n",
    "        if DEBUG >= 2: print(f\"stopped at {depth}: {board} term: {term} eval: {v} [{alpha}, {beta}]\" )\n",
    "        return v, None\n",
    "    \n",
    "    v, move = +math.inf, None\n",
    "\n",
    "    # check all possible actions in the state, update beta and return move with the smallest value\n",
    "    for a in getActions(board, plr):\n",
    "        v2, a2 = maxValueAb(results(board, -plr, a), plr, alpha, beta, depth + 1, cutoff)\n",
    "        if v2 < v:\n",
    "            v, move = v2, a\n",
    "            beta = min(beta, v)\n",
    "        if v <= alpha: return v, move\n",
    "    \n",
    "    return v, move"
   ]
  },
  {
   "cell_type": "markdown",
   "metadata": {},
   "source": [
    "Experiment with some manually created boards (at least 5) to check if the agent spots winning opportunities."
   ]
  },
  {
   "cell_type": "code",
   "execution_count": 13,
   "metadata": {},
   "outputs": [],
   "source": [
    "# Your code/ answer goes here."
   ]
  },
  {
   "cell_type": "markdown",
   "metadata": {},
   "source": [
    "How long does it take to make a move? Start with a smaller board with 4 columns and make the board larger by adding columns."
   ]
  },
  {
   "cell_type": "code",
   "execution_count": 14,
   "metadata": {},
   "outputs": [],
   "source": [
    "# Your code/ answer goes here."
   ]
  },
  {
   "cell_type": "markdown",
   "metadata": {},
   "source": [
    "### Move ordering\n",
    "\n",
    "Starting the search with better moves will increase the efficiency of alpha-beta pruning. Describe and implement a simple move ordering strategy. Make a table that shows how the ordering strategies influence the time it takes to make a move?"
   ]
  },
  {
   "cell_type": "code",
   "execution_count": 15,
   "metadata": {},
   "outputs": [],
   "source": [
    "# Your code/ answer goes here."
   ]
  },
  {
   "cell_type": "markdown",
   "metadata": {},
   "source": [
    "### The first few moves\n",
    "\n",
    "Start with an empty board. This is the worst case scenario for minimax search with alpha-beta pruning since it needs solve all possible games that can be played (minus some pruning) before making the decision. What can you do? "
   ]
  },
  {
   "cell_type": "code",
   "execution_count": 16,
   "metadata": {},
   "outputs": [],
   "source": [
    "# Your code/ answer goes here."
   ]
  },
  {
   "cell_type": "markdown",
   "metadata": {},
   "source": [
    "### Playtime\n",
    "\n",
    "Let the Minimax Search agent play a random agent on a small board. Analyze wins, losses and draws."
   ]
  },
  {
   "cell_type": "code",
   "execution_count": 17,
   "metadata": {},
   "outputs": [],
   "source": [
    "# Your code/ answer goes here."
   ]
  },
  {
   "cell_type": "markdown",
   "metadata": {},
   "source": [
    "## Task 4: Heuristic Alpha-Beta Tree Search [3 points] \n",
    "\n",
    "### Heuristic evaluation function\n",
    "\n",
    "Define and implement a heuristic evaluation function."
   ]
  },
  {
   "cell_type": "code",
   "execution_count": 18,
   "metadata": {},
   "outputs": [],
   "source": [
    "# Your code/ answer goes here."
   ]
  },
  {
   "cell_type": "markdown",
   "metadata": {},
   "source": [
    "### Cutting off search \n",
    "\n",
    "Modify your Minimax Search with Alpha-Beta Pruning to cut off search at a specified depth and use the heuristic evaluation function. Experiment with different cutoff values."
   ]
  },
  {
   "cell_type": "code",
   "execution_count": 19,
   "metadata": {},
   "outputs": [],
   "source": [
    "# Your code/ answer goes here."
   ]
  },
  {
   "cell_type": "markdown",
   "metadata": {},
   "source": [
    "Experiment with the same manually created boards as above to check if the agent spots winning opportunities."
   ]
  },
  {
   "cell_type": "code",
   "execution_count": 20,
   "metadata": {},
   "outputs": [],
   "source": [
    "# Your code/ answer goes here."
   ]
  },
  {
   "cell_type": "markdown",
   "metadata": {},
   "source": [
    "How long does it take to make a move? Start with a smaller board with 4 columns and make the board larger by adding columns."
   ]
  },
  {
   "cell_type": "code",
   "execution_count": 21,
   "metadata": {},
   "outputs": [],
   "source": [
    "# Your code/ answer goes here."
   ]
  },
  {
   "cell_type": "markdown",
   "metadata": {},
   "source": [
    "### Playtime\n",
    "\n",
    "Let two heuristic search agents (different cutoff depth, different heuristic evaluation function) compete against each other on a reasonably sized board. Since there is no randomness, you only need to let them play once."
   ]
  },
  {
   "cell_type": "code",
   "execution_count": 22,
   "metadata": {},
   "outputs": [],
   "source": [
    "# Your code/ answer goes here."
   ]
  },
  {
   "cell_type": "markdown",
   "metadata": {},
   "source": [
    "## Tournament task [+ 1 to 5 bonus point will be assigned separately]\n",
    "\n",
    "Find another student and let your best agent play against the other student's best player. You are allowed to use any improvements you like as long as you code it yourself. We will set up a class tournament on Canvas. This tournament will continue after the submission deadline."
   ]
  },
  {
   "cell_type": "markdown",
   "metadata": {},
   "source": [
    "## Graduate student advanced task: Pure Monte Carlo Search and Best First Move [1 point]\n",
    "\n",
    "__Undergraduate students:__ This is a bonus task you can attempt if you like [+1 Bonus point].\n",
    "\n",
    "### Pure Monte Carlo Search\n",
    "\n",
    "Implement Pure Monte Carlo Search (see [tic-tac-toe-example](https://nbviewer.org/github/mhahsler/CS7320-AI/blob/master/Games/tictactoe_pure_monte_carlo_search.ipynb)) and investigate how this search performs on the test boards that you have used above. "
   ]
  },
  {
   "cell_type": "code",
   "execution_count": 23,
   "metadata": {},
   "outputs": [],
   "source": [
    "# Your code/ answer goes here."
   ]
  },
  {
   "cell_type": "markdown",
   "metadata": {},
   "source": [
    "### Best First Move\n",
    "\n",
    "How would you determine what the best first move for a standard board ($6 \\times 7$) is? You can use Pure Monte Carlo Search or any algorithms that you have implemented above."
   ]
  },
  {
   "cell_type": "code",
   "execution_count": 24,
   "metadata": {},
   "outputs": [],
   "source": [
    "# Your code/ answer goes here."
   ]
  }
 ],
 "metadata": {
  "kernelspec": {
   "display_name": "Python 3 (ipykernel)",
   "language": "python",
   "name": "python3"
  },
  "language_info": {
   "codemirror_mode": {
    "name": "ipython",
    "version": 3
   },
   "file_extension": ".py",
   "mimetype": "text/x-python",
   "name": "python",
   "nbconvert_exporter": "python",
   "pygments_lexer": "ipython3",
   "version": "3.8.10"
  }
 },
 "nbformat": 4,
 "nbformat_minor": 4
}
