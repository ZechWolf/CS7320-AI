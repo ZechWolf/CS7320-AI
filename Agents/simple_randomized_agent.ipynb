{
 "cells": [
  {
   "cell_type": "markdown",
   "source": [
    "# Intelligent Agents: Reflex Agents for the Vacuum-cleaner World\n",
    "\n",
    "\n",
    "## Instructions\n",
    "\n",
    "Total Points: undergrad 10, graduate students 11\n",
    "\n",
    "Complete this notebook and submit it. The notebook needs to be a complete project report with \n",
    "\n",
    "* your implementation (you can use libraries like math, numpy, scipy, but not libraries that implement inteligent agents or search algorithms),\n",
    "* documentation including a short discussion of how your implementation works and your design choices, and\n",
    "* experimental results (e.g., tables and charts with simulation results) with a short discussion of what they mean. \n",
    "\n",
    "Use the provided notebook cells and insert additional code and markdown cells as needed.\n",
    "\n",
    "## Introduction\n",
    "\n",
    "In this assignment you will implement a simulator environment for an automatic vacuum cleaner robot, a set of different reflex agent programs, and perform a comparison study for cleaning a single room. Focus on the __cleaning phase__ which starts when the robot is activated and ends when the last dirty square is cleaned. Someone else will take care of the agent program needed to navigate back to the charging station after the room is clean.\n",
    "\n",
    "## PEAS description of the cleaning phase\n",
    "\n",
    "__Performance Measure:__ Each action costs 1 energy unit. The performance is measured as the sum of the energy units used to clean the whole room.\n",
    "\n",
    "__Environment:__ A room with $n \\times n$ squares where $n = 5$. Dirt is randomly placed on each square with probability $p = 0.2$. For simplicity, you can assume that the agent knows the size and the layout of the room (i.e., it knows $n$). To start, the agent is placed on a random square.\n",
    "\n",
    "__Actuators:__ The agent can clean the current square (action `suck`) or move to an adjacent square by going `north`, `east`, `south`, or `west`.\n",
    "\n",
    "__Sensors:__ Four bumper sensors, one for north, east, south, and west; a dirt sensor reporting dirt in the current square.  \n",
    "\n",
    "\n",
    "## The agent program for a simple randomized agent\n",
    "\n",
    "The agent program is a function that gets sensor information (the current percepts) as the arguments. The arguments are:\n",
    "\n",
    "* A dictionary with boolean entries for the for bumper sensors `north`, `east`, `west`, `south`. E.g., if the agent is on the north-west corner, `bumpers` will be `{\"north\" : True, \"east\" : False, \"south\" : False, \"west\" : True}`.\n",
    "* The dirt sensor produces a boolean.\n",
    "\n",
    "The agent returns the chosen action as a string.\n",
    "\n",
    "Here is an example implementation for the agent program of a simple randomized agent:  "
   ],
   "metadata": {}
  },
  {
   "cell_type": "code",
   "execution_count": 3,
   "source": [
    "import numpy as np\n",
    "\n",
    "actions = [\"north\", \"east\", \"west\", \"south\", \"suck\"]\n",
    "\n",
    "def simple_randomized_agent(bumpers, dirty):\n",
    "    return np.random.choice(actions)"
   ],
   "outputs": [],
   "metadata": {}
  },
  {
   "cell_type": "code",
   "execution_count": 4,
   "source": [
    "# define percepts (current location is NW corner and it is dirty)\n",
    "bumpers = {\"north\" : True, \"east\" : False, \"south\" : False, \"west\" : True}\n",
    "dirty = True\n",
    "\n",
    "# call agent program function with percepts and it returns an action\n",
    "simple_randomized_agent(bumpers, dirty)"
   ],
   "outputs": [
    {
     "output_type": "execute_result",
     "data": {
      "text/plain": [
       "'west'"
      ]
     },
     "metadata": {},
     "execution_count": 4
    }
   ],
   "metadata": {}
  },
  {
   "cell_type": "markdown",
   "source": [
    "__Note:__ This is not a rational intelligent agent. It ignores its sensors and may bump into a wall repeatedly or not clean a dirty square. You will be asked to implement rational agents below."
   ],
   "metadata": {}
  },
  {
   "cell_type": "markdown",
   "source": [
    "## Simple environment example\n",
    "\n",
    "We implement a simple simulation environment that supplies the agent with its percepts.\n",
    "The simple environment is infinite in size (bumpers are always `False`) and every square is always dirty, even if the agent cleans it. The environment function returns a performance measure which is here the number of cleaned squares (since the room is infinite and all squares are constantly dirty, the agent can never clean the whole room as required in the PEAS description above). The energy budget of the agent is specified as `max_steps`. "
   ],
   "metadata": {}
  },
  {
   "cell_type": "code",
   "execution_count": 3,
   "source": [
    "def simple_environment(agent, max_steps, verbose = True):\n",
    "    num_cleaned = 0\n",
    "    \n",
    "    for i in range(max_steps):\n",
    "        dirty = True\n",
    "        bumpers = {\"north\" : False, \"south\" : False, \"west\" : False, \"east\" : False}\n",
    "\n",
    "        action = agent(bumpers, dirty)\n",
    "        if (verbose): print(\"step\", i , \"- action:\", action) \n",
    "        \n",
    "        if (action == \"suck\"): \n",
    "            num_cleaned = num_cleaned + 1\n",
    "        \n",
    "    return num_cleaned\n",
    "        \n"
   ],
   "outputs": [],
   "metadata": {}
  },
  {
   "cell_type": "markdown",
   "source": [
    "Do one simulation run with a simple randomized agent that has enough energy for 20 steps."
   ],
   "metadata": {}
  },
  {
   "cell_type": "code",
   "execution_count": 4,
   "source": [
    "simple_environment(simple_randomized_agent, max_steps = 20)"
   ],
   "outputs": [
    {
     "output_type": "stream",
     "name": "stdout",
     "text": [
      "step 0 - action: south\n",
      "step 1 - action: east\n",
      "step 2 - action: east\n",
      "step 3 - action: south\n",
      "step 4 - action: north\n",
      "step 5 - action: suck\n",
      "step 6 - action: east\n",
      "step 7 - action: suck\n",
      "step 8 - action: suck\n",
      "step 9 - action: west\n",
      "step 10 - action: south\n",
      "step 11 - action: north\n",
      "step 12 - action: suck\n",
      "step 13 - action: north\n",
      "step 14 - action: north\n",
      "step 15 - action: east\n",
      "step 16 - action: north\n",
      "step 17 - action: east\n",
      "step 18 - action: suck\n",
      "step 19 - action: south\n"
     ]
    },
    {
     "output_type": "execute_result",
     "data": {
      "text/plain": [
       "5"
      ]
     },
     "metadata": {},
     "execution_count": 4
    }
   ],
   "metadata": {}
  },
  {
   "cell_type": "markdown",
   "source": [
    "# Tasks\n",
    "\n",
    "_Submission Instructions:_ Use this notebook to prepare your submission. Complete this section with your code and results. You can add additional Markdown blocks for your description, comments in the code and use mathplotlib to produce charts. \n",
    "\n",
    "_Note:_ Try to keep the code simple! In this course, we want to learn about the algorithms and we often do not need to use object-oriented design. \n",
    "\n",
    "\n",
    "## Task 1: Implement a simulation environment [2 Points]\n",
    "\n",
    "The simple environment above is not very realistic. Your environment simulator needs to follow the PEAS description from above. It needs to:\n",
    "\n",
    "* Initialize the environment by storing the state of each square (clean/dirty) and making some dirty.\n",
    "* Keep track of the agent's position.\n",
    "* Call the agent function repeatedly and provide the agent function with the sensor inputs.  \n",
    "* React to the agent's actions. E.g, by removing dirt from a square or moving the agent around unless there is a wall in the way.\n",
    "* Keep track of the performance measure. That is, track the agent's actions until all dirty squares are clean and count the number of actions it takes the agent to complete the task.\n",
    "\n",
    "The easiest implementation for the environment is to hold an 2-dimensional array to represent if squares are clean or dirty and to call the agent function in a loop until all squares are clean or a predefined number of steps have been reached (i.e., the robot runs out of energy).\n",
    "\n",
    "The simulation environment needs to work with the simple randomized agent program from above and then it can be used for your agent implementation in the tasks below."
   ],
   "metadata": {}
  },
  {
   "cell_type": "code",
   "execution_count": 5,
   "source": [
    "#PLOTTING CODE BORROWED FROM CLASS\n",
    "\n",
    "import numpy as np\n",
    "import matplotlib.pyplot as plt\n",
    "from matplotlib import colors\n",
    "\n",
    "def show_room(room, pos, fontsize = 24):  \n",
    "    \"\"\"display room and robot\n",
    "    \n",
    "    Parameters\n",
    "    ----------\n",
    "    room : bool 2d array\n",
    "        Dirt locations in the room.\n",
    "    pos : list of 2 int values\n",
    "        x and y location of the robot.\n",
    "    fint_size : int\n",
    "        size of the robot symbol.\n",
    "    \"\"\"\n",
    "    \n",
    "    cmap = colors.ListedColormap(['white', 'gray'])\n",
    "    \n",
    "    room = np.copy(room)    \n",
    "    room = room.astype(np.int64)\n",
    "    \n",
    "    fig, ax = plt.subplots()\n",
    "    ax.imshow(room, cmap = cmap, norm = colors.BoundaryNorm(list(range(cmap.N+1)), cmap.N))\n",
    "    \n",
    "    plt.text(pos[1], pos[0], u\"\\u2B24\", fontsize = fontsize,\n",
    "                 horizontalalignment = 'center', verticalalignment = 'center')\n",
    "    \n",
    "    plt.show()\n",
    "    \n",
    "#END BORROWED CODE\n",
    "\n",
    "def environmentSimulation(agent, maxSteps, roomSize, verbose):\n",
    "    \n",
    "    #Initialize environment as empty 5x5 bool array, where dirty = True and clean = False\n",
    "    enviro = np.empty((roomSize,roomSize), bool)\n",
    "    numDirty = 0 #keeps track of number of dirty squares, used for telling if the program is finished\n",
    "\n",
    "    #Iterate through and assign random values for clean and dirty\n",
    "    for i in range(roomSize):\n",
    "        for j in range(roomSize):\n",
    "            #Assign squares as dirty or clean, 20% chance of being dirty (dirty = True)\n",
    "            chance = np.random.randint(1, 100)\n",
    "\n",
    "            if chance <= 20: #20/100 chance of being dirty\n",
    "                enviro[i,j] = True\n",
    "                numDirty += 1\n",
    "            else:\n",
    "                enviro[i,j] = False\n",
    "    \n",
    "    #Initialize agent information\n",
    "    agentPos = [np.random.randint(0,roomSize - 1), np.random.randint(0,roomSize - 1)] #position is stored as a list [x,y] where x is the row number and y is the column number\n",
    "    numActions = 0\n",
    "    \n",
    "    #Init bumpers\n",
    "    bumpers = {\"north\" : False, \"south\" : False, \"west\" : False, \"east\" : False}\n",
    "    if agentPos[0] == 0:\n",
    "        bumpers[\"north\"] = True\n",
    "    elif agentPos[0] == (roomSize - 1):\n",
    "        bumpers[\"south\"] = True\n",
    "    else:\n",
    "        bumpers[\"north\"] = False\n",
    "        bumpers[\"south\"] = False\n",
    "\n",
    "    if agentPos[1] == 0:\n",
    "        bumpers[\"west\"] = True\n",
    "    elif agentPos[1] == (roomSize - 1):\n",
    "        bumpers[\"east\"] = True\n",
    "    else:\n",
    "        bumpers[\"west\"] = False\n",
    "        bumpers[\"east\"] = False\n",
    "        \n",
    "    #Initial display\n",
    "    #if verbose: show_room(enviro, agentPos)\n",
    "    \n",
    "    #Agent function loop\n",
    "    while numDirty > 0 and numActions < maxSteps:\n",
    "        dirty = enviro[agentPos[0], agentPos[1]]\n",
    "        action = agent(bumpers, dirty) #Run agent function\n",
    "        if action == \"\": break #None action means the agent has finished cleaning\n",
    "        numActions += 1\n",
    "        if action != \"suck\" and bumpers[action]: continue\n",
    "        \n",
    "        \n",
    "        #Process result of agent function and update information\n",
    "        if action == \"north\":\n",
    "            agentPos[0] -= 1\n",
    "        elif action == \"south\":\n",
    "            agentPos[0] += 1\n",
    "        elif action == \"east\":\n",
    "            agentPos[1] += 1\n",
    "        elif action == \"west\":\n",
    "            agentPos[1] -= 1\n",
    "        elif action == \"suck\" and enviro[agentPos[0], agentPos[1]]:\n",
    "            enviro[agentPos[0], agentPos[1]] = False #square is now clean\n",
    "            numDirty -= 1\n",
    "        \n",
    "        #Update bumpers\n",
    "        if agentPos[0] == 0:\n",
    "            bumpers[\"north\"] = True\n",
    "        elif agentPos[0] == (roomSize - 1):\n",
    "            bumpers[\"south\"] = True\n",
    "        else:\n",
    "            bumpers[\"north\"] = False\n",
    "            bumpers[\"south\"] = False\n",
    "            \n",
    "        if agentPos[1] == 0:\n",
    "            bumpers[\"west\"] = True\n",
    "        elif agentPos[1] == (roomSize - 1):\n",
    "            bumpers[\"east\"] = True\n",
    "        else:\n",
    "            bumpers[\"west\"] = False\n",
    "            bumpers[\"east\"] = False\n",
    "            \n",
    "        if verbose:\n",
    "            print(\"Step\", numActions, \":\", action)\n",
    "            #show_room(enviro, agentPos)  #leaving out the graph for the report\n",
    "\n",
    "    return numActions #return value is energy consumption"
   ],
   "outputs": [],
   "metadata": {}
  },
  {
   "cell_type": "markdown",
   "source": [
    "## Task 2:  Implement a simple reflex agent [1 Point] \n",
    "\n",
    "The simple reflex agent randomly walks around but reacts to the bumper sensor by not bumping into the wall and to dirt with sucking. Implement the agent program as a function.\n",
    "\n",
    "_Note:_ Agents cannot directly use variable in the environment. They only gets the percepts as the arguments to the agent function."
   ],
   "metadata": {}
  },
  {
   "cell_type": "code",
   "execution_count": 6,
   "source": [
    "#Agent function\n",
    "def simpleReflexAgent(bumpers, dirty):\n",
    "    if dirty:\n",
    "        return \"suck\"\n",
    "    \n",
    "    #Square is not dirty, choose a movement action randomly\n",
    "    movementOptions = [] #options will be appended to this list if they are possible, based on the bumper status\n",
    "    for direction in [\"north\", \"south\", \"east\", \"west\"]:\n",
    "        if not bumpers[direction]:\n",
    "            movementOptions.append(direction)\n",
    "    \n",
    "    #Choose a random movement from the possible list\n",
    "    return np.random.choice(movementOptions)\n",
    "\n",
    "environmentSimulation(simpleReflexAgent, 100, 5, True)"
   ],
   "outputs": [
    {
     "output_type": "stream",
     "name": "stdout",
     "text": [
      "Step 1 : west\n",
      "Step 2 : east\n",
      "Step 3 : south\n",
      "Step 4 : suck\n",
      "Step 5 : south\n",
      "Step 6 : suck\n",
      "Step 7 : south\n",
      "Step 8 : suck\n",
      "Step 9 : south\n",
      "Step 10 : suck\n",
      "Step 11 : east\n",
      "Step 12 : suck\n",
      "Step 13 : west\n",
      "Step 14 : north\n",
      "Step 15 : south\n",
      "Step 16 : east\n",
      "Step 17 : west\n",
      "Step 18 : east\n",
      "Step 19 : north\n",
      "Step 20 : suck\n",
      "Step 21 : south\n",
      "Step 22 : west\n",
      "Step 23 : north\n",
      "Step 24 : south\n",
      "Step 25 : east\n",
      "Step 26 : north\n",
      "Step 27 : north\n",
      "Step 28 : south\n",
      "Step 29 : north\n",
      "Step 30 : south\n",
      "Step 31 : west\n",
      "Step 32 : east\n",
      "Step 33 : west\n",
      "Step 34 : east\n",
      "Step 35 : north\n",
      "Step 36 : west\n",
      "Step 37 : east\n",
      "Step 38 : south\n",
      "Step 39 : north\n",
      "Step 40 : south\n",
      "Step 41 : north\n",
      "Step 42 : north\n",
      "Step 43 : north\n",
      "Step 44 : south\n",
      "Step 45 : west\n",
      "Step 46 : north\n",
      "Step 47 : east\n",
      "Step 48 : south\n",
      "Step 49 : south\n",
      "Step 50 : north\n",
      "Step 51 : north\n",
      "Step 52 : south\n",
      "Step 53 : south\n",
      "Step 54 : south\n",
      "Step 55 : north\n",
      "Step 56 : south\n",
      "Step 57 : west\n",
      "Step 58 : north\n",
      "Step 59 : north\n",
      "Step 60 : south\n",
      "Step 61 : south\n",
      "Step 62 : east\n",
      "Step 63 : west\n",
      "Step 64 : west\n",
      "Step 65 : east\n",
      "Step 66 : south\n",
      "Step 67 : north\n",
      "Step 68 : east\n",
      "Step 69 : south\n",
      "Step 70 : west\n",
      "Step 71 : west\n",
      "Step 72 : east\n",
      "Step 73 : west\n",
      "Step 74 : west\n",
      "Step 75 : east\n",
      "Step 76 : west\n",
      "Step 77 : north\n",
      "Step 78 : east\n",
      "Step 79 : east\n",
      "Step 80 : north\n",
      "Step 81 : south\n",
      "Step 82 : east\n",
      "Step 83 : south\n",
      "Step 84 : north\n",
      "Step 85 : south\n",
      "Step 86 : west\n",
      "Step 87 : east\n",
      "Step 88 : west\n",
      "Step 89 : east\n",
      "Step 90 : west\n",
      "Step 91 : west\n",
      "Step 92 : east\n",
      "Step 93 : east\n",
      "Step 94 : north\n",
      "Step 95 : south\n",
      "Step 96 : north\n",
      "Step 97 : south\n",
      "Step 98 : west\n",
      "Step 99 : west\n",
      "Step 100 : east\n"
     ]
    },
    {
     "output_type": "execute_result",
     "data": {
      "text/plain": [
       "100"
      ]
     },
     "metadata": {},
     "execution_count": 6
    }
   ],
   "metadata": {}
  },
  {
   "cell_type": "markdown",
   "source": [
    "## Task 3: Implement a model-based reflex agent [3 Point]\n",
    "\n",
    "This agent keeps track of the location and remembers where it has cleaned. Assume the agent knows how many squares the room has. It can move to a corner to determine its location and then is able to use more advanced navigation.\n",
    "\n",
    "Describe how you define the __agent state__ and how your agent works before implementing it. _Note on implementing the state in Python:_ [Examples](https://github.com/mhahsler/CS7320-AI/blob/master/Python_Code_Examples/store_agent_state_information.ipynb)"
   ],
   "metadata": {}
  },
  {
   "cell_type": "markdown",
   "source": [
    "#### Agent state\n",
    "\n",
    "The agent is implemented with a class, and its state has 6 components:\n",
    "\n",
    "* position (int, int): current (x, y) coordinates of robot, acquired after navigating to the corner\n",
    "* navigation (string): atomic state variable with three possibilities describing current navigation function:\n",
    "    * corner: position is unknown, navigating to corner to acquire position\n",
    "    * size: roomSize is unknown, traveling east until hitting the wall to calculate room size\n",
    "    * clean: position and roomSize are known, starting side-to-side cleaning sequence\n",
    "* lastMove (string): stores the last movement action performed by the robot\n",
    "* direction (string): current direction of travel in the cleaning sequence\n",
    "* roomSize (int): size of the room\n",
    "* cleaned (tuple array): list of all points where dirt was cleaned\n",
    "\n",
    "The agent starts out with its position unknown (represented by (-1. -1) position), and its navigation state is \"corner.\" In the corner state, the agent will travel north until hitting the wall, and west until hitting the wall. Now in position (0,0) the agent keeps track of its position. Once in (0,0), the navigation state transitions to \"size.\" In this state, the agent travels east until the east bumper detects a wall. The agent then record the roomSize as current x position + 1, and transitions to \"clean\" state. In this state, the agent moves in straight horizontal lines to clean the entire room. It will travel straight in one direction until it has reached a position adjacent to the east or west wall. Then it will move south one square, and go back in the opposite direction. The agent stops when the position (roomSize - 1, roomSize - 1) has been reached.\n"
   ],
   "metadata": {}
  },
  {
   "cell_type": "code",
   "execution_count": 50,
   "source": [
    "class ModelReflexAgent:\n",
    "    def __init__(self, posX = -1, posY = -1):\n",
    "        self.x = posX\n",
    "        self.y = posY\n",
    "        self.lastMove = \"\" #keep track of the agent's last movement action, used for turning\n",
    "        self.navigation = \"corner\"\n",
    "        self.direction = \"\" #state of agent's orientation - which direction it is traveling\n",
    "        self.roomSize = 0 #0 means agent does not know room size yet\n",
    "        self.cleaned = [] #stores cleaned squares as (x,y) tuples\n",
    "    \n",
    "    #Main agent function\n",
    "    def act(self, bumpers, dirty):\n",
    "        if dirty:\n",
    "            self.clean()\n",
    "            return \"suck\"\n",
    "        \n",
    "        #Agent is in non cleaning state -> navigate to the NW corner\n",
    "        if self.navigation == \"corner\":\n",
    "            if not bumpers[\"north\"]: return \"north\"\n",
    "            if not bumpers[\"west\"]: return \"west\"\n",
    "            \n",
    "            #Now in NW corner, set position\n",
    "            self.x = 0\n",
    "            self.y = 0\n",
    "            self.navigation = \"size\"\n",
    "        \n",
    "        #Navigation state - go east until hitting the wall, keeping track of roomSize along the way\n",
    "        if self.navigation == \"size\":\n",
    "            if bumpers[\"east\"]:\n",
    "                self.navigation = \"clean\"\n",
    "                self.roomSize = self.x + 1\n",
    "            else:\n",
    "                self.move(\"east\")\n",
    "                return \"east\"\n",
    "            \n",
    "        #Cleaning state - goes back and forth between east and west walls until whole room is cleaned\n",
    "        if self.navigation == \"clean\":\n",
    "            if (self.x, self.y) == (self.roomSize - 1, self.roomSize - 1):\n",
    "                return \"\" #cleaning complete\n",
    "            \n",
    "            if self.x == 0 and self.lastMove != \"south\":\n",
    "                self.move(\"south\")\n",
    "                self.direction = \"east\"\n",
    "                return \"south\"\n",
    "            elif self.x == (self.roomSize - 1) and self.lastMove != \"south\":\n",
    "                self.move(\"south\")\n",
    "                self.direction = \"west\"\n",
    "                return \"south\"\n",
    "            else:\n",
    "                self.move(self.direction)\n",
    "                return self.direction\n",
    "            \n",
    "        \n",
    "    #Cleaning function - called when the agent chooses \"suck\" action\n",
    "    #Marks the current position as cleaned\n",
    "    def clean(self):\n",
    "        self.cleaned.append((self.x, self.y))\n",
    "    \n",
    "    #Adjusts position state\n",
    "    def move(self, direction):\n",
    "        if direction == \"north\": self.y -= 1\n",
    "        elif direction == \"south\": self.y += 1\n",
    "        elif direction == \"east\": self.x += 1\n",
    "        else: self.x -= 1 #direction == \"west\"\n",
    "        self.lastMove = direction\n",
    "        \n",
    "environmentSimulation(ModelReflexAgent().act, 50, 5, True)"
   ],
   "outputs": [
    {
     "output_type": "stream",
     "name": "stdout",
     "text": [
      "Step 1 : west\n",
      "Step 2 : suck\n",
      "Step 3 : west\n",
      "Step 4 : west\n",
      "Step 5 : east\n",
      "Step 6 : east\n",
      "Step 7 : east\n",
      "Step 8 : east\n",
      "Step 9 : south\n",
      "Step 10 : west\n",
      "Step 11 : west\n",
      "Step 12 : west\n",
      "Step 13 : west\n",
      "Step 14 : suck\n",
      "Step 15 : south\n",
      "Step 16 : east\n",
      "Step 17 : east\n",
      "Step 18 : east\n",
      "Step 19 : east\n",
      "Step 20 : suck\n",
      "Step 21 : south\n",
      "Step 22 : west\n",
      "Step 23 : west\n",
      "Step 24 : west\n",
      "Step 25 : west\n",
      "Step 26 : suck\n",
      "Step 27 : south\n",
      "Step 28 : east\n",
      "Step 29 : suck\n"
     ]
    },
    {
     "output_type": "execute_result",
     "data": {
      "text/plain": [
       "29"
      ]
     },
     "metadata": {},
     "execution_count": 50
    }
   ],
   "metadata": {}
  },
  {
   "cell_type": "markdown",
   "source": [
    "## Task 4: Simulation study [3 Points]\n",
    "\n",
    "Compare the performance (the performance measure is defined in the PEAS description above) of the agents using  environments of different size. E.g., $5 \\times 5$, $10 \\times 10$ and\n",
    "$100 \\times 100$. Use 100 random runs for each. Present the results in a suitable format (tables, graphs) and discuss the differences. \n",
    "\n",
    "Here is some help with [charts and tables.](https://github.com/mhahsler/CS7320-AI/blob/master/Python_Code_Examples/charts_and_tables.ipynb)"
   ],
   "metadata": {}
  },
  {
   "cell_type": "code",
   "execution_count": 8,
   "source": [
    "import matplotlib.pyplot as plt\n",
    "\n",
    "#Simulation function: runs simulations for each agent\n",
    "def simulate(avgList, scores, agentFunc, model = False):\n",
    "    index = 0\n",
    "    for i in [5, 10, 50, 100]: #Repeat trials for 4 different room sizes\n",
    "        for j in range(100):\n",
    "            if model:\n",
    "                agentFunc = ModelReflexAgent().act #model agent needs a fresh object for each run\n",
    "            data = environmentSimulation(agentFunc, 1000000, i, verbose=False) #1 million energy units is usually enough for all agents to completely clean all rooms\n",
    "            avgList[index] += data\n",
    "            scores[index][j] = data\n",
    "            \n",
    "        avgList[index] /= 100\n",
    "        index += 1\n",
    "\n",
    "#Initialize data arrays\n",
    "randScores = np.empty((100,100), int)\n",
    "reflexScores = np.empty((100,100), int)\n",
    "modelScores = np.empty((100,100), int)\n",
    "randAverages = np.zeros(4, int)\n",
    "reflexAverages = np.zeros(4, int)\n",
    "modelAverages = np.zeros(4, int)\n",
    "\n",
    "#Run simulations\n",
    "simulate(randAverages, randScores, simple_randomized_agent)\n",
    "simulate(reflexAverages, reflexScores, simpleReflexAgent)\n",
    "simulate(modelAverages, modelScores, None, True)"
   ],
   "outputs": [],
   "metadata": {}
  },
  {
   "cell_type": "markdown",
   "source": [
    "### Performance bar plots"
   ],
   "metadata": {}
  },
  {
   "cell_type": "code",
   "execution_count": 1,
   "source": [
    "#Bar plot\n",
    "\n",
    "table = {\"Room size\": [5, 10, 50, 100], \"Randomized agent\": randAverages, \"Simple reflex agent\": reflexAverages, \"Model reflex agent\": modelAverages}\n",
    "x = [\"Randomized agent\",\"Simple reflex agent\",\"Model reflex agent\"]\n",
    "\n",
    "index = 0\n",
    "for i in [5, 10, 50, 100]:\n",
    "    dataArray = [randAverages[index], reflexAverages[index], modelAverages[index]]\n",
    "    plt.bar(x, dataArray)\n",
    "    plt.title(\"{}x{} Average Energy\".format(i, i))\n",
    "    plt.ylabel(\"Energy consumption\")\n",
    "    plt.show()\n",
    "    index += 1"
   ],
   "outputs": [
    {
     "output_type": "error",
     "ename": "NameError",
     "evalue": "name 'randAverages' is not defined",
     "traceback": [
      "\u001b[0;31m---------------------------------------------------------------------------\u001b[0m",
      "\u001b[0;31mNameError\u001b[0m                                 Traceback (most recent call last)",
      "\u001b[0;32m/tmp/ipykernel_5051/1497685620.py\u001b[0m in \u001b[0;36m<module>\u001b[0;34m\u001b[0m\n\u001b[1;32m      1\u001b[0m \u001b[0;31m#Bar plot\u001b[0m\u001b[0;34m\u001b[0m\u001b[0;34m\u001b[0m\u001b[0;34m\u001b[0m\u001b[0m\n\u001b[1;32m      2\u001b[0m \u001b[0;34m\u001b[0m\u001b[0m\n\u001b[0;32m----> 3\u001b[0;31m \u001b[0mtable\u001b[0m \u001b[0;34m=\u001b[0m \u001b[0;34m{\u001b[0m\u001b[0;34m\"Room size\"\u001b[0m\u001b[0;34m:\u001b[0m \u001b[0;34m[\u001b[0m\u001b[0;36m5\u001b[0m\u001b[0;34m,\u001b[0m \u001b[0;36m10\u001b[0m\u001b[0;34m,\u001b[0m \u001b[0;36m50\u001b[0m\u001b[0;34m,\u001b[0m \u001b[0;36m100\u001b[0m\u001b[0;34m]\u001b[0m\u001b[0;34m,\u001b[0m \u001b[0;34m\"Randomized agent\"\u001b[0m\u001b[0;34m:\u001b[0m \u001b[0mrandAverages\u001b[0m\u001b[0;34m,\u001b[0m \u001b[0;34m\"Simple reflex agent\"\u001b[0m\u001b[0;34m:\u001b[0m \u001b[0mreflexAverages\u001b[0m\u001b[0;34m,\u001b[0m \u001b[0;34m\"Model reflex agent\"\u001b[0m\u001b[0;34m:\u001b[0m \u001b[0mmodelAverages\u001b[0m\u001b[0;34m}\u001b[0m\u001b[0;34m\u001b[0m\u001b[0;34m\u001b[0m\u001b[0m\n\u001b[0m\u001b[1;32m      4\u001b[0m \u001b[0mx\u001b[0m \u001b[0;34m=\u001b[0m \u001b[0;34m[\u001b[0m\u001b[0;34m\"Randomized agent\"\u001b[0m\u001b[0;34m,\u001b[0m\u001b[0;34m\"Simple reflex agent\"\u001b[0m\u001b[0;34m,\u001b[0m\u001b[0;34m\"Model reflex agent\"\u001b[0m\u001b[0;34m]\u001b[0m\u001b[0;34m\u001b[0m\u001b[0;34m\u001b[0m\u001b[0m\n\u001b[1;32m      5\u001b[0m \u001b[0;34m\u001b[0m\u001b[0m\n",
      "\u001b[0;31mNameError\u001b[0m: name 'randAverages' is not defined"
     ]
    }
   ],
   "metadata": {}
  },
  {
   "cell_type": "markdown",
   "source": [
    "#### Averages in table form"
   ],
   "metadata": {}
  },
  {
   "cell_type": "code",
   "execution_count": 2,
   "source": [
    "import pandas as pd\n",
    "\n",
    "df = pd.DataFrame(table) #table variable initialized above\n",
    "df\n",
    "print()"
   ],
   "outputs": [
    {
     "output_type": "error",
     "ename": "NameError",
     "evalue": "name 'table' is not defined",
     "traceback": [
      "\u001b[0;31m---------------------------------------------------------------------------\u001b[0m",
      "\u001b[0;31mNameError\u001b[0m                                 Traceback (most recent call last)",
      "\u001b[0;32m/tmp/ipykernel_5051/2126073430.py\u001b[0m in \u001b[0;36m<module>\u001b[0;34m\u001b[0m\n\u001b[1;32m      1\u001b[0m \u001b[0;32mimport\u001b[0m \u001b[0mpandas\u001b[0m \u001b[0;32mas\u001b[0m \u001b[0mpd\u001b[0m\u001b[0;34m\u001b[0m\u001b[0;34m\u001b[0m\u001b[0m\n\u001b[1;32m      2\u001b[0m \u001b[0;34m\u001b[0m\u001b[0m\n\u001b[0;32m----> 3\u001b[0;31m \u001b[0mdf\u001b[0m \u001b[0;34m=\u001b[0m \u001b[0mpd\u001b[0m\u001b[0;34m.\u001b[0m\u001b[0mDataFrame\u001b[0m\u001b[0;34m(\u001b[0m\u001b[0mtable\u001b[0m\u001b[0;34m)\u001b[0m \u001b[0;31m#table variable initialized above\u001b[0m\u001b[0;34m\u001b[0m\u001b[0;34m\u001b[0m\u001b[0m\n\u001b[0m\u001b[1;32m      4\u001b[0m \u001b[0mdf\u001b[0m\u001b[0;34m\u001b[0m\u001b[0;34m\u001b[0m\u001b[0m\n\u001b[1;32m      5\u001b[0m \u001b[0mprint\u001b[0m\u001b[0;34m(\u001b[0m\u001b[0;34m)\u001b[0m\u001b[0;34m\u001b[0m\u001b[0;34m\u001b[0m\u001b[0m\n",
      "\u001b[0;31mNameError\u001b[0m: name 'table' is not defined"
     ]
    }
   ],
   "metadata": {}
  },
  {
   "cell_type": "markdown",
   "source": [
    "The rows in this table correspond to the room size for the sample runs (5x5, 10x10 ... 100x100)"
   ],
   "metadata": {}
  },
  {
   "cell_type": "markdown",
   "source": [
    "### Performance histograms\n",
    "These histograms display the results from all 100 runs for each agent for each room size"
   ],
   "metadata": {}
  },
  {
   "cell_type": "code",
   "execution_count": 11,
   "source": [
    "index = 0\n",
    "for i in [5, 10, 50, 100]:\n",
    "    plt.hist(randScores[index], bins = 15, alpha = .6, color='r', label=\"Randomized agent\")\n",
    "    plt.hist(reflexScores[index], bins = 15, alpha = .6, color='g', label=\"Simple reflex agent\")\n",
    "    plt.hist(modelScores[index], bins = 15, alpha = .6, color='b', label=\"Model reflex agent\")\n",
    "    plt.title(\"{}x{}\".format(i, i))\n",
    "    plt.legend()\n",
    "    plt.xscale(\"log\")\n",
    "    plt.xlabel(\"Energy consumption\")\n",
    "    plt.ylabel(\"Frequency\")\n",
    "    plt.show()\n",
    "    index += 1"
   ],
   "outputs": [
    {
     "output_type": "display_data",
     "data": {
      "image/png": "[encoded data removed]",
      "text/plain": [
       "<Figure size 432x288 with 1 Axes>"
      ]
     },
     "metadata": {
      "needs_background": "light"
     }
    },
    {
     "output_type": "display_data",
     "data": {
      "image/png": "[encoded data removed]",
      "text/plain": [
       "<Figure size 432x288 with 1 Axes>"
      ]
     },
     "metadata": {
      "needs_background": "light"
     }
    },
    {
     "output_type": "display_data",
     "data": {
      "image/png": "[encoded data removed]",
      "text/plain": [
       "<Figure size 432x288 with 1 Axes>"
      ]
     },
     "metadata": {
      "needs_background": "light"
     }
    },
    {
     "output_type": "display_data",
     "data": {
      "image/png": "[encoded data removed]",
      "text/plain": [
       "<Figure size 432x288 with 1 Axes>"
      ]
     },
     "metadata": {
      "needs_background": "light"
     }
    }
   ],
   "metadata": {}
  },
  {
   "cell_type": "markdown",
   "source": [
    "### Analysis\n",
    "For all room sizes, the model reflex agent is the most efficient, with the simple reflex agent coming in second, followed by the simple randomized agent in last. The difference in efficiency became more pronounced as the room size increased. The model agent's score was typically close to the total area of the room. This is expected, since the model agent's cleaning sequence takes exactly n^2 movement operations. The energy expenditure was increased by the random distance which the robot had to travel in order to reach the NW corner of the room. For the smaller rooms, this was negligible, but in the 100x100 room, this could take a maximum of 200 extra movements, depending on the randomly chosen position of the agent at start up.\n",
    "\n",
    "The simple reflex agent, while not the most efficient, was a definite improvement from the randomized agent. Unlike the randomized agent, the simple reflex agent used its sensors and paid attention to its percepts, thus avoiding a lot of unnecessary \"suck\" actions, or choosing an invalid movement direction. However, the simple reflex agent was still limited by its lack of state memory. Without knowing its position or the layout of the room, the simple reflex agent often wandered around aimlessly."
   ],
   "metadata": {}
  },
  {
   "cell_type": "markdown",
   "source": [
    "## Task 5: Robustness of the agent implementations [1 Point] \n",
    "\n",
    "Describe how your agent implementations will perform \n",
    "\n",
    "* if it is put into a rectangular room with unknown size, \n",
    "* if the cleaning area can have an iregular shape (e.g., a hallway connecting two rooms), or \n",
    "* if the room contains obstacles (i.e., squares that it cannot pass through and trigger the bumper sensors)."
   ],
   "metadata": {}
  },
  {
   "cell_type": "markdown",
   "source": [
    "##### Simple Reflex Agent\n",
    "* Unknown size: the agent should behave and perform similarly, since it does not take roomsize into account, and merely cleans randomly while paying attention to the bumpers\n",
    "* Irregular shape: the agent would perform much worse, because it has no sense of how the room is shaped. If there is a narrow hallway leading to another room, it might get stuck in one room and never clean the other room\n",
    "* Obstacles: the agent should perform well since the obstacles are functionally indistinguishable from a wall for this implementation. The agent will use its bumpers to avoid the obstacles, but it will not be able to perform any advanced navigation around them\n",
    "\n",
    "##### Model Reflex Agent\n",
    "* Unknown size: the rectangular shape of the room would throw off the agent's measurement of room size. It would be able to successfully measure one side length of the room, however I programmed it to assume that the room is a square, so it would only clean a square section of the rectangular room\n",
    "* Irregular shape: the agent would perform poorly, since it is designed to clean a square shaped room. It would attempt to navigate to the NW corner of the room, and then clean out a square section of the room.\n",
    "* Obstacles: the agent would think that the obstacles are a wall, and could cause an error in measuring the size of the room, or cause it to miss parts of the room during the cleaning phase, because it thinks that the obstacle it ran into was the wall\n"
   ],
   "metadata": {}
  },
  {
   "cell_type": "markdown",
   "source": [
    "## Graduate student advanced task: Obstacles [1 Point]\n",
    "\n",
    "__Undergraduate students:__ This is a bonus task you can attempt if you like [+1 Bonus point].\n",
    "\n",
    "1. Change your simulation environment tor run experiments for the following problem: Add random obstacle squares that also trigger the bumper sensor. The agent does not know where the obstacles are. Observe how this changes the performance of the three implementations.\n",
    "\n",
    "2. Describe what would need to be done to perform better with obstacles. Add code if you can. "
   ],
   "metadata": {}
  },
  {
   "cell_type": "code",
   "execution_count": 12,
   "source": [
    "# Your code and discussion goes here"
   ],
   "outputs": [],
   "metadata": {}
  },
  {
   "cell_type": "markdown",
   "source": [
    "## More advanced tasks to think about\n",
    "\n",
    "You can think about these:\n",
    "\n",
    "* __Unknown environment with obstacles:__ Implement an agent for an environment where the agent does not know how large the environment is (we assume it is rectangular), where it starts or where the obstacles are. An option would be to always move to the closest unchecked/uncleaned square.\n",
    "\n",
    "* __Utility-based agent:__ Change the environment, so each square has a fixed probability of getting dirty again. We assume the agent has learned this information over time. For the implementation, we give this information to the agent as a 2-dimensional array of probabilities  Cleaning one dirty square produces a utility of 1. Implement a utility-based agent that maximizes the expected utility over one full charge which lasts for 10000 time steps. This is very tricky!"
   ],
   "metadata": {}
  },
  {
   "cell_type": "code",
   "execution_count": 13,
   "source": [
    "# Your ideas/code"
   ],
   "outputs": [],
   "metadata": {}
  }
 ],
 "metadata": {
  "kernelspec": {
   "name": "python3",
   "display_name": "Python 3.8.10 64-bit"
  },
  "language_info": {
   "codemirror_mode": {
    "name": "ipython",
    "version": 3
   },
   "file_extension": ".py",
   "mimetype": "text/x-python",
   "name": "python",
   "nbconvert_exporter": "python",
   "pygments_lexer": "ipython3",
   "version": "3.8.10"
  },
  "interpreter": {
   "hash": "916dbcbb3f70747c44a77c7bcd40155683ae19c65e1c03b4aa3499c5328201f1"
  }
 },
 "nbformat": 4,
 "nbformat_minor": 4
}