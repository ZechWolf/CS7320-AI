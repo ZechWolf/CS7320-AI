{
 "cells": [
  {
   "cell_type": "markdown",
   "metadata": {},
   "source": [
    "# Intelligent Agents: Reflex Agents for the Vacuum-cleaner World\n",
    "\n",
    "\n",
    "## Instructions\n",
    "\n",
    "Total Points: undergrad 10, graduate students 11\n",
    "\n",
    "Complete this notebook and submit it. The notebook needs to be a complete project report with \n",
    "\n",
    "* your implementation,\n",
    "* documentation including a short discussion of how your implementation works and your design choices, and\n",
    "* experimental results (e.g., tables and charts with simulation results) with a short discussion of what they mean. \n",
    "\n",
    "Use the provided notebook cells and insert additional code and markdown cells as needed.\n",
    "\n",
    "## Introduction\n",
    "\n",
    "In this assignment you will implement a simulator environment for an automatic vacuum cleaner robot, a set of different reflex agent programs, and perform a comparison study for cleaning a single room. Focus on the __cleaning phase__ which starts when the robot is activated and ends when the last dirty square is cleaned. Someone else will take care of the agent program needed to navigate back to the charging station after the room is clean.\n",
    "\n",
    "## PEAS description of the cleaning phase\n",
    "\n",
    "__Performance Measure:__ Each action costs 1 energy unit. The performance is measured as the sum of the energy units used to clean the whole room.\n",
    "\n",
    "__Environment:__ A room with $n \\times n$ squares where $n = 5$. Dirt is randomly placed on each square with probability $p = 0.2$. For simplicity, you can assume that the agent knows the size and the layout of the room (i.e., it knows $n$). To start, the agent is placed on a random square.\n",
    "\n",
    "__Actuators:__ The agent can `clean` the current square or move to an adjacent square by going `north`, `east`, `south`, or `west`.\n",
    "\n",
    "__Sensors:__ Four bumper sensors, one for north, east, south, and west; a dirt sensor reporting dirt in the current square.  \n",
    "\n",
    "\n",
    "## The agent program for a simple randomized agent\n",
    "\n",
    "The agent program is a function that gets sensor information (the current percepts) as the arguments. The arguments are:\n",
    "\n",
    "* A dictionary with boolean entries for the for bumper sensors `north`, `east`, `west`, `south`. E.g., if the agent is on the north-west corner, `bumpers` will be `{\"north\" : True, \"east\" : False, \"south\" : False, \"west\" : True}`.\n",
    "* The dirt sensor produces a boolean.\n",
    "\n",
    "The agent returns the chosen action as a string.\n",
    "\n",
    "Here is an example implementation for the agent program of a simple randomized agent:  "
   ]
  },
  {
   "cell_type": "code",
   "execution_count": 1,
   "metadata": {},
   "outputs": [],
   "source": [
    "import numpy as np\n",
    "\n",
    "actions = [\"north\", \"east\", \"west\", \"south\", \"suck\"]\n",
    "\n",
    "def simple_randomized_agent(bumpers, dirty):\n",
    "    return np.random.choice(actions)"
   ]
  },
  {
   "cell_type": "code",
   "execution_count": 2,
   "metadata": {},
   "outputs": [
    {
     "data": {
      "text/plain": [
       "'west'"
      ]
     },
     "execution_count": 2,
     "metadata": {},
     "output_type": "execute_result"
    }
   ],
   "source": [
    "# define percepts (current location is NW corner and it is dirty)\n",
    "bumpers = {\"north\" : True, \"east\" : False, \"south\" : False, \"west\" : True}\n",
    "dirty = True\n",
    "\n",
    "# call agent program function with percepts and it returns an action\n",
    "simple_randomized_agent(bumpers, dirty)"
   ]
  },
  {
   "cell_type": "markdown",
   "metadata": {},
   "source": [
    "__Note:__ This is not a rational intelligent agent. It ignores its sensors and may bump into a wall or not clean a dirty square. You will be asked to implement rational agents below."
   ]
  },
  {
   "cell_type": "markdown",
   "metadata": {},
   "source": [
    "## Simple environment example\n",
    "\n",
    "We implement a simulation environment that supplies the agent with its percepts.\n",
    "The simple environment is infinite in size (bumpers are always `False`) and every square is always dirty, even if the agent cleans it. The environment function returns the performance measure which is here the number of cleaned squares (since all squares are constantly dirty, it is the number of `suck` actions by the agent). "
   ]
  },
  {
   "cell_type": "code",
   "execution_count": 3,
   "metadata": {},
   "outputs": [],
   "source": [
    "def simple_environment(agent, max_steps, verbose = True):\n",
    "    num_cleaned = 0\n",
    "    \n",
    "    for i in range(max_steps):\n",
    "        dirty = True\n",
    "        bumpers = {\"north\" : False, \"south\" : False, \"west\" : False, \"east\" : False}\n",
    "\n",
    "        action = agent(bumpers, dirty)\n",
    "        if (verbose): print(\"step\", i , \"- action:\", action) \n",
    "        \n",
    "        if (action == \"suck\"): \n",
    "            num_cleaned = num_cleaned + 1\n",
    "        \n",
    "    return num_cleaned\n",
    "        \n"
   ]
  },
  {
   "cell_type": "markdown",
   "metadata": {},
   "source": [
    "Do one simulation run with 20 steps."
   ]
  },
  {
   "cell_type": "code",
   "execution_count": 4,
   "metadata": {},
   "outputs": [
    {
     "name": "stdout",
     "output_type": "stream",
     "text": [
      "step 0 - action: west\n",
      "step 1 - action: east\n",
      "step 2 - action: north\n",
      "step 3 - action: south\n",
      "step 4 - action: west\n",
      "step 5 - action: west\n",
      "step 6 - action: south\n",
      "step 7 - action: south\n",
      "step 8 - action: suck\n",
      "step 9 - action: north\n",
      "step 10 - action: south\n",
      "step 11 - action: south\n",
      "step 12 - action: south\n",
      "step 13 - action: west\n",
      "step 14 - action: suck\n",
      "step 15 - action: suck\n",
      "step 16 - action: suck\n",
      "step 17 - action: west\n",
      "step 18 - action: west\n",
      "step 19 - action: west\n"
     ]
    },
    {
     "data": {
      "text/plain": [
       "4"
      ]
     },
     "execution_count": 4,
     "metadata": {},
     "output_type": "execute_result"
    }
   ],
   "source": [
    "simple_environment(simple_randomized_agent, max_steps = 20)"
   ]
  },
  {
   "cell_type": "markdown",
   "metadata": {},
   "source": [
    "# Tasks\n",
    "\n",
    "_Submission Instructions:_ Use this notebook to prepare your submission. Complete this section with your code and results. You can add additional Markdown blocks for your description, comments in the code and use mathplotlib to produce charts. \n",
    "\n",
    "_Note:_ Try to keep the code simple! In this course, we want to learn about the algorithms and we often do not need to use object-oriented design. \n",
    "\n",
    "\n",
    "## Task 1: Implement a simulation environment [2 Points]\n",
    "\n",
    "The simple environment above is not very realistic. Your environment simulator needs to follow the PEAS description from above. It needs to:\n",
    "\n",
    "* Initialize the environment by storing the state of each square (clean/dirty) and making some dirty.\n",
    "* Keep track of the agent's position.\n",
    "* Call the agent function repeatedly and provide the agent function with the sensor inputs.  \n",
    "* React to the agent's actions. E.g, by removing dirt from a square or moving the agent around unless there is a wall in the way.\n",
    "* Keep track of the performance measure. That is, track the agent's actions until all dirty squares are clean and count the number of actions it takes the agent to complete the task.\n",
    "\n",
    "The easiest implementation for the environment is to hold an 2-dimensional array to represent if squares are clean or dirty and to call the agent function in a loop until all squares are clean or a predefined number of steps have been reached (i.e., the robot runs out of energy).\n",
    "\n",
    "The simulation environment needs to work with the simple randomized agent program from above and then it can be used for your agent implementation in the tasks below."
   ]
  },
  {
   "cell_type": "code",
   "execution_count": 27,
   "metadata": {},
   "outputs": [],
   "source": [
    "#Returns true if all squares in the environment are clean\n",
    "def isComplete(enviro):\n",
    "    \n",
    "    #Iterate over all elements and look for True value\n",
    "    for i in range(enviro.shape[0]):\n",
    "        for j in range(enviro.shape[1]):\n",
    "            if enviro[i,j] == True:\n",
    "                return False\n",
    "    \n",
    "    return True #no dirty squares found\n",
    "    \n",
    "\n",
    "def environmentSimulation(agent, maxSteps, verbose = True):\n",
    "    \n",
    "    #Initialize environment as empty 5x5 bool array, where dirty = True and clean = False\n",
    "    enviro = np.empty((5,5), bool)\n",
    "\n",
    "    #Iterate through and assign random values for clean and dirty\n",
    "    for i in range(5):\n",
    "        for j in range(5):\n",
    "            #Assign squares as dirty or clean, 20% chance of being dirty (dirty = True)\n",
    "            chance = np.random.randint(1, 100)\n",
    "\n",
    "            if chance <= 20: #20/100 chance of being dirty\n",
    "                enviro[i,j] = True\n",
    "            else:\n",
    "                enviro[i,j] = False\n",
    "    \n",
    "    #Initialize agent information\n",
    "    agentPos = [0, 0] #position is stored as a list [x,y] where x is the row number and y is the column number\n",
    "    bumpers = {\"north\" : True, \"south\" : False, \"west\" : True, \"east\" : False} #init agent in NW corner\n",
    "    numActions = 0\n",
    "    \n",
    "    #Agent function loop\n",
    "    while (not isComplete(enviro)) and numActions < maxSteps:\n",
    "        dirty = enviro[agentPos[0], agentPos[1]]\n",
    "        action = agent(bumpers, dirty) #Run agent function\n",
    "        numActions += 1\n",
    "        \n",
    "        #Process result of agent function and update information\n",
    "        if action == \"north\":\n",
    "            agentPos[0] -= 1\n",
    "        elif action == \"south\":\n",
    "            agentPos[0] += 1\n",
    "        elif action == \"east\":\n",
    "            agentPos[1] += 1\n",
    "        elif action == \"west\":\n",
    "            agentPos[1] -= 1\n",
    "        else: #action == \"suck\"\n",
    "            enviro[agentPos[0], agentPos[1]] = False #square is now clean\n",
    "        \n",
    "        #Update bumpers\n",
    "        if agentPos[0] == 0:\n",
    "            bumpers[\"north\"] = True\n",
    "        elif agentPos[0] == 4:\n",
    "            bumpers[\"south\"] = True\n",
    "        else:\n",
    "            bumpers[\"north\"] = False\n",
    "            bumpers[\"south\"] = False\n",
    "            \n",
    "        if agentPos[1] == 0:\n",
    "            bumpers[\"west\"] = True\n",
    "        elif agentPos[1] == 4:\n",
    "            bumpers[\"east\"] = True\n",
    "        else:\n",
    "            bumpers[\"west\"] = False\n",
    "            bumpers[\"east\"] = False\n",
    "            \n",
    "        if verbose:\n",
    "            print(\"Step\", numActions,\":\", action)\n",
    "            print(\"X:\", agentPos[1], \"Y:\", agentPos[0])\n",
    "            #print(bumpers, \"\\n\")\n",
    "            \n",
    "    print(enviro)\n",
    "            \n",
    "            \n",
    "    "
   ]
  },
  {
   "cell_type": "markdown",
   "metadata": {},
   "source": [
    "## Task 2:  Implement a simple reflex agent [1 Point] \n",
    "\n",
    "The simple reflex agent randomly walks around but reacts to the bumper sensor by not bumping into the wall and to dirt with sucking. Implement the agent program as a function.\n",
    "\n",
    "_Note:_ The agent cannot directly use variable in the environment. It only gets the percepts as the arguments to the agent program function."
   ]
  },
  {
   "cell_type": "code",
   "execution_count": 28,
   "metadata": {},
   "outputs": [
    {
     "name": "stdout",
     "output_type": "stream",
     "text": [
      "Step 1 : south\n",
      "X: 0 Y: 1\n",
      "Step 2 : north\n",
      "X: 0 Y: 0\n",
      "Step 3 : south\n",
      "X: 0 Y: 1\n",
      "Step 4 : east\n",
      "X: 1 Y: 1\n",
      "Step 5 : suck\n",
      "X: 1 Y: 1\n",
      "Step 6 : north\n",
      "X: 1 Y: 0\n",
      "Step 7 : east\n",
      "X: 2 Y: 0\n",
      "Step 8 : east\n",
      "X: 3 Y: 0\n",
      "Step 9 : west\n",
      "X: 2 Y: 0\n",
      "Step 10 : west\n",
      "X: 1 Y: 0\n",
      "Step 11 : east\n",
      "X: 2 Y: 0\n",
      "Step 12 : east\n",
      "X: 3 Y: 0\n",
      "Step 13 : east\n",
      "X: 4 Y: 0\n",
      "Step 14 : suck\n",
      "X: 4 Y: 0\n",
      "Step 15 : south\n",
      "X: 4 Y: 1\n",
      "Step 16 : west\n",
      "X: 3 Y: 1\n",
      "Step 17 : north\n",
      "X: 3 Y: 0\n",
      "Step 18 : west\n",
      "X: 2 Y: 0\n",
      "Step 19 : east\n",
      "X: 3 Y: 0\n",
      "Step 20 : east\n",
      "X: 4 Y: 0\n",
      "Step 21 : west\n",
      "X: 3 Y: 0\n",
      "Step 22 : west\n",
      "X: 2 Y: 0\n",
      "Step 23 : east\n",
      "X: 3 Y: 0\n",
      "Step 24 : west\n",
      "X: 2 Y: 0\n",
      "Step 25 : east\n",
      "X: 3 Y: 0\n",
      "Step 26 : south\n",
      "X: 3 Y: 1\n",
      "Step 27 : south\n",
      "X: 3 Y: 2\n",
      "Step 28 : east\n",
      "X: 4 Y: 2\n",
      "Step 29 : south\n",
      "X: 4 Y: 3\n",
      "Step 30 : north\n",
      "X: 4 Y: 2\n",
      "Step 31 : north\n",
      "X: 4 Y: 1\n",
      "Step 32 : west\n",
      "X: 3 Y: 1\n",
      "Step 33 : west\n",
      "X: 2 Y: 1\n",
      "Step 34 : suck\n",
      "X: 2 Y: 1\n",
      "Step 35 : east\n",
      "X: 3 Y: 1\n",
      "Step 36 : north\n",
      "X: 3 Y: 0\n",
      "Step 37 : west\n",
      "X: 2 Y: 0\n",
      "Step 38 : east\n",
      "X: 3 Y: 0\n",
      "Step 39 : west\n",
      "X: 2 Y: 0\n",
      "Step 40 : west\n",
      "X: 1 Y: 0\n",
      "Step 41 : east\n",
      "X: 2 Y: 0\n",
      "Step 42 : south\n",
      "X: 2 Y: 1\n",
      "Step 43 : west\n",
      "X: 1 Y: 1\n",
      "Step 44 : west\n",
      "X: 0 Y: 1\n",
      "Step 45 : north\n",
      "X: 0 Y: 0\n",
      "Step 46 : east\n",
      "X: 1 Y: 0\n",
      "Step 47 : east\n",
      "X: 2 Y: 0\n",
      "Step 48 : east\n",
      "X: 3 Y: 0\n",
      "Step 49 : west\n",
      "X: 2 Y: 0\n",
      "Step 50 : east\n",
      "X: 3 Y: 0\n",
      "Step 51 : south\n",
      "X: 3 Y: 1\n",
      "Step 52 : north\n",
      "X: 3 Y: 0\n",
      "Step 53 : west\n",
      "X: 2 Y: 0\n",
      "Step 54 : south\n",
      "X: 2 Y: 1\n",
      "Step 55 : west\n",
      "X: 1 Y: 1\n",
      "Step 56 : north\n",
      "X: 1 Y: 0\n",
      "Step 57 : west\n",
      "X: 0 Y: 0\n",
      "Step 58 : south\n",
      "X: 0 Y: 1\n",
      "Step 59 : east\n",
      "X: 1 Y: 1\n",
      "Step 60 : north\n",
      "X: 1 Y: 0\n",
      "Step 61 : south\n",
      "X: 1 Y: 1\n",
      "Step 62 : south\n",
      "X: 1 Y: 2\n",
      "Step 63 : suck\n",
      "X: 1 Y: 2\n",
      "Step 64 : south\n",
      "X: 1 Y: 3\n",
      "Step 65 : suck\n",
      "X: 1 Y: 3\n",
      "Step 66 : east\n",
      "X: 2 Y: 3\n",
      "Step 67 : east\n",
      "X: 3 Y: 3\n",
      "Step 68 : suck\n",
      "X: 3 Y: 3\n",
      "[[False False False False False]\n",
      " [False False False False False]\n",
      " [False False False False False]\n",
      " [False False False False False]\n",
      " [False False False False False]]\n"
     ]
    }
   ],
   "source": [
    "#Agent function\n",
    "def simpleReflexAgent(bumpers, dirty):\n",
    "    if dirty:\n",
    "        return \"suck\"\n",
    "    \n",
    "    #Square is not dirty, choose a movement action randomly\n",
    "    movementOptions = [] #options will be appended to this list if they are possible, based on the bumper status\n",
    "    for direction in [\"north\", \"south\", \"east\", \"west\"]:\n",
    "        if not bumpers[direction]:\n",
    "            movementOptions.append(direction)\n",
    "    \n",
    "    #Choose a random movement from the possible list\n",
    "    return np.random.choice(movementOptions)\n",
    "\n",
    "environmentSimulation(simpleReflexAgent, 100)\n",
    "    "
   ]
  },
  {
   "cell_type": "markdown",
   "metadata": {},
   "source": [
    "## Task 3: Implement a model-based reflex agent [3 Point]\n",
    "\n",
    "This agent keeps track of the location and remembers where it has cleaned. Assume the agent knows how many squares the room has. It can move to a corner to determine its location and then is able to use more advanced navigation.\n",
    "\n",
    "Describe how you define the __agent state__ and how your agent works before implementing it. _Note on implementing the state in Python:_ [Examples](https://github.com/mhahsler/CS7320-AI/blob/master/Python_Code_Examples/store_agent_state_information.ipynb)"
   ]
  },
  {
   "cell_type": "code",
   "execution_count": null,
   "metadata": {},
   "outputs": [],
   "source": [
    "# Your short description of the state and your implementation goes here"
   ]
  },
  {
   "cell_type": "code",
   "execution_count": null,
   "metadata": {},
   "outputs": [],
   "source": [
    "# Your code goes here"
   ]
  },
  {
   "cell_type": "markdown",
   "metadata": {},
   "source": [
    "## Task 4: Simulation study [3 Points]\n",
    "\n",
    "Compare the performance (the performance measure is defined in the PEAS description above) of the agents using  environments of different size. E.g., $5 \\times 5$, $10 \\times 10$ and\n",
    "$100 \\times 100$. Use 100 random runs for each. Present the results in a suitable format (tables, graphs) and discuss the differences. \n",
    "\n",
    "Here is some help with [charts and tables.](https://github.com/mhahsler/CS7320-AI/blob/master/Python_Code_Examples/charts_and_tables.ipynb)"
   ]
  },
  {
   "cell_type": "code",
   "execution_count": null,
   "metadata": {},
   "outputs": [],
   "source": [
    "# Your code goes here"
   ]
  },
  {
   "cell_type": "markdown",
   "metadata": {},
   "source": [
    "Fill out the following table with the average performance measure for 100 random runs (you may also create this table with code):\n",
    "\n",
    "| Size     | Randomized Agent | Simple Reflex Agent | Model-based Reflex Agent |\n",
    "|----------|------------------|---------------------|--------------------------|\n",
    "| 5x5     | | | |\n",
    "| 10x10   | | | |\n",
    "| 100x100 | | | |"
   ]
  },
  {
   "cell_type": "code",
   "execution_count": null,
   "metadata": {},
   "outputs": [],
   "source": [
    "# Your discussion of the results goes here"
   ]
  },
  {
   "cell_type": "markdown",
   "metadata": {},
   "source": [
    "## Task 5: Robustness of the agent implementations [1 Point] \n",
    "\n",
    "Describe how your agent implementations will perform \n",
    "\n",
    "* if it is put into a rectangular room with unknown size, \n",
    "* if the cleaning area can have an iregular shape (e.g., a hallway connecting two rooms), or \n",
    "* if the room contains obstacles (i.e., squares that it cannot pass through and trigger the bumper sensors)."
   ]
  },
  {
   "cell_type": "code",
   "execution_count": null,
   "metadata": {},
   "outputs": [],
   "source": [
    "# Answer goes here"
   ]
  },
  {
   "cell_type": "markdown",
   "metadata": {},
   "source": [
    "## Graduate student advanced task: Obstacles [1 Point]\n",
    "\n",
    "__Undergraduate students:__ This is a bonus task you can attempt if you like [+1 Bonus point].\n",
    "\n",
    "1. Change your simulation environment tor run experiments for the following problem: Add random obstacle squares that also trigger the bumper sensor. The agent does not know where the obstacles are. Observe how this changes the performance of the three implementations.\n",
    "\n",
    "2. Describe what would need to be done to perform better with obstacles. Add code if you can. "
   ]
  },
  {
   "cell_type": "code",
   "execution_count": null,
   "metadata": {},
   "outputs": [],
   "source": [
    "# Your code and discussion goes here"
   ]
  },
  {
   "cell_type": "markdown",
   "metadata": {},
   "source": [
    "## More advanced tasks to think about\n",
    "\n",
    "You can think about these:\n",
    "\n",
    "* __Unknown environment with obstacles:__ Implement an agent for an environment where the agent does not know how large the environment is (we assume it is rectangular), where it starts or where the obstacles are. An option would be to always move to the closest unchecked/uncleaned square.\n",
    "\n",
    "* __Utility-based agent:__ Change the environment, so each square has a fixed probability of getting dirty again. We assume the agent has learned this information over time. For the implementation, we give this information to the agent as a 2-dimensional array of probabilities  Cleaning one dirty square produces a utility of 1. Implement a utility-based agent that maximizes the expected utility over one full charge which lasts for 10000 time steps. This is very tricky!"
   ]
  },
  {
   "cell_type": "code",
   "execution_count": null,
   "metadata": {},
   "outputs": [],
   "source": [
    "# Your ideas/code"
   ]
  }
 ],
 "metadata": {
  "kernelspec": {
   "display_name": "Python 3 (ipykernel)",
   "language": "python",
   "name": "python3"
  },
  "language_info": {
   "codemirror_mode": {
    "name": "ipython",
    "version": 3
   },
   "file_extension": ".py",
   "mimetype": "text/x-python",
   "name": "python",
   "nbconvert_exporter": "python",
   "pygments_lexer": "ipython3",
   "version": "3.9.6"
  }
 },
 "nbformat": 4,
 "nbformat_minor": 4
}
