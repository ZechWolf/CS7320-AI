{
 "cells": [
  {
   "cell_type": "markdown",
   "metadata": {},
   "source": [
    "# Search: Solving a Maze Using a Goal-based Agent\n",
    "\n",
    "\n",
    "## Instructions\n",
    "\n",
    "Total Points: Undegraduates 10, graduate students 11\n",
    "\n",
    "Complete this notebook and submit it. The notebook needs to be a complete project report with \n",
    "\n",
    "* your implementation,\n",
    "* documentation including a short discussion of how your implementation works and your design choices, and\n",
    "* experimental results (e.g., tables and charts with simulation results) with a short discussion of what they mean. \n",
    "\n",
    "Use the provided notebook cells and insert additional code and markdown cells as needed.\n",
    "\n",
    "\n",
    "## Introduction\n",
    "\n",
    "The agent has a map of the maze it is in and the environment is assumed to be **deterministic, discrete, and known.** The agent must use the map to plan a path through the maze from the starting location $S$ to the goal location $G$.  This is a planing exercise for a goal-based agent, so you do not need to implement an environment, just use the map to search for a path. Once the plan is made, the agent in a deterministic environment (i.e., the transition function is deterministic with the outcome of each state/action pair fixed and no randomness) can just follow the path and does not need to care about the percepts.\n",
    "This is also called an **[open-loop system](https://en.wikipedia.org/wiki/Open-loop_controller).**\n",
    "The execution phase is trivial and we do not implement it in this exercise.\n",
    "\n",
    "Tree search algorithm implementations that you find online and used in general algorithms courses have often a different aim. These algorithms assume that you already have a tree in memory. We are interested in dynamically creating a search tree with the aim of finding a good/the best path from the root noteto the goal state. Follow the pseudo code presented in the text book (and replicated in the slides) closely. Ideally, we would like to search only a small part of the maze, i.e., create a search tree with as few nodes as possible. \n",
    "\n",
    "Several mazes for this exercise are stored as text files. Here is the small example maze:"
   ]
  },
  {
   "cell_type": "code",
   "execution_count": 1,
   "metadata": {},
   "outputs": [
    {
     "name": "stdout",
     "output_type": "stream",
     "text": [
      "XXXXXXXXXXXXXXXXXXXXXXXXXXXXXXXXXXXXX\n",
      "X                                  SX\n",
      "X            X                      X\n",
      "X            X                      X\n",
      "X            X                      X\n",
      "X            X                      X\n",
      "X            X                      X\n",
      "X            X      X               X\n",
      "X            X      X               X\n",
      "X            X      X               X\n",
      "X            X      X               X\n",
      "X            X      X               X\n",
      "X            X      X               X\n",
      "X            X      X               X\n",
      "XXXXXXXXXXXXXX      XXXXXXXXXXXXXXXXX\n",
      "X            X                      X\n",
      "X            X                      X\n",
      "X            X                      X\n",
      "X                                   X\n",
      "X                                   X\n",
      "X                                   X\n",
      "XG                                  X\n",
      "XXXXXXXXXXXXXXXXXXXXXXXXXXXXXXXXXXXXX\n",
      "\n"
     ]
    }
   ],
   "source": [
    "f = open(\"open_maze.txt\", \"r\") #small maze is used for demonstrations in each section\n",
    "maze_str = f.read()\n",
    "print(maze_str)"
   ]
  },
  {
   "cell_type": "markdown",
   "metadata": {},
   "source": [
    "__Note:__ The mazes above contains cycles and therefore the state space may not form proper trees unless cycles are prevented. Therfore, you will need to deal with cycle detection in your code."
   ]
  },
  {
   "cell_type": "markdown",
   "metadata": {},
   "source": [
    "## Parsing and pretty printing the maze\n",
    "\n",
    "The maze can also be displayed in color using code in the file [maze_helper.py](maze_helper.py). The code parses the string representing the maze and converts it into a `numpy` 2d array which you can use in your implementation. I represent a position as a 2-tuple of the form `(row, col)`. "
   ]
  },
  {
   "cell_type": "code",
   "execution_count": 2,
   "metadata": {
    "scrolled": true
   },
   "outputs": [
    {
     "name": "stdout",
     "output_type": "stream",
     "text": [
      "Position(0,0): X\n",
      "Position(8,1):  \n"
     ]
    }
   ],
   "source": [
    "%run maze_helper.py\n",
    "\n",
    "maze = parse_maze(maze_str)\n",
    "\n",
    "# look at a position in the maze by subsetting the 2d array\n",
    "print(\"Position(0,0):\", maze[0, 0])\n",
    "\n",
    "# there is also a helper function called `look(maze, pos)` available\n",
    "# which uses a 2-tuple for the position.\n",
    "print(\"Position(8,1):\", look(maze, (8, 1)))"
   ]
  },
  {
   "cell_type": "markdown",
   "metadata": {},
   "source": [
    "A helper function to visualize the maze is also available."
   ]
  },
  {
   "cell_type": "code",
   "execution_count": 3,
   "metadata": {},
   "outputs": [
    {
     "data": {
      "image/png": "[encoded data removed]",
      "text/plain": [
       "<Figure size 432x288 with 1 Axes>"
      ]
     },
     "metadata": {
      "image/png": {
       "height": 239,
       "width": 369
      },
      "needs_background": "light"
     },
     "output_type": "display_data"
    }
   ],
   "source": [
    "%matplotlib inline\n",
    "%config InlineBackend.figure_format = 'retina'\n",
    "# use higher resolution images in notebook\n",
    "\n",
    "show_maze(maze)"
   ]
  },
  {
   "cell_type": "markdown",
   "metadata": {},
   "source": [
    "Find the position of the start and the goal using the helper function `find_pos()`"
   ]
  },
  {
   "cell_type": "code",
   "execution_count": 4,
   "metadata": {},
   "outputs": [
    {
     "name": "stdout",
     "output_type": "stream",
     "text": [
      "Start location: (1, 35)\n",
      "Goal location: (21, 1)\n"
     ]
    }
   ],
   "source": [
    "print(\"Start location:\", find_pos(maze, what = \"S\"))\n",
    "print(\"Goal location:\", find_pos(maze, what = \"G\"))"
   ]
  },
  {
   "cell_type": "markdown",
   "metadata": {},
   "source": [
    "## Tree structure\n",
    "\n",
    "Here is an implementation of the basic node structure for the search algorithms (see Fig 3.7 on page 73). I have added a method that extracts the path from the root node to the current node. It can be used to get the path when the search is completed."
   ]
  },
  {
   "cell_type": "code",
   "execution_count": 5,
   "metadata": {},
   "outputs": [],
   "source": [
    "class Node:\n",
    "    def __init__(self, pos, parent, action, cost):\n",
    "        self.pos = tuple(pos)    # the state; positions are (row,col)\n",
    "        self.parent = parent     # reference to parent node. None means root node.\n",
    "        self.action = action     # action used in the transition function (root node has None)\n",
    "        self.cost = cost         # for uniform cost this is the depth. It is also g(n) for A* search\n",
    "\n",
    "    def __str__(self):\n",
    "        return f\"Node - pos = {self.pos}; action = {self.action}; cost = {self.cost}\"\n",
    "    \n",
    "    def get_path_from_root(self):\n",
    "        \"\"\"returns nodes on the path from the root to the current node.\"\"\"\n",
    "        node = self\n",
    "        path = [node]\n",
    "    \n",
    "        while not node.parent is None:\n",
    "            node = node.parent\n",
    "            path.append(node)\n",
    "        \n",
    "        path.reverse()\n",
    "        \n",
    "        return(path)\n",
    "\n",
    "    def __eq__(self, rhs):\n",
    "        \"\"\"Comparison operator returns true if the positions between the two nodes are the same\"\"\"\n",
    "        return self.pos == rhs.pos"
   ]
  },
  {
   "cell_type": "markdown",
   "metadata": {},
   "source": [
    "If needed, then you can add more fields to the class.\n",
    "\n",
    "\n",
    "__Tree and memory management example:__ Create the root node and append the node for going east with a cost of 1."
   ]
  },
  {
   "cell_type": "code",
   "execution_count": 6,
   "metadata": {},
   "outputs": [
    {
     "name": "stdout",
     "output_type": "stream",
     "text": [
      "Create root node\n",
      "root: Node - pos = (0, 0); action = None; cost = 0\n",
      "root (reference): <__main__.Node object at 0x7fc17b9993a0>\n",
      "\n",
      "Go east with cost 1 (from the parent root)\n",
      "node2: Node - pos = (0, 1); action = E; cost = 1\n",
      "parent of node2:  Node - pos = (0, 0); action = None; cost = 0\n",
      "parent of node2 (reference):  <__main__.Node object at 0x7fc17b9993a0>\n",
      "Root is now referenced twice. Reference count for garbage collection (root node): 2\n",
      "\n",
      "Note that the root node is safe from garbage collection as long as we have also a reference in node2\n",
      "None\n",
      "parent of node2 (reference to root node):  <__main__.Node object at 0x7fc17b9993a0>\n",
      "Reference count for garbage collection (root node): 1\n",
      "\n",
      "Path from root to node2\n",
      "References: [<__main__.Node object at 0x7fc17b9993a0>, <__main__.Node object at 0x7fc17b999850>]\n",
      "Positions: [(0, 0), (0, 1)]\n",
      "Actions: [None, 'E']\n",
      "Cost: [0, 1]\n",
      "\n",
      "Once we delete the reference to node2, the reference count for all nodes goes to zero and the whole tree is exposed to garbage collection.\n"
     ]
    }
   ],
   "source": [
    "# import sys to access reference counts\n",
    "import sys\n",
    "\n",
    "print(\"Create root node\")\n",
    "root = Node(pos = (0,0), parent = None, action = None, cost = 0)\n",
    "print(\"root:\", root)\n",
    "print(\"root (reference):\", repr(root))\n",
    "\n",
    "print()\n",
    "print(\"Go east with cost 1 (from the parent root)\")\n",
    "node2 = Node(pos = (0,1), parent = root, action = \"E\", cost = 1)\n",
    "print(\"node2:\", node2)\n",
    "print(\"parent of node2: \", node2.parent)\n",
    "print(\"parent of node2 (reference): \", repr(node2.parent))\n",
    "# Note: -1 is used because passing root to getrefcount adds one reference\n",
    "print(\"Root is now referenced twice. Reference count for garbage collection (root node):\", sys.getrefcount(root)-1)\n",
    "\n",
    "print()\n",
    "print(\"Note that the root node is safe from garbage collection as long as we have also a reference in node2\") \n",
    "root = None\n",
    "print(root)\n",
    "print(\"parent of node2 (reference to root node): \", repr(node2.parent))\n",
    "print(\"Reference count for garbage collection (root node):\", sys.getrefcount(node2.parent)-1)\n",
    "\n",
    "print()\n",
    "print(\"Path from root to node2\")\n",
    "path = node2.get_path_from_root()\n",
    "print(\"References:\", path)\n",
    "print(\"Positions:\", [n.pos for n in path])\n",
    "print(\"Actions:\", [n.action for n in path])\n",
    "print(\"Cost:\", [n.cost for n in path])\n",
    "\n",
    "\n",
    "print()\n",
    "print(\"Once we delete the reference to node2, the reference count for all nodes goes to zero and the whole tree is exposed to garbage collection.\")\n",
    "node2 = None"
   ]
  },
  {
   "cell_type": "markdown",
   "metadata": {},
   "source": [
    "# Goal\n",
    "Implement the following search algorithms for solving different mazes:\n",
    "\n",
    "* Breadth-first search (BFS)\n",
    "* Depth-first search (DFS)\n",
    "* Greedy best-first search (GBFS)\n",
    "* A* search\n",
    "\n",
    "Run each of the above algorithms on the \n",
    "[small maze](small_maze.txt), \n",
    "[medium maze](medium_maze.txt), \n",
    "[large maze](large_maze.txt), \n",
    "[open maze](open_maze.txt),\n",
    "[wall maze](wall_maze.txt),\n",
    "[loops maze](loops_maze.txt),\n",
    "[empty maze](empty_maze.txt), and\n",
    "[empty 2_maze](empty_2_maze.txt).\n",
    "For each problem instance and each search algorithm, report the following in a table:\n",
    "\n",
    "* The solution and its path cost\n",
    "* Number of nodes expanded\n",
    "* Maximum tree depth\n",
    "* Maximum size of the frontier\n",
    "\n",
    "Display each solution by marking every maze square (or state) visited and the squares on the final path."
   ]
  },
  {
   "cell_type": "markdown",
   "metadata": {},
   "source": [
    "## Task 1: Defining the search problem and determining the problem size [1 point]\n",
    "\n",
    "Define the components of the search problem:\n",
    "\n",
    "* Initial state\n",
    "* Actions\n",
    "* Transition model\n",
    "* Goal state\n",
    "* Path cost\n",
    "\n",
    "Use verbal descriptions, variables and equations as appropriate. \n",
    "\n",
    "*Note:* You can swich the next block from code to Markdown and use formating."
   ]
  },
  {
   "cell_type": "markdown",
   "metadata": {},
   "source": [
    "__Initial state__\n",
    "\n",
    "The agent start out at the given starting position, labled \"S\" in the file, which can be described as a 2 dimensional coordinate (x, y). The initial state is on an outer edge of the maze\n",
    "\n",
    "__Actions__\n",
    "\n",
    "The agent can choose from four possible movement options: {north, east, south, west}, corresponding to moving in the positive and negative directions on the x and y axes. In code, these actions will be represented by a string containing the first character of the direction.\n",
    "\n",
    "__Transition model__\n",
    "\n",
    "A state described in (x, y) coordinates transitions to a new state according to the following function $f(position, action)$:\n",
    "* $f((x,y), N) = (x, y - 1)$\n",
    "* $f((x,y), E) = (x + 1, y)$\n",
    "* $f((x,y), S) = (x, y + 1)$\n",
    "* $f((x,y), W) = (x - 1, y)$\n",
    "\n",
    "__Goal state__\n",
    "\n",
    "The goal state is the (x, y) coordinates of the position in the maze file labeled \"G.\"\n",
    "\n",
    "__Path cost__\n",
    "\n",
    "The path cost is measured as the discrete number of steps (number of squares) taken to get from the initial state to the goal state. The agent is not allowed to move diagonally."
   ]
  },
  {
   "cell_type": "markdown",
   "metadata": {},
   "source": [
    "Give some estimates for the problem size:\n",
    "\n",
    "* $n$: state space size\n",
    "* $d$: depth of the optimal solution\n",
    "* $m$: maximum depth of tree\n",
    "* $b$: maximum branching factor\n",
    "\n",
    "Describe how you would determin these values from a given maze."
   ]
  },
  {
   "cell_type": "markdown",
   "metadata": {},
   "source": [
    "#### n\n",
    "The state space size is equal to the total number of squares that the agent can occupy. This is calculated by subtracting the number of wall squares from the total area of the rectangular maze: $S=lw - x$, where l = length, w = width, and x = number of wall squares\n",
    "\n",
    "#### d\n",
    "The depth of the optimal solution falls within the range: $manhattanDistance(start, goal) \\le d \\le n$. This is because $d$ is equal to the number of steps in the optimal path, so it cannot be any smaller than the manhattan distance between the start and the goal, and it cannot be any larger than the state space size. Finding the depth for a particular maze would require solving the maze with an optimal algorithm and determining the path cost.\n",
    "\n",
    "#### m\n",
    "The tree would be at maximum depth in a worst case scenario where the search algorithm must travel through the entire state space to find the solution. In this case, the path cost would be equal to the state space size, so the maximum depth of the tree is equal to the state space size $n$.\n",
    "\n",
    "#### b\n",
    "The branching factor is equal to the number of possible actions, because it represents the number of states that can be reached from a single state. With 4 possible directions to travel in, the maximum branching factor of the tree is\n",
    "\n",
    "$b=4$"
   ]
  },
  {
   "cell_type": "markdown",
   "metadata": {},
   "source": [
    "## Task 2: Uninformed search: Breadth-first and depth-first [4 points]\n",
    "\n",
    "Implement these search strategies. Follow the pseudocode in the textbook/slides. You can use the tree structure shown above to extract the final path from your solution.\n",
    "\n",
    "__Notes:__\n",
    "* You can find maze solving implementations online that use the map to store information. While this is an effective idea for this two-dimensional navigation problem, it typically cannot be used for other search problems. Therefore, follow the textbook and only store information in the tree created during search, and use the `reached` and `frontier` data structures.\n",
    "* DSF can be implemented using the BFS tree search algorithm and simply changing the order in which the frontier is expanded (this is equivalent to best-first search with path length as the criterion to expand the next node). However, to take advantage of the significantly smaller memory footprint of DFS, you need to implement DFS in a different way without a `reached` data structure and by releasing the memory for nodes that are not needed anymore. \n",
    "* If DFS does not use a `reached` data structure, then its cycle checking abilities are limited. Remember, that DSF is incomplete if cycles cannot be prevented. You will see in your experiments that open spaces are a problem."
   ]
  },
  {
   "cell_type": "markdown",
   "metadata": {},
   "source": [
    "#### Helper functions - expand and mark"
   ]
  },
  {
   "cell_type": "code",
   "execution_count": 7,
   "metadata": {},
   "outputs": [],
   "source": [
    "import numpy as np\n",
    "\n",
    "def expand(node, maze, randomized = False):\n",
    "    \"\"\"Returns the reachable children of the given node\n",
    "    Used in all search functions\"\"\"\n",
    "\n",
    "    x = node.pos[0]\n",
    "    y = node.pos[1]\n",
    "    children = list()\n",
    "\n",
    "    expOrder = [(0, 1, \"E\"), (0, -1, \"W\"), (1, 0, \"S\"), (-1, 0, \"N\")]\n",
    "    if randomized: np.random.shuffle(expOrder)\n",
    "\n",
    "    for i in expOrder: #list of tuples represents how to add to get to a new position in the given direction\n",
    "        newPos = (x + i[0], y + i[1])\n",
    "        if look(maze, newPos) != \"X\":\n",
    "            children.append(Node(newPos, node, i[2], 0))\n",
    "    \n",
    "    return children\n",
    "\n",
    "def mark(maze, node, code):\n",
    "    \"\"\"Debug function which marks the maze string with debug information for visualization\"\"\"\n",
    "\n",
    "    maze[ node.pos[0] ][ node.pos[1] ] = code\n",
    "    "
   ]
  },
  {
   "cell_type": "markdown",
   "metadata": {},
   "source": [
    "#### Custom Queue and Stack classes\n",
    "The built in queue and stack classes do not support the \"in\" operator, which makes checking the frontier for cycles difficult. These implementations work with the \"in\" operator to allow easy cycle checking within the frontier"
   ]
  },
  {
   "cell_type": "code",
   "execution_count": 8,
   "metadata": {},
   "outputs": [],
   "source": [
    "class Queue:\n",
    "    def __init__(self):\n",
    "        self.array = list()\n",
    "        self.size = 0\n",
    "\n",
    "    def push(self, val):\n",
    "        self.array.insert(0, val)\n",
    "        self.size += 1\n",
    "\n",
    "    def pop(self):\n",
    "        self.size -= 1\n",
    "        return self.array.pop()\n",
    "\n",
    "    def empty(self):\n",
    "        return self.size == 0\n",
    "\n",
    "    def __contains__(self, key):\n",
    "        return key in self.array\n",
    "\n",
    "    def __str__(self):\n",
    "        return repr(self.array)\n",
    "\n",
    "    def __len__(self):\n",
    "        return self.size\n",
    "\n",
    "class Stack:\n",
    "    def __init__(self):\n",
    "        self.array = list()\n",
    "        self.size = 0\n",
    "\n",
    "    def push(self, val):\n",
    "        self.array.insert(0, val)\n",
    "        self.size += 1\n",
    "\n",
    "    def pop(self):\n",
    "        self.size -= 1\n",
    "        return self.array.pop(0)\n",
    "\n",
    "    def empty(self):\n",
    "        return self.size == 0\n",
    "\n",
    "    def __contains__(self, key):\n",
    "        return key in self.array\n",
    "\n",
    "    def __str__(self):\n",
    "        return repr(self.array)\n",
    "\n",
    "    def __len__(self):\n",
    "        return self.size"
   ]
  },
  {
   "cell_type": "markdown",
   "metadata": {},
   "source": [
    "#### BFS implementation"
   ]
  },
  {
   "cell_type": "code",
   "execution_count": 9,
   "metadata": {},
   "outputs": [
    {
     "data": {
      "image/png": "[encoded data removed]",
      "text/plain": [
       "<Figure size 432x288 with 1 Axes>"
      ]
     },
     "metadata": {
      "image/png": {
       "height": 239,
       "width": 369
      },
      "needs_background": "light"
     },
     "output_type": "display_data"
    }
   ],
   "source": [
    "def bfs(maze, debug = False, showSteps = False): #Debug shows the maze visualization at the end. Show steps shows after each step\n",
    "    if debug: mazeCp = np.copy(maze) #copy of the maze string for visualizations\n",
    "\n",
    "    #Stats\n",
    "    nodesExpanded = 0\n",
    "    maxFrontier = 0\n",
    "    treeDepth = 0\n",
    "    treeSize = 1\n",
    "\n",
    "\n",
    "    #Initialize root node at starting position of maze and get goal node\n",
    "    rootPos = find_pos(maze, what=\"S\")\n",
    "    root = Node(rootPos, None, None, 0)\n",
    "    goalPos = find_pos(maze, what=\"G\")\n",
    "\n",
    "    #Add root to frontier and reached\n",
    "    frontier = Queue()\n",
    "    frontier.push(root)\n",
    "    reached = set()\n",
    "    reached.add(root.pos)\n",
    "\n",
    "    while not frontier.empty():\n",
    "        node = frontier.pop()\n",
    "        nodesExpanded += 1\n",
    "        for n in expand(node, maze):\n",
    "\n",
    "            if n.pos == goalPos:\n",
    "                p = n.get_path_from_root()\n",
    "\n",
    "                if debug:\n",
    "                    for x in p[1:len(p)-1]: #mark the path excluding S and G nodes\n",
    "                        mark(mazeCp, x, \"P\")\n",
    "                    show_maze(mazeCp)\n",
    "                \n",
    "                if len(n.get_path_from_root()) > treeDepth: treeDepth = len(n.get_path_from_root())\n",
    "                return [len(p), nodesExpanded, treeDepth, treeSize, maxFrontier]\n",
    "            \n",
    "            if n.pos not in reached:\n",
    "                reached.add(n.pos)\n",
    "                frontier.push(n)\n",
    "\n",
    "                #Update stats\n",
    "                if len(frontier) > maxFrontier: maxFrontier = len(frontier)\n",
    "                if len(n.get_path_from_root()) > treeDepth: treeDepth = len(n.get_path_from_root())\n",
    "                treeSize += 1\n",
    "\n",
    "                if debug and look(maze, n.pos) not in [\"S\", \"G\"]: mark(mazeCp, n, \"F\")\n",
    "                if showSteps: show_maze(mazeCp)\n",
    "\n",
    "            if debug and look(maze, n.pos) not in [\"S\", \"G\"]: mark(mazeCp, n, \".\")\n",
    "    \n",
    "    return None\n",
    "\n",
    "#Test in debug mode\n",
    "test = bfs(maze, True)"
   ]
  },
  {
   "cell_type": "markdown",
   "metadata": {},
   "source": [
    "#### DFS implementation"
   ]
  },
  {
   "cell_type": "code",
   "execution_count": 10,
   "metadata": {},
   "outputs": [
    {
     "data": {
      "image/png": "[encoded data removed]",
      "text/plain": [
       "<Figure size 432x288 with 1 Axes>"
      ]
     },
     "metadata": {
      "image/png": {
       "height": 239,
       "width": 369
      },
      "needs_background": "light"
     },
     "output_type": "display_data"
    }
   ],
   "source": [
    "def dfs(maze, debug = False, showSteps = False, randomExpand = False):\n",
    "    if debug: mazeCp = np.copy(maze) #copy of the maze string for visualizations\n",
    "\n",
    "    #Initialize root node at starting position of maze and get goal node\n",
    "    rootPos = find_pos(maze, what=\"S\")\n",
    "    root = Node(rootPos, None, None, 0)\n",
    "    goalPos = find_pos(maze, what=\"G\")\n",
    "\n",
    "    frontier = Stack()\n",
    "    frontier.push(root)\n",
    "\n",
    "    #Stats\n",
    "    nodesExpanded = 0\n",
    "    maxFrontier = 0\n",
    "    treeDepth = 0\n",
    "    treeSize = 1\n",
    "\n",
    "    iteration = 0\n",
    "    while not frontier.empty():\n",
    "        iteration += 1\n",
    "        if iteration > 100000 and randomExpand: break\n",
    "\n",
    "        node = frontier.pop() #pop next node from the frontier\n",
    "        nodesExpanded += 1\n",
    "        for n in expand(node, maze, randomExpand):\n",
    "            if n.pos == goalPos:\n",
    "                p = n.get_path_from_root()\n",
    "                if debug:\n",
    "                    \n",
    "                    for x in p[1:len(p)-1]: #mark the path excluding S and G nodes\n",
    "                        mark(mazeCp, x, \"P\")\n",
    "                    show_maze(mazeCp)\n",
    "\n",
    "                if len(n.get_path_from_root()) > treeDepth: treeDepth = len(n.get_path_from_root())\n",
    "                return [len(p), nodesExpanded, treeDepth, treeSize, maxFrontier]\n",
    "                \n",
    "            if n not in frontier and n not in node.get_path_from_root(): #check the frontier and path to prevent cycling within memory\n",
    "                frontier.push(n)\n",
    "                if debug and look(maze, n.pos) not in [\"S\", \"G\"]: mark(mazeCp, n, \"F\")\n",
    "                if showSteps: show_maze(mazeCp)\n",
    "\n",
    "                #Update stats\n",
    "                if len(frontier) > maxFrontier: maxFrontier = len(frontier)\n",
    "                if len(n.get_path_from_root()) > treeDepth: treeDepth = len(n.get_path_from_root())\n",
    "                ts = len(frontier) + len(n.get_path_from_root())\n",
    "                if ts > treeSize: treeSize = ts #tree size is sum of frontier and nodes on the path to current\n",
    "\n",
    "            if debug and look(maze, n.pos) not in [\"S\", \"G\"]: mark(mazeCp, n, \".\")\n",
    "    \n",
    "    p = n.get_path_from_root()\n",
    "    if debug:\n",
    "        \n",
    "        for x in p[1:len(p)-1]: #mark the path excluding S and G nodes\n",
    "            mark(mazeCp, x, \"P\")\n",
    "        show_maze(mazeCp)\n",
    "    return [\"Incomplete\", nodesExpanded, treeDepth, treeSize, maxFrontier]\n",
    "\n",
    "test = dfs(maze, True)"
   ]
  },
  {
   "cell_type": "markdown",
   "metadata": {},
   "source": [
    "How does BFS and DFS deal with loops (cycles)?"
   ]
  },
  {
   "cell_type": "markdown",
   "metadata": {},
   "source": [
    "* BFS handles cycles by marking each node as visited using a $reached$ data structure, which is implemented as a set. When expanding a node, the algorithm will ignore child nodes that are already in the set\n",
    "\n",
    "* DFS handles cycles by checking the nodes that are currently in memory. When expanding a node, the algorithm ignores child nodes that are either in the frontier already, or in the path from the root to the current node"
   ]
  },
  {
   "cell_type": "markdown",
   "metadata": {},
   "source": [
    "Are your implementations complete and optimal? Explain why. What is the time and space complexity of each of **your** implementations?"
   ]
  },
  {
   "cell_type": "markdown",
   "metadata": {},
   "source": [
    "#### BFS\n",
    "* __Complete: Yes -__ BFS uses a queue as the frontier, so it must explore all nodes at a given level of the tree before going deeper into the tree. This means that if necessary, BFS will search the entire tree to find the solution. Thus, if a solution exists, BFS will find it.\n",
    "* __Optimal: Yes -__ Assuming each step in the maze has the same cost, BFS explores the tree one level at a time, by visiting all the nodes on that level before moving to the next. This means that when the goal node is found, the depth of the goal node is at a minimum\n",
    "* __Time complexity: $O(b^d)$, where b = branching factor and d = depth of optimal solution -__ The time complexity is proportional to the number of nodes expanded in order to reach the optimal solution, which is equal to the branching factor raised to the power of the depth\n",
    "* __Space complexity: $O(b^d)$ -__ BFS must keep the entire tree in memory, as well as a $reached$ data structure to keep track of all visited nodes, so the space complexity is $O(b^d)$"
   ]
  },
  {
   "cell_type": "markdown",
   "metadata": {},
   "source": [
    "#### DFS\n",
    "* __Complete: No* -__ This implementation of DFS can only prevent cycles by checking for a given node within the subsection of the tree that is in memory. This is sufficient in some cases to prevent cycles, as in the small, medium, and large mazes, where DFS is complete. However, in the open mazes, DFS can get stuck because it checks nodes that it has visited already, but forgotten. So in these cases, it would be incomplete.\n",
    "* __Optimal: No -__ DFS traverses the tree by going as deep as possible before backtracking. Thus it will return the first solution that it finds. As a result, it is possible that a better solution would have been found by going down a different path in the tree.\n",
    "* __Time complexity: $O(b^m)$, where b = branching factor and m = maximum depth of tree -__ The worst case time complexity occurs when the algorithm must search to the deepest level of the tree in order to find the solution. Since there are $b$ choices to make at each node, and $m$ levels in the tree, the time complexity is $O(b^m)\n",
    "* __Space complexity: $O(bm)$ -__ DFS only needs to keep one portion of the tree in memory at a time. The amount of memory taken up by the portion of the tree in memory is proportional to the number of nodes in the frontier and on the current path. Thus, the worst case space complexity occurs when the algorithm is searching at the max depth of the tree, so the space complexity is $O(bm)$"
   ]
  },
  {
   "cell_type": "markdown",
   "metadata": {},
   "source": [
    "## Task 3: Informed search: Implement greedy best-first search and A* search  [4 points]\n",
    "\n",
    "You can use the map to estimate the distance from your current position to the goal using the Manhattan distance (see https://en.wikipedia.org/wiki/Taxicab_geometry) as a heuristic function. Both algorithms are based on Best-First search which requires only a small change from the BFS algorithm you have already implemented (see textbook/slides). "
   ]
  },
  {
   "cell_type": "markdown",
   "metadata": {},
   "source": [
    "#### Heuristic function\n",
    "The heuristic function used in these algorithms is manhattan distance. Manhattan distance is an admissible heuristic because it never overestimates the true distance between the current node and the goal node."
   ]
  },
  {
   "cell_type": "code",
   "execution_count": 11,
   "metadata": {},
   "outputs": [],
   "source": [
    "import numpy as np\n",
    "\n",
    "def manhattan(node, goalPos):\n",
    "    \"\"\"Returns the manhattan distance between given node and goal position\n",
    "    node argument is expected as node object\n",
    "    goalPos arugment is expected as tuple\n",
    "    Manhattan distance = |x1-x2| + |y1-y2|\"\"\"\n",
    "\n",
    "    return np.sum(np.abs(np.subtract(node.pos, goalPos)))\n",
    "\n",
    "def aStarH(node, goalPos):\n",
    "    \"\"\"Returns the A* heuristic function f(n) = g(n) + h(n) which is the sum of the distance to get to node and the distance\n",
    "    from node to the goal\n",
    "    Distance is measured in discrete number of steps\"\"\"\n",
    "\n",
    "    return len(node.get_path_from_root()) + manhattan(node, goalPos)"
   ]
  },
  {
   "cell_type": "markdown",
   "metadata": {},
   "source": [
    "#### Node Wrapper class\n",
    "Class that wraps node objects and implements a '<' operator so the priority queue knows how to rank the heuristic values. On construction, a heuristic function can be specified so this class can be used in both GBS and A*"
   ]
  },
  {
   "cell_type": "code",
   "execution_count": 12,
   "metadata": {},
   "outputs": [],
   "source": [
    "class NodeWrapper:\n",
    "    \"\"\"Wrapper class for Node object, used for comparing two nodes in the priority queue\"\"\"\n",
    "\n",
    "    def __init__(self, n, g, h):\n",
    "        self.node = n\n",
    "        self.goalPos = g\n",
    "        self.heuristic = h #reference to heuristic function to use\n",
    "    \n",
    "    def __lt__(self, rhs): #comparison operator for priority queue\n",
    "        return self.heuristic(self.node, self.goalPos) < self.heuristic(rhs.node, self.goalPos)"
   ]
  },
  {
   "cell_type": "markdown",
   "metadata": {},
   "source": [
    "#### Greedy BFS implementation"
   ]
  },
  {
   "cell_type": "code",
   "execution_count": 13,
   "metadata": {},
   "outputs": [
    {
     "data": {
      "image/png": "[encoded data removed]",
      "text/plain": [
       "<Figure size 432x288 with 1 Axes>"
      ]
     },
     "metadata": {
      "image/png": {
       "height": 239,
       "width": 369
      },
      "needs_background": "light"
     },
     "output_type": "display_data"
    }
   ],
   "source": [
    "from queue import PriorityQueue\n",
    "\n",
    "def gbs(maze, debug = False, showSteps = False):\n",
    "    if debug: mazeCp = np.copy(maze) #copy of the maze string for visualizations\n",
    "\n",
    "    #Initialize root node at starting position of maze and get goal node\n",
    "    rootPos = find_pos(maze, what=\"S\")\n",
    "    rootRaw = Node(rootPos, None, None, 0) #raw node object\n",
    "    goalPos = find_pos(maze, what=\"G\")\n",
    "    root = NodeWrapper(rootRaw, goalPos, manhattan) #wrapper object\n",
    "\n",
    "    frontier = PriorityQueue()\n",
    "    frontier.put(root)\n",
    "\n",
    "    reached = set()\n",
    "    reached.add(rootRaw.pos)\n",
    "\n",
    "    #Stats\n",
    "    nodesExpanded = 0\n",
    "    maxFrontier = 0\n",
    "    treeDepth = 0\n",
    "    treeSize = 1\n",
    "\n",
    "    while not frontier.empty():\n",
    "        node = frontier.get() #pop next node from the frontier\n",
    "        for n in expand(node.node, maze):\n",
    "            nodesExpanded += 1\n",
    "            if n.pos == goalPos:\n",
    "                p = n.get_path_from_root()\n",
    "                if debug:\n",
    "                    \n",
    "                    for x in p[1:len(p)-1]: #mark the path excluding S and G nodes\n",
    "                        mark(mazeCp, x, \"P\")\n",
    "                    show_maze(mazeCp)\n",
    "                \n",
    "                if len(n.get_path_from_root()) > treeDepth: treeDepth = len(n.get_path_from_root())\n",
    "                return [len(p), nodesExpanded, treeDepth, treeSize, maxFrontier]\n",
    "                \n",
    "            if n.pos not in reached: #check reached to see if visited\n",
    "                nObj = NodeWrapper(n, goalPos, manhattan) #use wrapper class before\n",
    "                frontier.put(nObj)\n",
    "                reached.add(n.pos)\n",
    "\n",
    "                if debug and look(maze, n.pos) not in [\"S\", \"G\"]: mark(mazeCp, n, \"F\")\n",
    "                if showSteps: show_maze(mazeCp)\n",
    "\n",
    "                #Update stats\n",
    "                if frontier.qsize() > maxFrontier: maxFrontier = frontier.qsize()\n",
    "                if len(n.get_path_from_root()) > treeDepth: treeDepth = len(n.get_path_from_root())\n",
    "                treeSize += 1\n",
    "\n",
    "            if debug and look(maze, n.pos) not in [\"S\", \"G\"]: mark(mazeCp, n, \".\")\n",
    "\n",
    "    return None #failure\n",
    "\n",
    "test = gbs(maze, True)"
   ]
  },
  {
   "cell_type": "markdown",
   "metadata": {},
   "source": [
    "#### A* implementation"
   ]
  },
  {
   "cell_type": "code",
   "execution_count": 14,
   "metadata": {},
   "outputs": [
    {
     "data": {
      "image/png": "[encoded data removed]",
      "text/plain": [
       "<Figure size 432x288 with 1 Axes>"
      ]
     },
     "metadata": {
      "image/png": {
       "height": 239,
       "width": 369
      },
      "needs_background": "light"
     },
     "output_type": "display_data"
    }
   ],
   "source": [
    "def aStar(maze, debug = False, showSteps = False):\n",
    "    if debug: mazeCp = np.copy(maze) #copy of the maze string for visualizations\n",
    "\n",
    "    #Initialize root node at starting position of maze and get goal node\n",
    "    rootPos = find_pos(maze, what=\"S\")\n",
    "    rootRaw = Node(rootPos, None, None, 0) #raw node object\n",
    "    goalPos = find_pos(maze, what=\"G\")\n",
    "    root = NodeWrapper(rootRaw, goalPos, aStarH) #wrapper object\n",
    "\n",
    "    frontier = PriorityQueue()\n",
    "    frontier.put(root)\n",
    "\n",
    "    reached = set()\n",
    "    reached.add(rootRaw.pos)\n",
    "\n",
    "    #Stats\n",
    "    nodesExpanded = 0\n",
    "    maxFrontier = 0\n",
    "    treeDepth = 0\n",
    "    treeSize = 1\n",
    "\n",
    "    while not frontier.empty():\n",
    "        node = frontier.get() #pop next node from the frontier\n",
    "        nodesExpanded += 1\n",
    "        for n in expand(node.node, maze):\n",
    "            if n.pos == goalPos:\n",
    "                p = n.get_path_from_root()\n",
    "                if debug:\n",
    "                    \n",
    "                    for x in p[1:len(p)-1]: #mark the path excluding S and G nodes\n",
    "                        mark(mazeCp, x, \"P\")\n",
    "                    show_maze(mazeCp)\n",
    "                \n",
    "                if len(n.get_path_from_root()) > treeDepth: treeDepth = len(n.get_path_from_root())\n",
    "                return [len(p), nodesExpanded, treeDepth, treeSize, maxFrontier]\n",
    "                \n",
    "            if n.pos not in reached: #check reached to see if visited\n",
    "                nObj = NodeWrapper(n, goalPos, aStarH) #use wrapper class before\n",
    "                frontier.put(nObj)\n",
    "                reached.add(n.pos)\n",
    "\n",
    "                if debug and look(maze, n.pos) not in [\"S\", \"G\"]: mark(mazeCp, n, \"F\")\n",
    "                if showSteps: show_maze(mazeCp)\n",
    "\n",
    "                #Update stats\n",
    "                if frontier.qsize() > maxFrontier: maxFrontier = frontier.qsize()\n",
    "                if len(n.get_path_from_root()) > treeDepth: treeDepth = len(n.get_path_from_root())\n",
    "                treeSize += 1\n",
    "\n",
    "            if debug and look(maze, n.pos) not in [\"S\", \"G\"]: mark(mazeCp, n, \".\")\n",
    "\n",
    "    return None #failure\n",
    "\n",
    "test = aStar(maze, True)"
   ]
  },
  {
   "cell_type": "markdown",
   "metadata": {},
   "source": [
    "Are your implementations complete and optimal? What is the time and space complexity?"
   ]
  },
  {
   "cell_type": "markdown",
   "metadata": {},
   "source": [
    "#### Greedy Best First Search\n",
    "* __Complete: Yes -__ The only difference between GBS and BFS is the order of node expansion. So, like BFS, if a solution exists, GBS will find it\n",
    "* __Optimal: No -__ GBS will return the first solution it finds after expanding the nodes in order of the best manhattan distance to the goal node. This heuristic does not take into account the distance travelled along the current path, so there might have been a better path that the algorithm skipped over, because it wasn't immediately better than the choice that GBS made.\n",
    "* __Time complexity:__\n",
    "    * __Worst case: $O(b^m)$ -__ The worst case time complexity occurs when the solution is at the maximum depth of the tree, and the heuristic function is not very accurate. \n",
    "    * __Best case: $O(bm)$ -__ If the heuristic function happens to be completely accurate in a certain problem, the solution can be found in linear time\n",
    "* __Space complexity:__ The memory expended will be proportional to the amount of nodes expanded, so the space complexity is the same as time complexity."
   ]
  },
  {
   "cell_type": "markdown",
   "metadata": {},
   "source": [
    "#### A*\n",
    "* __Complete: Yes -__ \n",
    "* __Optimal: Yes -__ As long as an admissible heuristic is used, A* is guaranteed to find the optimal solution. Manhattan distance is an admissible heuristic, because it never overestimates the actual cost to travel from the current node to the goal node. Since movement is restricted along the axes, the optimal way to get between two points is the manhattan distance.\n",
    "* __Time complexity:__\n",
    "    * __Worst case: $O(b^m)$ -__ The worst case time complexity occurs when the solution is at the maximum depth of the tree, and the heuristic function is not very accurate. \n",
    "    * __Best case: $O(bm)$ -__ If the heuristic function happens to be completely accurate in a certain problem, the solution can be found in linear time\n",
    "* __Space complexity:__ The memory expended will be proportional to the amount of nodes expanded, so the space complexity is the same as time complexity."
   ]
  },
  {
   "cell_type": "markdown",
   "metadata": {},
   "source": [
    "## Task 4: Comparison and discussion [2 points] \n",
    "\n",
    "Run experiments to compare the implemented algorithms and present the results as tables and charts. \n",
    "\n",
    "How to deal with issues:\n",
    "\n",
    "* Your implementation returns unexpected results: Try to debug and fix the code. Visualizing the maze, the current path and the frontier after every step is very helpful. If the code still does not work, then mark the result with an asterisk (*) and describe the issue below the table.\n",
    "\n",
    "* Your implementation cannot consistently solve a specific maze and ends up in an infinite loop:\n",
    "    Debug. If it is a shortcoming of the algorithm/implementation, then put \"N/A*\" in the results table and describe why this is happening."
   ]
  },
  {
   "cell_type": "code",
   "execution_count": 15,
   "metadata": {},
   "outputs": [],
   "source": [
    "import pandas as pd\n",
    "import matplotlib.pyplot as plt\n",
    "\n",
    "pathCost = list()\n",
    "nodesExp = list()\n",
    "mtd = list()\n",
    "mts = list()\n",
    "mfs = list()\n",
    "\n",
    "def runMaze(mazeFile):\n",
    "    \"\"\"Runs all algorithms on the given maze and returns a DataFrame\"\"\"\n",
    "\n",
    "    #Read in maze file and parse\n",
    "    f = open(mazeFile, \"r\")\n",
    "    ms = f.read()\n",
    "    maze = parse_maze(ms)\n",
    "\n",
    "    pathCost = list()\n",
    "    nodesExp = list()\n",
    "    mtd = list()\n",
    "    mts = list()\n",
    "    mfs = list()\n",
    "\n",
    "    #Run all algos on the maze\n",
    "    for algo in [bfs, dfs, gbs, aStar]:\n",
    "        data = algo(maze)\n",
    "        for i, stat in enumerate([pathCost, nodesExp, mtd, mts, mfs]):\n",
    "            stat.append(data[i])\n",
    "    \n",
    "    table = {\"Algorithm\": [\"BFS\", \"DFS\", \"GBS\", \"A*\"], \"Path cost\": pathCost, \"Nodes expanded\": nodesExp,\n",
    "            \"Max tree depth\": mtd, \"Max tree size\": mts, \"Max frontier size\": mfs}\n",
    "    \n",
    "    #Plot stats in bar graph\n",
    "    x = [\"BFS\", \"DFS\", \"GBS\", \"A*\"]\n",
    "    y = list()\n",
    "    for i in range(4):\n",
    "        y.append(1 / (pathCost[i] + nodesExp[i] + mtd[i] + mts[i] + mfs[i]))\n",
    "    plt.bar(x,y)\n",
    "    plt.xlabel(\"Algorithm\")\n",
    "    plt.ylabel(\"Performance\")\n",
    "    plt.show()\n",
    "    \n",
    "    return pd.DataFrame(table)"
   ]
  },
  {
   "cell_type": "markdown",
   "metadata": {},
   "source": [
    "Complete the following table for each maze.\n",
    "\n",
    "The bar plots show a generic performance measure for each algorithm for comparison. The performance measure $P$ is calculated as the reciprocal of the sum of all statistics collected in the table. \n",
    "\n",
    "$P = (PC + NE + MTD + MTS + MFS)^{-1}$\n",
    "\n",
    "Higher values indicate a better overall performance.\n",
    "\n",
    "__Small maze__"
   ]
  },
  {
   "cell_type": "code",
   "execution_count": 16,
   "metadata": {},
   "outputs": [
    {
     "data": {
      "image/png": "[encoded data removed]",
      "text/plain": [
       "<Figure size 432x288 with 1 Axes>"
      ]
     },
     "metadata": {
      "image/png": {
       "height": 265,
       "width": 398
      },
      "needs_background": "light"
     },
     "output_type": "display_data"
    },
    {
     "data": {
      "text/html": [
       "<div>\n",
       "<style scoped>\n",
       "    .dataframe tbody tr th:only-of-type {\n",
       "        vertical-align: middle;\n",
       "    }\n",
       "\n",
       "    .dataframe tbody tr th {\n",
       "        vertical-align: top;\n",
       "    }\n",
       "\n",
       "    .dataframe thead th {\n",
       "        text-align: right;\n",
       "    }\n",
       "</style>\n",
       "<table border=\"1\" class=\"dataframe\">\n",
       "  <thead>\n",
       "    <tr style=\"text-align: right;\">\n",
       "      <th></th>\n",
       "      <th>Algorithm</th>\n",
       "      <th>Path cost</th>\n",
       "      <th>Nodes expanded</th>\n",
       "      <th>Max tree depth</th>\n",
       "      <th>Max tree size</th>\n",
       "      <th>Max frontier size</th>\n",
       "    </tr>\n",
       "  </thead>\n",
       "  <tbody>\n",
       "    <tr>\n",
       "      <th>0</th>\n",
       "      <td>BFS</td>\n",
       "      <td>20</td>\n",
       "      <td>90</td>\n",
       "      <td>20</td>\n",
       "      <td>92</td>\n",
       "      <td>9</td>\n",
       "    </tr>\n",
       "    <tr>\n",
       "      <th>1</th>\n",
       "      <td>DFS</td>\n",
       "      <td>30</td>\n",
       "      <td>53</td>\n",
       "      <td>30</td>\n",
       "      <td>33</td>\n",
       "      <td>4</td>\n",
       "    </tr>\n",
       "    <tr>\n",
       "      <th>2</th>\n",
       "      <td>GBS</td>\n",
       "      <td>30</td>\n",
       "      <td>81</td>\n",
       "      <td>30</td>\n",
       "      <td>43</td>\n",
       "      <td>5</td>\n",
       "    </tr>\n",
       "    <tr>\n",
       "      <th>3</th>\n",
       "      <td>A*</td>\n",
       "      <td>20</td>\n",
       "      <td>52</td>\n",
       "      <td>20</td>\n",
       "      <td>58</td>\n",
       "      <td>8</td>\n",
       "    </tr>\n",
       "  </tbody>\n",
       "</table>\n",
       "</div>"
      ],
      "text/plain": [
       "  Algorithm  Path cost  Nodes expanded  Max tree depth  Max tree size  \\\n",
       "0       BFS         20              90              20             92   \n",
       "1       DFS         30              53              30             33   \n",
       "2       GBS         30              81              30             43   \n",
       "3        A*         20              52              20             58   \n",
       "\n",
       "   Max frontier size  \n",
       "0                  9  \n",
       "1                  4  \n",
       "2                  5  \n",
       "3                  8  "
      ]
     },
     "execution_count": 16,
     "metadata": {},
     "output_type": "execute_result"
    }
   ],
   "source": [
    "runMaze(\"small_maze.txt\")"
   ]
  },
  {
   "cell_type": "markdown",
   "metadata": {},
   "source": [
    "__Medium maze__"
   ]
  },
  {
   "cell_type": "code",
   "execution_count": 17,
   "metadata": {},
   "outputs": [
    {
     "data": {
      "image/png": "[encoded data removed]",
      "text/plain": [
       "<Figure size 432x288 with 1 Axes>"
      ]
     },
     "metadata": {
      "image/png": {
       "height": 261,
       "width": 405
      },
      "needs_background": "light"
     },
     "output_type": "display_data"
    },
    {
     "data": {
      "text/html": [
       "<div>\n",
       "<style scoped>\n",
       "    .dataframe tbody tr th:only-of-type {\n",
       "        vertical-align: middle;\n",
       "    }\n",
       "\n",
       "    .dataframe tbody tr th {\n",
       "        vertical-align: top;\n",
       "    }\n",
       "\n",
       "    .dataframe thead th {\n",
       "        text-align: right;\n",
       "    }\n",
       "</style>\n",
       "<table border=\"1\" class=\"dataframe\">\n",
       "  <thead>\n",
       "    <tr style=\"text-align: right;\">\n",
       "      <th></th>\n",
       "      <th>Algorithm</th>\n",
       "      <th>Path cost</th>\n",
       "      <th>Nodes expanded</th>\n",
       "      <th>Max tree depth</th>\n",
       "      <th>Max tree size</th>\n",
       "      <th>Max frontier size</th>\n",
       "    </tr>\n",
       "  </thead>\n",
       "  <tbody>\n",
       "    <tr>\n",
       "      <th>0</th>\n",
       "      <td>BFS</td>\n",
       "      <td>69</td>\n",
       "      <td>266</td>\n",
       "      <td>69</td>\n",
       "      <td>269</td>\n",
       "      <td>8</td>\n",
       "    </tr>\n",
       "    <tr>\n",
       "      <th>1</th>\n",
       "      <td>DFS</td>\n",
       "      <td>163</td>\n",
       "      <td>256</td>\n",
       "      <td>163</td>\n",
       "      <td>173</td>\n",
       "      <td>11</td>\n",
       "    </tr>\n",
       "    <tr>\n",
       "      <th>2</th>\n",
       "      <td>GBS</td>\n",
       "      <td>153</td>\n",
       "      <td>320</td>\n",
       "      <td>153</td>\n",
       "      <td>164</td>\n",
       "      <td>8</td>\n",
       "    </tr>\n",
       "    <tr>\n",
       "      <th>3</th>\n",
       "      <td>A*</td>\n",
       "      <td>69</td>\n",
       "      <td>221</td>\n",
       "      <td>69</td>\n",
       "      <td>227</td>\n",
       "      <td>8</td>\n",
       "    </tr>\n",
       "  </tbody>\n",
       "</table>\n",
       "</div>"
      ],
      "text/plain": [
       "  Algorithm  Path cost  Nodes expanded  Max tree depth  Max tree size  \\\n",
       "0       BFS         69             266              69            269   \n",
       "1       DFS        163             256             163            173   \n",
       "2       GBS        153             320             153            164   \n",
       "3        A*         69             221              69            227   \n",
       "\n",
       "   Max frontier size  \n",
       "0                  8  \n",
       "1                 11  \n",
       "2                  8  \n",
       "3                  8  "
      ]
     },
     "execution_count": 17,
     "metadata": {},
     "output_type": "execute_result"
    }
   ],
   "source": [
    "runMaze(\"medium_maze.txt\")"
   ]
  },
  {
   "cell_type": "markdown",
   "metadata": {},
   "source": [
    "__Large maze__"
   ]
  },
  {
   "cell_type": "code",
   "execution_count": 18,
   "metadata": {},
   "outputs": [
    {
     "data": {
      "image/png": "[encoded data removed]",
      "text/plain": [
       "<Figure size 432x288 with 1 Axes>"
      ]
     },
     "metadata": {
      "image/png": {
       "height": 261,
       "width": 405
      },
      "needs_background": "light"
     },
     "output_type": "display_data"
    },
    {
     "data": {
      "text/html": [
       "<div>\n",
       "<style scoped>\n",
       "    .dataframe tbody tr th:only-of-type {\n",
       "        vertical-align: middle;\n",
       "    }\n",
       "\n",
       "    .dataframe tbody tr th {\n",
       "        vertical-align: top;\n",
       "    }\n",
       "\n",
       "    .dataframe thead th {\n",
       "        text-align: right;\n",
       "    }\n",
       "</style>\n",
       "<table border=\"1\" class=\"dataframe\">\n",
       "  <thead>\n",
       "    <tr style=\"text-align: right;\">\n",
       "      <th></th>\n",
       "      <th>Algorithm</th>\n",
       "      <th>Path cost</th>\n",
       "      <th>Nodes expanded</th>\n",
       "      <th>Max tree depth</th>\n",
       "      <th>Max tree size</th>\n",
       "      <th>Max frontier size</th>\n",
       "    </tr>\n",
       "  </thead>\n",
       "  <tbody>\n",
       "    <tr>\n",
       "      <th>0</th>\n",
       "      <td>BFS</td>\n",
       "      <td>211</td>\n",
       "      <td>618</td>\n",
       "      <td>211</td>\n",
       "      <td>621</td>\n",
       "      <td>8</td>\n",
       "    </tr>\n",
       "    <tr>\n",
       "      <th>1</th>\n",
       "      <td>DFS</td>\n",
       "      <td>211</td>\n",
       "      <td>469</td>\n",
       "      <td>211</td>\n",
       "      <td>241</td>\n",
       "      <td>30</td>\n",
       "    </tr>\n",
       "    <tr>\n",
       "      <th>2</th>\n",
       "      <td>GBS</td>\n",
       "      <td>211</td>\n",
       "      <td>931</td>\n",
       "      <td>211</td>\n",
       "      <td>478</td>\n",
       "      <td>24</td>\n",
       "    </tr>\n",
       "    <tr>\n",
       "      <th>3</th>\n",
       "      <td>A*</td>\n",
       "      <td>211</td>\n",
       "      <td>549</td>\n",
       "      <td>211</td>\n",
       "      <td>556</td>\n",
       "      <td>14</td>\n",
       "    </tr>\n",
       "  </tbody>\n",
       "</table>\n",
       "</div>"
      ],
      "text/plain": [
       "  Algorithm  Path cost  Nodes expanded  Max tree depth  Max tree size  \\\n",
       "0       BFS        211             618             211            621   \n",
       "1       DFS        211             469             211            241   \n",
       "2       GBS        211             931             211            478   \n",
       "3        A*        211             549             211            556   \n",
       "\n",
       "   Max frontier size  \n",
       "0                  8  \n",
       "1                 30  \n",
       "2                 24  \n",
       "3                 14  "
      ]
     },
     "execution_count": 18,
     "metadata": {},
     "output_type": "execute_result"
    }
   ],
   "source": [
    "runMaze(\"large_maze.txt\")"
   ]
  },
  {
   "cell_type": "markdown",
   "metadata": {},
   "source": [
    "__Loops maze__"
   ]
  },
  {
   "cell_type": "code",
   "execution_count": 19,
   "metadata": {},
   "outputs": [
    {
     "data": {
      "image/png": "[encoded data removed]",
      "text/plain": [
       "<Figure size 432x288 with 1 Axes>"
      ]
     },
     "metadata": {
      "image/png": {
       "height": 261,
       "width": 398
      },
      "needs_background": "light"
     },
     "output_type": "display_data"
    },
    {
     "data": {
      "text/html": [
       "<div>\n",
       "<style scoped>\n",
       "    .dataframe tbody tr th:only-of-type {\n",
       "        vertical-align: middle;\n",
       "    }\n",
       "\n",
       "    .dataframe tbody tr th {\n",
       "        vertical-align: top;\n",
       "    }\n",
       "\n",
       "    .dataframe thead th {\n",
       "        text-align: right;\n",
       "    }\n",
       "</style>\n",
       "<table border=\"1\" class=\"dataframe\">\n",
       "  <thead>\n",
       "    <tr style=\"text-align: right;\">\n",
       "      <th></th>\n",
       "      <th>Algorithm</th>\n",
       "      <th>Path cost</th>\n",
       "      <th>Nodes expanded</th>\n",
       "      <th>Max tree depth</th>\n",
       "      <th>Max tree size</th>\n",
       "      <th>Max frontier size</th>\n",
       "    </tr>\n",
       "  </thead>\n",
       "  <tbody>\n",
       "    <tr>\n",
       "      <th>0</th>\n",
       "      <td>BFS</td>\n",
       "      <td>24</td>\n",
       "      <td>70</td>\n",
       "      <td>24</td>\n",
       "      <td>71</td>\n",
       "      <td>7</td>\n",
       "    </tr>\n",
       "    <tr>\n",
       "      <th>1</th>\n",
       "      <td>DFS</td>\n",
       "      <td>38</td>\n",
       "      <td>100</td>\n",
       "      <td>38</td>\n",
       "      <td>49</td>\n",
       "      <td>12</td>\n",
       "    </tr>\n",
       "    <tr>\n",
       "      <th>2</th>\n",
       "      <td>GBS</td>\n",
       "      <td>24</td>\n",
       "      <td>136</td>\n",
       "      <td>24</td>\n",
       "      <td>60</td>\n",
       "      <td>10</td>\n",
       "    </tr>\n",
       "    <tr>\n",
       "      <th>3</th>\n",
       "      <td>A*</td>\n",
       "      <td>24</td>\n",
       "      <td>57</td>\n",
       "      <td>24</td>\n",
       "      <td>61</td>\n",
       "      <td>6</td>\n",
       "    </tr>\n",
       "  </tbody>\n",
       "</table>\n",
       "</div>"
      ],
      "text/plain": [
       "  Algorithm  Path cost  Nodes expanded  Max tree depth  Max tree size  \\\n",
       "0       BFS         24              70              24             71   \n",
       "1       DFS         38             100              38             49   \n",
       "2       GBS         24             136              24             60   \n",
       "3        A*         24              57              24             61   \n",
       "\n",
       "   Max frontier size  \n",
       "0                  7  \n",
       "1                 12  \n",
       "2                 10  \n",
       "3                  6  "
      ]
     },
     "execution_count": 19,
     "metadata": {},
     "output_type": "execute_result"
    }
   ],
   "source": [
    "runMaze(\"loops_maze.txt\")"
   ]
  },
  {
   "cell_type": "markdown",
   "metadata": {},
   "source": [
    "__Empty maze__"
   ]
  },
  {
   "cell_type": "code",
   "execution_count": 20,
   "metadata": {},
   "outputs": [
    {
     "data": {
      "image/png": "[encoded data removed]",
      "text/plain": [
       "<Figure size 432x288 with 1 Axes>"
      ]
     },
     "metadata": {
      "image/png": {
       "height": 261,
       "width": 398
      },
      "needs_background": "light"
     },
     "output_type": "display_data"
    },
    {
     "data": {
      "text/html": [
       "<div>\n",
       "<style scoped>\n",
       "    .dataframe tbody tr th:only-of-type {\n",
       "        vertical-align: middle;\n",
       "    }\n",
       "\n",
       "    .dataframe tbody tr th {\n",
       "        vertical-align: top;\n",
       "    }\n",
       "\n",
       "    .dataframe thead th {\n",
       "        text-align: right;\n",
       "    }\n",
       "</style>\n",
       "<table border=\"1\" class=\"dataframe\">\n",
       "  <thead>\n",
       "    <tr style=\"text-align: right;\">\n",
       "      <th></th>\n",
       "      <th>Algorithm</th>\n",
       "      <th>Path cost</th>\n",
       "      <th>Nodes expanded</th>\n",
       "      <th>Max tree depth</th>\n",
       "      <th>Max tree size</th>\n",
       "      <th>Max frontier size</th>\n",
       "    </tr>\n",
       "  </thead>\n",
       "  <tbody>\n",
       "    <tr>\n",
       "      <th>0</th>\n",
       "      <td>BFS</td>\n",
       "      <td>15</td>\n",
       "      <td>92</td>\n",
       "      <td>15</td>\n",
       "      <td>95</td>\n",
       "      <td>12</td>\n",
       "    </tr>\n",
       "    <tr>\n",
       "      <th>1</th>\n",
       "      <td>DFS</td>\n",
       "      <td>35</td>\n",
       "      <td>36</td>\n",
       "      <td>35</td>\n",
       "      <td>71</td>\n",
       "      <td>37</td>\n",
       "    </tr>\n",
       "    <tr>\n",
       "      <th>2</th>\n",
       "      <td>GBS</td>\n",
       "      <td>15</td>\n",
       "      <td>56</td>\n",
       "      <td>15</td>\n",
       "      <td>42</td>\n",
       "      <td>28</td>\n",
       "    </tr>\n",
       "    <tr>\n",
       "      <th>3</th>\n",
       "      <td>A*</td>\n",
       "      <td>15</td>\n",
       "      <td>35</td>\n",
       "      <td>15</td>\n",
       "      <td>67</td>\n",
       "      <td>34</td>\n",
       "    </tr>\n",
       "  </tbody>\n",
       "</table>\n",
       "</div>"
      ],
      "text/plain": [
       "  Algorithm  Path cost  Nodes expanded  Max tree depth  Max tree size  \\\n",
       "0       BFS         15              92              15             95   \n",
       "1       DFS         35              36              35             71   \n",
       "2       GBS         15              56              15             42   \n",
       "3        A*         15              35              15             67   \n",
       "\n",
       "   Max frontier size  \n",
       "0                 12  \n",
       "1                 37  \n",
       "2                 28  \n",
       "3                 34  "
      ]
     },
     "execution_count": 20,
     "metadata": {},
     "output_type": "execute_result"
    }
   ],
   "source": [
    "runMaze(\"empty_maze.txt\")"
   ]
  },
  {
   "cell_type": "markdown",
   "metadata": {},
   "source": [
    "__Empty 2 maze__"
   ]
  },
  {
   "cell_type": "code",
   "execution_count": 21,
   "metadata": {},
   "outputs": [
    {
     "data": {
      "image/png": "[encoded data removed]",
      "text/plain": [
       "<Figure size 432x288 with 1 Axes>"
      ]
     },
     "metadata": {
      "image/png": {
       "height": 261,
       "width": 398
      },
      "needs_background": "light"
     },
     "output_type": "display_data"
    },
    {
     "data": {
      "text/html": [
       "<div>\n",
       "<style scoped>\n",
       "    .dataframe tbody tr th:only-of-type {\n",
       "        vertical-align: middle;\n",
       "    }\n",
       "\n",
       "    .dataframe tbody tr th {\n",
       "        vertical-align: top;\n",
       "    }\n",
       "\n",
       "    .dataframe thead th {\n",
       "        text-align: right;\n",
       "    }\n",
       "</style>\n",
       "<table border=\"1\" class=\"dataframe\">\n",
       "  <thead>\n",
       "    <tr style=\"text-align: right;\">\n",
       "      <th></th>\n",
       "      <th>Algorithm</th>\n",
       "      <th>Path cost</th>\n",
       "      <th>Nodes expanded</th>\n",
       "      <th>Max tree depth</th>\n",
       "      <th>Max tree size</th>\n",
       "      <th>Max frontier size</th>\n",
       "    </tr>\n",
       "  </thead>\n",
       "  <tbody>\n",
       "    <tr>\n",
       "      <th>0</th>\n",
       "      <td>BFS</td>\n",
       "      <td>15</td>\n",
       "      <td>92</td>\n",
       "      <td>15</td>\n",
       "      <td>95</td>\n",
       "      <td>12</td>\n",
       "    </tr>\n",
       "    <tr>\n",
       "      <th>1</th>\n",
       "      <td>DFS</td>\n",
       "      <td>35</td>\n",
       "      <td>34</td>\n",
       "      <td>35</td>\n",
       "      <td>73</td>\n",
       "      <td>39</td>\n",
       "    </tr>\n",
       "    <tr>\n",
       "      <th>2</th>\n",
       "      <td>GBS</td>\n",
       "      <td>15</td>\n",
       "      <td>55</td>\n",
       "      <td>15</td>\n",
       "      <td>42</td>\n",
       "      <td>28</td>\n",
       "    </tr>\n",
       "    <tr>\n",
       "      <th>3</th>\n",
       "      <td>A*</td>\n",
       "      <td>15</td>\n",
       "      <td>37</td>\n",
       "      <td>15</td>\n",
       "      <td>66</td>\n",
       "      <td>31</td>\n",
       "    </tr>\n",
       "  </tbody>\n",
       "</table>\n",
       "</div>"
      ],
      "text/plain": [
       "  Algorithm  Path cost  Nodes expanded  Max tree depth  Max tree size  \\\n",
       "0       BFS         15              92              15             95   \n",
       "1       DFS         35              34              35             73   \n",
       "2       GBS         15              55              15             42   \n",
       "3        A*         15              37              15             66   \n",
       "\n",
       "   Max frontier size  \n",
       "0                 12  \n",
       "1                 39  \n",
       "2                 28  \n",
       "3                 31  "
      ]
     },
     "execution_count": 21,
     "metadata": {},
     "output_type": "execute_result"
    }
   ],
   "source": [
    "runMaze(\"empty_2_maze.txt\")"
   ]
  },
  {
   "cell_type": "markdown",
   "metadata": {},
   "source": [
    "__L maze__"
   ]
  },
  {
   "cell_type": "code",
   "execution_count": 22,
   "metadata": {},
   "outputs": [
    {
     "data": {
      "image/png": "[encoded data removed]",
      "text/plain": [
       "<Figure size 432x288 with 1 Axes>"
      ]
     },
     "metadata": {
      "image/png": {
       "height": 261,
       "width": 398
      },
      "needs_background": "light"
     },
     "output_type": "display_data"
    },
    {
     "data": {
      "text/html": [
       "<div>\n",
       "<style scoped>\n",
       "    .dataframe tbody tr th:only-of-type {\n",
       "        vertical-align: middle;\n",
       "    }\n",
       "\n",
       "    .dataframe tbody tr th {\n",
       "        vertical-align: top;\n",
       "    }\n",
       "\n",
       "    .dataframe thead th {\n",
       "        text-align: right;\n",
       "    }\n",
       "</style>\n",
       "<table border=\"1\" class=\"dataframe\">\n",
       "  <thead>\n",
       "    <tr style=\"text-align: right;\">\n",
       "      <th></th>\n",
       "      <th>Algorithm</th>\n",
       "      <th>Path cost</th>\n",
       "      <th>Nodes expanded</th>\n",
       "      <th>Max tree depth</th>\n",
       "      <th>Max tree size</th>\n",
       "      <th>Max frontier size</th>\n",
       "    </tr>\n",
       "  </thead>\n",
       "  <tbody>\n",
       "    <tr>\n",
       "      <th>0</th>\n",
       "      <td>BFS</td>\n",
       "      <td>15</td>\n",
       "      <td>133</td>\n",
       "      <td>15</td>\n",
       "      <td>139</td>\n",
       "      <td>19</td>\n",
       "    </tr>\n",
       "    <tr>\n",
       "      <th>1</th>\n",
       "      <td>DFS</td>\n",
       "      <td>49</td>\n",
       "      <td>48</td>\n",
       "      <td>49</td>\n",
       "      <td>83</td>\n",
       "      <td>35</td>\n",
       "    </tr>\n",
       "    <tr>\n",
       "      <th>2</th>\n",
       "      <td>GBS</td>\n",
       "      <td>15</td>\n",
       "      <td>56</td>\n",
       "      <td>15</td>\n",
       "      <td>42</td>\n",
       "      <td>28</td>\n",
       "    </tr>\n",
       "    <tr>\n",
       "      <th>3</th>\n",
       "      <td>A*</td>\n",
       "      <td>15</td>\n",
       "      <td>40</td>\n",
       "      <td>15</td>\n",
       "      <td>63</td>\n",
       "      <td>23</td>\n",
       "    </tr>\n",
       "  </tbody>\n",
       "</table>\n",
       "</div>"
      ],
      "text/plain": [
       "  Algorithm  Path cost  Nodes expanded  Max tree depth  Max tree size  \\\n",
       "0       BFS         15             133              15            139   \n",
       "1       DFS         49              48              49             83   \n",
       "2       GBS         15              56              15             42   \n",
       "3        A*         15              40              15             63   \n",
       "\n",
       "   Max frontier size  \n",
       "0                 19  \n",
       "1                 35  \n",
       "2                 28  \n",
       "3                 23  "
      ]
     },
     "execution_count": 22,
     "metadata": {},
     "output_type": "execute_result"
    }
   ],
   "source": [
    "runMaze(\"L_maze.txt\")"
   ]
  },
  {
   "cell_type": "markdown",
   "metadata": {},
   "source": [
    "__Wall maze__"
   ]
  },
  {
   "cell_type": "code",
   "execution_count": 23,
   "metadata": {},
   "outputs": [
    {
     "data": {
      "image/png": "[encoded data removed]",
      "text/plain": [
       "<Figure size 432x288 with 1 Axes>"
      ]
     },
     "metadata": {
      "image/png": {
       "height": 261,
       "width": 398
      },
      "needs_background": "light"
     },
     "output_type": "display_data"
    },
    {
     "data": {
      "text/html": [
       "<div>\n",
       "<style scoped>\n",
       "    .dataframe tbody tr th:only-of-type {\n",
       "        vertical-align: middle;\n",
       "    }\n",
       "\n",
       "    .dataframe tbody tr th {\n",
       "        vertical-align: top;\n",
       "    }\n",
       "\n",
       "    .dataframe thead th {\n",
       "        text-align: right;\n",
       "    }\n",
       "</style>\n",
       "<table border=\"1\" class=\"dataframe\">\n",
       "  <thead>\n",
       "    <tr style=\"text-align: right;\">\n",
       "      <th></th>\n",
       "      <th>Algorithm</th>\n",
       "      <th>Path cost</th>\n",
       "      <th>Nodes expanded</th>\n",
       "      <th>Max tree depth</th>\n",
       "      <th>Max tree size</th>\n",
       "      <th>Max frontier size</th>\n",
       "    </tr>\n",
       "  </thead>\n",
       "  <tbody>\n",
       "    <tr>\n",
       "      <th>0</th>\n",
       "      <td>BFS</td>\n",
       "      <td>15</td>\n",
       "      <td>85</td>\n",
       "      <td>15</td>\n",
       "      <td>88</td>\n",
       "      <td>11</td>\n",
       "    </tr>\n",
       "    <tr>\n",
       "      <th>1</th>\n",
       "      <td>DFS</td>\n",
       "      <td>21</td>\n",
       "      <td>21</td>\n",
       "      <td>21</td>\n",
       "      <td>43</td>\n",
       "      <td>23</td>\n",
       "    </tr>\n",
       "    <tr>\n",
       "      <th>2</th>\n",
       "      <td>GBS</td>\n",
       "      <td>15</td>\n",
       "      <td>56</td>\n",
       "      <td>15</td>\n",
       "      <td>42</td>\n",
       "      <td>28</td>\n",
       "    </tr>\n",
       "    <tr>\n",
       "      <th>3</th>\n",
       "      <td>A*</td>\n",
       "      <td>15</td>\n",
       "      <td>42</td>\n",
       "      <td>15</td>\n",
       "      <td>70</td>\n",
       "      <td>28</td>\n",
       "    </tr>\n",
       "  </tbody>\n",
       "</table>\n",
       "</div>"
      ],
      "text/plain": [
       "  Algorithm  Path cost  Nodes expanded  Max tree depth  Max tree size  \\\n",
       "0       BFS         15              85              15             88   \n",
       "1       DFS         21              21              21             43   \n",
       "2       GBS         15              56              15             42   \n",
       "3        A*         15              42              15             70   \n",
       "\n",
       "   Max frontier size  \n",
       "0                 11  \n",
       "1                 23  \n",
       "2                 28  \n",
       "3                 28  "
      ]
     },
     "execution_count": 23,
     "metadata": {},
     "output_type": "execute_result"
    }
   ],
   "source": [
    "runMaze(\"wall_maze.txt\")"
   ]
  },
  {
   "cell_type": "markdown",
   "metadata": {},
   "source": [
    "__Open maze__"
   ]
  },
  {
   "cell_type": "code",
   "execution_count": 24,
   "metadata": {},
   "outputs": [
    {
     "data": {
      "image/png": "[encoded data removed]",
      "text/plain": [
       "<Figure size 432x288 with 1 Axes>"
      ]
     },
     "metadata": {
      "image/png": {
       "height": 262,
       "width": 405
      },
      "needs_background": "light"
     },
     "output_type": "display_data"
    },
    {
     "data": {
      "text/html": [
       "<div>\n",
       "<style scoped>\n",
       "    .dataframe tbody tr th:only-of-type {\n",
       "        vertical-align: middle;\n",
       "    }\n",
       "\n",
       "    .dataframe tbody tr th {\n",
       "        vertical-align: top;\n",
       "    }\n",
       "\n",
       "    .dataframe thead th {\n",
       "        text-align: right;\n",
       "    }\n",
       "</style>\n",
       "<table border=\"1\" class=\"dataframe\">\n",
       "  <thead>\n",
       "    <tr style=\"text-align: right;\">\n",
       "      <th></th>\n",
       "      <th>Algorithm</th>\n",
       "      <th>Path cost</th>\n",
       "      <th>Nodes expanded</th>\n",
       "      <th>Max tree depth</th>\n",
       "      <th>Max tree size</th>\n",
       "      <th>Max frontier size</th>\n",
       "    </tr>\n",
       "  </thead>\n",
       "  <tbody>\n",
       "    <tr>\n",
       "      <th>0</th>\n",
       "      <td>BFS</td>\n",
       "      <td>55</td>\n",
       "      <td>679</td>\n",
       "      <td>55</td>\n",
       "      <td>682</td>\n",
       "      <td>23</td>\n",
       "    </tr>\n",
       "    <tr>\n",
       "      <th>1</th>\n",
       "      <td>DFS</td>\n",
       "      <td>227</td>\n",
       "      <td>226</td>\n",
       "      <td>227</td>\n",
       "      <td>422</td>\n",
       "      <td>196</td>\n",
       "    </tr>\n",
       "    <tr>\n",
       "      <th>2</th>\n",
       "      <td>GBS</td>\n",
       "      <td>55</td>\n",
       "      <td>749</td>\n",
       "      <td>68</td>\n",
       "      <td>274</td>\n",
       "      <td>63</td>\n",
       "    </tr>\n",
       "    <tr>\n",
       "      <th>3</th>\n",
       "      <td>A*</td>\n",
       "      <td>55</td>\n",
       "      <td>303</td>\n",
       "      <td>55</td>\n",
       "      <td>376</td>\n",
       "      <td>75</td>\n",
       "    </tr>\n",
       "  </tbody>\n",
       "</table>\n",
       "</div>"
      ],
      "text/plain": [
       "  Algorithm  Path cost  Nodes expanded  Max tree depth  Max tree size  \\\n",
       "0       BFS         55             679              55            682   \n",
       "1       DFS        227             226             227            422   \n",
       "2       GBS         55             749              68            274   \n",
       "3        A*         55             303              55            376   \n",
       "\n",
       "   Max frontier size  \n",
       "0                 23  \n",
       "1                196  \n",
       "2                 63  \n",
       "3                 75  "
      ]
     },
     "execution_count": 24,
     "metadata": {},
     "output_type": "execute_result"
    }
   ],
   "source": [
    "runMaze(\"open_maze.txt\")"
   ]
  },
  {
   "cell_type": "markdown",
   "metadata": {},
   "source": [
    "Discuss the most important lessons you have learned from implementing the different search strategies. "
   ]
  },
  {
   "cell_type": "markdown",
   "metadata": {},
   "source": [
    "__BFS__ \n",
    "\n",
    "BFS performed consistently across all mazes. It didn't seem to have any particular trouble in open spaces like DFS did. BFS was consistently the least memory efficient algorithm on all mazes. It ended up exploring almost the entire maze to find the optimal solution in some cases."
   ]
  },
  {
   "cell_type": "markdown",
   "metadata": {},
   "source": [
    "__DFS__ \n",
    "\n",
    "The cycle checking in DFS was implemented by checking the nodes that were currently in memory. I programmed the algorithm to avoid adding nodes to the frontier if those nodes were already in the frontier, or along the path. DFS was always more memory efficient than BFS in terms of max tree size. It's memory usage was also comparable to the informed search algorithms in some cases. However, DFS performed poorly in open spaces. It tended to snake up and down until finding the solution, eventually returning a very long solution. Overall, DFS is a good, space efficient option for \"normal\" mazes (with minimal open space and narrow pathways), but it is very inefficient in open mazes.\n",
    "\n",
    "However, DFS' ability to solve an open maze is dependent on having a favorable expansion order. If the order is randomized, it can easily get stuck in an infinite loop. For demonstration purposes, I chose an expansion order that allows DFS to find a path to the goal in all mazes. With a randomized expansion order, DFS will most likely get stuck, as in the example below."
   ]
  },
  {
   "cell_type": "code",
   "execution_count": 25,
   "metadata": {},
   "outputs": [
    {
     "data": {
      "image/png": "[encoded data removed]",
      "text/plain": [
       "<Figure size 432x288 with 1 Axes>"
      ]
     },
     "metadata": {
      "image/png": {
       "height": 239,
       "width": 369
      },
      "needs_background": "light"
     },
     "output_type": "display_data"
    }
   ],
   "source": [
    "test = dfs(maze, True, False, True)"
   ]
  },
  {
   "cell_type": "markdown",
   "metadata": {},
   "source": [
    "__GBS__\n",
    "\n",
    "GBS was able to find the optimal path in all but two cases: small maze and medium maze. I think these were more difficult for GBS to solve because the paths were narrow and the number of walls restricted the movement options. As a result, the heuristic function (manhattan distance), underestimated the true cost to get to the goal node much more often. GBS did perform well in open spaces, but was typically less space efficient than A*. In open spaces, the path produced by GBS tended to be straighter (less turns but same path cost) than A*. This could be an important factor if turns were weighted more heavily than going straight in a specific scenario."
   ]
  },
  {
   "cell_type": "markdown",
   "metadata": {},
   "source": [
    "__A*__\n",
    "\n",
    "A* was one of the best performing algorithms across the board, usually ranked first or second by my performance measure. A* excelled at open spaces where other algorithms had trouble. By considering both the current path length and the distance to the end, A* was able to make better choices in open spaces, and avoid getting stuck on obstacles. Compared to GBS, A* was usually more memory efficient. The one downside to A* is that its route in open spaces usually made lots of turns. In this uniform cost environment this wasn't a problem. I think this was caused by the fact that in some situations in open spaces, many of the adjacent squares had the same heuristic value, so the algorithm would pick one in the order that it was added to the priority queue, resulting in turns. Even with the turns, the path was still optimal, but this could be a concern in an environment where turns are weighted more heavily than continuing in the same direction."
   ]
  },
  {
   "cell_type": "markdown",
   "metadata": {},
   "source": [
    "## Graduate student advanced task: Multiple goals [1 point]\n",
    "\n",
    "__Undergraduate students:__ This is a bonus task you can attempt if you like [+1 Bonus point].\n",
    "\n",
    "Create a few mazes with multiple goals by adding one or two more goals to the medium size maze.\n",
    "Solve the maze with your implementations for DFS, BFS, and implement in addition IDS (iterative deepening search using DFS). \n",
    "\n",
    "Run experiments to show which implementations find the optimal solution and which do not. Discuss why that is the case."
   ]
  },
  {
   "cell_type": "code",
   "execution_count": 26,
   "metadata": {},
   "outputs": [],
   "source": [
    "# Your code/answer goes here"
   ]
  },
  {
   "cell_type": "markdown",
   "metadata": {},
   "source": [
    "## More advanced tasks to think about\n",
    "\n",
    "Instead of defining each square as a state, use only intersections as states. Now the storage requirement is reduced, but the path length between two intersections can be different. If we use total path length measured as the number of squares as path cost, how can we make sure that BFS and iterative deepening search is optimal? Change the code to do so."
   ]
  },
  {
   "cell_type": "code",
   "execution_count": 27,
   "metadata": {},
   "outputs": [],
   "source": [
    "# Your code/answer goes here"
   ]
  },
  {
   "cell_type": "markdown",
   "metadata": {},
   "source": [
    "Modify your A* search to add weights (see text book) and explore how different weights influence the result."
   ]
  },
  {
   "cell_type": "code",
   "execution_count": 28,
   "metadata": {},
   "outputs": [],
   "source": [
    "# Your code/answer goes here"
   ]
  },
  {
   "cell_type": "markdown",
   "metadata": {},
   "source": [
    "What happens if the agent does not know the layout of the maze in advance (i.e., faces an unkown, only partially observable environment)? How does the environment look then (PEAS description)? How would you implement a rational agent to solve the maze? What if the agent still has a GPS device to tell the distance to the goal?"
   ]
  },
  {
   "cell_type": "code",
   "execution_count": 29,
   "metadata": {},
   "outputs": [],
   "source": [
    "# Your code/answer goes here"
   ]
  }
 ],
 "metadata": {
  "interpreter": {
   "hash": "916dbcbb3f70747c44a77c7bcd40155683ae19c65e1c03b4aa3499c5328201f1"
  },
  "kernelspec": {
   "display_name": "Python 3.8.10 64-bit",
   "name": "python3"
  },
  "language_info": {
   "codemirror_mode": {
    "name": "ipython",
    "version": 3
   },
   "file_extension": ".py",
   "mimetype": "text/x-python",
   "name": "python",
   "nbconvert_exporter": "python",
   "pygments_lexer": "ipython3",
   "version": "3.8.10"
  }
 },
 "nbformat": 4,
 "nbformat_minor": 4
}
