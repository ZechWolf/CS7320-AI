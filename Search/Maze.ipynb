{
 "cells": [
  {
   "cell_type": "markdown",
   "source": [
    "# Search: Solving a Maze Using a Goal-based Agent\n",
    "\n",
    "\n",
    "## Instructions\n",
    "\n",
    "Total Points: Undegraduates 10, graduate students 11\n",
    "\n",
    "Complete this notebook and submit it. The notebook needs to be a complete project report with \n",
    "\n",
    "* your implementation,\n",
    "* documentation including a short discussion of how your implementation works and your design choices, and\n",
    "* experimental results (e.g., tables and charts with simulation results) with a short discussion of what they mean. \n",
    "\n",
    "Use the provided notebook cells and insert additional code and markdown cells as needed.\n",
    "\n",
    "\n",
    "## Introduction\n",
    "\n",
    "The agent has a map of the maze it is in and the environment is assumed to be **deterministic, discrete, and known.** The agent must use the map to plan a path through the maze from the starting location $S$ to the goal location $G$.  This is a planing exercise for a goal-based agent, so you do not need to implement an environment, just use the map to search for a path. Once the plan is made, the agent in a deterministic environment (i.e., the transition function is deterministic with the outcome of each state/action pair fixed and no randomness) can just follow the path and does not need to care about the percepts.\n",
    "This is also called an **[open-loop system](https://en.wikipedia.org/wiki/Open-loop_controller).**\n",
    "The execution phase is trivial and we do not implement it in this exercise.\n",
    "\n",
    "Tree search algorithm implementations that you find online and used in general algorithms courses have often a different aim. These algorithms assume that you already have a tree in memory. We are interested in dynamically creating a search tree with the aim of finding a good/the best path from the root noteto the goal state. Follow the pseudo code presented in the text book (and replicated in the slides) closely. Ideally, we would like to search only a small part of the maze, i.e., create a search tree with as few nodes as possible. \n",
    "\n",
    "Several mazes for this exercise are stored as text files. Here is the small example maze:"
   ],
   "metadata": {}
  },
  {
   "cell_type": "code",
   "execution_count": 140,
   "source": [
    "f = open(\"loops_maze.txt\", \"r\")\n",
    "maze_str = f.read()\n",
    "print(maze_str)"
   ],
   "outputs": [
    {
     "output_type": "stream",
     "name": "stdout",
     "text": [
      "XXXXXXXXXXXX\n",
      "XG         X\n",
      "X        X X\n",
      "XXXXXXXX X X\n",
      "X      X X X\n",
      "X    X X X X\n",
      "X    X X   X\n",
      "X    X X X X\n",
      "X    X X X X\n",
      "XXXX X X X X\n",
      "XS         X\n",
      "XXXXXXXXXXXX\n",
      "\n"
     ]
    }
   ],
   "metadata": {}
  },
  {
   "cell_type": "markdown",
   "source": [
    "__Note:__ The mazes above contains cycles and therefore the state space may not form proper trees unless cycles are prevented. Therfore, you will need to deal with cycle detection in your code."
   ],
   "metadata": {}
  },
  {
   "cell_type": "markdown",
   "source": [
    "## Parsing and pretty printing the maze\n",
    "\n",
    "The maze can also be displayed in color using code in the file [maze_helper.py](maze_helper.py). The code parses the string representing the maze and converts it into a `numpy` 2d array which you can use in your implementation. I represent a position as a 2-tuple of the form `(row, col)`. "
   ],
   "metadata": {}
  },
  {
   "cell_type": "code",
   "execution_count": 141,
   "source": [
    "%run maze_helper.py\n",
    "\n",
    "maze = parse_maze(maze_str)\n",
    "\n",
    "# look at a position in the maze by subsetting the 2d array\n",
    "print(\"Position(0,0):\", maze[0, 0])\n",
    "\n",
    "# there is also a helper function called `look(maze, pos)` available\n",
    "# which uses a 2-tuple for the position.\n",
    "print(\"Position(8,1):\", look(maze, (8, 1)))"
   ],
   "outputs": [
    {
     "output_type": "stream",
     "name": "stdout",
     "text": [
      "Position(0,0): X\n",
      "Position(8,1):  \n"
     ]
    },
    {
     "output_type": "display_data",
     "data": {
      "text/plain": [
       "<Figure size 432x288 with 0 Axes>"
      ]
     },
     "metadata": {}
    }
   ],
   "metadata": {
    "scrolled": true
   }
  },
  {
   "cell_type": "markdown",
   "source": [
    "A helper function to visualize the maze is also available."
   ],
   "metadata": {}
  },
  {
   "cell_type": "code",
   "execution_count": 142,
   "source": [
    "%matplotlib inline\n",
    "%config InlineBackend.figure_format = 'retina'\n",
    "# use higher resolution images in notebook\n",
    "\n",
    "show_maze(maze)"
   ],
   "outputs": [
    {
     "output_type": "display_data",
     "data": {
      "image/png": "[encoded data removed]",
      "text/plain": [
       "<Figure size 432x288 with 1 Axes>"
      ]
     },
     "metadata": {
      "image/png": {
       "width": 251,
       "height": 248
      },
      "needs_background": "light"
     }
    }
   ],
   "metadata": {}
  },
  {
   "cell_type": "markdown",
   "source": [
    "Find the position of the start and the goal using the helper function `find_pos()`"
   ],
   "metadata": {}
  },
  {
   "cell_type": "code",
   "execution_count": 143,
   "source": [
    "print(\"Start location:\", find_pos(maze, what = \"S\"))\n",
    "print(\"Goal location:\", find_pos(maze, what = \"G\"))"
   ],
   "outputs": [
    {
     "output_type": "stream",
     "name": "stdout",
     "text": [
      "Start location: (10, 1)\n",
      "Goal location: (1, 1)\n"
     ]
    }
   ],
   "metadata": {}
  },
  {
   "cell_type": "markdown",
   "source": [
    "## Tree structure\n",
    "\n",
    "Here is an implementation of the basic node structure for the search algorithms (see Fig 3.7 on page 73). I have added a method that extracts the path from the root node to the current node. It can be used to get the path when the search is completed."
   ],
   "metadata": {}
  },
  {
   "cell_type": "code",
   "execution_count": 144,
   "source": [
    "class Node:\n",
    "    def __init__(self, pos, parent, action, cost):\n",
    "        self.pos = tuple(pos)    # the state; positions are (row,col)\n",
    "        self.parent = parent     # reference to parent node. None means root node.\n",
    "        self.action = action     # action used in the transition function (root node has None)\n",
    "        self.cost = cost         # for uniform cost this is the depth. It is also g(n) for A* search\n",
    "\n",
    "    def __str__(self):\n",
    "        return f\"Node - pos = {self.pos}; action = {self.action}; cost = {self.cost}\"\n",
    "    \n",
    "    def get_path_from_root(self):\n",
    "        \"\"\"returns nodes on the path from the root to the current node.\"\"\"\n",
    "        node = self\n",
    "        path = [node]\n",
    "    \n",
    "        while not node.parent is None:\n",
    "            node = node.parent\n",
    "            path.append(node)\n",
    "        \n",
    "        path.reverse()\n",
    "        \n",
    "        return(path)\n",
    "\n",
    "    def __eq__(self, rhs):\n",
    "        \"\"\"Comparison operator returns true if the positions between the two nodes are the same\"\"\"\n",
    "        return self.pos == rhs.pos"
   ],
   "outputs": [],
   "metadata": {}
  },
  {
   "cell_type": "markdown",
   "source": [
    "If needed, then you can add more fields to the class.\n",
    "\n",
    "\n",
    "__Tree and memory management example:__ Create the root node and append the node for going east with a cost of 1."
   ],
   "metadata": {}
  },
  {
   "cell_type": "code",
   "execution_count": 145,
   "source": [
    "# import sys to access reference counts\n",
    "import sys\n",
    "\n",
    "print(\"Create root node\")\n",
    "root = Node(pos = (0,0), parent = None, action = None, cost = 0)\n",
    "print(\"root:\", root)\n",
    "print(\"root (reference):\", repr(root))\n",
    "\n",
    "print()\n",
    "print(\"Go east with cost 1 (from the parent root)\")\n",
    "node2 = Node(pos = (0,1), parent = root, action = \"E\", cost = 1)\n",
    "print(\"node2:\", node2)\n",
    "print(\"parent of node2: \", node2.parent)\n",
    "print(\"parent of node2 (reference): \", repr(node2.parent))\n",
    "# Note: -1 is used because passing root to getrefcount adds one reference\n",
    "print(\"Root is now referenced twice. Reference count for garbage collection (root node):\", sys.getrefcount(root)-1)\n",
    "\n",
    "print()\n",
    "print(\"Note that the root node is safe from garbage collection as long as we have also a reference in node2\") \n",
    "root = None\n",
    "print(root)\n",
    "print(\"parent of node2 (reference to root node): \", repr(node2.parent))\n",
    "print(\"Reference count for garbage collection (root node):\", sys.getrefcount(node2.parent)-1)\n",
    "\n",
    "print()\n",
    "print(\"Path from root to node2\")\n",
    "path = node2.get_path_from_root()\n",
    "print(\"References:\", path)\n",
    "print(\"Positions:\", [n.pos for n in path])\n",
    "print(\"Actions:\", [n.action for n in path])\n",
    "print(\"Cost:\", [n.cost for n in path])\n",
    "\n",
    "\n",
    "print()\n",
    "print(\"Once we delete the reference to node2, the reference count for all nodes goes to zero and the whole tree is exposed to garbage collection.\")\n",
    "node2 = None"
   ],
   "outputs": [
    {
     "output_type": "stream",
     "name": "stdout",
     "text": [
      "Create root node\n",
      "root: Node - pos = (0, 0); action = None; cost = 0\n",
      "root (reference): <__main__.Node object at 0x7f94f57f2160>\n",
      "\n",
      "Go east with cost 1 (from the parent root)\n",
      "node2: Node - pos = (0, 1); action = E; cost = 1\n",
      "parent of node2:  Node - pos = (0, 0); action = None; cost = 0\n",
      "parent of node2 (reference):  <__main__.Node object at 0x7f94f57f2160>\n",
      "Root is now referenced twice. Reference count for garbage collection (root node): 2\n",
      "\n",
      "Note that the root node is safe from garbage collection as long as we have also a reference in node2\n",
      "None\n",
      "parent of node2 (reference to root node):  <__main__.Node object at 0x7f94f57f2160>\n",
      "Reference count for garbage collection (root node): 1\n",
      "\n",
      "Path from root to node2\n",
      "References: [<__main__.Node object at 0x7f94f57f2160>, <__main__.Node object at 0x7f94f57f25e0>]\n",
      "Positions: [(0, 0), (0, 1)]\n",
      "Actions: [None, 'E']\n",
      "Cost: [0, 1]\n",
      "\n",
      "Once we delete the reference to node2, the reference count for all nodes goes to zero and the whole tree is exposed to garbage collection.\n"
     ]
    }
   ],
   "metadata": {}
  },
  {
   "cell_type": "markdown",
   "source": [
    "# Goal\n",
    "Implement the following search algorithms for solving different mazes:\n",
    "\n",
    "* Breadth-first search (BFS)\n",
    "* Depth-first search (DFS)\n",
    "* Greedy best-first search (GBFS)\n",
    "* A* search\n",
    "\n",
    "Run each of the above algorithms on the \n",
    "[small maze](small_maze.txt), \n",
    "[medium maze](medium_maze.txt), \n",
    "[large maze](large_maze.txt), \n",
    "[open maze](open_maze.txt),\n",
    "[wall maze](wall_maze.txt),\n",
    "[loops maze](loops_maze.txt),\n",
    "[empty maze](empty_maze.txt), and\n",
    "[empty 2_maze](empty_2_maze.txt).\n",
    "For each problem instance and each search algorithm, report the following in a table:\n",
    "\n",
    "* The solution and its path cost\n",
    "* Number of nodes expanded\n",
    "* Maximum tree depth\n",
    "* Maximum size of the frontier\n",
    "\n",
    "Display each solution by marking every maze square (or state) visited and the squares on the final path."
   ],
   "metadata": {}
  },
  {
   "cell_type": "markdown",
   "source": [
    "## Task 1: Defining the search problem and determining the problem size [1 point]\n",
    "\n",
    "Define the components of the search problem:\n",
    "\n",
    "* Initial state\n",
    "* Actions\n",
    "* Transition model\n",
    "* Goal state\n",
    "* Path cost\n",
    "\n",
    "Use verbal descriptions, variables and equations as appropriate. \n",
    "\n",
    "*Note:* You can swich the next block from code to Markdown and use formating."
   ],
   "metadata": {}
  },
  {
   "cell_type": "markdown",
   "source": [
    "#### Initial state\n",
    "The agent start out at the given starting position, labled \"S\" in the file, which can be described as a 2 dimensional coordinate (x, y). The initial state is on an outer edge of the maze\n",
    "#### Actions\n",
    "The agent can choose from four possible movement options: {north, east, south, west}, corresponding to moving in the positive and negative directions on the x and y axes. In code, these actions will be represented by a string containing the first character of the direction.\n",
    "#### Transition model\n",
    "A state described in (x, y) coordinates transitions to a new state according to the following function $f(position, action)$:\n",
    "* $f((x,y), N) = (x, y - 1)$\n",
    "* $f((x,y), E) = (x + 1, y)$\n",
    "* $f((x,y), S) = (x, y + 1)$\n",
    "* $f((x,y), W) = (x - 1, y)$\n",
    "#### Goal state\n",
    "The goal state is the (x, y) coordinates of the position in the maze file labeled \"G.\"\n",
    "#### Path cost\n",
    "The path cost is measured as the discrete number of steps (number of squares) taken to get from the initial state to the goal state. The agent is not allowed to move diagonally.\n"
   ],
   "metadata": {}
  },
  {
   "cell_type": "markdown",
   "source": [
    "Give some estimates for the problem size:\n",
    "\n",
    "* $n$: state space size\n",
    "* $d$: depth of the optimal solution\n",
    "* $m$: maximum depth of tree\n",
    "* $b$: maximum branching factor\n",
    "\n",
    "Describe how you would determin these values from a given maze."
   ],
   "metadata": {}
  },
  {
   "cell_type": "markdown",
   "source": [
    "#### n\n",
    "The state space size is equal to the total number of squares that the agent can occupy. This is calculated by subtracting the number of wall squares from the total area of the rectangular maze: $S=lw - x$, where l = length, w = width, and x = number of wall squares\n",
    "\n",
    "#### d\n",
    "The depth of the optimal solution falls within the range: $manhattanDistance(start, goal) \\le d \\le n$. This is because $d$ is equal to the number of steps in the optimal path, so it cannot be any smaller than the manhattan distance between the start and the goal, and it cannot be any larger than the state space size. Finding the depth for a particular maze would require solving the maze with an optimal algorithm and determining the path cost.\n",
    "\n",
    "#### m\n",
    "The tree would be at maximum depth in a worst case scenario where the search algorithm must travel through the entire state space to find the solution. In this case, the path cost would be equal to the state space size, so the maximum depth of the tree is equal to the state space size $n$.\n",
    "\n",
    "#### b\n",
    "The branching factor is equal to the number of possible actions, because it represents the number of states that can be reached from a single state. With 4 possible directions to travel in, the maximum branching factor of the tree is <br> $b=4$"
   ],
   "metadata": {}
  },
  {
   "cell_type": "markdown",
   "source": [
    "## Task 2: Uninformed search: Breadth-first and depth-first [4 points]\n",
    "\n",
    "Implement these search strategies. Follow the pseudocode in the textbook/slides. You can use the tree structure shown above to extract the final path from your solution.\n",
    "\n",
    "__Notes:__\n",
    "* You can find maze solving implementations online that use the map to store information. While this is an effective idea for this two-dimensional navigation problem, it typically cannot be used for other search problems. Therefore, follow the textbook and only store information in the tree created during search, and use the `reached` and `frontier` data structures.\n",
    "* DSF can be implemented using the BFS tree search algorithm and simply changing the order in which the frontier is expanded (this is equivalent to best-first search with path length as the criterion to expand the next node). However, to take advantage of the significantly smaller memory footprint of DFS, you need to implement DFS in a different way without a `reached` data structure and by releasing the memory for nodes that are not needed anymore. \n",
    "* If DFS does not use a `reached` data structure, then its cycle checking abilities are limited. Remember, that DSF is incomplete if cycles cannot be prevented. You will see in your experiments that open spaces are a problem."
   ],
   "metadata": {}
  },
  {
   "cell_type": "markdown",
   "source": [
    "#### Helper functions - expand and mark"
   ],
   "metadata": {}
  },
  {
   "cell_type": "code",
   "execution_count": 146,
   "source": [
    "def expand(node, maze):\n",
    "    \"\"\"Returns the reachable children of the given node\n",
    "    Used in all search functions\"\"\"\n",
    "\n",
    "    x = node.pos[0]\n",
    "    y = node.pos[1]\n",
    "    children = list()\n",
    "\n",
    "    for i in [(0, 1, \"E\"), (0, -1, \"W\"), (1, 0, \"S\"), (-1, 0, \"N\")]: #list of tuples represents how to add to get to a new position in the given direction\n",
    "        newPos = (x + i[0], y + i[1])\n",
    "        if look(maze, newPos) != \"X\":\n",
    "            children.append(Node(newPos, node, i[2], 0))\n",
    "    \n",
    "    return children\n",
    "\n",
    "def mark(maze, node, code):\n",
    "    \"\"\"Debug function which marks the maze string with debug information for visualization\"\"\"\n",
    "\n",
    "    maze[ node.pos[0] ][ node.pos[1] ] = code\n",
    "    "
   ],
   "outputs": [],
   "metadata": {}
  },
  {
   "cell_type": "markdown",
   "source": [
    "#### Custom Queue and Stack classes\n",
    "The built in queue and stack classes are not iterable, which makes checking the frontier for cycles difficult. These implementations work with the \"in\" operator to allow easy cycle checking within the frontier"
   ],
   "metadata": {}
  },
  {
   "cell_type": "code",
   "execution_count": 147,
   "source": [
    "class Queue:\n",
    "    def __init__(self):\n",
    "        self.array = list()\n",
    "        self.size = 0\n",
    "\n",
    "    def push(self, val):\n",
    "        self.array.insert(0, val)\n",
    "        self.size += 1\n",
    "\n",
    "    def pop(self):\n",
    "        self.size -= 1\n",
    "        return self.array.pop()\n",
    "\n",
    "    def empty(self):\n",
    "        return self.size == 0\n",
    "\n",
    "    def __contains__(self, key):\n",
    "        return key in self.array\n",
    "\n",
    "    def __str__(self):\n",
    "        return repr(self.array)\n",
    "\n",
    "    def __len__(self):\n",
    "        return self.size\n",
    "\n",
    "class Stack:\n",
    "    def __init__(self):\n",
    "        self.array = list()\n",
    "        self.size = 0\n",
    "\n",
    "    def push(self, val):\n",
    "        self.array.insert(0, val)\n",
    "        self.size += 1\n",
    "\n",
    "    def pop(self):\n",
    "        self.size -= 1\n",
    "        return self.array.pop(0)\n",
    "\n",
    "    def empty(self):\n",
    "        return self.size == 0\n",
    "\n",
    "    def __contains__(self, key):\n",
    "        return key in self.array\n",
    "\n",
    "    def __str__(self):\n",
    "        return repr(self.array)\n",
    "\n",
    "    def __len__(self):\n",
    "        return self.size"
   ],
   "outputs": [],
   "metadata": {}
  },
  {
   "cell_type": "markdown",
   "source": [
    "#### BFS implementation"
   ],
   "metadata": {}
  },
  {
   "cell_type": "code",
   "execution_count": 148,
   "source": [
    "def bfs(maze, debug = False, showSteps = False): #Debug shows the maze visualization at the end. Show steps shows after each step\n",
    "    if debug: mazeCp = np.copy(maze) #copy of the maze string for visualizations\n",
    "\n",
    "    #Stats\n",
    "    \n",
    "\n",
    "    #Initialize root node at starting position of maze and get goal node\n",
    "    rootPos = find_pos(maze, what=\"S\")\n",
    "    root = Node(rootPos, None, None, 0)\n",
    "    goalPos = find_pos(maze, what=\"G\")\n",
    "\n",
    "    frontier = Queue()\n",
    "    frontier.push(root)\n",
    "    reached = set()\n",
    "    reached.add(root.pos)\n",
    "\n",
    "    while not frontier.empty():\n",
    "        node = frontier.pop()\n",
    "        for n in expand(node, maze):\n",
    "            if n.pos == goalPos:\n",
    "\n",
    "                if debug:\n",
    "                    p = n.get_path_from_root()\n",
    "                    for x in p[1:len(p)-1]: #mark the path excluding S and G nodes\n",
    "                        mark(mazeCp, x, \"P\")\n",
    "                    show_maze(mazeCp)\n",
    "                \n",
    "                return n\n",
    "            \n",
    "            if n.pos not in reached:\n",
    "                reached.add(n.pos)\n",
    "                frontier.push(n)\n",
    "                if debug and look(maze, n.pos) not in [\"S\", \"G\"]: mark(mazeCp, n, \"F\")\n",
    "                if showSteps: show_maze(mazeCp)\n",
    "\n",
    "            if debug and look(maze, n.pos) not in [\"S\", \"G\"]: mark(mazeCp, n, \".\")\n",
    "    \n",
    "    return None\n",
    "\n",
    "#Test in debug mode\n",
    "test = bfs(maze, True)"
   ],
   "outputs": [
    {
     "output_type": "display_data",
     "data": {
      "image/png": "[encoded data removed]",
      "text/plain": [
       "<Figure size 432x288 with 1 Axes>"
      ]
     },
     "metadata": {
      "image/png": {
       "width": 251,
       "height": 248
      },
      "needs_background": "light"
     }
    }
   ],
   "metadata": {}
  },
  {
   "cell_type": "markdown",
   "source": [
    "#### DFS implementation"
   ],
   "metadata": {}
  },
  {
   "cell_type": "code",
   "execution_count": 149,
   "source": [
    "def dfs(maze, debug = False, showSteps = False):\n",
    "    if debug: mazeCp = np.copy(maze) #copy of the maze string for visualizations\n",
    "\n",
    "    #Initialize root node at starting position of maze and get goal node\n",
    "    rootPos = find_pos(maze, what=\"S\")\n",
    "    root = Node(rootPos, None, None, 0)\n",
    "    goalPos = find_pos(maze, what=\"G\")\n",
    "\n",
    "    frontier = Stack()\n",
    "    frontier.push(root)\n",
    "\n",
    "    while not frontier.empty():\n",
    "        node = frontier.pop() #pop next node from the frontier\n",
    "        for n in expand(node, maze):\n",
    "            if n.pos == goalPos:\n",
    "                if debug:\n",
    "                    \n",
    "                    p = n.get_path_from_root()\n",
    "                    for x in p[1:len(p)-1]: #mark the path excluding S and G nodes\n",
    "                        mark(mazeCp, x, \"P\")\n",
    "                    show_maze(mazeCp)\n",
    "\n",
    "                return n\n",
    "            if n not in frontier and n not in node.get_path_from_root(): #check the frontier to prevent cycling within frontier\n",
    "                frontier.push(n)\n",
    "                if debug and look(maze, n.pos) not in [\"S\", \"G\"]: mark(mazeCp, n, \"F\")\n",
    "                if showSteps: show_maze(mazeCp)\n",
    "\n",
    "            if debug and look(maze, n.pos) not in [\"S\", \"G\"]: mark(mazeCp, n, \".\")\n",
    "    \n",
    "    return None #failure\n",
    "\n",
    "test = dfs(maze, True)"
   ],
   "outputs": [
    {
     "output_type": "display_data",
     "data": {
      "image/png": "[encoded data removed]",
      "text/plain": [
       "<Figure size 432x288 with 1 Axes>"
      ]
     },
     "metadata": {
      "image/png": {
       "width": 251,
       "height": 248
      },
      "needs_background": "light"
     }
    }
   ],
   "metadata": {}
  },
  {
   "cell_type": "markdown",
   "source": [
    "How does BFS and DFS deal with loops (cycles)?"
   ],
   "metadata": {}
  },
  {
   "cell_type": "markdown",
   "source": [
    "* BFS handles cycles by marking each node as visited using a $reached$ data structure, which is implemented as a set. When expanding a node, the algorithm will ignore child nodes that are in the array\n",
    "\n",
    "* DFS handles cycles by checking the nodes that are currently in memory. When expanding a node, the algorithm ignores child nodes that are either in the frontier already, or in the path from the root to the current node"
   ],
   "metadata": {}
  },
  {
   "cell_type": "markdown",
   "source": [
    "Are your implementations complete and optimal? Explain why. What is the time and space complexity of each of **your** implementations?"
   ],
   "metadata": {}
  },
  {
   "cell_type": "markdown",
   "source": [
    "#### BFS\n",
    "* __Complete: Yes -__ BFS uses a queue as the frontier, so it must explore all nodes at a given level of the tree before going deeper into the tree. This means that if necessary, BFS will search the entire tree to find the solution. Thus, if a solution exists, BFS will find it.\n",
    "* __Optimal: Yes -__ Assuming each step in the maze has the same cost, BFS explores the tree one level at a time, by visiting all the nodes on that level before moving to the next. This means that when the goal node is found, the depth of the goal node is at a minimum\n",
    "* __Time complexity: $O(b^d)$, where b = branching factor and d = depth of optimal solution -__ The time complexity is proportional to the number of nodes expanded in order to reach the optimal solution, which is equal to the branching factor raised to the power of the depth\n",
    "* __Space complexity: $O(b^d)$ -__ BFS must keep the entire tree in memory, as well as a $reached$ data structure to keep track of all visited nodes, so the space complexity is $O(b^d)$"
   ],
   "metadata": {}
  },
  {
   "cell_type": "markdown",
   "source": [
    "#### DFS\n",
    "* __Complete: Yes* -__ My DFS implementation is complete because it uses cycle checking to avoid infinite looping. *However, if a DFS algorithm does not implement cycle checking, it would be incomplete\n",
    "* __Optimal: No -__ DFS traverses the tree by going as deep as possible before backtracking. Thus it will return the first solution that it finds. As a result, it is possible that a better solution would have been found by going down a different path in the tree.\n",
    "* __Time complexity: $O(b^m)$, where b = branching factor and m = maximum depth of tree -__ The worst case time complexity occurs when the algorithm must search to the deepest level of the tree in order to find the solution. Since there are $b$ choices to make at each node, and $m$ levels in the tree, the time complexity is $O(b^m)\n",
    "* __Space complexity: $O(bm)$ -__ DFS only needs to keep one portion of the tree in memory at a time. The amount of memory taken up by the portion of the tree in memory is proportional to the number of nodes in the frontier and on the current path. Thus, the worst case space complexity occurs when the algorithm is searching at the max depth of the tree, so the space complexity is $O(bm)$"
   ],
   "metadata": {}
  },
  {
   "cell_type": "markdown",
   "source": [
    "## Task 3: Informed search: Implement greedy best-first search and A* search  [4 points]\n",
    "\n",
    "You can use the map to estimate the distance from your current position to the goal using the Manhattan distance (see https://en.wikipedia.org/wiki/Taxicab_geometry) as a heuristic function. Both algorithms are based on Best-First search which requires only a small change from the BFS algorithm you have already implemented (see textbook/slides). "
   ],
   "metadata": {}
  },
  {
   "cell_type": "markdown",
   "source": [
    "#### Heuristic function\n",
    "The heuristic function used in these algorithms is manhattan distance. Manhattan distance is an admissible heuristic because it never overestimates the true distance between the current node and the goal node."
   ],
   "metadata": {}
  },
  {
   "cell_type": "code",
   "execution_count": 150,
   "source": [
    "import numpy as np\n",
    "\n",
    "def manhattan(node, goalPos):\n",
    "    \"\"\"Returns the manhattan distance between given node and goal position\n",
    "    node argument is expected as node object\n",
    "    goalPos arugment is expected as tuple\n",
    "    Manhattan distance = |x1-x2| + |y1-y2|\"\"\"\n",
    "\n",
    "    return np.sum(np.abs(np.subtract(node.pos, goalPos)))\n",
    "\n",
    "def aStarH(node, goalPos):\n",
    "    \"\"\"Returns the A* heuristic function f(n) = g(n) + h(n) which is the sum of the distance to get to node and the distance\n",
    "    from node to the goal\n",
    "    Distance is measured in discrete number of steps\"\"\"\n",
    "\n",
    "    return len(node.get_path_from_root()) + manhattan(node, goalPos)"
   ],
   "outputs": [],
   "metadata": {}
  },
  {
   "cell_type": "markdown",
   "source": [
    "#### Node Wrapper class\n",
    "Class that wraps node objects and implements a '<' operator so the priority queue knows how to rank the heuristic values. On construction, a heuristic function can be specified so this class can be used in both GBFS and A*"
   ],
   "metadata": {}
  },
  {
   "cell_type": "code",
   "execution_count": 151,
   "source": [
    "class NodeWrapper:\n",
    "    \"\"\"Wrapper class for Node object, used for comparing two nodes in the priority queue\"\"\"\n",
    "\n",
    "    def __init__(self, n, g, h):\n",
    "        self.node = n\n",
    "        self.goalPos = g\n",
    "        self.heuristic = h #reference to heuristic function to use\n",
    "    \n",
    "    def __lt__(self, rhs): #comparison operator for priority queue\n",
    "        return self.heuristic(self.node, self.goalPos) < self.heuristic(rhs.node, self.goalPos)"
   ],
   "outputs": [],
   "metadata": {}
  },
  {
   "cell_type": "markdown",
   "source": [
    "#### Greedy BFS implementation"
   ],
   "metadata": {}
  },
  {
   "cell_type": "code",
   "execution_count": 152,
   "source": [
    "from queue import PriorityQueue\n",
    "\n",
    "def gbs(maze, debug = False, showSteps = False):\n",
    "    if debug: mazeCp = np.copy(maze) #copy of the maze string for visualizations\n",
    "\n",
    "    #Initialize root node at starting position of maze and get goal node\n",
    "    rootPos = find_pos(maze, what=\"S\")\n",
    "    rootRaw = Node(rootPos, None, None, 0) #raw node object\n",
    "    goalPos = find_pos(maze, what=\"G\")\n",
    "    root = NodeWrapper(rootRaw, goalPos, manhattan) #wrapper object\n",
    "\n",
    "    frontier = PriorityQueue()\n",
    "    frontier.put(root)\n",
    "\n",
    "    reached = set()\n",
    "    reached.add(rootRaw.pos)\n",
    "\n",
    "    while not frontier.empty():\n",
    "        node = frontier.get() #pop next node from the frontier\n",
    "        for n in expand(node.node, maze):\n",
    "            if n.pos == goalPos:\n",
    "                if debug:\n",
    "                    \n",
    "                    p = n.get_path_from_root()\n",
    "                    for x in p[1:len(p)-1]: #mark the path excluding S and G nodes\n",
    "                        mark(mazeCp, x, \"P\")\n",
    "                    show_maze(mazeCp)\n",
    "\n",
    "                return n\n",
    "            if n.pos not in reached: #check reached to see if visited\n",
    "                nObj = NodeWrapper(n, goalPos, manhattan) #use wrapper class before\n",
    "                frontier.put(nObj)\n",
    "                reached.add(n.pos)\n",
    "\n",
    "                if debug and look(maze, n.pos) not in [\"S\", \"G\"]: mark(mazeCp, n, \"F\")\n",
    "                if showSteps: show_maze(mazeCp)\n",
    "\n",
    "            if debug and look(maze, n.pos) not in [\"S\", \"G\"]: mark(mazeCp, n, \".\")\n",
    "\n",
    "    return None #failure\n",
    "\n",
    "test = gbs(maze, True)"
   ],
   "outputs": [
    {
     "output_type": "display_data",
     "data": {
      "image/png": "[encoded data removed]",
      "text/plain": [
       "<Figure size 432x288 with 1 Axes>"
      ]
     },
     "metadata": {
      "image/png": {
       "width": 251,
       "height": 248
      },
      "needs_background": "light"
     }
    }
   ],
   "metadata": {}
  },
  {
   "cell_type": "markdown",
   "source": [
    "#### A* implementation"
   ],
   "metadata": {}
  },
  {
   "cell_type": "code",
   "execution_count": 153,
   "source": [
    "def aStar(maze, debug = False, showSteps = False):\n",
    "    if debug: mazeCp = np.copy(maze) #copy of the maze string for visualizations\n",
    "\n",
    "    #Initialize root node at starting position of maze and get goal node\n",
    "    rootPos = find_pos(maze, what=\"S\")\n",
    "    rootRaw = Node(rootPos, None, None, 0) #raw node object\n",
    "    goalPos = find_pos(maze, what=\"G\")\n",
    "    root = NodeWrapper(rootRaw, goalPos, aStarH) #wrapper object\n",
    "\n",
    "    frontier = PriorityQueue()\n",
    "    frontier.put(root)\n",
    "\n",
    "    reached = set()\n",
    "    reached.add(rootRaw.pos)\n",
    "\n",
    "    while not frontier.empty():\n",
    "        node = frontier.get() #pop next node from the frontier\n",
    "        for n in expand(node.node, maze):\n",
    "            if n.pos == goalPos:\n",
    "                if debug:\n",
    "                    \n",
    "                    p = n.get_path_from_root()\n",
    "                    for x in p[1:len(p)-1]: #mark the path excluding S and G nodes\n",
    "                        mark(mazeCp, x, \"P\")\n",
    "                    show_maze(mazeCp)\n",
    "                    \n",
    "                return n\n",
    "            if n.pos not in reached: #check reached to see if visited\n",
    "                nObj = NodeWrapper(n, goalPos, aStarH) #use wrapper class before\n",
    "                frontier.put(nObj)\n",
    "                reached.add(n.pos)\n",
    "\n",
    "                if debug and look(maze, n.pos) not in [\"S\", \"G\"]: mark(mazeCp, n, \"F\")\n",
    "                if showSteps: show_maze(mazeCp)\n",
    "\n",
    "            if debug and look(maze, n.pos) not in [\"S\", \"G\"]: mark(mazeCp, n, \".\")\n",
    "\n",
    "    return None #failure\n",
    "\n",
    "test = aStar(maze, True)"
   ],
   "outputs": [
    {
     "output_type": "display_data",
     "data": {
      "image/png": "[encoded data removed]",
      "text/plain": [
       "<Figure size 432x288 with 1 Axes>"
      ]
     },
     "metadata": {
      "image/png": {
       "width": 251,
       "height": 248
      },
      "needs_background": "light"
     }
    }
   ],
   "metadata": {}
  },
  {
   "cell_type": "markdown",
   "source": [
    "Are your implementations complete and optimal? What is the time and space complexity?"
   ],
   "metadata": {}
  },
  {
   "cell_type": "markdown",
   "source": [
    "#### Greedy Best First Search\n",
    "* __Complete: Yes -__ The only difference between GBS and BFS is the order of node expansion. So, like BFS, if a solution exists, GBS will find it\n",
    "* __Optimal: No -__ GBS will return the first solution it finds after expanding the nodes in order of the best manhattan distance to the goal node. This heuristic does not take into account the distance travelled along the current path, so there might have been a better path that the algorithm skipped over, because it wasn't immediately better than the choice that GBS made.\n",
    "* __Time complexity:__\n",
    "    * __Worst case: $O(b^m)$ -__ The worst case time complexity occurs when the solution is at the maximum depth of the tree, and the heuristic function is not very accurate. \n",
    "    * __Best case: $O(bm)$ -__ If the heuristic function happens to be completely accurate in a certain problem, the solution can be found in linear time\n",
    "* __Space complexity:__ Same as time complexity. The memory expended will be proportional to the amount of nodes expanded."
   ],
   "metadata": {}
  },
  {
   "cell_type": "markdown",
   "source": [
    "#### A*\n",
    "* __Complete: Yes -__ The only difference between GBS and BFS is the order of node expansion. So, like BFS, if a solution exists, GBS will find it\n",
    "* __Optimal: No -__ GBS will return the first solution it finds after expanding the nodes in order of the best manhattan distance to the goal node. This heuristic does not take into account the distance travelled along the current path, so there might have been a better path that the algorithm skipped over, because it wasn't immediately better than the choice that GBS made.\n",
    "* __Time complexity:__\n",
    "    * __Worst case: $O(b^m)$ -__ The worst case time complexity occurs when the solution is at the maximum depth of the tree, and the heuristic function is not very accurate. \n",
    "    * __Best case: $O(bm)$ -__ If the heuristic function happens to be completely accurate in a certain problem, the solution can be found in linear time\n",
    "* __Space complexity:__ Same as time complexity. The memory expended will be proportional to the amount of nodes expanded."
   ],
   "metadata": {}
  },
  {
   "cell_type": "markdown",
   "source": [
    "## Task 4: Comparison and discussion [2 points] \n",
    "\n",
    "Run experiments to compare the implemented algorithms and present the results as tables and charts. \n",
    "\n",
    "How to deal with issues:\n",
    "\n",
    "* Your implementation returns unexpected results: Try to debug and fix the code. Visualizing the maze, the current path and the frontier after every step is very helpful. If the code still does not work, then mark the result with an asterisk (*) and describe the issue below the table.\n",
    "\n",
    "* Your implementation cannot consistently solve a specific maze and ends up in an infinite loop:\n",
    "    Debug. If it is a shortcoming of the algorithm/implementation, then put \"N/A*\" in the results table and describe why this is happening."
   ],
   "metadata": {}
  },
  {
   "cell_type": "code",
   "execution_count": 154,
   "source": [
    "pathCost = list()\n",
    "nodesExp = list()\n",
    "mtd = list()\n",
    "mts = list()\n",
    "mfs = list()\n",
    "\n",
    "def runMaze(maze, algorithm):\n",
    "    \"\"\"Runs the given algorithm on the maze and returns "
   ],
   "outputs": [],
   "metadata": {}
  },
  {
   "cell_type": "markdown",
   "source": [
    "Complete the following table for each maze.\n",
    "\n",
    "__Small maze__\n",
    "\n",
    "| algorithm | path cost | nodes expanded | max tree depth | max tree size | max frontier size |\n",
    "|-----------|-----------|----------------|----------------|---------------|-------------------|\n",
    "| BFS       |           |                |                |               |                   |\n",
    "| DFS       |           |                |                |               |                   |\n",
    "| GBS       |           |                |                |               |                   |\n",
    "| A*        |           |                |                |               |                   |\n",
    "\n",
    "__Medium Maze__\n",
    "\n",
    "..."
   ],
   "metadata": {}
  },
  {
   "cell_type": "markdown",
   "source": [
    "Discuss the most important lessons you have learned from implementing the different search strategies. "
   ],
   "metadata": {}
  },
  {
   "cell_type": "code",
   "execution_count": 155,
   "source": [
    "# Add discussion"
   ],
   "outputs": [],
   "metadata": {}
  },
  {
   "cell_type": "markdown",
   "source": [
    "## Graduate student advanced task: Multiple goals [1 point]\n",
    "\n",
    "__Undergraduate students:__ This is a bonus task you can attempt if you like [+1 Bonus point].\n",
    "\n",
    "Create a few mazes with multiple goals by adding one or two more goals to the medium size maze.\n",
    "Solve the maze with your implementations for DFS, BFS, and implement in addition IDS (iterative deepening search using DFS). \n",
    "\n",
    "Run experiments to show which implementations find the optimal solution and which do not. Discuss why that is the case."
   ],
   "metadata": {}
  },
  {
   "cell_type": "code",
   "execution_count": 156,
   "source": [
    "# Your code/answer goes here"
   ],
   "outputs": [],
   "metadata": {}
  },
  {
   "cell_type": "markdown",
   "source": [
    "## More advanced tasks to think about\n",
    "\n",
    "Instead of defining each square as a state, use only intersections as states. Now the storage requirement is reduced, but the path length between two intersections can be different. If we use total path length measured as the number of squares as path cost, how can we make sure that BFS and iterative deepening search is optimal? Change the code to do so."
   ],
   "metadata": {}
  },
  {
   "cell_type": "code",
   "execution_count": 157,
   "source": [
    "# Your code/answer goes here"
   ],
   "outputs": [],
   "metadata": {}
  },
  {
   "cell_type": "markdown",
   "source": [
    "Modify your A* search to add weights (see text book) and explore how different weights influence the result."
   ],
   "metadata": {}
  },
  {
   "cell_type": "code",
   "execution_count": 158,
   "source": [
    "# Your code/answer goes here"
   ],
   "outputs": [],
   "metadata": {}
  },
  {
   "cell_type": "markdown",
   "source": [
    "What happens if the agent does not know the layout of the maze in advance (i.e., faces an unkown, only partially observable environment)? How does the environment look then (PEAS description)? How would you implement a rational agent to solve the maze? What if the agent still has a GPS device to tell the distance to the goal?"
   ],
   "metadata": {}
  },
  {
   "cell_type": "code",
   "execution_count": 159,
   "source": [
    "# Your code/answer goes here"
   ],
   "outputs": [],
   "metadata": {}
  }
 ],
 "metadata": {
  "kernelspec": {
   "name": "python3",
   "display_name": "Python 3.8.10 64-bit"
  },
  "language_info": {
   "codemirror_mode": {
    "name": "ipython",
    "version": 3
   },
   "file_extension": ".py",
   "mimetype": "text/x-python",
   "name": "python",
   "nbconvert_exporter": "python",
   "pygments_lexer": "ipython3",
   "version": "3.8.10"
  },
  "interpreter": {
   "hash": "916dbcbb3f70747c44a77c7bcd40155683ae19c65e1c03b4aa3499c5328201f1"
  }
 },
 "nbformat": 4,
 "nbformat_minor": 4
}