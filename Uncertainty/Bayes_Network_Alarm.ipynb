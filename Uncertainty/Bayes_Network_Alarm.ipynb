{
 "cells": [
  {
   "cell_type": "markdown",
   "id": "6b13f9c2-2f49-456e-b7aa-19b19dccf0e2",
   "metadata": {},
   "source": [
    "# Bayesian Networks in Python\n",
    "\n",
    "I will build a Bayesian (Belief) Network for the Alarm example in the textbook using the Python library pomegranate. See https://pomegranate.readthedocs.io/en/latest/BayesianNetwork.html\n",
    "\n",
    "\n",
    "## Defining the  Bayesian Network\n",
    "\n",
    "![The Alarm Bayes Network](Alarm_BN.png)"
   ]
  },
  {
   "cell_type": "code",
   "execution_count": 50,
   "id": "b9c06362-d603-4e95-91f3-729f82b9906b",
   "metadata": {},
   "outputs": [],
   "source": [
    "from pomegranate import *\n",
    "\n",
    "Burglary = Node(DiscreteDistribution({'B=true': .001, 'B=false': .999}), name=\"Burglary\")\n",
    "Earthquake = Node(DiscreteDistribution({'E=true': .002, 'E=false': .998}), name = \"Earthquake\")\n",
    "Alarm = Node(ConditionalProbabilityTable(\n",
    "    [['B=true',  'E=true', 'A=true',  .95],\n",
    "     ['B=true',  'E=false','A=true',  .94],\n",
    "     ['B=false', 'E=true', 'A=true',  .29],\n",
    "     ['B=false',  'E=false', 'A=true',  .001],\n",
    "     ['B=true',  'E=true', 'A=false', .05],\n",
    "     ['B=true',  'E=false','A=false', .06],\n",
    "     ['B=false', 'E=true', 'A=false', .71],\n",
    "     ['B=false',  'E=false', 'A=false', .999]\n",
    "    ],\n",
    "     [Burglary.distribution, Earthquake.distribution]\n",
    "), name = \"Alarm\")\n",
    "\n",
    "JohnCalls = Node(ConditionalProbabilityTable(\n",
    "    [['A=true',  'J=true',  .90],\n",
    "     ['A=true',  'J=false', .10],\n",
    "     ['A=false', 'J=true',  .05],\n",
    "     ['A=false', 'J=false', .95]\n",
    "    ],\n",
    "    [Alarm.distribution]\n",
    "), name = \"JohnCalls\")\n",
    "    \n",
    "MaryCalls = Node(ConditionalProbabilityTable(\n",
    "    [['A=true',  'M=true',  .70],\n",
    "     ['A=true',  'M=false', .30],\n",
    "     ['A=false', 'M=true',  .01],\n",
    "     ['A=false', 'M=false', .99]\n",
    "    ],\n",
    "    [Alarm.distribution]\n",
    "), name =\"MaryCalls\")\n",
    "\n",
    "\n",
    "model = BayesianNetwork(\"Alarm Problem\")\n",
    "model.add_states(Burglary, Earthquake, Alarm, JohnCalls, MaryCalls)\n",
    "model.add_edge(Burglary, Alarm)\n",
    "model.add_edge(Earthquake, Alarm)\n",
    "model.add_edge(Alarm, JohnCalls)\n",
    "model.add_edge(Alarm, MaryCalls)\n",
    "model.bake()"
   ]
  },
  {
   "cell_type": "code",
   "execution_count": 84,
   "id": "fc01fbff-6c9f-4927-9eaf-3455c88424b4",
   "metadata": {},
   "outputs": [],
   "source": [
    "# this needs pygraphviz and I do not have it installed\n",
    "# model.plot()"
   ]
  },
  {
   "cell_type": "markdown",
   "id": "0a060609-b9e7-49d2-b2f0-20066f888387",
   "metadata": {},
   "source": [
    "# Sample from the Network\n",
    "\n",
    "## Sampling an Event from a Network \n",
    "\n",
    "An event is an assignment for each variable sampled from the network.\n",
    "This uses Prior sampling."
   ]
  },
  {
   "cell_type": "code",
   "execution_count": 58,
   "id": "95cad5c4-864f-4d4d-9b7e-dd6f17d01cb8",
   "metadata": {},
   "outputs": [
    {
     "data": {
      "text/plain": [
       "array([['B=false', 'E=false', 'A=false', 'J=false', 'M=false'],\n",
       "       ['B=false', 'E=false', 'A=false', 'J=false', 'M=false'],\n",
       "       ['B=false', 'E=false', 'A=false', 'J=false', 'M=false'],\n",
       "       ['B=false', 'E=false', 'A=false', 'J=false', 'M=false'],\n",
       "       ['B=false', 'E=false', 'A=false', 'J=true', 'M=false'],\n",
       "       ['B=false', 'E=false', 'A=false', 'J=false', 'M=false'],\n",
       "       ['B=false', 'E=false', 'A=false', 'J=false', 'M=false'],\n",
       "       ['B=false', 'E=false', 'A=false', 'J=false', 'M=false'],\n",
       "       ['B=false', 'E=false', 'A=false', 'J=false', 'M=false'],\n",
       "       ['B=false', 'E=false', 'A=false', 'J=true', 'M=false']],\n",
       "      dtype='<U7')"
      ]
     },
     "execution_count": 58,
     "metadata": {},
     "output_type": "execute_result"
    }
   ],
   "source": [
    "model.sample(n=10)"
   ]
  },
  {
   "cell_type": "markdown",
   "id": "21e4e157-8bd3-474d-bac9-246342e71c5a",
   "metadata": {},
   "source": [
    "## Sampling with evidence\n",
    "\n",
    "Uses rejection sampling by ignoring the samples that are not consistent with the evidence.\n",
    "\n",
    "Fixing `Burglary` is easy since it is an unconditional node."
   ]
  },
  {
   "cell_type": "code",
   "execution_count": 80,
   "id": "07e85d51-80a5-466b-9bfe-35eea55717ff",
   "metadata": {},
   "outputs": [
    {
     "data": {
      "text/plain": [
       "array([['B=true', 'E=false', 'A=true', 'J=true', 'M=false'],\n",
       "       ['B=true', 'E=false', 'A=true', 'J=true', 'M=false'],\n",
       "       ['B=true', 'E=false', 'A=true', 'J=true', 'M=true'],\n",
       "       ['B=true', 'E=false', 'A=true', 'J=true', 'M=true'],\n",
       "       ['B=true', 'E=false', 'A=true', 'J=true', 'M=true'],\n",
       "       ['B=true', 'E=false', 'A=true', 'J=true', 'M=false'],\n",
       "       ['B=true', 'E=false', 'A=true', 'J=true', 'M=false'],\n",
       "       ['B=true', 'E=false', 'A=true', 'J=false', 'M=true'],\n",
       "       ['B=true', 'E=false', 'A=true', 'J=true', 'M=true'],\n",
       "       ['B=true', 'E=false', 'A=true', 'J=true', 'M=true']], dtype='<U7')"
      ]
     },
     "execution_count": 80,
     "metadata": {},
     "output_type": "execute_result"
    }
   ],
   "source": [
    "model.sample(n = 10, evidences = [{'Burglary': 'B=true'}])"
   ]
  },
  {
   "cell_type": "markdown",
   "id": "93eb371e-b993-4f15-9744-6233d7934010",
   "metadata": {},
   "source": [
    "Sampling with a given value for `Alarm` is more difficult since it depends on `Burglary` and `Earthquake`."
   ]
  },
  {
   "cell_type": "code",
   "execution_count": 83,
   "id": "709933b0-5f46-4941-bc9c-6c04251abe2c",
   "metadata": {},
   "outputs": [
    {
     "ename": "Exception",
     "evalue": "Maximum iteration limit. Make sure the state configuration hinted at by evidence is reasonably reachable for this network or lower min_prob",
     "output_type": "error",
     "traceback": [
      "\u001b[0;31m---------------------------------------------------------------------------\u001b[0m",
      "\u001b[0;31mException\u001b[0m                                 Traceback (most recent call last)",
      "\u001b[0;32m/tmp/ipykernel_136/2760223717.py\u001b[0m in \u001b[0;36m<module>\u001b[0;34m\u001b[0m\n\u001b[0;32m----> 1\u001b[0;31m \u001b[0mmodel\u001b[0m\u001b[0;34m.\u001b[0m\u001b[0msample\u001b[0m\u001b[0;34m(\u001b[0m\u001b[0mn\u001b[0m\u001b[0;34m=\u001b[0m \u001b[0;36m10\u001b[0m\u001b[0;34m,\u001b[0m \u001b[0mevidences\u001b[0m \u001b[0;34m=\u001b[0m \u001b[0;34m[\u001b[0m\u001b[0;34m{\u001b[0m\u001b[0;34m'Alarm'\u001b[0m\u001b[0;34m:\u001b[0m \u001b[0;34m'A=true'\u001b[0m\u001b[0;34m}\u001b[0m\u001b[0;34m]\u001b[0m\u001b[0;34m)\u001b[0m\u001b[0;34m\u001b[0m\u001b[0;34m\u001b[0m\u001b[0m\n\u001b[0m",
      "\u001b[0;32m/opt/conda/lib/python3.9/site-packages/pomegranate/BayesianNetwork.pyx\u001b[0m in \u001b[0;36mpomegranate.BayesianNetwork.BayesianNetwork.sample\u001b[0;34m()\u001b[0m\n",
      "\u001b[0;32m/opt/conda/lib/python3.9/site-packages/pomegranate/BayesianNetwork.pyx\u001b[0m in \u001b[0;36mpomegranate.BayesianNetwork.BayesianNetwork._rejection\u001b[0;34m()\u001b[0m\n",
      "\u001b[0;31mException\u001b[0m: Maximum iteration limit. Make sure the state configuration hinted at by evidence is reasonably reachable for this network or lower min_prob"
     ]
    }
   ],
   "source": [
    "model.sample(n= 10, evidences = [{'Alarm': 'A=true'}])"
   ]
  },
  {
   "cell_type": "markdown",
   "id": "52175287-0bed-4f1b-9a46-4b6a7e1edc33",
   "metadata": {},
   "source": [
    "Rejection sampling needs too many iterations because the `Alarm` does not go off very often. Use Gibbs sampling instead."
   ]
  },
  {
   "cell_type": "code",
   "execution_count": 82,
   "id": "09d3ffb1-a56d-4c6f-a911-aa2b9cd636ba",
   "metadata": {},
   "outputs": [
    {
     "data": {
      "text/plain": [
       "array([['B=false', 'E=false', 'A=true', 'J=true', 'M=false'],\n",
       "       ['B=true', 'E=false', 'A=true', 'J=true', 'M=true'],\n",
       "       ['B=true', 'E=false', 'A=true', 'J=true', 'M=true'],\n",
       "       ['B=false', 'E=false', 'A=true', 'J=true', 'M=true'],\n",
       "       ['B=false', 'E=false', 'A=true', 'J=false', 'M=true'],\n",
       "       ['B=false', 'E=false', 'A=true', 'J=true', 'M=false'],\n",
       "       ['B=false', 'E=false', 'A=true', 'J=true', 'M=true'],\n",
       "       ['B=false', 'E=false', 'A=true', 'J=false', 'M=true'],\n",
       "       ['B=false', 'E=true', 'A=true', 'J=true', 'M=true'],\n",
       "       ['B=false', 'E=true', 'A=true', 'J=true', 'M=true']], dtype='<U32')"
      ]
     },
     "execution_count": 82,
     "metadata": {},
     "output_type": "execute_result"
    }
   ],
   "source": [
    "model.sample(n= 10, evidences = [{'Alarm': 'A=true'}], algorithm = \"gibbs\")"
   ]
  },
  {
   "cell_type": "markdown",
   "id": "bf6b7f25-0fbc-442a-812b-f6df8d228673",
   "metadata": {},
   "source": [
    "Sampling can be used to estimate (conditional) probabilities. \n",
    "\n",
    "# Estimating Probabilities\n",
    "\n",
    "The library provides functions to calculate/estimate probabilities."
   ]
  },
  {
   "cell_type": "markdown",
   "id": "ad214edf-2aae-458b-a82d-8f10a896c869",
   "metadata": {},
   "source": [
    "## Joint probability\n",
    "\n",
    "The following calculates $P(B=false, E=false, A=true, J=true, M=false)$,\n",
    "$P(B)$, $P(E)$, and $P(B, E)$."
   ]
  },
  {
   "cell_type": "code",
   "execution_count": 120,
   "id": "1feefcec-0613-4ddd-820d-4141b8220356",
   "metadata": {},
   "outputs": [
    {
     "data": {
      "text/plain": [
       "array([2.6919054e-04, 1.0000000e-03, 2.0000000e-03, 2.0000000e-06])"
      ]
     },
     "execution_count": 120,
     "metadata": {},
     "output_type": "execute_result"
    }
   ],
   "source": [
    "model.probability([\n",
    "    ['B=false', 'E=false', 'A=true', 'J=true', 'M=false'],\n",
    "    ['B=true', None,      None,      None,      None],\n",
    "    [None,      'E=true',  None,      None,      None],\n",
    "    ['B=true', 'E=true',  None,      None,      None]])"
   ]
  },
  {
   "cell_type": "code",
   "execution_count": 121,
   "id": "c1378fac-56c0-4cb4-9913-353264df1abf",
   "metadata": {
    "tags": []
   },
   "outputs": [
    {
     "data": {
      "text/plain": [
       "2e-06"
      ]
     },
     "execution_count": 121,
     "metadata": {},
     "output_type": "execute_result"
    }
   ],
   "source": [
    "# B and E are independent... P(B=false AND E=false) = P(B=false) * P(E=false)\n",
    "0.001 * 0.002"
   ]
  },
  {
   "cell_type": "markdown",
   "id": "f423f3ee-e10a-4d63-b65a-80a0a62c7e07",
   "metadata": {},
   "source": [
    "## Marginal probability distribution\n",
    "\n",
    "Marginal means looking at each variable with no given evidence.\n",
    "\n",
    "For example, `\"A=true\" : 0.00252` below is the chance of an `Alarm` $P(A)$. "
   ]
  },
  {
   "cell_type": "code",
   "execution_count": 109,
   "id": "eb7d33cc-5305-4e22-a1ee-2b115bfc5b80",
   "metadata": {},
   "outputs": [
    {
     "data": {
      "text/plain": [
       "array([{\n",
       "           \"class\" : \"Distribution\",\n",
       "           \"dtype\" : \"str\",\n",
       "           \"name\" : \"DiscreteDistribution\",\n",
       "           \"parameters\" : [\n",
       "               {\n",
       "                   \"B=true\" : 0.0010000000000004432,\n",
       "                   \"B=false\" : 0.9989999999999996\n",
       "               }\n",
       "           ],\n",
       "           \"frozen\" : false\n",
       "       }                                            ,\n",
       "       {\n",
       "           \"class\" : \"Distribution\",\n",
       "           \"dtype\" : \"str\",\n",
       "           \"name\" : \"DiscreteDistribution\",\n",
       "           \"parameters\" : [\n",
       "               {\n",
       "                   \"E=true\" : 0.0020000000000004424,\n",
       "                   \"E=false\" : 0.9979999999999996\n",
       "               }\n",
       "           ],\n",
       "           \"frozen\" : false\n",
       "       }                                            ,\n",
       "       {\n",
       "           \"class\" : \"Distribution\",\n",
       "           \"dtype\" : \"str\",\n",
       "           \"name\" : \"DiscreteDistribution\",\n",
       "           \"parameters\" : [\n",
       "               {\n",
       "                   \"A=false\" : 0.997483557999999,\n",
       "                   \"A=true\" : 0.0025164420000009344\n",
       "               }\n",
       "           ],\n",
       "           \"frozen\" : false\n",
       "       }                                           ,\n",
       "       {\n",
       "           \"class\" : \"Distribution\",\n",
       "           \"dtype\" : \"str\",\n",
       "           \"name\" : \"DiscreteDistribution\",\n",
       "           \"parameters\" : [\n",
       "               {\n",
       "                   \"J=true\" : 0.0521389757000008,\n",
       "                   \"J=false\" : 0.9478610242999992\n",
       "               }\n",
       "           ],\n",
       "           \"frozen\" : false\n",
       "       }                                         ,\n",
       "       {\n",
       "           \"class\" : \"Distribution\",\n",
       "           \"dtype\" : \"str\",\n",
       "           \"name\" : \"DiscreteDistribution\",\n",
       "           \"parameters\" : [\n",
       "               {\n",
       "                   \"M=true\" : 0.01173634498000071,\n",
       "                   \"M=false\" : 0.9882636550199994\n",
       "               }\n",
       "           ],\n",
       "           \"frozen\" : false\n",
       "       }                                          ], dtype=object)"
      ]
     },
     "execution_count": 109,
     "metadata": {},
     "output_type": "execute_result"
    }
   ],
   "source": [
    "model.marginal()"
   ]
  },
  {
   "cell_type": "markdown",
   "id": "7c0602a8-a821-4900-9b5d-68b6a4dcaf14",
   "metadata": {},
   "source": [
    "## Conditional probabilities given evidence\n",
    "\n",
    "What is the chance of an `Earthquake` is the the `Alarm` goes off $P(E | A)$? Below we see it is `E=true\" : 0.23`."
   ]
  },
  {
   "cell_type": "code",
   "execution_count": 115,
   "id": "8465d48e-0cae-4ceb-8578-d5bae29b9b40",
   "metadata": {},
   "outputs": [
    {
     "data": {
      "text/plain": [
       "array([{\n",
       "           \"class\" : \"Distribution\",\n",
       "           \"dtype\" : \"str\",\n",
       "           \"name\" : \"DiscreteDistribution\",\n",
       "           \"parameters\" : [\n",
       "               {\n",
       "                   \"B=true\" : 0.37355122828189946,\n",
       "                   \"B=false\" : 0.6264487717181005\n",
       "               }\n",
       "           ],\n",
       "           \"frozen\" : false\n",
       "       }                                          ,\n",
       "       {\n",
       "           \"class\" : \"Distribution\",\n",
       "           \"dtype\" : \"str\",\n",
       "           \"name\" : \"DiscreteDistribution\",\n",
       "           \"parameters\" : [\n",
       "               {\n",
       "                   \"E=true\" : 0.23100870196890555,\n",
       "                   \"E=false\" : 0.7689912980310946\n",
       "               }\n",
       "           ],\n",
       "           \"frozen\" : false\n",
       "       }                                          , 'A=true',\n",
       "       {\n",
       "           \"class\" : \"Distribution\",\n",
       "           \"dtype\" : \"str\",\n",
       "           \"name\" : \"DiscreteDistribution\",\n",
       "           \"parameters\" : [\n",
       "               {\n",
       "                   \"J=true\" : 0.8999999999999998,\n",
       "                   \"J=false\" : 0.10000000000000017\n",
       "               }\n",
       "           ],\n",
       "           \"frozen\" : false\n",
       "       }                                          ,\n",
       "       {\n",
       "           \"class\" : \"Distribution\",\n",
       "           \"dtype\" : \"str\",\n",
       "           \"name\" : \"DiscreteDistribution\",\n",
       "           \"parameters\" : [\n",
       "               {\n",
       "                   \"M=true\" : 0.6999999999999998,\n",
       "                   \"M=false\" : 0.30000000000000016\n",
       "               }\n",
       "           ],\n",
       "           \"frozen\" : false\n",
       "       }                                          ], dtype=object)"
      ]
     },
     "execution_count": 115,
     "metadata": {},
     "output_type": "execute_result"
    }
   ],
   "source": [
    "model.predict_proba({'Alarm': 'A=true'})"
   ]
  },
  {
   "cell_type": "markdown",
   "id": "23f67513-462c-4770-9455-58124c9110e4",
   "metadata": {},
   "source": [
    "What is the chance of an ongoing `Burglary` if both neighbors call $P(B | J, M)$? The result below is `\"B=true\" : 0.28`. "
   ]
  },
  {
   "cell_type": "code",
   "execution_count": 113,
   "id": "4a6e3ce1-8783-471e-93c1-73672d80deba",
   "metadata": {},
   "outputs": [
    {
     "data": {
      "text/plain": [
       "array([{\n",
       "           \"class\" : \"Distribution\",\n",
       "           \"dtype\" : \"str\",\n",
       "           \"name\" : \"DiscreteDistribution\",\n",
       "           \"parameters\" : [\n",
       "               {\n",
       "                   \"B=true\" : 0.2841718353644582,\n",
       "                   \"B=false\" : 0.7158281646355419\n",
       "               }\n",
       "           ],\n",
       "           \"frozen\" : false\n",
       "       }                                         ,\n",
       "       {\n",
       "           \"class\" : \"Distribution\",\n",
       "           \"dtype\" : \"str\",\n",
       "           \"name\" : \"DiscreteDistribution\",\n",
       "           \"parameters\" : [\n",
       "               {\n",
       "                   \"E=true\" : 0.17606683840509596,\n",
       "                   \"E=false\" : 0.823933161594904\n",
       "               }\n",
       "           ],\n",
       "           \"frozen\" : false\n",
       "       }                                          ,\n",
       "       {\n",
       "           \"class\" : \"Distribution\",\n",
       "           \"dtype\" : \"str\",\n",
       "           \"name\" : \"DiscreteDistribution\",\n",
       "           \"parameters\" : [\n",
       "               {\n",
       "                   \"A=false\" : 0.2393079611368433,\n",
       "                   \"A=true\" : 0.7606920388631566\n",
       "               }\n",
       "           ],\n",
       "           \"frozen\" : false\n",
       "       }                                          , 'J=true', 'M=true'],\n",
       "      dtype=object)"
      ]
     },
     "execution_count": 113,
     "metadata": {},
     "output_type": "execute_result"
    }
   ],
   "source": [
    "model.predict_proba({'JohnCalls': 'J=true', 'MaryCalls': 'M=true'})"
   ]
  }
 ],
 "metadata": {
  "kernelspec": {
   "display_name": "Python 3 (ipykernel)",
   "language": "python",
   "name": "python3"
  },
  "language_info": {
   "codemirror_mode": {
    "name": "ipython",
    "version": 3
   },
   "file_extension": ".py",
   "mimetype": "text/x-python",
   "name": "python",
   "nbconvert_exporter": "python",
   "pygments_lexer": "ipython3",
   "version": "3.9.5"
  }
 },
 "nbformat": 4,
 "nbformat_minor": 5
}
